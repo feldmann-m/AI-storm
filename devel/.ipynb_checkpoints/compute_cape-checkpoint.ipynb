{
 "cells": [
  {
   "cell_type": "code",
   "execution_count": 1,
   "metadata": {},
   "outputs": [
    {
     "name": "stdout",
     "output_type": "stream",
     "text": [
      "modules loaded\n"
     ]
    }
   ],
   "source": [
    "import sys, os\n",
    "import pandas as pd\n",
    "import xarray as xr\n",
    "import matplotlib.pyplot as plt\n",
    "import numpy as np\n",
    "import weatherbench2 as wb\n",
    "import metpy\n",
    "from metpy.units import units\n",
    "sys.path.append('/users/mfeldman/code/xarray_parcel/')\n",
    "import modules.parcel_functions as parcel\n",
    "parcel.load_moist_adiabat_lookups()\n",
    "print('modules loaded')"
   ]
  },
  {
   "cell_type": "code",
   "execution_count": null,
   "metadata": {},
   "outputs": [
    {
     "name": "stdout",
     "output_type": "stream",
     "text": [
      "gs://weatherbench2/datasets/era5/1959-2022-6h-1440x721.zarr\n",
      "<xarray.DataArray 'time' (time: 4)>\n",
      "array(['2020-07-01T00:00:00.000000000', '2020-07-01T06:00:00.000000000',\n",
      "       '2020-07-01T12:00:00.000000000', '2020-07-01T18:00:00.000000000'],\n",
      "      dtype='datetime64[ns]')\n",
      "Coordinates:\n",
      "  * time     (time) datetime64[ns] 2020-07-01 ... 2020-07-01T18:00:00\n"
     ]
    }
   ],
   "source": [
    "hres='gs://weatherbench2/datasets/hres/2016-2022-0012-1440x721.zarr'\n",
    "era5='gs://weatherbench2/datasets/era5/1959-2022-6h-1440x721.zarr'\n",
    "pangu='gs://weatherbench2/datasets/pangu/2018-2022_0012_0p25.zarr'\n",
    "datasets=[era5,hres,pangu]\n",
    "\n",
    "for dataset in datasets[:1]:\n",
    "    print(dataset)\n",
    "    xr_dataset=xr.open_zarr(dataset)\n",
    "#.to(units.mm))\n",
    "    xr_dataset=xr_dataset.sel(time=xr_dataset.time.dt.year.isin([2020]))\n",
    "    xr_dataset=xr_dataset.sel(time=xr_dataset.time.dt.month.isin([7]))#np.arange(3,10)))\n",
    "    xr_dataset=xr_dataset.sel(time=xr_dataset.time.dt.day.isin([1]))\n",
    "    print(xr_dataset.time)\n",
    "    plevel=xr_dataset.level\n",
    "    tlevel=xr_dataset.temperature\n",
    "    qlevel=xr_dataset.specific_humidity\n",
    "    dplevel=metpy.calc.dewpoint_from_specific_humidity(plevel* units('hPa'), tlevel* units('K'), qlevel* units('kg/kg'))#.magnitude\n",
    "    dplevel.data=dplevel.data.to(units.K).magnitude\n",
    "\n",
    "    psurf=xr_dataset.mean_sea_level_pressure\n",
    "    tsurf=xr_dataset['2m_temperature']\n",
    "    qsurf=xr_dataset.specific_humidity.isel(level=-1)\n",
    "    dpsurf=metpy.calc.dewpoint_from_specific_humidity(psurf* units('hPa'), tsurf* units('K'), qsurf* units('kg/kg'))#.magnitude\n",
    "    dpsurf.data=dpsurf.data.to(units.K).magnitude\n",
    "    #dpsurf=dpsurf.magnitude\n",
    "    #qsurf=xr_dataset.specific_humitidy.interp(level=psurf)\n",
    "\n",
    "    cape_cin, array = parcel.cape_cin(plevel, tlevel, dplevel, tsurf, psurf,\n",
    "             dpsurf, vert_dim='level')"
   ]
  },
  {
   "cell_type": "code",
   "execution_count": 6,
   "metadata": {},
   "outputs": [
    {
     "ename": "DimensionalityError",
     "evalue": "Cannot convert from 'dimensionless' to 'degree_Celsius'",
     "output_type": "error",
     "traceback": [
      "\u001b[0;31m---------------------------------------------------------------------------\u001b[0m",
      "\u001b[0;31mDimensionalityError\u001b[0m                       Traceback (most recent call last)",
      "Cell \u001b[0;32mIn[6], line 1\u001b[0m\n\u001b[0;32m----> 1\u001b[0m cape_cin, array \u001b[38;5;241m=\u001b[39m \u001b[43mparcel\u001b[49m\u001b[38;5;241;43m.\u001b[39;49m\u001b[43mcape_cin\u001b[49m\u001b[43m(\u001b[49m\u001b[43mplevel\u001b[49m\u001b[43m,\u001b[49m\u001b[43m \u001b[49m\u001b[43mtlevel\u001b[49m\u001b[43m,\u001b[49m\u001b[43m \u001b[49m\u001b[43mdplevel\u001b[49m\u001b[43m,\u001b[49m\u001b[43m \u001b[49m\u001b[43mtsurf\u001b[49m\u001b[43m,\u001b[49m\u001b[43m \u001b[49m\u001b[43mpsurf\u001b[49m\u001b[43m,\u001b[49m\n\u001b[1;32m      2\u001b[0m \u001b[43m         \u001b[49m\u001b[43mdpsurf\u001b[49m\u001b[43m,\u001b[49m\u001b[43m \u001b[49m\u001b[43mvert_dim\u001b[49m\u001b[38;5;241;43m=\u001b[39;49m\u001b[38;5;124;43m'\u001b[39;49m\u001b[38;5;124;43mlevel\u001b[39;49m\u001b[38;5;124;43m'\u001b[39;49m\u001b[43m)\u001b[49m\n",
      "File \u001b[0;32m~/code/xarray_parcel/modules/parcel_functions.py:1419\u001b[0m, in \u001b[0;36mcape_cin\u001b[0;34m(pressure, temperature, dewpoint, parcel_temperature, parcel_pressure, parcel_dewpoint, vert_dim, virtual_temperature_correction, lcl_interp, **kwargs)\u001b[0m\n\u001b[1;32m   1392\u001b[0m \u001b[38;5;250m\u001b[39m\u001b[38;5;124;03m\"\"\"\u001b[39;00m\n\u001b[1;32m   1393\u001b[0m \u001b[38;5;124;03mCalculate CAPE and CIN; wraps finding of LFC and parcel profile\u001b[39;00m\n\u001b[1;32m   1394\u001b[0m \u001b[38;5;124;03mand call to cape_cin_base. Uses the bottom (highest-pressure) LFC\u001b[39;00m\n\u001b[0;32m   (...)\u001b[0m\n\u001b[1;32m   1415\u001b[0m \u001b[38;5;124;03m      lifted profile.\u001b[39;00m\n\u001b[1;32m   1416\u001b[0m \u001b[38;5;124;03m\"\"\"\u001b[39;00m\n\u001b[1;32m   1418\u001b[0m \u001b[38;5;66;03m# Calculate parcel profile. The LCL is always calculated using real temperature.\u001b[39;00m\n\u001b[0;32m-> 1419\u001b[0m profile \u001b[38;5;241m=\u001b[39m \u001b[43mparcel_profile_with_lcl\u001b[49m\u001b[43m(\u001b[49m\u001b[43mpressure\u001b[49m\u001b[38;5;241;43m=\u001b[39;49m\u001b[43mpressure\u001b[49m\u001b[43m,\u001b[49m\n\u001b[1;32m   1420\u001b[0m \u001b[43m                                  \u001b[49m\u001b[43mtemperature\u001b[49m\u001b[38;5;241;43m=\u001b[39;49m\u001b[43mtemperature\u001b[49m\u001b[43m,\u001b[49m\n\u001b[1;32m   1421\u001b[0m \u001b[43m                                  \u001b[49m\u001b[43mdewpoint\u001b[49m\u001b[38;5;241;43m=\u001b[39;49m\u001b[43mdewpoint\u001b[49m\u001b[43m,\u001b[49m\n\u001b[1;32m   1422\u001b[0m \u001b[43m                                  \u001b[49m\u001b[43mparcel_temperature\u001b[49m\u001b[38;5;241;43m=\u001b[39;49m\u001b[43mparcel_temperature\u001b[49m\u001b[43m,\u001b[49m\n\u001b[1;32m   1423\u001b[0m \u001b[43m                                  \u001b[49m\u001b[43mparcel_pressure\u001b[49m\u001b[38;5;241;43m=\u001b[39;49m\u001b[43mparcel_pressure\u001b[49m\u001b[43m,\u001b[49m\n\u001b[1;32m   1424\u001b[0m \u001b[43m                                  \u001b[49m\u001b[43mparcel_dewpoint\u001b[49m\u001b[38;5;241;43m=\u001b[39;49m\u001b[43mparcel_dewpoint\u001b[49m\u001b[43m,\u001b[49m\n\u001b[1;32m   1425\u001b[0m \u001b[43m                                  \u001b[49m\u001b[43mvert_dim\u001b[49m\u001b[38;5;241;43m=\u001b[39;49m\u001b[43mvert_dim\u001b[49m\u001b[43m,\u001b[49m\n\u001b[1;32m   1426\u001b[0m \u001b[43m                                  \u001b[49m\u001b[43mlcl_interp\u001b[49m\u001b[38;5;241;43m=\u001b[39;49m\u001b[43mlcl_interp\u001b[49m\u001b[43m)\u001b[49m\n\u001b[1;32m   1428\u001b[0m \u001b[38;5;66;03m# Apply the virtual temperature correction?\u001b[39;00m\n\u001b[1;32m   1429\u001b[0m \u001b[38;5;66;03m# By default, MetPy does not use any virtual temperature correction.\u001b[39;00m\n\u001b[1;32m   1430\u001b[0m \u001b[38;5;28;01mif\u001b[39;00m \u001b[38;5;129;01mnot\u001b[39;00m virtual_temperature_correction:\n\u001b[1;32m   1431\u001b[0m     \u001b[38;5;66;03m# Calculate LFC and EL.\u001b[39;00m\n",
      "File \u001b[0;32m~/code/xarray_parcel/modules/parcel_functions.py:830\u001b[0m, in \u001b[0;36mparcel_profile_with_lcl\u001b[0;34m(pressure, temperature, dewpoint, parcel_pressure, parcel_temperature, parcel_dewpoint, vert_dim, lcl_interp)\u001b[0m\n\u001b[1;32m    804\u001b[0m \u001b[38;5;28;01mdef\u001b[39;00m \u001b[38;5;21mparcel_profile_with_lcl\u001b[39m(pressure, temperature, dewpoint, parcel_pressure,\n\u001b[1;32m    805\u001b[0m                             parcel_temperature, parcel_dewpoint,\n\u001b[1;32m    806\u001b[0m                             vert_dim\u001b[38;5;241m=\u001b[39m\u001b[38;5;124m'\u001b[39m\u001b[38;5;124mmodel_level_number\u001b[39m\u001b[38;5;124m'\u001b[39m,\n\u001b[1;32m    807\u001b[0m                             lcl_interp\u001b[38;5;241m=\u001b[39m\u001b[38;5;124m'\u001b[39m\u001b[38;5;124mlog\u001b[39m\u001b[38;5;124m'\u001b[39m):\n\u001b[1;32m    808\u001b[0m \u001b[38;5;250m    \u001b[39m\u001b[38;5;124;03m\"\"\"\u001b[39;00m\n\u001b[1;32m    809\u001b[0m \u001b[38;5;124;03m    Calculate temperatures of a lifted parcel, including at the lcl.\u001b[39;00m\n\u001b[1;32m    810\u001b[0m \u001b[38;5;124;03m    \u001b[39;00m\n\u001b[0;32m   (...)\u001b[0m\n\u001b[1;32m    827\u001b[0m \u001b[38;5;124;03m           temperature including at the LCL.\u001b[39;00m\n\u001b[1;32m    828\u001b[0m \u001b[38;5;124;03m    \"\"\"\u001b[39;00m\n\u001b[0;32m--> 830\u001b[0m     profile \u001b[38;5;241m=\u001b[39m \u001b[43mparcel_profile\u001b[49m\u001b[43m(\u001b[49m\u001b[43mpressure\u001b[49m\u001b[38;5;241;43m=\u001b[39;49m\u001b[43mpressure\u001b[49m\u001b[43m,\u001b[49m\n\u001b[1;32m    831\u001b[0m \u001b[43m                             \u001b[49m\u001b[43mparcel_pressure\u001b[49m\u001b[38;5;241;43m=\u001b[39;49m\u001b[43mparcel_pressure\u001b[49m\u001b[43m,\u001b[49m\n\u001b[1;32m    832\u001b[0m \u001b[43m                             \u001b[49m\u001b[43mparcel_temperature\u001b[49m\u001b[38;5;241;43m=\u001b[39;49m\u001b[43mparcel_temperature\u001b[49m\u001b[43m,\u001b[49m\n\u001b[1;32m    833\u001b[0m \u001b[43m                             \u001b[49m\u001b[43mparcel_dewpoint\u001b[49m\u001b[38;5;241;43m=\u001b[39;49m\u001b[43mparcel_dewpoint\u001b[49m\u001b[43m,\u001b[49m\n\u001b[1;32m    834\u001b[0m \u001b[43m                             \u001b[49m\u001b[43mvert_dim\u001b[49m\u001b[38;5;241;43m=\u001b[39;49m\u001b[43mvert_dim\u001b[49m\u001b[43m)\u001b[49m\n\u001b[1;32m    836\u001b[0m     \u001b[38;5;66;03m# Calculate environmental virtual temperatures.\u001b[39;00m\n\u001b[1;32m    837\u001b[0m     mix_ratio \u001b[38;5;241m=\u001b[39m mixing_ratio(temperature\u001b[38;5;241m=\u001b[39mtemperature, \n\u001b[1;32m    838\u001b[0m                              dewpoint\u001b[38;5;241m=\u001b[39mdewpoint,\n\u001b[1;32m    839\u001b[0m                              pressure\u001b[38;5;241m=\u001b[39mpressure)\n",
      "File \u001b[0;32m~/code/xarray_parcel/modules/parcel_functions.py:734\u001b[0m, in \u001b[0;36mparcel_profile\u001b[0;34m(pressure, parcel_pressure, parcel_temperature, parcel_dewpoint, vert_dim)\u001b[0m\n\u001b[1;32m    731\u001b[0m out[\u001b[38;5;124m'\u001b[39m\u001b[38;5;124mpressure\u001b[39m\u001b[38;5;124m'\u001b[39m] \u001b[38;5;241m=\u001b[39m pressure\n\u001b[1;32m    733\u001b[0m \u001b[38;5;66;03m# Find the LCL for the selected parcel.\u001b[39;00m\n\u001b[0;32m--> 734\u001b[0m out \u001b[38;5;241m=\u001b[39m xarray\u001b[38;5;241m.\u001b[39mmerge([out, \u001b[43mlcl\u001b[49m\u001b[43m(\u001b[49m\u001b[43mparcel_pressure\u001b[49m\u001b[38;5;241;43m=\u001b[39;49m\u001b[43mparcel_pressure\u001b[49m\u001b[43m,\u001b[49m\u001b[43m \u001b[49m\n\u001b[1;32m    735\u001b[0m \u001b[43m                             \u001b[49m\u001b[43mparcel_temperature\u001b[49m\u001b[38;5;241;43m=\u001b[39;49m\u001b[43mparcel_temperature\u001b[49m\u001b[43m,\u001b[49m\u001b[43m \u001b[49m\n\u001b[1;32m    736\u001b[0m \u001b[43m                             \u001b[49m\u001b[43mparcel_dewpoint\u001b[49m\u001b[38;5;241;43m=\u001b[39;49m\u001b[43mparcel_dewpoint\u001b[49m\u001b[43m)\u001b[49m])\n\u001b[1;32m    738\u001b[0m \u001b[38;5;66;03m# Parcels are raised along the dry adiabats from the starting\u001b[39;00m\n\u001b[1;32m    739\u001b[0m \u001b[38;5;66;03m# point to the LCL.\u001b[39;00m\n\u001b[1;32m    740\u001b[0m below_lcl \u001b[38;5;241m=\u001b[39m dry_lapse(pressure\u001b[38;5;241m=\u001b[39mpressure, \n\u001b[1;32m    741\u001b[0m                       parcel_temperature\u001b[38;5;241m=\u001b[39mparcel_temperature, \n\u001b[1;32m    742\u001b[0m                       parcel_pressure\u001b[38;5;241m=\u001b[39mparcel_pressure,\n\u001b[1;32m    743\u001b[0m                       vert_dim\u001b[38;5;241m=\u001b[39mvert_dim)\n",
      "File \u001b[0;32m~/code/xarray_parcel/modules/parcel_functions.py:632\u001b[0m, in \u001b[0;36mlcl\u001b[0;34m(parcel_pressure, parcel_temperature, parcel_dewpoint)\u001b[0m\n\u001b[1;32m    630\u001b[0m parcel_pressure \u001b[38;5;241m=\u001b[39m parcel_pressure\u001b[38;5;241m.\u001b[39mwhere(valid_points, other\u001b[38;5;241m=\u001b[39m\u001b[38;5;241m1000\u001b[39m)\n\u001b[1;32m    631\u001b[0m parcel_temperature \u001b[38;5;241m=\u001b[39m parcel_temperature\u001b[38;5;241m.\u001b[39mwhere(valid_points, other\u001b[38;5;241m=\u001b[39m\u001b[38;5;241m273.15\u001b[39m)\n\u001b[0;32m--> 632\u001b[0m parcel_dewpoint \u001b[38;5;241m=\u001b[39m \u001b[43mparcel_dewpoint\u001b[49m\u001b[38;5;241;43m.\u001b[39;49m\u001b[43mwhere\u001b[49m\u001b[43m(\u001b[49m\u001b[43mvalid_points\u001b[49m\u001b[43m,\u001b[49m\u001b[43m \u001b[49m\u001b[43mother\u001b[49m\u001b[38;5;241;43m=\u001b[39;49m\u001b[38;5;241;43m273.15\u001b[39;49m\u001b[43m)\u001b[49m\n\u001b[1;32m    634\u001b[0m parcel_pressure\u001b[38;5;241m.\u001b[39mname \u001b[38;5;241m=\u001b[39m \u001b[38;5;124m'\u001b[39m\u001b[38;5;124mparcel_pressure\u001b[39m\u001b[38;5;124m'\u001b[39m\n\u001b[1;32m    635\u001b[0m parcel_temperature\u001b[38;5;241m.\u001b[39mname \u001b[38;5;241m=\u001b[39m \u001b[38;5;124m'\u001b[39m\u001b[38;5;124mparcel_temperature\u001b[39m\u001b[38;5;124m'\u001b[39m\n",
      "File \u001b[0;32m~/.conda/envs/wb/lib/python3.10/site-packages/xarray/core/common.py:1181\u001b[0m, in \u001b[0;36mDataWithCoords.where\u001b[0;34m(self, cond, other, drop)\u001b[0m\n\u001b[1;32m   1178\u001b[0m     \u001b[38;5;28mself\u001b[39m \u001b[38;5;241m=\u001b[39m \u001b[38;5;28mself\u001b[39m\u001b[38;5;241m.\u001b[39misel(\u001b[38;5;241m*\u001b[39m\u001b[38;5;241m*\u001b[39mindexers)\n\u001b[1;32m   1179\u001b[0m     cond \u001b[38;5;241m=\u001b[39m cond\u001b[38;5;241m.\u001b[39misel(\u001b[38;5;241m*\u001b[39m\u001b[38;5;241m*\u001b[39mindexers)\n\u001b[0;32m-> 1181\u001b[0m \u001b[38;5;28;01mreturn\u001b[39;00m \u001b[43mops\u001b[49m\u001b[38;5;241;43m.\u001b[39;49m\u001b[43mwhere_method\u001b[49m\u001b[43m(\u001b[49m\u001b[38;5;28;43mself\u001b[39;49m\u001b[43m,\u001b[49m\u001b[43m \u001b[49m\u001b[43mcond\u001b[49m\u001b[43m,\u001b[49m\u001b[43m \u001b[49m\u001b[43mother\u001b[49m\u001b[43m)\u001b[49m\n",
      "File \u001b[0;32m~/.conda/envs/wb/lib/python3.10/site-packages/xarray/core/ops.py:178\u001b[0m, in \u001b[0;36mwhere_method\u001b[0;34m(self, cond, other)\u001b[0m\n\u001b[1;32m    176\u001b[0m \u001b[38;5;66;03m# alignment for three arguments is complicated, so don't support it yet\u001b[39;00m\n\u001b[1;32m    177\u001b[0m join \u001b[38;5;241m=\u001b[39m \u001b[38;5;124m\"\u001b[39m\u001b[38;5;124minner\u001b[39m\u001b[38;5;124m\"\u001b[39m \u001b[38;5;28;01mif\u001b[39;00m other \u001b[38;5;129;01mis\u001b[39;00m dtypes\u001b[38;5;241m.\u001b[39mNA \u001b[38;5;28;01melse\u001b[39;00m \u001b[38;5;124m\"\u001b[39m\u001b[38;5;124mexact\u001b[39m\u001b[38;5;124m\"\u001b[39m\n\u001b[0;32m--> 178\u001b[0m \u001b[38;5;28;01mreturn\u001b[39;00m \u001b[43mapply_ufunc\u001b[49m\u001b[43m(\u001b[49m\n\u001b[1;32m    179\u001b[0m \u001b[43m    \u001b[49m\u001b[43mduck_array_ops\u001b[49m\u001b[38;5;241;43m.\u001b[39;49m\u001b[43mwhere_method\u001b[49m\u001b[43m,\u001b[49m\n\u001b[1;32m    180\u001b[0m \u001b[43m    \u001b[49m\u001b[38;5;28;43mself\u001b[39;49m\u001b[43m,\u001b[49m\n\u001b[1;32m    181\u001b[0m \u001b[43m    \u001b[49m\u001b[43mcond\u001b[49m\u001b[43m,\u001b[49m\n\u001b[1;32m    182\u001b[0m \u001b[43m    \u001b[49m\u001b[43mother\u001b[49m\u001b[43m,\u001b[49m\n\u001b[1;32m    183\u001b[0m \u001b[43m    \u001b[49m\u001b[43mjoin\u001b[49m\u001b[38;5;241;43m=\u001b[39;49m\u001b[43mjoin\u001b[49m\u001b[43m,\u001b[49m\n\u001b[1;32m    184\u001b[0m \u001b[43m    \u001b[49m\u001b[43mdataset_join\u001b[49m\u001b[38;5;241;43m=\u001b[39;49m\u001b[43mjoin\u001b[49m\u001b[43m,\u001b[49m\n\u001b[1;32m    185\u001b[0m \u001b[43m    \u001b[49m\u001b[43mdask\u001b[49m\u001b[38;5;241;43m=\u001b[39;49m\u001b[38;5;124;43m\"\u001b[39;49m\u001b[38;5;124;43mallowed\u001b[39;49m\u001b[38;5;124;43m\"\u001b[39;49m\u001b[43m,\u001b[49m\n\u001b[1;32m    186\u001b[0m \u001b[43m    \u001b[49m\u001b[43mkeep_attrs\u001b[49m\u001b[38;5;241;43m=\u001b[39;49m\u001b[38;5;28;43;01mTrue\u001b[39;49;00m\u001b[43m,\u001b[49m\n\u001b[1;32m    187\u001b[0m \u001b[43m\u001b[49m\u001b[43m)\u001b[49m\n",
      "File \u001b[0;32m~/.conda/envs/wb/lib/python3.10/site-packages/xarray/core/computation.py:1266\u001b[0m, in \u001b[0;36mapply_ufunc\u001b[0;34m(func, input_core_dims, output_core_dims, exclude_dims, vectorize, join, dataset_join, dataset_fill_value, keep_attrs, kwargs, dask, output_dtypes, output_sizes, meta, dask_gufunc_kwargs, on_missing_core_dim, *args)\u001b[0m\n\u001b[1;32m   1264\u001b[0m \u001b[38;5;66;03m# feed DataArray apply_variable_ufunc through apply_dataarray_vfunc\u001b[39;00m\n\u001b[1;32m   1265\u001b[0m \u001b[38;5;28;01melif\u001b[39;00m \u001b[38;5;28many\u001b[39m(\u001b[38;5;28misinstance\u001b[39m(a, DataArray) \u001b[38;5;28;01mfor\u001b[39;00m a \u001b[38;5;129;01min\u001b[39;00m args):\n\u001b[0;32m-> 1266\u001b[0m     \u001b[38;5;28;01mreturn\u001b[39;00m \u001b[43mapply_dataarray_vfunc\u001b[49m\u001b[43m(\u001b[49m\n\u001b[1;32m   1267\u001b[0m \u001b[43m        \u001b[49m\u001b[43mvariables_vfunc\u001b[49m\u001b[43m,\u001b[49m\n\u001b[1;32m   1268\u001b[0m \u001b[43m        \u001b[49m\u001b[38;5;241;43m*\u001b[39;49m\u001b[43margs\u001b[49m\u001b[43m,\u001b[49m\n\u001b[1;32m   1269\u001b[0m \u001b[43m        \u001b[49m\u001b[43msignature\u001b[49m\u001b[38;5;241;43m=\u001b[39;49m\u001b[43msignature\u001b[49m\u001b[43m,\u001b[49m\n\u001b[1;32m   1270\u001b[0m \u001b[43m        \u001b[49m\u001b[43mjoin\u001b[49m\u001b[38;5;241;43m=\u001b[39;49m\u001b[43mjoin\u001b[49m\u001b[43m,\u001b[49m\n\u001b[1;32m   1271\u001b[0m \u001b[43m        \u001b[49m\u001b[43mexclude_dims\u001b[49m\u001b[38;5;241;43m=\u001b[39;49m\u001b[43mexclude_dims\u001b[49m\u001b[43m,\u001b[49m\n\u001b[1;32m   1272\u001b[0m \u001b[43m        \u001b[49m\u001b[43mkeep_attrs\u001b[49m\u001b[38;5;241;43m=\u001b[39;49m\u001b[43mkeep_attrs\u001b[49m\u001b[43m,\u001b[49m\n\u001b[1;32m   1273\u001b[0m \u001b[43m    \u001b[49m\u001b[43m)\u001b[49m\n\u001b[1;32m   1274\u001b[0m \u001b[38;5;66;03m# feed Variables directly through apply_variable_ufunc\u001b[39;00m\n\u001b[1;32m   1275\u001b[0m \u001b[38;5;28;01melif\u001b[39;00m \u001b[38;5;28many\u001b[39m(\u001b[38;5;28misinstance\u001b[39m(a, Variable) \u001b[38;5;28;01mfor\u001b[39;00m a \u001b[38;5;129;01min\u001b[39;00m args):\n",
      "File \u001b[0;32m~/.conda/envs/wb/lib/python3.10/site-packages/xarray/core/computation.py:314\u001b[0m, in \u001b[0;36mapply_dataarray_vfunc\u001b[0;34m(func, signature, join, exclude_dims, keep_attrs, *args)\u001b[0m\n\u001b[1;32m    309\u001b[0m result_coords, result_indexes \u001b[38;5;241m=\u001b[39m build_output_coords_and_indexes(\n\u001b[1;32m    310\u001b[0m     args, signature, exclude_dims, combine_attrs\u001b[38;5;241m=\u001b[39mkeep_attrs\n\u001b[1;32m    311\u001b[0m )\n\u001b[1;32m    313\u001b[0m data_vars \u001b[38;5;241m=\u001b[39m [\u001b[38;5;28mgetattr\u001b[39m(a, \u001b[38;5;124m\"\u001b[39m\u001b[38;5;124mvariable\u001b[39m\u001b[38;5;124m\"\u001b[39m, a) \u001b[38;5;28;01mfor\u001b[39;00m a \u001b[38;5;129;01min\u001b[39;00m args]\n\u001b[0;32m--> 314\u001b[0m result_var \u001b[38;5;241m=\u001b[39m \u001b[43mfunc\u001b[49m\u001b[43m(\u001b[49m\u001b[38;5;241;43m*\u001b[39;49m\u001b[43mdata_vars\u001b[49m\u001b[43m)\u001b[49m\n\u001b[1;32m    316\u001b[0m out: \u001b[38;5;28mtuple\u001b[39m[DataArray, \u001b[38;5;241m.\u001b[39m\u001b[38;5;241m.\u001b[39m\u001b[38;5;241m.\u001b[39m] \u001b[38;5;241m|\u001b[39m DataArray\n\u001b[1;32m    317\u001b[0m \u001b[38;5;28;01mif\u001b[39;00m signature\u001b[38;5;241m.\u001b[39mnum_outputs \u001b[38;5;241m>\u001b[39m \u001b[38;5;241m1\u001b[39m:\n",
      "File \u001b[0;32m~/.conda/envs/wb/lib/python3.10/site-packages/xarray/core/computation.py:821\u001b[0m, in \u001b[0;36mapply_variable_ufunc\u001b[0;34m(func, signature, exclude_dims, dask, output_dtypes, vectorize, keep_attrs, dask_gufunc_kwargs, *args)\u001b[0m\n\u001b[1;32m    816\u001b[0m     \u001b[38;5;28;01mif\u001b[39;00m vectorize:\n\u001b[1;32m    817\u001b[0m         func \u001b[38;5;241m=\u001b[39m _vectorize(\n\u001b[1;32m    818\u001b[0m             func, signature, output_dtypes\u001b[38;5;241m=\u001b[39moutput_dtypes, exclude_dims\u001b[38;5;241m=\u001b[39mexclude_dims\n\u001b[1;32m    819\u001b[0m         )\n\u001b[0;32m--> 821\u001b[0m result_data \u001b[38;5;241m=\u001b[39m \u001b[43mfunc\u001b[49m\u001b[43m(\u001b[49m\u001b[38;5;241;43m*\u001b[39;49m\u001b[43minput_data\u001b[49m\u001b[43m)\u001b[49m\n\u001b[1;32m    823\u001b[0m \u001b[38;5;28;01mif\u001b[39;00m signature\u001b[38;5;241m.\u001b[39mnum_outputs \u001b[38;5;241m==\u001b[39m \u001b[38;5;241m1\u001b[39m:\n\u001b[1;32m    824\u001b[0m     result_data \u001b[38;5;241m=\u001b[39m (result_data,)\n",
      "File \u001b[0;32m~/.conda/envs/wb/lib/python3.10/site-packages/xarray/core/duck_array_ops.py:324\u001b[0m, in \u001b[0;36mwhere_method\u001b[0;34m(data, cond, other)\u001b[0m\n\u001b[1;32m    322\u001b[0m \u001b[38;5;28;01mif\u001b[39;00m other \u001b[38;5;129;01mis\u001b[39;00m dtypes\u001b[38;5;241m.\u001b[39mNA:\n\u001b[1;32m    323\u001b[0m     other \u001b[38;5;241m=\u001b[39m dtypes\u001b[38;5;241m.\u001b[39mget_fill_value(data\u001b[38;5;241m.\u001b[39mdtype)\n\u001b[0;32m--> 324\u001b[0m \u001b[38;5;28;01mreturn\u001b[39;00m \u001b[43mwhere\u001b[49m\u001b[43m(\u001b[49m\u001b[43mcond\u001b[49m\u001b[43m,\u001b[49m\u001b[43m \u001b[49m\u001b[43mdata\u001b[49m\u001b[43m,\u001b[49m\u001b[43m \u001b[49m\u001b[43mother\u001b[49m\u001b[43m)\u001b[49m\n",
      "File \u001b[0;32m~/.conda/envs/wb/lib/python3.10/site-packages/xarray/core/duck_array_ops.py:318\u001b[0m, in \u001b[0;36mwhere\u001b[0;34m(condition, x, y)\u001b[0m\n\u001b[1;32m    316\u001b[0m \u001b[38;5;250m\u001b[39m\u001b[38;5;124;03m\"\"\"Three argument where() with better dtype promotion rules.\"\"\"\u001b[39;00m\n\u001b[1;32m    317\u001b[0m xp \u001b[38;5;241m=\u001b[39m get_array_namespace(condition)\n\u001b[0;32m--> 318\u001b[0m \u001b[38;5;28;01mreturn\u001b[39;00m \u001b[43mxp\u001b[49m\u001b[38;5;241;43m.\u001b[39;49m\u001b[43mwhere\u001b[49m\u001b[43m(\u001b[49m\u001b[43mcondition\u001b[49m\u001b[43m,\u001b[49m\u001b[43m \u001b[49m\u001b[38;5;241;43m*\u001b[39;49m\u001b[43mas_shared_dtype\u001b[49m\u001b[43m(\u001b[49m\u001b[43m[\u001b[49m\u001b[43mx\u001b[49m\u001b[43m,\u001b[49m\u001b[43m \u001b[49m\u001b[43my\u001b[49m\u001b[43m]\u001b[49m\u001b[43m,\u001b[49m\u001b[43m \u001b[49m\u001b[43mxp\u001b[49m\u001b[38;5;241;43m=\u001b[39;49m\u001b[43mxp\u001b[49m\u001b[43m)\u001b[49m\u001b[43m)\u001b[49m\n",
      "File \u001b[0;32m<__array_function__ internals>:200\u001b[0m, in \u001b[0;36mwhere\u001b[0;34m(*args, **kwargs)\u001b[0m\n",
      "File \u001b[0;32m~/.conda/envs/wb/lib/python3.10/site-packages/pint/facets/numpy/quantity.py:66\u001b[0m, in \u001b[0;36mNumpyQuantity.__array_function__\u001b[0;34m(self, func, types, args, kwargs)\u001b[0m\n\u001b[1;32m     65\u001b[0m \u001b[38;5;28;01mdef\u001b[39;00m \u001b[38;5;21m__array_function__\u001b[39m(\u001b[38;5;28mself\u001b[39m, func, types, args, kwargs):\n\u001b[0;32m---> 66\u001b[0m     \u001b[38;5;28;01mreturn\u001b[39;00m \u001b[43mnumpy_wrap\u001b[49m\u001b[43m(\u001b[49m\u001b[38;5;124;43m\"\u001b[39;49m\u001b[38;5;124;43mfunction\u001b[39;49m\u001b[38;5;124;43m\"\u001b[39;49m\u001b[43m,\u001b[49m\u001b[43m \u001b[49m\u001b[43mfunc\u001b[49m\u001b[43m,\u001b[49m\u001b[43m \u001b[49m\u001b[43margs\u001b[49m\u001b[43m,\u001b[49m\u001b[43m \u001b[49m\u001b[43mkwargs\u001b[49m\u001b[43m,\u001b[49m\u001b[43m \u001b[49m\u001b[43mtypes\u001b[49m\u001b[43m)\u001b[49m\n",
      "File \u001b[0;32m~/.conda/envs/wb/lib/python3.10/site-packages/pint/facets/numpy/numpy_func.py:1034\u001b[0m, in \u001b[0;36mnumpy_wrap\u001b[0;34m(func_type, func, args, kwargs, types)\u001b[0m\n\u001b[1;32m   1032\u001b[0m \u001b[38;5;28;01mif\u001b[39;00m name \u001b[38;5;129;01mnot\u001b[39;00m \u001b[38;5;129;01min\u001b[39;00m handled \u001b[38;5;129;01mor\u001b[39;00m \u001b[38;5;28many\u001b[39m(is_upcast_type(t) \u001b[38;5;28;01mfor\u001b[39;00m t \u001b[38;5;129;01min\u001b[39;00m types):\n\u001b[1;32m   1033\u001b[0m     \u001b[38;5;28;01mreturn\u001b[39;00m \u001b[38;5;28mNotImplemented\u001b[39m\n\u001b[0;32m-> 1034\u001b[0m \u001b[38;5;28;01mreturn\u001b[39;00m \u001b[43mhandled\u001b[49m\u001b[43m[\u001b[49m\u001b[43mname\u001b[49m\u001b[43m]\u001b[49m\u001b[43m(\u001b[49m\u001b[38;5;241;43m*\u001b[39;49m\u001b[43margs\u001b[49m\u001b[43m,\u001b[49m\u001b[43m \u001b[49m\u001b[38;5;241;43m*\u001b[39;49m\u001b[38;5;241;43m*\u001b[39;49m\u001b[43mkwargs\u001b[49m\u001b[43m)\u001b[49m\n",
      "File \u001b[0;32m~/.conda/envs/wb/lib/python3.10/site-packages/pint/facets/numpy/numpy_func.py:558\u001b[0m, in \u001b[0;36m_where\u001b[0;34m(condition, *args)\u001b[0m\n\u001b[1;32m    553\u001b[0m     \u001b[38;5;28;01mraise\u001b[39;00m \u001b[38;5;167;01mValueError\u001b[39;00m(\n\u001b[1;32m    554\u001b[0m         \u001b[38;5;124m\"\u001b[39m\u001b[38;5;124mInvalid units of the condition: Boolean value of Quantity with offset unit is ambiguous.\u001b[39m\u001b[38;5;124m\"\u001b[39m\n\u001b[1;32m    555\u001b[0m     )\n\u001b[1;32m    557\u001b[0m condition \u001b[38;5;241m=\u001b[39m \u001b[38;5;28mgetattr\u001b[39m(condition, \u001b[38;5;124m\"\u001b[39m\u001b[38;5;124mmagnitude\u001b[39m\u001b[38;5;124m\"\u001b[39m, condition)\n\u001b[0;32m--> 558\u001b[0m args, output_wrap \u001b[38;5;241m=\u001b[39m \u001b[43munwrap_and_wrap_consistent_units\u001b[49m\u001b[43m(\u001b[49m\u001b[38;5;241;43m*\u001b[39;49m\u001b[43margs\u001b[49m\u001b[43m)\u001b[49m\n\u001b[1;32m    559\u001b[0m \u001b[38;5;28;01mreturn\u001b[39;00m output_wrap(np\u001b[38;5;241m.\u001b[39mwhere(condition, \u001b[38;5;241m*\u001b[39margs))\n",
      "File \u001b[0;32m~/.conda/envs/wb/lib/python3.10/site-packages/pint/facets/numpy/numpy_func.py:130\u001b[0m, in \u001b[0;36munwrap_and_wrap_consistent_units\u001b[0;34m(*args)\u001b[0m\n\u001b[1;32m    127\u001b[0m     \u001b[38;5;28;01mreturn\u001b[39;00m args, \u001b[38;5;28;01mlambda\u001b[39;00m x: x\n\u001b[1;32m    129\u001b[0m first_input_units \u001b[38;5;241m=\u001b[39m _get_first_input_units(args)\n\u001b[0;32m--> 130\u001b[0m args, _ \u001b[38;5;241m=\u001b[39m \u001b[43mconvert_to_consistent_units\u001b[49m\u001b[43m(\u001b[49m\u001b[38;5;241;43m*\u001b[39;49m\u001b[43margs\u001b[49m\u001b[43m,\u001b[49m\u001b[43m \u001b[49m\u001b[43mpre_calc_units\u001b[49m\u001b[38;5;241;43m=\u001b[39;49m\u001b[43mfirst_input_units\u001b[49m\u001b[43m)\u001b[49m\n\u001b[1;32m    131\u001b[0m \u001b[38;5;28;01mreturn\u001b[39;00m (\n\u001b[1;32m    132\u001b[0m     args,\n\u001b[1;32m    133\u001b[0m     \u001b[38;5;28;01mlambda\u001b[39;00m value: first_input_units\u001b[38;5;241m.\u001b[39m_REGISTRY\u001b[38;5;241m.\u001b[39mQuantity(value, first_input_units),\n\u001b[1;32m    134\u001b[0m )\n",
      "File \u001b[0;32m~/.conda/envs/wb/lib/python3.10/site-packages/pint/facets/numpy/numpy_func.py:111\u001b[0m, in \u001b[0;36mconvert_to_consistent_units\u001b[0;34m(pre_calc_units, *args, **kwargs)\u001b[0m\n\u001b[1;32m    101\u001b[0m \u001b[38;5;28;01mdef\u001b[39;00m \u001b[38;5;21mconvert_to_consistent_units\u001b[39m(\u001b[38;5;241m*\u001b[39margs, pre_calc_units\u001b[38;5;241m=\u001b[39m\u001b[38;5;28;01mNone\u001b[39;00m, \u001b[38;5;241m*\u001b[39m\u001b[38;5;241m*\u001b[39mkwargs):\n\u001b[1;32m    102\u001b[0m \u001b[38;5;250m    \u001b[39m\u001b[38;5;124;03m\"\"\"Prepare args and kwargs for wrapping by unit conversion and stripping.\u001b[39;00m\n\u001b[1;32m    103\u001b[0m \n\u001b[1;32m    104\u001b[0m \u001b[38;5;124;03m    If pre_calc_units is not None, takes the args and kwargs for a NumPy function and\u001b[39;00m\n\u001b[0;32m   (...)\u001b[0m\n\u001b[1;32m    108\u001b[0m \u001b[38;5;124;03m    stripped.\u001b[39;00m\n\u001b[1;32m    109\u001b[0m \u001b[38;5;124;03m    \"\"\"\u001b[39;00m\n\u001b[1;32m    110\u001b[0m     \u001b[38;5;28;01mreturn\u001b[39;00m (\n\u001b[0;32m--> 111\u001b[0m         \u001b[38;5;28;43mtuple\u001b[39;49m\u001b[43m(\u001b[49m\u001b[43mconvert_arg\u001b[49m\u001b[43m(\u001b[49m\u001b[43marg\u001b[49m\u001b[43m,\u001b[49m\u001b[43m \u001b[49m\u001b[43mpre_calc_units\u001b[49m\u001b[38;5;241;43m=\u001b[39;49m\u001b[43mpre_calc_units\u001b[49m\u001b[43m)\u001b[49m\u001b[43m \u001b[49m\u001b[38;5;28;43;01mfor\u001b[39;49;00m\u001b[43m \u001b[49m\u001b[43marg\u001b[49m\u001b[43m \u001b[49m\u001b[38;5;129;43;01min\u001b[39;49;00m\u001b[43m \u001b[49m\u001b[43margs\u001b[49m\u001b[43m)\u001b[49m,\n\u001b[1;32m    112\u001b[0m         {\n\u001b[1;32m    113\u001b[0m             key: convert_arg(arg, pre_calc_units\u001b[38;5;241m=\u001b[39mpre_calc_units)\n\u001b[1;32m    114\u001b[0m             \u001b[38;5;28;01mfor\u001b[39;00m key, arg \u001b[38;5;129;01min\u001b[39;00m kwargs\u001b[38;5;241m.\u001b[39mitems()\n\u001b[1;32m    115\u001b[0m         },\n\u001b[1;32m    116\u001b[0m     )\n",
      "File \u001b[0;32m~/.conda/envs/wb/lib/python3.10/site-packages/pint/facets/numpy/numpy_func.py:111\u001b[0m, in \u001b[0;36m<genexpr>\u001b[0;34m(.0)\u001b[0m\n\u001b[1;32m    101\u001b[0m \u001b[38;5;28;01mdef\u001b[39;00m \u001b[38;5;21mconvert_to_consistent_units\u001b[39m(\u001b[38;5;241m*\u001b[39margs, pre_calc_units\u001b[38;5;241m=\u001b[39m\u001b[38;5;28;01mNone\u001b[39;00m, \u001b[38;5;241m*\u001b[39m\u001b[38;5;241m*\u001b[39mkwargs):\n\u001b[1;32m    102\u001b[0m \u001b[38;5;250m    \u001b[39m\u001b[38;5;124;03m\"\"\"Prepare args and kwargs for wrapping by unit conversion and stripping.\u001b[39;00m\n\u001b[1;32m    103\u001b[0m \n\u001b[1;32m    104\u001b[0m \u001b[38;5;124;03m    If pre_calc_units is not None, takes the args and kwargs for a NumPy function and\u001b[39;00m\n\u001b[0;32m   (...)\u001b[0m\n\u001b[1;32m    108\u001b[0m \u001b[38;5;124;03m    stripped.\u001b[39;00m\n\u001b[1;32m    109\u001b[0m \u001b[38;5;124;03m    \"\"\"\u001b[39;00m\n\u001b[1;32m    110\u001b[0m     \u001b[38;5;28;01mreturn\u001b[39;00m (\n\u001b[0;32m--> 111\u001b[0m         \u001b[38;5;28mtuple\u001b[39m(\u001b[43mconvert_arg\u001b[49m\u001b[43m(\u001b[49m\u001b[43marg\u001b[49m\u001b[43m,\u001b[49m\u001b[43m \u001b[49m\u001b[43mpre_calc_units\u001b[49m\u001b[38;5;241;43m=\u001b[39;49m\u001b[43mpre_calc_units\u001b[49m\u001b[43m)\u001b[49m \u001b[38;5;28;01mfor\u001b[39;00m arg \u001b[38;5;129;01min\u001b[39;00m args),\n\u001b[1;32m    112\u001b[0m         {\n\u001b[1;32m    113\u001b[0m             key: convert_arg(arg, pre_calc_units\u001b[38;5;241m=\u001b[39mpre_calc_units)\n\u001b[1;32m    114\u001b[0m             \u001b[38;5;28;01mfor\u001b[39;00m key, arg \u001b[38;5;129;01min\u001b[39;00m kwargs\u001b[38;5;241m.\u001b[39mitems()\n\u001b[1;32m    115\u001b[0m         },\n\u001b[1;32m    116\u001b[0m     )\n",
      "File \u001b[0;32m~/.conda/envs/wb/lib/python3.10/site-packages/pint/facets/numpy/numpy_func.py:93\u001b[0m, in \u001b[0;36mconvert_arg\u001b[0;34m(arg, pre_calc_units)\u001b[0m\n\u001b[1;32m     91\u001b[0m             \u001b[38;5;28;01mreturn\u001b[39;00m arg\n\u001b[1;32m     92\u001b[0m         \u001b[38;5;28;01melse\u001b[39;00m:\n\u001b[0;32m---> 93\u001b[0m             \u001b[38;5;28;01mraise\u001b[39;00m DimensionalityError(\u001b[38;5;124m\"\u001b[39m\u001b[38;5;124mdimensionless\u001b[39m\u001b[38;5;124m\"\u001b[39m, pre_calc_units)\n\u001b[1;32m     94\u001b[0m \u001b[38;5;28;01melif\u001b[39;00m _is_quantity(arg):\n\u001b[1;32m     95\u001b[0m     \u001b[38;5;28;01mreturn\u001b[39;00m arg\u001b[38;5;241m.\u001b[39mm\n",
      "\u001b[0;31mDimensionalityError\u001b[0m: Cannot convert from 'dimensionless' to 'degree_Celsius'"
     ]
    }
   ],
   "source": [
    "    cape_cin, array = parcel.cape_cin(plevel, tlevel, dplevel, tsurf, psurf,\n",
    "             dpsurf, vert_dim='level')"
   ]
  },
  {
   "cell_type": "code",
   "execution_count": 9,
   "metadata": {},
   "outputs": [
    {
     "data": {
      "text/html": [
       "<table>\n",
       "    <tr>\n",
       "        <td>\n",
       "            <table style=\"border-collapse: collapse;\">\n",
       "                <thead>\n",
       "                    <tr>\n",
       "                        <td> </td>\n",
       "                        <th> Array </th>\n",
       "                        <th> Chunk </th>\n",
       "                    </tr>\n",
       "                </thead>\n",
       "                <tbody>\n",
       "                    \n",
       "                    <tr>\n",
       "                        <th> Bytes </th>\n",
       "                        <td> 411.90 MiB </td>\n",
       "                        <td> 102.97 MiB </td>\n",
       "                    </tr>\n",
       "                    \n",
       "                    <tr>\n",
       "                        <th> Shape </th>\n",
       "                        <td> (13, 4, 721, 1440) </td>\n",
       "                        <td> (13, 1, 721, 1440) </td>\n",
       "                    </tr>\n",
       "                    <tr>\n",
       "                        <th> Dask graph </th>\n",
       "                        <td colspan=\"2\"> 4 chunks in 42 graph layers </td>\n",
       "                    </tr>\n",
       "                    <tr>\n",
       "                        <th> Data type </th>\n",
       "                        <td colspan=\"2\"> float64 numpy.ndarray </td>\n",
       "                    </tr>\n",
       "                </tbody>\n",
       "            </table>\n",
       "        </td>\n",
       "        <td>\n",
       "        <svg width=\"374\" height=\"125\" style=\"stroke:rgb(0,0,0);stroke-width:1\" >\n",
       "\n",
       "  <!-- Horizontal lines -->\n",
       "  <line x1=\"0\" y1=\"0\" x2=\"25\" y2=\"0\" style=\"stroke-width:2\" />\n",
       "  <line x1=\"0\" y1=\"25\" x2=\"25\" y2=\"25\" style=\"stroke-width:2\" />\n",
       "\n",
       "  <!-- Vertical lines -->\n",
       "  <line x1=\"0\" y1=\"0\" x2=\"0\" y2=\"25\" style=\"stroke-width:2\" />\n",
       "  <line x1=\"25\" y1=\"0\" x2=\"25\" y2=\"25\" style=\"stroke-width:2\" />\n",
       "\n",
       "  <!-- Colored Rectangle -->\n",
       "  <polygon points=\"0.0,0.0 25.412616514582485,0.0 25.412616514582485,25.412616514582485 0.0,25.412616514582485\" style=\"fill:#ECB172A0;stroke-width:0\"/>\n",
       "\n",
       "  <!-- Text -->\n",
       "  <text x=\"12.706308\" y=\"45.412617\" font-size=\"1.0rem\" font-weight=\"100\" text-anchor=\"middle\" >13</text>\n",
       "  <text x=\"45.412617\" y=\"12.706308\" font-size=\"1.0rem\" font-weight=\"100\" text-anchor=\"middle\" transform=\"rotate(0,45.412617,12.706308)\">1</text>\n",
       "\n",
       "\n",
       "  <!-- Horizontal lines -->\n",
       "  <line x1=\"95\" y1=\"0\" x2=\"109\" y2=\"14\" style=\"stroke-width:2\" />\n",
       "  <line x1=\"95\" y1=\"60\" x2=\"109\" y2=\"75\" style=\"stroke-width:2\" />\n",
       "\n",
       "  <!-- Vertical lines -->\n",
       "  <line x1=\"95\" y1=\"0\" x2=\"95\" y2=\"60\" style=\"stroke-width:2\" />\n",
       "  <line x1=\"98\" y1=\"3\" x2=\"98\" y2=\"63\" />\n",
       "  <line x1=\"102\" y1=\"7\" x2=\"102\" y2=\"67\" />\n",
       "  <line x1=\"106\" y1=\"11\" x2=\"106\" y2=\"71\" />\n",
       "  <line x1=\"109\" y1=\"14\" x2=\"109\" y2=\"75\" style=\"stroke-width:2\" />\n",
       "\n",
       "  <!-- Colored Rectangle -->\n",
       "  <polygon points=\"95.0,0.0 109.9485979497544,14.948597949754403 109.9485979497544,75.03193128308774 95.0,60.083333333333336\" style=\"fill:#ECB172A0;stroke-width:0\"/>\n",
       "\n",
       "  <!-- Horizontal lines -->\n",
       "  <line x1=\"95\" y1=\"0\" x2=\"215\" y2=\"0\" style=\"stroke-width:2\" />\n",
       "  <line x1=\"98\" y1=\"3\" x2=\"218\" y2=\"3\" />\n",
       "  <line x1=\"102\" y1=\"7\" x2=\"222\" y2=\"7\" />\n",
       "  <line x1=\"106\" y1=\"11\" x2=\"226\" y2=\"11\" />\n",
       "  <line x1=\"109\" y1=\"14\" x2=\"229\" y2=\"14\" style=\"stroke-width:2\" />\n",
       "\n",
       "  <!-- Vertical lines -->\n",
       "  <line x1=\"95\" y1=\"0\" x2=\"109\" y2=\"14\" style=\"stroke-width:2\" />\n",
       "  <line x1=\"215\" y1=\"0\" x2=\"229\" y2=\"14\" style=\"stroke-width:2\" />\n",
       "\n",
       "  <!-- Colored Rectangle -->\n",
       "  <polygon points=\"95.0,0.0 215.0,0.0 229.9485979497544,14.948597949754403 109.9485979497544,14.948597949754403\" style=\"fill:#ECB172A0;stroke-width:0\"/>\n",
       "\n",
       "  <!-- Horizontal lines -->\n",
       "  <line x1=\"109\" y1=\"14\" x2=\"229\" y2=\"14\" style=\"stroke-width:2\" />\n",
       "  <line x1=\"109\" y1=\"75\" x2=\"229\" y2=\"75\" style=\"stroke-width:2\" />\n",
       "\n",
       "  <!-- Vertical lines -->\n",
       "  <line x1=\"109\" y1=\"14\" x2=\"109\" y2=\"75\" style=\"stroke-width:2\" />\n",
       "  <line x1=\"229\" y1=\"14\" x2=\"229\" y2=\"75\" style=\"stroke-width:2\" />\n",
       "\n",
       "  <!-- Colored Rectangle -->\n",
       "  <polygon points=\"109.9485979497544,14.948597949754403 229.9485979497544,14.948597949754403 229.9485979497544,75.03193128308774 109.9485979497544,75.03193128308774\" style=\"fill:#ECB172A0;stroke-width:0\"/>\n",
       "\n",
       "  <!-- Text -->\n",
       "  <text x=\"169.948598\" y=\"95.031931\" font-size=\"1.0rem\" font-weight=\"100\" text-anchor=\"middle\" >1440</text>\n",
       "  <text x=\"249.948598\" y=\"44.990265\" font-size=\"1.0rem\" font-weight=\"100\" text-anchor=\"middle\" transform=\"rotate(-90,249.948598,44.990265)\">721</text>\n",
       "  <text x=\"92.474299\" y=\"87.557632\" font-size=\"1.0rem\" font-weight=\"100\" text-anchor=\"middle\" transform=\"rotate(45,92.474299,87.557632)\">4</text>\n",
       "</svg>\n",
       "        </td>\n",
       "    </tr>\n",
       "</table>"
      ],
      "text/plain": [
       "dask.array<mul, shape=(13, 4, 721, 1440), dtype=float64, chunksize=(13, 1, 721, 1440), chunktype=numpy.ndarray>"
      ]
     },
     "execution_count": 9,
     "metadata": {},
     "output_type": "execute_result"
    }
   ],
   "source": [
    "dplevel.data=dplevel.data.to(units.K).magnitude\n",
    "dplevel.data"
   ]
  },
  {
   "cell_type": "code",
   "execution_count": null,
   "metadata": {},
   "outputs": [],
   "source": []
  }
 ],
 "metadata": {
  "kernelspec": {
   "display_name": "Python 3 (ipykernel)",
   "language": "python",
   "name": "python3"
  },
  "language_info": {
   "codemirror_mode": {
    "name": "ipython",
    "version": 3
   },
   "file_extension": ".py",
   "mimetype": "text/x-python",
   "name": "python",
   "nbconvert_exporter": "python",
   "pygments_lexer": "ipython3",
   "version": "3.10.13"
  }
 },
 "nbformat": 4,
 "nbformat_minor": 4
}
