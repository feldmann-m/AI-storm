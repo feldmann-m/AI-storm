{
 "cells": [
  {
   "cell_type": "code",
   "execution_count": 1,
   "id": "718b7159-969a-4542-8aab-a7f57895499b",
   "metadata": {},
   "outputs": [
    {
     "name": "stdout",
     "output_type": "stream",
     "text": [
      "Pysteps configuration file found at: /work/FAC/FGSE/IDYST/tbeucler/default/mfeldman/miniforge3/envs/wb/lib/python3.11/site-packages/pysteps/pystepsrc\n",
      "\n"
     ]
    }
   ],
   "source": [
    "import xarray as xr\n",
    "import numpy as np\n",
    "import scipy as sc\n",
    "import sklearn as skl\n",
    "import skimage as ski\n",
    "from scipy.linalg import norm\n",
    "from scipy.spatial.distance import euclidean, jensenshannon, correlation\n",
    "from scipy.stats import wasserstein_distance, ecdf\n",
    "import skgstat as skg\n",
    "import pysteps\n",
    "from pysteps.verification.spatialscores import fss, intensity_scale\n",
    "from pysteps.verification.salscores import sal\n",
    "from pysteps.verification.detcontscores import det_cont_fct\n",
    "from glob import glob\n",
    "import matplotlib.pyplot as plt\n",
    "import seaborn as sns\n",
    "import pandas as pd\n",
    "import matplotlib as mpl"
   ]
  },
  {
   "cell_type": "code",
   "execution_count": 4,
   "id": "0b54e74e-0083-45bf-8965-826102ba186e",
   "metadata": {},
   "outputs": [],
   "source": [
    "datapath='/work/FAC/FGSE/IDYST/tbeucler/default/raw_data/MF_ML_PREDICT/season_2020/'\n",
    "models=['graphcast_','graphcast-oper_','pangu_','pangu-oper_','ifs_']#'fcnv2_dawn','ifs']\n",
    "labels=['graphcast','graphcast-oper','pangu','pangu-oper','ifs']\n",
    "references=['USA_era5_convseason_2020.nc','USA_init_convseason_2020.nc']\n",
    "rlabels=['era5','ifs-init']\n",
    "figpath='/users/mfeldman/figs/season/'\n",
    "c1='#648fff' #lightblue\n",
    "c2='#785ef0' #indigo\n",
    "c3='#dc267f' #magenta\n",
    "c4='#fe6100' #orange\n",
    "c5='#ffb000' #gold\n",
    "c6='#000000' #black\n",
    "c7='#808080' #grey\n",
    "colors=[c1,c2,c4,c3,c6]"
   ]
  },
  {
   "cell_type": "code",
   "execution_count": 39,
   "id": "6323176b-db12-4230-9caa-6dd552b23409",
   "metadata": {},
   "outputs": [
    {
     "name": "stdout",
     "output_type": "stream",
     "text": [
      "graphcast-oper_\n",
      "0\n",
      "1\n",
      "2\n",
      "3\n",
      "4\n",
      "5\n",
      "6\n",
      "7\n",
      "8\n",
      "9\n",
      "10\n",
      "11\n",
      "12\n",
      "13\n",
      "14\n",
      "15\n",
      "16\n"
     ]
    },
    {
     "ename": "KeyboardInterrupt",
     "evalue": "",
     "output_type": "error",
     "traceback": [
      "\u001b[0;31m---------------------------------------------------------------------------\u001b[0m",
      "\u001b[0;31mKeyboardInterrupt\u001b[0m                         Traceback (most recent call last)",
      "Cell \u001b[0;32mIn[39], line 43\u001b[0m\n\u001b[1;32m     40\u001b[0m         mod[f1\u001b[38;5;241m*\u001b[39mmod\u001b[38;5;241m<\u001b[39ml1]\u001b[38;5;241m=\u001b[39m\u001b[38;5;241m0\u001b[39m\n\u001b[1;32m     41\u001b[0m         ifile\u001b[38;5;241m=\u001b[39mfile\u001b[38;5;241m-\u001b[39m\u001b[38;5;241m3\u001b[39m\n\u001b[0;32m---> 43\u001b[0m         (sal_s[tstep,ifile],sal_a[tstep,ifile],sal_l[tstep,ifile]) \u001b[38;5;241m=\u001b[39m \u001b[43msal\u001b[49m\u001b[43m(\u001b[49m\u001b[43mmod\u001b[49m\u001b[43m,\u001b[49m\u001b[43mref\u001b[49m\u001b[43m)\u001b[49m\n\u001b[1;32m     44\u001b[0m ds \u001b[38;5;241m=\u001b[39m xr\u001b[38;5;241m.\u001b[39mDataset(\n\u001b[1;32m     45\u001b[0m     data_vars\u001b[38;5;241m=\u001b[39m\u001b[38;5;28mdict\u001b[39m(\n\u001b[1;32m     46\u001b[0m         structure\u001b[38;5;241m=\u001b[39m([\u001b[38;5;124m\"\u001b[39m\u001b[38;5;124mleadtime\u001b[39m\u001b[38;5;124m\"\u001b[39m,\u001b[38;5;124m\"\u001b[39m\u001b[38;5;124mdate\u001b[39m\u001b[38;5;124m\"\u001b[39m], sal_s),\n\u001b[0;32m   (...)\u001b[0m\n\u001b[1;32m     54\u001b[0m     attrs\u001b[38;5;241m=\u001b[39m\u001b[38;5;28mdict\u001b[39m(description\u001b[38;5;241m=\u001b[39m\u001b[38;5;124m\"\u001b[39m\u001b[38;5;124mSAL score\u001b[39m\u001b[38;5;124m\"\u001b[39m),\n\u001b[1;32m     55\u001b[0m )\n\u001b[1;32m     56\u001b[0m ds\u001b[38;5;241m.\u001b[39mto_netcdf(datapath\u001b[38;5;241m+\u001b[39mmodel\u001b[38;5;241m+\u001b[39mvar\u001b[38;5;241m+\u001b[39m\u001b[38;5;124m'\u001b[39m\u001b[38;5;124m_SALscore.nc\u001b[39m\u001b[38;5;124m'\u001b[39m)\n",
      "File \u001b[0;32m/work/FAC/FGSE/IDYST/tbeucler/default/mfeldman/miniforge3/envs/wb/lib/python3.11/site-packages/pysteps/verification/salscores.py:104\u001b[0m, in \u001b[0;36msal\u001b[0;34m(prediction, observation, thr_factor, thr_quantile, tstorm_kwargs)\u001b[0m\n\u001b[1;32m    102\u001b[0m prediction \u001b[38;5;241m=\u001b[39m np\u001b[38;5;241m.\u001b[39mcopy(prediction)\n\u001b[1;32m    103\u001b[0m observation \u001b[38;5;241m=\u001b[39m np\u001b[38;5;241m.\u001b[39mcopy(observation)\n\u001b[0;32m--> 104\u001b[0m structure \u001b[38;5;241m=\u001b[39m \u001b[43msal_structure\u001b[49m\u001b[43m(\u001b[49m\n\u001b[1;32m    105\u001b[0m \u001b[43m    \u001b[49m\u001b[43mprediction\u001b[49m\u001b[43m,\u001b[49m\u001b[43m \u001b[49m\u001b[43mobservation\u001b[49m\u001b[43m,\u001b[49m\u001b[43m \u001b[49m\u001b[43mthr_factor\u001b[49m\u001b[43m,\u001b[49m\u001b[43m \u001b[49m\u001b[43mthr_quantile\u001b[49m\u001b[43m,\u001b[49m\u001b[43m \u001b[49m\u001b[43mtstorm_kwargs\u001b[49m\n\u001b[1;32m    106\u001b[0m \u001b[43m\u001b[49m\u001b[43m)\u001b[49m\n\u001b[1;32m    107\u001b[0m amplitude \u001b[38;5;241m=\u001b[39m sal_amplitude(prediction, observation)\n\u001b[1;32m    108\u001b[0m location \u001b[38;5;241m=\u001b[39m sal_location(\n\u001b[1;32m    109\u001b[0m     prediction, observation, thr_factor, thr_quantile, tstorm_kwargs\n\u001b[1;32m    110\u001b[0m )\n",
      "File \u001b[0;32m/work/FAC/FGSE/IDYST/tbeucler/default/mfeldman/miniforge3/envs/wb/lib/python3.11/site-packages/pysteps/verification/salscores.py:152\u001b[0m, in \u001b[0;36msal_structure\u001b[0;34m(prediction, observation, thr_factor, thr_quantile, tstorm_kwargs)\u001b[0m\n\u001b[1;32m    114\u001b[0m \u001b[38;5;28;01mdef\u001b[39;00m \u001b[38;5;21msal_structure\u001b[39m(\n\u001b[1;32m    115\u001b[0m     prediction, observation, thr_factor\u001b[38;5;241m=\u001b[39m\u001b[38;5;28;01mNone\u001b[39;00m, thr_quantile\u001b[38;5;241m=\u001b[39m\u001b[38;5;28;01mNone\u001b[39;00m, tstorm_kwargs\u001b[38;5;241m=\u001b[39m\u001b[38;5;28;01mNone\u001b[39;00m\n\u001b[1;32m    116\u001b[0m ):\n\u001b[1;32m    117\u001b[0m \u001b[38;5;250m    \u001b[39m\u001b[38;5;124;03m\"\"\"\u001b[39;00m\n\u001b[1;32m    118\u001b[0m \u001b[38;5;124;03m    Compute the structure component for SAL based on :cite:`WPHF2008`.\u001b[39;00m\n\u001b[1;32m    119\u001b[0m \n\u001b[0;32m   (...)\u001b[0m\n\u001b[1;32m    150\u001b[0m \u001b[38;5;124;03m    :py:mod:`pysteps.feature.tstorm`\u001b[39;00m\n\u001b[1;32m    151\u001b[0m \u001b[38;5;124;03m    \"\"\"\u001b[39;00m\n\u001b[0;32m--> 152\u001b[0m     prediction_objects \u001b[38;5;241m=\u001b[39m \u001b[43m_sal_detect_objects\u001b[49m\u001b[43m(\u001b[49m\n\u001b[1;32m    153\u001b[0m \u001b[43m        \u001b[49m\u001b[43mprediction\u001b[49m\u001b[43m,\u001b[49m\u001b[43m \u001b[49m\u001b[43mthr_factor\u001b[49m\u001b[43m,\u001b[49m\u001b[43m \u001b[49m\u001b[43mthr_quantile\u001b[49m\u001b[43m,\u001b[49m\u001b[43m \u001b[49m\u001b[43mtstorm_kwargs\u001b[49m\n\u001b[1;32m    154\u001b[0m \u001b[43m    \u001b[49m\u001b[43m)\u001b[49m\n\u001b[1;32m    155\u001b[0m     observation_objects \u001b[38;5;241m=\u001b[39m _sal_detect_objects(\n\u001b[1;32m    156\u001b[0m         observation, thr_factor, thr_quantile, tstorm_kwargs\n\u001b[1;32m    157\u001b[0m     )\n\u001b[1;32m    158\u001b[0m     prediction_volume \u001b[38;5;241m=\u001b[39m _sal_scaled_volume(prediction_objects)\u001b[38;5;241m.\u001b[39msum()\n",
      "File \u001b[0;32m/work/FAC/FGSE/IDYST/tbeucler/default/mfeldman/miniforge3/envs/wb/lib/python3.11/site-packages/pysteps/verification/salscores.py:361\u001b[0m, in \u001b[0;36m_sal_detect_objects\u001b[0;34m(precip, thr_factor, thr_quantile, tstorm_kwargs)\u001b[0m\n\u001b[1;32m    352\u001b[0m     threshold \u001b[38;5;241m=\u001b[39m thr_factor \u001b[38;5;241m*\u001b[39m np\u001b[38;5;241m.\u001b[39mnanquantile(\n\u001b[1;32m    353\u001b[0m         precip[precip \u001b[38;5;241m>\u001b[39m zero_value], thr_quantile\n\u001b[1;32m    354\u001b[0m     )\n\u001b[1;32m    355\u001b[0m     tstorm_kwargs \u001b[38;5;241m=\u001b[39m {\n\u001b[1;32m    356\u001b[0m         \u001b[38;5;124m\"\u001b[39m\u001b[38;5;124mminmax\u001b[39m\u001b[38;5;124m\"\u001b[39m: tstorm_kwargs\u001b[38;5;241m.\u001b[39mget(\u001b[38;5;124m\"\u001b[39m\u001b[38;5;124mminmax\u001b[39m\u001b[38;5;124m\"\u001b[39m, threshold),\n\u001b[1;32m    357\u001b[0m         \u001b[38;5;124m\"\u001b[39m\u001b[38;5;124mmaxref\u001b[39m\u001b[38;5;124m\"\u001b[39m: tstorm_kwargs\u001b[38;5;241m.\u001b[39mget(\u001b[38;5;124m\"\u001b[39m\u001b[38;5;124mmaxref\u001b[39m\u001b[38;5;124m\"\u001b[39m, threshold \u001b[38;5;241m+\u001b[39m \u001b[38;5;241m1e-5\u001b[39m),\n\u001b[1;32m    358\u001b[0m         \u001b[38;5;124m\"\u001b[39m\u001b[38;5;124mmindiff\u001b[39m\u001b[38;5;124m\"\u001b[39m: tstorm_kwargs\u001b[38;5;241m.\u001b[39mget(\u001b[38;5;124m\"\u001b[39m\u001b[38;5;124mmindiff\u001b[39m\u001b[38;5;124m\"\u001b[39m, \u001b[38;5;241m1e-5\u001b[39m),\n\u001b[1;32m    359\u001b[0m         \u001b[38;5;124m\"\u001b[39m\u001b[38;5;124mminref\u001b[39m\u001b[38;5;124m\"\u001b[39m: tstorm_kwargs\u001b[38;5;241m.\u001b[39mget(\u001b[38;5;124m\"\u001b[39m\u001b[38;5;124mminref\u001b[39m\u001b[38;5;124m\"\u001b[39m, threshold),\n\u001b[1;32m    360\u001b[0m     }\n\u001b[0;32m--> 361\u001b[0m _, labels \u001b[38;5;241m=\u001b[39m \u001b[43mtstorm_detect\u001b[49m\u001b[38;5;241;43m.\u001b[39;49m\u001b[43mdetection\u001b[49m\u001b[43m(\u001b[49m\u001b[43mprecip\u001b[49m\u001b[43m,\u001b[49m\u001b[43m \u001b[49m\u001b[38;5;241;43m*\u001b[39;49m\u001b[38;5;241;43m*\u001b[39;49m\u001b[43mtstorm_kwargs\u001b[49m\u001b[43m)\u001b[49m\n\u001b[1;32m    362\u001b[0m labels \u001b[38;5;241m=\u001b[39m labels\u001b[38;5;241m.\u001b[39mastype(\u001b[38;5;28mint\u001b[39m)\n\u001b[1;32m    363\u001b[0m precip_objects \u001b[38;5;241m=\u001b[39m regionprops_table(\n\u001b[1;32m    364\u001b[0m     labels, intensity_image\u001b[38;5;241m=\u001b[39mprecip, properties\u001b[38;5;241m=\u001b[39mREGIONPROPS\n\u001b[1;32m    365\u001b[0m )\n",
      "File \u001b[0;32m/work/FAC/FGSE/IDYST/tbeucler/default/mfeldman/miniforge3/envs/wb/lib/python3.11/site-packages/pysteps/feature/tstorm.py:153\u001b[0m, in \u001b[0;36mdetection\u001b[0;34m(input_image, max_num_features, minref, maxref, mindiff, minsize, minmax, mindis, output_feat, time)\u001b[0m\n\u001b[1;32m    151\u001b[0m     maxima \u001b[38;5;241m=\u001b[39m np\u001b[38;5;241m.\u001b[39mzeros(filt_image\u001b[38;5;241m.\u001b[39mshape)\n\u001b[1;32m    152\u001b[0m \u001b[38;5;28;01melse\u001b[39;00m:\n\u001b[0;32m--> 153\u001b[0m     maxima \u001b[38;5;241m=\u001b[39m \u001b[43mskim\u001b[49m\u001b[38;5;241;43m.\u001b[39;49m\u001b[43mh_maxima\u001b[49m\u001b[43m(\u001b[49m\u001b[43mfilt_image\u001b[49m\u001b[43m,\u001b[49m\u001b[43m \u001b[49m\u001b[43mh\u001b[49m\u001b[38;5;241;43m=\u001b[39;49m\u001b[43mmindiff\u001b[49m\u001b[43m,\u001b[49m\u001b[43m \u001b[49m\u001b[43mfootprint\u001b[49m\u001b[38;5;241;43m=\u001b[39;49m\u001b[43mstruct\u001b[49m\u001b[43m)\u001b[49m\n\u001b[1;32m    154\u001b[0m loc_max \u001b[38;5;241m=\u001b[39m np\u001b[38;5;241m.\u001b[39mwhere(maxima \u001b[38;5;241m>\u001b[39m \u001b[38;5;241m0\u001b[39m)\n\u001b[1;32m    156\u001b[0m loc_max \u001b[38;5;241m=\u001b[39m longdistance(loc_max, mindis)\n",
      "File \u001b[0;32m/work/FAC/FGSE/IDYST/tbeucler/default/mfeldman/miniforge3/envs/wb/lib/python3.11/site-packages/skimage/morphology/extrema.py:170\u001b[0m, in \u001b[0;36mh_maxima\u001b[0;34m(image, h, footprint)\u001b[0m\n\u001b[1;32m    167\u001b[0m \u001b[38;5;28;01melse\u001b[39;00m:\n\u001b[1;32m    168\u001b[0m     shifted_img \u001b[38;5;241m=\u001b[39m _subtract_constant_clip(image, h)\n\u001b[0;32m--> 170\u001b[0m rec_img \u001b[38;5;241m=\u001b[39m \u001b[43mgrayreconstruct\u001b[49m\u001b[38;5;241;43m.\u001b[39;49m\u001b[43mreconstruction\u001b[49m\u001b[43m(\u001b[49m\u001b[43mshifted_img\u001b[49m\u001b[43m,\u001b[49m\u001b[43m \u001b[49m\u001b[43mimage\u001b[49m\u001b[43m,\u001b[49m\n\u001b[1;32m    171\u001b[0m \u001b[43m                                         \u001b[49m\u001b[43mmethod\u001b[49m\u001b[38;5;241;43m=\u001b[39;49m\u001b[38;5;124;43m'\u001b[39;49m\u001b[38;5;124;43mdilation\u001b[39;49m\u001b[38;5;124;43m'\u001b[39;49m\u001b[43m,\u001b[49m\n\u001b[1;32m    172\u001b[0m \u001b[43m                                         \u001b[49m\u001b[43mfootprint\u001b[49m\u001b[38;5;241;43m=\u001b[39;49m\u001b[43mfootprint\u001b[49m\u001b[43m)\u001b[49m\n\u001b[1;32m    173\u001b[0m residue_img \u001b[38;5;241m=\u001b[39m image \u001b[38;5;241m-\u001b[39m rec_img\n\u001b[1;32m    174\u001b[0m \u001b[38;5;28;01mreturn\u001b[39;00m (residue_img \u001b[38;5;241m>\u001b[39m\u001b[38;5;241m=\u001b[39m h)\u001b[38;5;241m.\u001b[39mastype(np\u001b[38;5;241m.\u001b[39muint8)\n",
      "File \u001b[0;32m/work/FAC/FGSE/IDYST/tbeucler/default/mfeldman/miniforge3/envs/wb/lib/python3.11/site-packages/skimage/morphology/grayreconstruct.py:194\u001b[0m, in \u001b[0;36mreconstruction\u001b[0;34m(seed, mask, method, footprint, offset)\u001b[0m\n\u001b[1;32m    192\u001b[0m \u001b[38;5;66;03m# Cython inner-loop compares the rank of pixel values.\u001b[39;00m\n\u001b[1;32m    193\u001b[0m \u001b[38;5;28;01mif\u001b[39;00m method \u001b[38;5;241m==\u001b[39m \u001b[38;5;124m'\u001b[39m\u001b[38;5;124mdilation\u001b[39m\u001b[38;5;124m'\u001b[39m:\n\u001b[0;32m--> 194\u001b[0m     value_rank, value_map \u001b[38;5;241m=\u001b[39m \u001b[43mrank_order\u001b[49m\u001b[43m(\u001b[49m\u001b[43mimages\u001b[49m\u001b[43m)\u001b[49m\n\u001b[1;32m    195\u001b[0m \u001b[38;5;28;01melif\u001b[39;00m method \u001b[38;5;241m==\u001b[39m \u001b[38;5;124m'\u001b[39m\u001b[38;5;124merosion\u001b[39m\u001b[38;5;124m'\u001b[39m:\n\u001b[1;32m    196\u001b[0m     value_rank, value_map \u001b[38;5;241m=\u001b[39m rank_order(\u001b[38;5;241m-\u001b[39mimages)\n",
      "File \u001b[0;32m/work/FAC/FGSE/IDYST/tbeucler/default/mfeldman/miniforge3/envs/wb/lib/python3.11/site-packages/skimage/filters/_rank_order.py:46\u001b[0m, in \u001b[0;36mrank_order\u001b[0;34m(image)\u001b[0m\n\u001b[1;32m     44\u001b[0m flat_image \u001b[38;5;241m=\u001b[39m image\u001b[38;5;241m.\u001b[39mreshape(\u001b[38;5;241m-\u001b[39m\u001b[38;5;241m1\u001b[39m)\n\u001b[1;32m     45\u001b[0m unsigned_dtype \u001b[38;5;241m=\u001b[39m np\u001b[38;5;241m.\u001b[39mmin_scalar_type(flat_image\u001b[38;5;241m.\u001b[39msize)\n\u001b[0;32m---> 46\u001b[0m sort_order \u001b[38;5;241m=\u001b[39m flat_image\u001b[38;5;241m.\u001b[39margsort()\u001b[38;5;241m.\u001b[39mastype(unsigned_dtype, copy\u001b[38;5;241m=\u001b[39m\u001b[38;5;28;01mFalse\u001b[39;00m)\n\u001b[1;32m     47\u001b[0m flat_image \u001b[38;5;241m=\u001b[39m flat_image[sort_order]\n\u001b[1;32m     48\u001b[0m sort_rank \u001b[38;5;241m=\u001b[39m np\u001b[38;5;241m.\u001b[39mzeros_like(sort_order)\n",
      "\u001b[0;31mKeyboardInterrupt\u001b[0m: "
     ]
    },
    {
     "data": {
      "image/png": "[encoded data removed]",
      "text/plain": [
       "<Figure size 1200x500 with 3 Axes>"
      ]
     },
     "metadata": {},
     "output_type": "display_data"
    }
   ],
   "source": [
    "era_ref=xr.open_dataset(datapath+references[0]).sortby('latitude').fillna(0)\n",
    "cape=era_ref.cape.squeeze().values\n",
    "wms=(cape * 2)**0.5 * era_ref.bs_06\n",
    "era_ref=era_ref.assign(wms=lambda era_ref: wms)\n",
    "vars=['cape','cin','bs_06','bs_03','bs_01','wms']\n",
    "nn=0\n",
    "mm=0\n",
    "for mm in range(len(vars))[:1]:\n",
    "    var=vars[mm]\n",
    "    tit=['CAPE [J kg$^{-1}$]','CIN [J kg$^{-1}$]','0-6km shear [m s$^{-1}$]','0-3km shear [m s$^{-1}$]',\n",
    "         '0-1km shear [m s$^{-1}$]','wmax-shear [m$^2$ s$^{-2}$]'][mm]\n",
    "    l1=[300,-100,10,5,5,300][mm]\n",
    "    l2=[1000,-300,20,10,10,500][mm]\n",
    "    f1=[1,-1,1,1,1,1][mm]\n",
    "    # fig,axes = plt.subplots(1,3)\n",
    "    fig2,axes2 = plt.subplots(1,3,figsize=(12, 5))\n",
    "    for nn in range(1,len(models)):\n",
    "        kw='latitude'\n",
    "        kw2='prediction_timedelta'\n",
    "        model=models[nn]\n",
    "        label=labels[nn]\n",
    "        color=colors[nn]\n",
    "        print(model)\n",
    "        files=sorted(glob(datapath+'*'+model+'*.nc'))\n",
    "        sal_s=np.zeros([40,len(files)]); sal_s[:]=np.nan\n",
    "        sal_a=np.zeros([40,len(files)]); sal_a[:]=np.nan\n",
    "        sal_l=np.zeros([40,len(files)]); sal_l[:]=np.nan\n",
    "\n",
    "        for file in range(len(files)-22):\n",
    "            print(file)\n",
    "            model_set=xr.open_dataset(files[file]).sortby(kw).fillna(0).squeeze()\n",
    "            if var=='wms':\n",
    "                capem=model_set.cape.squeeze().values\n",
    "                wmsm=(capem * 2)**0.5 * model_set.bs_06\n",
    "                model_set=model_set.assign(wms=lambda model_set: wmsm )\n",
    "            for tstep in range(len(model_set[kw2])):\n",
    "                ref=era_ref.sel(time=(model_set.time+model_set.prediction_timedelta))[var].values[tstep,:,:]\n",
    "                ref[f1*ref<l1]=0\n",
    "                mod=model_set[var].values[tstep,:,:]\n",
    "                mod[f1*mod<l1]=0\n",
    "                ifile=file-3\n",
    "\n",
    "                (sal_s[tstep,ifile],sal_a[tstep,ifile],sal_l[tstep,ifile]) = sal(mod,ref)\n",
    "        ds = xr.Dataset(\n",
    "            data_vars=dict(\n",
    "                structure=([\"leadtime\",\"date\"], sal_s),\n",
    "                amplitude=([\"lead time\",\"date\"], sal_a),\n",
    "                location=([\"lead time\",\"date\"], sal_l),\n",
    "            ),\n",
    "            coords=dict(\n",
    "                date=([\"date\"], era_ref.time.values[::2]),\n",
    "                leadtime=([\"leadtime\"], model_set.prediction_timedelta.values),\n",
    "            ),\n",
    "            attrs=dict(description=\"SAL score\"),\n",
    "        )\n",
    "        ds.to_netcdf(datapath+model+var+'_SALscore.nc')\n",
    "        \n",
    "        axes2[0].plot(np.arange(40)*6,np.nanmean(sal_s,axis=1),c=color,label=label)\n",
    "        axes2[0].plot([0,240],np.zeros(2),c='grey')\n",
    "        #axes2[0].fill_between(np.arange(i+2*len(files))*6,np.nanmax(sal_s,axis=1),np.nanmin(sal_s,axis=1),facecolor=color,alpha=0.3)\n",
    "        axes2[0].set_title('structure')\n",
    "        axes2[0].set_xlabel('leadtime [h]')\n",
    "        axes2[0].set_xticks(np.arange(24,258,24))\n",
    "        axes2[0].set_ylabel('score [-2,2]')\n",
    "        #axes2[0].legend()\n",
    "        axes2[1].plot(np.arange(40)*6,np.nanmean(sal_a,axis=1),c=color,label=label)\n",
    "        axes2[1].plot([0,240],np.zeros(2),c='grey')\n",
    "        #axes2[1].fill_between(np.arange(i+2*len(files))*6,np.nanmax(sal_a,axis=1),np.nanmin(sal_a,axis=1),facecolor=color,alpha=0.3)\n",
    "        axes2[1].set_title('amplitude')\n",
    "        axes2[1].set_xlabel('leadtime [h]')\n",
    "        axes2[1].set_xticks(np.arange(24,258,24))\n",
    "        axes2[1].set_ylabel('score [-2,2]')\n",
    "        #axes2[1].legend()\n",
    "        axes2[2].plot(np.arange(40)*6,np.nanmean(sal_l,axis=1),c=color)\n",
    "        axes2[2].plot([0,240],np.zeros(2),c='grey')\n",
    "        #axes2[2].fill_between(np.arange(i+2*len(files))*6,np.nanmax(sal_l,axis=1),np.nanmin(sal_l,axis=1),facecolor=color,alpha=0.3)\n",
    "        axes2[2].set_title('location')\n",
    "        axes2[2].set_xlabel('leadtime [h]')\n",
    "        axes2[2].set_xticks(np.arange(24,258,24))\n",
    "        axes2[2].set_ylabel('score [0,2]')\n",
    "        fig2.suptitle('SAL score '+str(l1)+' '+tit)\n",
    "\n",
    "\n",
    "    fig2.tight_layout()\n",
    "    fig2.show()\n",
    "    fig2.savefig(figpath+var+'_sal_scores.png')\n"
   ]
  },
  {
   "cell_type": "code",
   "execution_count": 31,
   "id": "99e3a78c-b5b6-40d2-b2bd-68ebaea930e6",
   "metadata": {},
   "outputs": [],
   "source": [
    "        ds = xr.Dataset(\n",
    "            data_vars=dict(\n",
    "                structure=([\"leadtime\",\"date\"], sal_s),\n",
    "                amplitude=([\"lead time\",\"date\"], sal_a),\n",
    "                location=([\"lead time\",\"date\"], sal_l),\n",
    "            ),\n",
    "            coords=dict(\n",
    "                date=([\"date\"], era_ref.time.values[::2]),\n",
    "                leadtime=([\"leadtime\"], model_set.prediction_timedelta.values),\n",
    "            ),\n",
    "            attrs=dict(description=\"SAL score\"),\n",
    "        )"
   ]
  },
  {
   "cell_type": "code",
   "execution_count": 38,
   "id": "a3537766-5a3e-459e-811b-797c954c605c",
   "metadata": {},
   "outputs": [
    {
     "data": {
      "text/plain": [
       "'/work/FAC/FGSE/IDYST/tbeucler/default/raw_data/MF_ML_PREDICT/season_2020/USA_conv_graphcast-oper_2020091912.nc'"
      ]
     },
     "execution_count": 38,
     "metadata": {},
     "output_type": "execute_result"
    }
   ],
   "source": [
    "files[22]"
   ]
  },
  {
   "cell_type": "code",
   "execution_count": 30,
   "id": "5d22b5c8-5a5b-4e4f-96b6-e3b80fa75d43",
   "metadata": {},
   "outputs": [
    {
     "data": {
      "text/plain": [
       "428"
      ]
     },
     "execution_count": 30,
     "metadata": {},
     "output_type": "execute_result"
    }
   ],
   "source": [
    "len(era_ref.time.values[::2])"
   ]
  },
  {
   "cell_type": "code",
   "execution_count": null,
   "id": "00a2a627-4f3b-4c84-b16c-ecb460624110",
   "metadata": {},
   "outputs": [],
   "source": []
  }
 ],
 "metadata": {
  "kernelspec": {
   "display_name": "Python 3 (ipykernel)",
   "language": "python",
   "name": "python3"
  },
  "language_info": {
   "codemirror_mode": {
    "name": "ipython",
    "version": 3
   },
   "file_extension": ".py",
   "mimetype": "text/x-python",
   "name": "python",
   "nbconvert_exporter": "python",
   "pygments_lexer": "ipython3",
   "version": "3.11.7"
  }
 },
 "nbformat": 4,
 "nbformat_minor": 5
}
