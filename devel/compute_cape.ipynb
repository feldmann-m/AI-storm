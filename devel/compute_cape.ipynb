{
 "cells": [
  {
   "cell_type": "code",
   "execution_count": 1,
   "metadata": {},
   "outputs": [
    {
     "name": "stdout",
     "output_type": "stream",
     "text": [
      "modules loaded\n"
     ]
    }
   ],
   "source": [
    "import sys, os\n",
    "import pandas as pd\n",
    "import xarray as xr\n",
    "import matplotlib.pyplot as plt\n",
    "import numpy as np\n",
    "import weatherbench2 as wb\n",
    "import metpy\n",
    "from metpy.units import units\n",
    "sys.path.append('/users/mfeldman/code/xarray_parcel/')\n",
    "import modules.parcel_functions as parcel\n",
    "parcel.load_moist_adiabat_lookups()\n",
    "print('modules loaded')"
   ]
  },
  {
   "cell_type": "code",
   "execution_count": 13,
   "metadata": {},
   "outputs": [
    {
     "name": "stdout",
     "output_type": "stream",
     "text": [
      "gs://weatherbench2/datasets/era5/1959-2022-6h-1440x721.zarr\n",
      "<xarray.DataArray 'time' (time: 4)>\n",
      "array(['2020-07-01T00:00:00.000000000', '2020-07-01T06:00:00.000000000',\n",
      "       '2020-07-01T12:00:00.000000000', '2020-07-01T18:00:00.000000000'],\n",
      "      dtype='datetime64[ns]')\n",
      "Coordinates:\n",
      "  * time     (time) datetime64[ns] 2020-07-01 ... 2020-07-01T18:00:00\n"
     ]
    },
    {
     "name": "stderr",
     "output_type": "stream",
     "text": [
      "/tmp/ipykernel_2741889/2952647610.py:17: UserWarning: Relative humidity >120%, ensure proper units.\n",
      "  dplevel=metpy.calc.dewpoint_from_specific_humidity(plevel* units('hPa'), tlevel* units('K'), qlevel* units('kg/kg'))#.magnitude\n",
      "/tmp/ipykernel_2741889/2952647610.py:23: UserWarning: Relative humidity >120%, ensure proper units.\n",
      "  dpsurf=metpy.calc.dewpoint_from_specific_humidity(psurf* units('hPa'), tsurf* units('K'), qsurf* units('kg/kg'))#.magnitude\n"
     ]
    },
    {
     "ename": "Exception",
     "evalue": "Cannot infer object returned from running user provided function. Please supply the 'template' kwarg to map_blocks.",
     "output_type": "error",
     "traceback": [
      "\u001b[0;31m---------------------------------------------------------------------------\u001b[0m",
      "\u001b[0;31mValueError\u001b[0m                                Traceback (most recent call last)",
      "File \u001b[0;32m~/.conda/envs/wb/lib/python3.10/site-packages/xarray/core/parallel.py:114\u001b[0m, in \u001b[0;36minfer_template\u001b[0;34m(func, obj, *args, **kwargs)\u001b[0m\n\u001b[1;32m    113\u001b[0m \u001b[38;5;28;01mtry\u001b[39;00m:\n\u001b[0;32m--> 114\u001b[0m     template \u001b[38;5;241m=\u001b[39m \u001b[43mfunc\u001b[49m\u001b[43m(\u001b[49m\u001b[38;5;241;43m*\u001b[39;49m\u001b[43mmeta_args\u001b[49m\u001b[43m,\u001b[49m\u001b[43m \u001b[49m\u001b[38;5;241;43m*\u001b[39;49m\u001b[38;5;241;43m*\u001b[39;49m\u001b[43mkwargs\u001b[49m\u001b[43m)\u001b[49m\n\u001b[1;32m    115\u001b[0m \u001b[38;5;28;01mexcept\u001b[39;00m \u001b[38;5;167;01mException\u001b[39;00m \u001b[38;5;28;01mas\u001b[39;00m e:\n",
      "File \u001b[0;32m~/code/xarray_parcel/modules/parcel_functions.py:642\u001b[0m, in \u001b[0;36mlcl.<locals>.lcl_block\u001b[0;34m(obj)\u001b[0m\n\u001b[1;32m    641\u001b[0m \u001b[38;5;28;01mdef\u001b[39;00m \u001b[38;5;21mlcl_block\u001b[39m(obj):\n\u001b[0;32m--> 642\u001b[0m     press_lcl, temp_lcl \u001b[38;5;241m=\u001b[39m \u001b[43mmetpy\u001b[49m\u001b[38;5;241;43m.\u001b[39;49m\u001b[43mcalc\u001b[49m\u001b[38;5;241;43m.\u001b[39;49m\u001b[43mlcl\u001b[49m\u001b[43m(\u001b[49m\u001b[43mpressure\u001b[49m\u001b[38;5;241;43m=\u001b[39;49m\u001b[43mobj\u001b[49m\u001b[38;5;241;43m.\u001b[39;49m\u001b[43mparcel_pressure\u001b[49m\u001b[43m,\u001b[49m\n\u001b[1;32m    643\u001b[0m \u001b[43m                                         \u001b[49m\u001b[43mtemperature\u001b[49m\u001b[38;5;241;43m=\u001b[39;49m\u001b[43mobj\u001b[49m\u001b[38;5;241;43m.\u001b[39;49m\u001b[43mparcel_temperature\u001b[49m\u001b[43m,\u001b[49m\n\u001b[1;32m    644\u001b[0m \u001b[43m                                         \u001b[49m\u001b[43mdewpoint\u001b[49m\u001b[38;5;241;43m=\u001b[39;49m\u001b[43mobj\u001b[49m\u001b[38;5;241;43m.\u001b[39;49m\u001b[43mparcel_dewpoint\u001b[49m\u001b[43m)\u001b[49m\n\u001b[1;32m    646\u001b[0m     \u001b[38;5;28;01massert\u001b[39;00m np\u001b[38;5;241m.\u001b[39mall(obj\u001b[38;5;241m.\u001b[39mparcel_pressure\u001b[38;5;241m.\u001b[39mdims \u001b[38;5;241m==\u001b[39m obj\u001b[38;5;241m.\u001b[39mparcel_temperature\u001b[38;5;241m.\u001b[39mdims)\n",
      "File \u001b[0;32m~/.conda/envs/wb/lib/python3.10/site-packages/metpy/xarray.py:1328\u001b[0m, in \u001b[0;36mpreprocess_and_wrap.<locals>.decorator.<locals>.wrapper\u001b[0;34m(*args, **kwargs)\u001b[0m\n\u001b[1;32m   1327\u001b[0m \u001b[38;5;66;03m# Evaluate inner calculation\u001b[39;00m\n\u001b[0;32m-> 1328\u001b[0m result \u001b[38;5;241m=\u001b[39m \u001b[43mfunc\u001b[49m\u001b[43m(\u001b[49m\u001b[38;5;241;43m*\u001b[39;49m\u001b[43mbound_args\u001b[49m\u001b[38;5;241;43m.\u001b[39;49m\u001b[43margs\u001b[49m\u001b[43m,\u001b[49m\u001b[43m \u001b[49m\u001b[38;5;241;43m*\u001b[39;49m\u001b[38;5;241;43m*\u001b[39;49m\u001b[43mbound_args\u001b[49m\u001b[38;5;241;43m.\u001b[39;49m\u001b[43mkwargs\u001b[49m\u001b[43m)\u001b[49m\n\u001b[1;32m   1330\u001b[0m \u001b[38;5;66;03m# Wrap output based on match and match_unit\u001b[39;00m\n",
      "File \u001b[0;32m~/.conda/envs/wb/lib/python3.10/site-packages/metpy/units.py:343\u001b[0m, in \u001b[0;36mprocess_units.<locals>.dec.<locals>.wrapper\u001b[0;34m(*args, **kwargs)\u001b[0m\n\u001b[1;32m    341\u001b[0m \u001b[38;5;129m@functools\u001b[39m\u001b[38;5;241m.\u001b[39mwraps(func)\n\u001b[1;32m    342\u001b[0m \u001b[38;5;28;01mdef\u001b[39;00m \u001b[38;5;21mwrapper\u001b[39m(\u001b[38;5;241m*\u001b[39margs, \u001b[38;5;241m*\u001b[39m\u001b[38;5;241m*\u001b[39mkwargs):\n\u001b[0;32m--> 343\u001b[0m     bound_args \u001b[38;5;241m=\u001b[39m \u001b[43m_check_units_inner_helper\u001b[49m\u001b[43m(\u001b[49m\u001b[43mfunc\u001b[49m\u001b[43m,\u001b[49m\u001b[43m \u001b[49m\u001b[43msig\u001b[49m\u001b[43m,\u001b[49m\u001b[43m \u001b[49m\u001b[43mdefaults\u001b[49m\u001b[43m,\u001b[49m\u001b[43m \u001b[49m\u001b[43mdims\u001b[49m\u001b[43m,\u001b[49m\u001b[43m \u001b[49m\u001b[38;5;241;43m*\u001b[39;49m\u001b[43margs\u001b[49m\u001b[43m,\u001b[49m\u001b[43m \u001b[49m\u001b[38;5;241;43m*\u001b[39;49m\u001b[38;5;241;43m*\u001b[39;49m\u001b[43mkwargs\u001b[49m\u001b[43m)\u001b[49m\n\u001b[1;32m    345\u001b[0m     \u001b[38;5;66;03m# Determine unit(s) with which to wrap output (first, since we mutate the bound\u001b[39;00m\n\u001b[1;32m    346\u001b[0m     \u001b[38;5;66;03m# args)\u001b[39;00m\n",
      "File \u001b[0;32m~/.conda/envs/wb/lib/python3.10/site-packages/metpy/units.py:311\u001b[0m, in \u001b[0;36m_check_units_inner_helper\u001b[0;34m(func, sig, defaults, dims, *args, **kwargs)\u001b[0m\n\u001b[1;32m    307\u001b[0m             msg \u001b[38;5;241m=\u001b[39m (\n\u001b[1;32m    308\u001b[0m                 \u001b[38;5;124mf\u001b[39m\u001b[38;5;124m'\u001b[39m\u001b[38;5;124mThis function changed in \u001b[39m\u001b[38;5;132;01m{\u001b[39;00mchanged_version\u001b[38;5;132;01m}\u001b[39;00m\u001b[38;5;124m--double check \u001b[39m\u001b[38;5;124m'\u001b[39m\n\u001b[1;32m    309\u001b[0m                 \u001b[38;5;124m'\u001b[39m\u001b[38;5;124mthat the function is being called properly.\u001b[39m\u001b[38;5;130;01m\\n\u001b[39;00m\u001b[38;5;124m'\u001b[39m\n\u001b[1;32m    310\u001b[0m             ) \u001b[38;5;241m+\u001b[39m msg\n\u001b[0;32m--> 311\u001b[0m     \u001b[38;5;28;01mraise\u001b[39;00m \u001b[38;5;167;01mValueError\u001b[39;00m(msg)\n\u001b[1;32m    313\u001b[0m \u001b[38;5;66;03m# Return the bound arguments for reuse\u001b[39;00m\n",
      "\u001b[0;31mValueError\u001b[0m: This function changed in 1.0--double check that the function is being called properly.\n`lcl` given arguments with incorrect units: `dewpoint` requires \"[temperature]\" but given \"dimensionless\"",
      "\nThe above exception was the direct cause of the following exception:\n",
      "\u001b[0;31mException\u001b[0m                                 Traceback (most recent call last)",
      "Cell \u001b[0;32mIn[13], line 28\u001b[0m\n\u001b[1;32m     24\u001b[0m dpsurf\u001b[38;5;241m.\u001b[39mdata\u001b[38;5;241m=\u001b[39mdpsurf\u001b[38;5;241m.\u001b[39mdata\u001b[38;5;241m.\u001b[39mto(units\u001b[38;5;241m.\u001b[39mK)\u001b[38;5;241m.\u001b[39mmagnitude\n\u001b[1;32m     25\u001b[0m \u001b[38;5;66;03m#dpsurf=dpsurf.magnitude\u001b[39;00m\n\u001b[1;32m     26\u001b[0m \u001b[38;5;66;03m#qsurf=xr_dataset.specific_humitidy.interp(level=psurf)\u001b[39;00m\n\u001b[0;32m---> 28\u001b[0m cape_cin, array \u001b[38;5;241m=\u001b[39m \u001b[43mparcel\u001b[49m\u001b[38;5;241;43m.\u001b[39;49m\u001b[43mcape_cin\u001b[49m\u001b[43m(\u001b[49m\u001b[43mplevel\u001b[49m\u001b[43m,\u001b[49m\u001b[43m \u001b[49m\u001b[43mtlevel\u001b[49m\u001b[43m,\u001b[49m\u001b[43m \u001b[49m\u001b[43mdplevel\u001b[49m\u001b[43m,\u001b[49m\u001b[43m \u001b[49m\u001b[43mtsurf\u001b[49m\u001b[43m,\u001b[49m\u001b[43m \u001b[49m\u001b[43mpsurf\u001b[49m\u001b[43m,\u001b[49m\n\u001b[1;32m     29\u001b[0m \u001b[43m         \u001b[49m\u001b[43mdpsurf\u001b[49m\u001b[43m,\u001b[49m\u001b[43m \u001b[49m\u001b[43mvert_dim\u001b[49m\u001b[38;5;241;43m=\u001b[39;49m\u001b[38;5;124;43m'\u001b[39;49m\u001b[38;5;124;43mlevel\u001b[39;49m\u001b[38;5;124;43m'\u001b[39;49m\u001b[43m)\u001b[49m\n",
      "File \u001b[0;32m~/code/xarray_parcel/modules/parcel_functions.py:1419\u001b[0m, in \u001b[0;36mcape_cin\u001b[0;34m(pressure, temperature, dewpoint, parcel_temperature, parcel_pressure, parcel_dewpoint, vert_dim, virtual_temperature_correction, lcl_interp, **kwargs)\u001b[0m\n\u001b[1;32m   1392\u001b[0m \u001b[38;5;250m\u001b[39m\u001b[38;5;124;03m\"\"\"\u001b[39;00m\n\u001b[1;32m   1393\u001b[0m \u001b[38;5;124;03mCalculate CAPE and CIN; wraps finding of LFC and parcel profile\u001b[39;00m\n\u001b[1;32m   1394\u001b[0m \u001b[38;5;124;03mand call to cape_cin_base. Uses the bottom (highest-pressure) LFC\u001b[39;00m\n\u001b[0;32m   (...)\u001b[0m\n\u001b[1;32m   1415\u001b[0m \u001b[38;5;124;03m      lifted profile.\u001b[39;00m\n\u001b[1;32m   1416\u001b[0m \u001b[38;5;124;03m\"\"\"\u001b[39;00m\n\u001b[1;32m   1418\u001b[0m \u001b[38;5;66;03m# Calculate parcel profile. The LCL is always calculated using real temperature.\u001b[39;00m\n\u001b[0;32m-> 1419\u001b[0m profile \u001b[38;5;241m=\u001b[39m \u001b[43mparcel_profile_with_lcl\u001b[49m\u001b[43m(\u001b[49m\u001b[43mpressure\u001b[49m\u001b[38;5;241;43m=\u001b[39;49m\u001b[43mpressure\u001b[49m\u001b[43m,\u001b[49m\n\u001b[1;32m   1420\u001b[0m \u001b[43m                                  \u001b[49m\u001b[43mtemperature\u001b[49m\u001b[38;5;241;43m=\u001b[39;49m\u001b[43mtemperature\u001b[49m\u001b[43m,\u001b[49m\n\u001b[1;32m   1421\u001b[0m \u001b[43m                                  \u001b[49m\u001b[43mdewpoint\u001b[49m\u001b[38;5;241;43m=\u001b[39;49m\u001b[43mdewpoint\u001b[49m\u001b[43m,\u001b[49m\n\u001b[1;32m   1422\u001b[0m \u001b[43m                                  \u001b[49m\u001b[43mparcel_temperature\u001b[49m\u001b[38;5;241;43m=\u001b[39;49m\u001b[43mparcel_temperature\u001b[49m\u001b[43m,\u001b[49m\n\u001b[1;32m   1423\u001b[0m \u001b[43m                                  \u001b[49m\u001b[43mparcel_pressure\u001b[49m\u001b[38;5;241;43m=\u001b[39;49m\u001b[43mparcel_pressure\u001b[49m\u001b[43m,\u001b[49m\n\u001b[1;32m   1424\u001b[0m \u001b[43m                                  \u001b[49m\u001b[43mparcel_dewpoint\u001b[49m\u001b[38;5;241;43m=\u001b[39;49m\u001b[43mparcel_dewpoint\u001b[49m\u001b[43m,\u001b[49m\n\u001b[1;32m   1425\u001b[0m \u001b[43m                                  \u001b[49m\u001b[43mvert_dim\u001b[49m\u001b[38;5;241;43m=\u001b[39;49m\u001b[43mvert_dim\u001b[49m\u001b[43m,\u001b[49m\n\u001b[1;32m   1426\u001b[0m \u001b[43m                                  \u001b[49m\u001b[43mlcl_interp\u001b[49m\u001b[38;5;241;43m=\u001b[39;49m\u001b[43mlcl_interp\u001b[49m\u001b[43m)\u001b[49m\n\u001b[1;32m   1428\u001b[0m \u001b[38;5;66;03m# Apply the virtual temperature correction?\u001b[39;00m\n\u001b[1;32m   1429\u001b[0m \u001b[38;5;66;03m# By default, MetPy does not use any virtual temperature correction.\u001b[39;00m\n\u001b[1;32m   1430\u001b[0m \u001b[38;5;28;01mif\u001b[39;00m \u001b[38;5;129;01mnot\u001b[39;00m virtual_temperature_correction:\n\u001b[1;32m   1431\u001b[0m     \u001b[38;5;66;03m# Calculate LFC and EL.\u001b[39;00m\n",
      "File \u001b[0;32m~/code/xarray_parcel/modules/parcel_functions.py:830\u001b[0m, in \u001b[0;36mparcel_profile_with_lcl\u001b[0;34m(pressure, temperature, dewpoint, parcel_pressure, parcel_temperature, parcel_dewpoint, vert_dim, lcl_interp)\u001b[0m\n\u001b[1;32m    804\u001b[0m \u001b[38;5;28;01mdef\u001b[39;00m \u001b[38;5;21mparcel_profile_with_lcl\u001b[39m(pressure, temperature, dewpoint, parcel_pressure,\n\u001b[1;32m    805\u001b[0m                             parcel_temperature, parcel_dewpoint,\n\u001b[1;32m    806\u001b[0m                             vert_dim\u001b[38;5;241m=\u001b[39m\u001b[38;5;124m'\u001b[39m\u001b[38;5;124mmodel_level_number\u001b[39m\u001b[38;5;124m'\u001b[39m,\n\u001b[1;32m    807\u001b[0m                             lcl_interp\u001b[38;5;241m=\u001b[39m\u001b[38;5;124m'\u001b[39m\u001b[38;5;124mlog\u001b[39m\u001b[38;5;124m'\u001b[39m):\n\u001b[1;32m    808\u001b[0m \u001b[38;5;250m    \u001b[39m\u001b[38;5;124;03m\"\"\"\u001b[39;00m\n\u001b[1;32m    809\u001b[0m \u001b[38;5;124;03m    Calculate temperatures of a lifted parcel, including at the lcl.\u001b[39;00m\n\u001b[1;32m    810\u001b[0m \u001b[38;5;124;03m    \u001b[39;00m\n\u001b[0;32m   (...)\u001b[0m\n\u001b[1;32m    827\u001b[0m \u001b[38;5;124;03m           temperature including at the LCL.\u001b[39;00m\n\u001b[1;32m    828\u001b[0m \u001b[38;5;124;03m    \"\"\"\u001b[39;00m\n\u001b[0;32m--> 830\u001b[0m     profile \u001b[38;5;241m=\u001b[39m \u001b[43mparcel_profile\u001b[49m\u001b[43m(\u001b[49m\u001b[43mpressure\u001b[49m\u001b[38;5;241;43m=\u001b[39;49m\u001b[43mpressure\u001b[49m\u001b[43m,\u001b[49m\n\u001b[1;32m    831\u001b[0m \u001b[43m                             \u001b[49m\u001b[43mparcel_pressure\u001b[49m\u001b[38;5;241;43m=\u001b[39;49m\u001b[43mparcel_pressure\u001b[49m\u001b[43m,\u001b[49m\n\u001b[1;32m    832\u001b[0m \u001b[43m                             \u001b[49m\u001b[43mparcel_temperature\u001b[49m\u001b[38;5;241;43m=\u001b[39;49m\u001b[43mparcel_temperature\u001b[49m\u001b[43m,\u001b[49m\n\u001b[1;32m    833\u001b[0m \u001b[43m                             \u001b[49m\u001b[43mparcel_dewpoint\u001b[49m\u001b[38;5;241;43m=\u001b[39;49m\u001b[43mparcel_dewpoint\u001b[49m\u001b[43m,\u001b[49m\n\u001b[1;32m    834\u001b[0m \u001b[43m                             \u001b[49m\u001b[43mvert_dim\u001b[49m\u001b[38;5;241;43m=\u001b[39;49m\u001b[43mvert_dim\u001b[49m\u001b[43m)\u001b[49m\n\u001b[1;32m    836\u001b[0m     \u001b[38;5;66;03m# Calculate environmental virtual temperatures.\u001b[39;00m\n\u001b[1;32m    837\u001b[0m     mix_ratio \u001b[38;5;241m=\u001b[39m mixing_ratio(temperature\u001b[38;5;241m=\u001b[39mtemperature, \n\u001b[1;32m    838\u001b[0m                              dewpoint\u001b[38;5;241m=\u001b[39mdewpoint,\n\u001b[1;32m    839\u001b[0m                              pressure\u001b[38;5;241m=\u001b[39mpressure)\n",
      "File \u001b[0;32m~/code/xarray_parcel/modules/parcel_functions.py:734\u001b[0m, in \u001b[0;36mparcel_profile\u001b[0;34m(pressure, parcel_pressure, parcel_temperature, parcel_dewpoint, vert_dim)\u001b[0m\n\u001b[1;32m    731\u001b[0m out[\u001b[38;5;124m'\u001b[39m\u001b[38;5;124mpressure\u001b[39m\u001b[38;5;124m'\u001b[39m] \u001b[38;5;241m=\u001b[39m pressure\n\u001b[1;32m    733\u001b[0m \u001b[38;5;66;03m# Find the LCL for the selected parcel.\u001b[39;00m\n\u001b[0;32m--> 734\u001b[0m out \u001b[38;5;241m=\u001b[39m xarray\u001b[38;5;241m.\u001b[39mmerge([out, \u001b[43mlcl\u001b[49m\u001b[43m(\u001b[49m\u001b[43mparcel_pressure\u001b[49m\u001b[38;5;241;43m=\u001b[39;49m\u001b[43mparcel_pressure\u001b[49m\u001b[43m,\u001b[49m\u001b[43m \u001b[49m\n\u001b[1;32m    735\u001b[0m \u001b[43m                             \u001b[49m\u001b[43mparcel_temperature\u001b[49m\u001b[38;5;241;43m=\u001b[39;49m\u001b[43mparcel_temperature\u001b[49m\u001b[43m,\u001b[49m\u001b[43m \u001b[49m\n\u001b[1;32m    736\u001b[0m \u001b[43m                             \u001b[49m\u001b[43mparcel_dewpoint\u001b[49m\u001b[38;5;241;43m=\u001b[39;49m\u001b[43mparcel_dewpoint\u001b[49m\u001b[43m)\u001b[49m])\n\u001b[1;32m    738\u001b[0m \u001b[38;5;66;03m# Parcels are raised along the dry adiabats from the starting\u001b[39;00m\n\u001b[1;32m    739\u001b[0m \u001b[38;5;66;03m# point to the LCL.\u001b[39;00m\n\u001b[1;32m    740\u001b[0m below_lcl \u001b[38;5;241m=\u001b[39m dry_lapse(pressure\u001b[38;5;241m=\u001b[39mpressure, \n\u001b[1;32m    741\u001b[0m                       parcel_temperature\u001b[38;5;241m=\u001b[39mparcel_temperature, \n\u001b[1;32m    742\u001b[0m                       parcel_pressure\u001b[38;5;241m=\u001b[39mparcel_pressure,\n\u001b[1;32m    743\u001b[0m                       vert_dim\u001b[38;5;241m=\u001b[39mvert_dim)\n",
      "File \u001b[0;32m~/code/xarray_parcel/modules/parcel_functions.py:665\u001b[0m, in \u001b[0;36mlcl\u001b[0;34m(parcel_pressure, parcel_temperature, parcel_dewpoint)\u001b[0m\n\u001b[1;32m    662\u001b[0m     \u001b[38;5;28;01mreturn\u001b[39;00m(res)\n\u001b[1;32m    664\u001b[0m \u001b[38;5;66;03m# Apply the LCL function one block (chunk) at a time, in parallel.\u001b[39;00m\n\u001b[0;32m--> 665\u001b[0m out \u001b[38;5;241m=\u001b[39m \u001b[43mobj\u001b[49m\u001b[38;5;241;43m.\u001b[39;49m\u001b[43mmap_blocks\u001b[49m\u001b[43m(\u001b[49m\u001b[43mlcl_block\u001b[49m\u001b[43m)\u001b[49m\n\u001b[1;32m    667\u001b[0m out\u001b[38;5;241m.\u001b[39mlcl_pressure\u001b[38;5;241m.\u001b[39mattrs[\u001b[38;5;124m'\u001b[39m\u001b[38;5;124mlong_name\u001b[39m\u001b[38;5;124m'\u001b[39m] \u001b[38;5;241m=\u001b[39m (\u001b[38;5;124m'\u001b[39m\u001b[38;5;124mLifting condensation \u001b[39m\u001b[38;5;124m'\u001b[39m \u001b[38;5;241m+\u001b[39m\n\u001b[1;32m    668\u001b[0m                                        \u001b[38;5;124m'\u001b[39m\u001b[38;5;124mlevel pressure\u001b[39m\u001b[38;5;124m'\u001b[39m)\n\u001b[1;32m    669\u001b[0m out\u001b[38;5;241m.\u001b[39mlcl_pressure\u001b[38;5;241m.\u001b[39mattrs[\u001b[38;5;124m'\u001b[39m\u001b[38;5;124munits\u001b[39m\u001b[38;5;124m'\u001b[39m] \u001b[38;5;241m=\u001b[39m \u001b[38;5;124m'\u001b[39m\u001b[38;5;124mhPa\u001b[39m\u001b[38;5;124m'\u001b[39m\n",
      "File \u001b[0;32m~/.conda/envs/wb/lib/python3.10/site-packages/xarray/core/dataset.py:8735\u001b[0m, in \u001b[0;36mDataset.map_blocks\u001b[0;34m(self, func, args, kwargs, template)\u001b[0m\n\u001b[1;32m   8633\u001b[0m \u001b[38;5;250m\u001b[39m\u001b[38;5;124;03m\"\"\"\u001b[39;00m\n\u001b[1;32m   8634\u001b[0m \u001b[38;5;124;03mApply a function to each block of this Dataset.\u001b[39;00m\n\u001b[1;32m   8635\u001b[0m \n\u001b[0;32m   (...)\u001b[0m\n\u001b[1;32m   8731\u001b[0m \u001b[38;5;124;03m    a        (time) float64 dask.array<chunksize=(24,), meta=np.ndarray>\u001b[39;00m\n\u001b[1;32m   8732\u001b[0m \u001b[38;5;124;03m\"\"\"\u001b[39;00m\n\u001b[1;32m   8733\u001b[0m \u001b[38;5;28;01mfrom\u001b[39;00m \u001b[38;5;21;01mxarray\u001b[39;00m\u001b[38;5;21;01m.\u001b[39;00m\u001b[38;5;21;01mcore\u001b[39;00m\u001b[38;5;21;01m.\u001b[39;00m\u001b[38;5;21;01mparallel\u001b[39;00m \u001b[38;5;28;01mimport\u001b[39;00m map_blocks\n\u001b[0;32m-> 8735\u001b[0m \u001b[38;5;28;01mreturn\u001b[39;00m \u001b[43mmap_blocks\u001b[49m\u001b[43m(\u001b[49m\u001b[43mfunc\u001b[49m\u001b[43m,\u001b[49m\u001b[43m \u001b[49m\u001b[38;5;28;43mself\u001b[39;49m\u001b[43m,\u001b[49m\u001b[43m \u001b[49m\u001b[43margs\u001b[49m\u001b[43m,\u001b[49m\u001b[43m \u001b[49m\u001b[43mkwargs\u001b[49m\u001b[43m,\u001b[49m\u001b[43m \u001b[49m\u001b[43mtemplate\u001b[49m\u001b[43m)\u001b[49m\n",
      "File \u001b[0;32m~/.conda/envs/wb/lib/python3.10/site-packages/xarray/core/parallel.py:361\u001b[0m, in \u001b[0;36mmap_blocks\u001b[0;34m(func, obj, args, kwargs, template)\u001b[0m\n\u001b[1;32m    357\u001b[0m     input_indexes\u001b[38;5;241m.\u001b[39mupdate(arg\u001b[38;5;241m.\u001b[39m_indexes)\n\u001b[1;32m    359\u001b[0m \u001b[38;5;28;01mif\u001b[39;00m template \u001b[38;5;129;01mis\u001b[39;00m \u001b[38;5;28;01mNone\u001b[39;00m:\n\u001b[1;32m    360\u001b[0m     \u001b[38;5;66;03m# infer template by providing zero-shaped arrays\u001b[39;00m\n\u001b[0;32m--> 361\u001b[0m     template \u001b[38;5;241m=\u001b[39m \u001b[43minfer_template\u001b[49m\u001b[43m(\u001b[49m\u001b[43mfunc\u001b[49m\u001b[43m,\u001b[49m\u001b[43m \u001b[49m\u001b[43maligned\u001b[49m\u001b[43m[\u001b[49m\u001b[38;5;241;43m0\u001b[39;49m\u001b[43m]\u001b[49m\u001b[43m,\u001b[49m\u001b[43m \u001b[49m\u001b[38;5;241;43m*\u001b[39;49m\u001b[43margs\u001b[49m\u001b[43m,\u001b[49m\u001b[43m \u001b[49m\u001b[38;5;241;43m*\u001b[39;49m\u001b[38;5;241;43m*\u001b[39;49m\u001b[43mkwargs\u001b[49m\u001b[43m)\u001b[49m\n\u001b[1;32m    362\u001b[0m     template_indexes \u001b[38;5;241m=\u001b[39m \u001b[38;5;28mset\u001b[39m(template\u001b[38;5;241m.\u001b[39m_indexes)\n\u001b[1;32m    363\u001b[0m     preserved_indexes \u001b[38;5;241m=\u001b[39m template_indexes \u001b[38;5;241m&\u001b[39m \u001b[38;5;28mset\u001b[39m(input_indexes)\n",
      "File \u001b[0;32m~/.conda/envs/wb/lib/python3.10/site-packages/xarray/core/parallel.py:116\u001b[0m, in \u001b[0;36minfer_template\u001b[0;34m(func, obj, *args, **kwargs)\u001b[0m\n\u001b[1;32m    114\u001b[0m     template \u001b[38;5;241m=\u001b[39m func(\u001b[38;5;241m*\u001b[39mmeta_args, \u001b[38;5;241m*\u001b[39m\u001b[38;5;241m*\u001b[39mkwargs)\n\u001b[1;32m    115\u001b[0m \u001b[38;5;28;01mexcept\u001b[39;00m \u001b[38;5;167;01mException\u001b[39;00m \u001b[38;5;28;01mas\u001b[39;00m e:\n\u001b[0;32m--> 116\u001b[0m     \u001b[38;5;28;01mraise\u001b[39;00m \u001b[38;5;167;01mException\u001b[39;00m(\n\u001b[1;32m    117\u001b[0m         \u001b[38;5;124m\"\u001b[39m\u001b[38;5;124mCannot infer object returned from running user provided function. \u001b[39m\u001b[38;5;124m\"\u001b[39m\n\u001b[1;32m    118\u001b[0m         \u001b[38;5;124m\"\u001b[39m\u001b[38;5;124mPlease supply the \u001b[39m\u001b[38;5;124m'\u001b[39m\u001b[38;5;124mtemplate\u001b[39m\u001b[38;5;124m'\u001b[39m\u001b[38;5;124m kwarg to map_blocks.\u001b[39m\u001b[38;5;124m\"\u001b[39m\n\u001b[1;32m    119\u001b[0m     ) \u001b[38;5;28;01mfrom\u001b[39;00m \u001b[38;5;21;01me\u001b[39;00m\n\u001b[1;32m    121\u001b[0m \u001b[38;5;28;01mif\u001b[39;00m \u001b[38;5;129;01mnot\u001b[39;00m \u001b[38;5;28misinstance\u001b[39m(template, (Dataset, DataArray)):\n\u001b[1;32m    122\u001b[0m     \u001b[38;5;28;01mraise\u001b[39;00m \u001b[38;5;167;01mTypeError\u001b[39;00m(\n\u001b[1;32m    123\u001b[0m         \u001b[38;5;124m\"\u001b[39m\u001b[38;5;124mFunction must return an xarray DataArray or Dataset. Instead it returned \u001b[39m\u001b[38;5;124m\"\u001b[39m\n\u001b[1;32m    124\u001b[0m         \u001b[38;5;124mf\u001b[39m\u001b[38;5;124m\"\u001b[39m\u001b[38;5;132;01m{\u001b[39;00m\u001b[38;5;28mtype\u001b[39m(template)\u001b[38;5;132;01m}\u001b[39;00m\u001b[38;5;124m\"\u001b[39m\n\u001b[1;32m    125\u001b[0m     )\n",
      "\u001b[0;31mException\u001b[0m: Cannot infer object returned from running user provided function. Please supply the 'template' kwarg to map_blocks."
     ]
    }
   ],
   "source": [
    "hres='gs://weatherbench2/datasets/hres/2016-2022-0012-1440x721.zarr'\n",
    "era5='gs://weatherbench2/datasets/era5/1959-2022-6h-1440x721.zarr'\n",
    "pangu='gs://weatherbench2/datasets/pangu/2018-2022_0012_0p25.zarr'\n",
    "datasets=[era5,hres,pangu]\n",
    "\n",
    "for dataset in datasets[:1]:\n",
    "    print(dataset)\n",
    "    xr_dataset=xr.open_zarr(dataset)\n",
    "#.to(units.mm))\n",
    "    xr_dataset=xr_dataset.sel(time=xr_dataset.time.dt.year.isin([2020]))\n",
    "    xr_dataset=xr_dataset.sel(time=xr_dataset.time.dt.month.isin([7]))#np.arange(3,10)))\n",
    "    xr_dataset=xr_dataset.sel(time=xr_dataset.time.dt.day.isin([1]))\n",
    "    print(xr_dataset.time)\n",
    "    plevel=xr_dataset.level\n",
    "    tlevel=xr_dataset.temperature\n",
    "    qlevel=xr_dataset.specific_humidity\n",
    "    dplevel=metpy.calc.dewpoint_from_specific_humidity(plevel* units('hPa'), tlevel* units('K'), qlevel* units('kg/kg'))#.magnitude\n",
    "    dplevel.data=dplevel.data.to(units.K).magnitude\n",
    "\n",
    "    psurf=xr_dataset.mean_sea_level_pressure\n",
    "    tsurf=xr_dataset['2m_temperature']\n",
    "    qsurf=xr_dataset.specific_humidity.isel(level=-1)\n",
    "    dpsurf=metpy.calc.dewpoint_from_specific_humidity(psurf* units('hPa'), tsurf* units('K'), qsurf* units('kg/kg'))#.magnitude\n",
    "    dpsurf.data=dpsurf.data.to(units.K).magnitude\n",
    "    #dpsurf=dpsurf.magnitude\n",
    "    #qsurf=xr_dataset.specific_humitidy.interp(level=psurf)\n",
    "\n",
    "    cape_cin, array = parcel.cape_cin(plevel, tlevel, dplevel, tsurf, psurf,\n",
    "             dpsurf, vert_dim='level')"
   ]
  },
  {
   "cell_type": "code",
   "execution_count": 12,
   "metadata": {},
   "outputs": [
    {
     "ename": "Exception",
     "evalue": "Cannot infer object returned from running user provided function. Please supply the 'template' kwarg to map_blocks.",
     "output_type": "error",
     "traceback": [
      "\u001b[0;31m---------------------------------------------------------------------------\u001b[0m",
      "\u001b[0;31mValueError\u001b[0m                                Traceback (most recent call last)",
      "File \u001b[0;32m~/.conda/envs/wb/lib/python3.10/site-packages/xarray/core/parallel.py:114\u001b[0m, in \u001b[0;36minfer_template\u001b[0;34m(func, obj, *args, **kwargs)\u001b[0m\n\u001b[1;32m    113\u001b[0m \u001b[38;5;28;01mtry\u001b[39;00m:\n\u001b[0;32m--> 114\u001b[0m     template \u001b[38;5;241m=\u001b[39m \u001b[43mfunc\u001b[49m\u001b[43m(\u001b[49m\u001b[38;5;241;43m*\u001b[39;49m\u001b[43mmeta_args\u001b[49m\u001b[43m,\u001b[49m\u001b[43m \u001b[49m\u001b[38;5;241;43m*\u001b[39;49m\u001b[38;5;241;43m*\u001b[39;49m\u001b[43mkwargs\u001b[49m\u001b[43m)\u001b[49m\n\u001b[1;32m    115\u001b[0m \u001b[38;5;28;01mexcept\u001b[39;00m \u001b[38;5;167;01mException\u001b[39;00m \u001b[38;5;28;01mas\u001b[39;00m e:\n",
      "File \u001b[0;32m~/code/xarray_parcel/modules/parcel_functions.py:642\u001b[0m, in \u001b[0;36mlcl.<locals>.lcl_block\u001b[0;34m(obj)\u001b[0m\n\u001b[1;32m    641\u001b[0m \u001b[38;5;28;01mdef\u001b[39;00m \u001b[38;5;21mlcl_block\u001b[39m(obj):\n\u001b[0;32m--> 642\u001b[0m     press_lcl, temp_lcl \u001b[38;5;241m=\u001b[39m \u001b[43mmetpy\u001b[49m\u001b[38;5;241;43m.\u001b[39;49m\u001b[43mcalc\u001b[49m\u001b[38;5;241;43m.\u001b[39;49m\u001b[43mlcl\u001b[49m\u001b[43m(\u001b[49m\u001b[43mpressure\u001b[49m\u001b[38;5;241;43m=\u001b[39;49m\u001b[43mobj\u001b[49m\u001b[38;5;241;43m.\u001b[39;49m\u001b[43mparcel_pressure\u001b[49m\u001b[43m,\u001b[49m\n\u001b[1;32m    643\u001b[0m \u001b[43m                                         \u001b[49m\u001b[43mtemperature\u001b[49m\u001b[38;5;241;43m=\u001b[39;49m\u001b[43mobj\u001b[49m\u001b[38;5;241;43m.\u001b[39;49m\u001b[43mparcel_temperature\u001b[49m\u001b[43m,\u001b[49m\n\u001b[1;32m    644\u001b[0m \u001b[43m                                         \u001b[49m\u001b[43mdewpoint\u001b[49m\u001b[38;5;241;43m=\u001b[39;49m\u001b[43mobj\u001b[49m\u001b[38;5;241;43m.\u001b[39;49m\u001b[43mparcel_dewpoint\u001b[49m\u001b[43m)\u001b[49m\n\u001b[1;32m    646\u001b[0m     \u001b[38;5;28;01massert\u001b[39;00m np\u001b[38;5;241m.\u001b[39mall(obj\u001b[38;5;241m.\u001b[39mparcel_pressure\u001b[38;5;241m.\u001b[39mdims \u001b[38;5;241m==\u001b[39m obj\u001b[38;5;241m.\u001b[39mparcel_temperature\u001b[38;5;241m.\u001b[39mdims)\n",
      "File \u001b[0;32m~/.conda/envs/wb/lib/python3.10/site-packages/metpy/xarray.py:1328\u001b[0m, in \u001b[0;36mpreprocess_and_wrap.<locals>.decorator.<locals>.wrapper\u001b[0;34m(*args, **kwargs)\u001b[0m\n\u001b[1;32m   1327\u001b[0m \u001b[38;5;66;03m# Evaluate inner calculation\u001b[39;00m\n\u001b[0;32m-> 1328\u001b[0m result \u001b[38;5;241m=\u001b[39m \u001b[43mfunc\u001b[49m\u001b[43m(\u001b[49m\u001b[38;5;241;43m*\u001b[39;49m\u001b[43mbound_args\u001b[49m\u001b[38;5;241;43m.\u001b[39;49m\u001b[43margs\u001b[49m\u001b[43m,\u001b[49m\u001b[43m \u001b[49m\u001b[38;5;241;43m*\u001b[39;49m\u001b[38;5;241;43m*\u001b[39;49m\u001b[43mbound_args\u001b[49m\u001b[38;5;241;43m.\u001b[39;49m\u001b[43mkwargs\u001b[49m\u001b[43m)\u001b[49m\n\u001b[1;32m   1330\u001b[0m \u001b[38;5;66;03m# Wrap output based on match and match_unit\u001b[39;00m\n",
      "File \u001b[0;32m~/.conda/envs/wb/lib/python3.10/site-packages/metpy/units.py:343\u001b[0m, in \u001b[0;36mprocess_units.<locals>.dec.<locals>.wrapper\u001b[0;34m(*args, **kwargs)\u001b[0m\n\u001b[1;32m    341\u001b[0m \u001b[38;5;129m@functools\u001b[39m\u001b[38;5;241m.\u001b[39mwraps(func)\n\u001b[1;32m    342\u001b[0m \u001b[38;5;28;01mdef\u001b[39;00m \u001b[38;5;21mwrapper\u001b[39m(\u001b[38;5;241m*\u001b[39margs, \u001b[38;5;241m*\u001b[39m\u001b[38;5;241m*\u001b[39mkwargs):\n\u001b[0;32m--> 343\u001b[0m     bound_args \u001b[38;5;241m=\u001b[39m \u001b[43m_check_units_inner_helper\u001b[49m\u001b[43m(\u001b[49m\u001b[43mfunc\u001b[49m\u001b[43m,\u001b[49m\u001b[43m \u001b[49m\u001b[43msig\u001b[49m\u001b[43m,\u001b[49m\u001b[43m \u001b[49m\u001b[43mdefaults\u001b[49m\u001b[43m,\u001b[49m\u001b[43m \u001b[49m\u001b[43mdims\u001b[49m\u001b[43m,\u001b[49m\u001b[43m \u001b[49m\u001b[38;5;241;43m*\u001b[39;49m\u001b[43margs\u001b[49m\u001b[43m,\u001b[49m\u001b[43m \u001b[49m\u001b[38;5;241;43m*\u001b[39;49m\u001b[38;5;241;43m*\u001b[39;49m\u001b[43mkwargs\u001b[49m\u001b[43m)\u001b[49m\n\u001b[1;32m    345\u001b[0m     \u001b[38;5;66;03m# Determine unit(s) with which to wrap output (first, since we mutate the bound\u001b[39;00m\n\u001b[1;32m    346\u001b[0m     \u001b[38;5;66;03m# args)\u001b[39;00m\n",
      "File \u001b[0;32m~/.conda/envs/wb/lib/python3.10/site-packages/metpy/units.py:311\u001b[0m, in \u001b[0;36m_check_units_inner_helper\u001b[0;34m(func, sig, defaults, dims, *args, **kwargs)\u001b[0m\n\u001b[1;32m    307\u001b[0m             msg \u001b[38;5;241m=\u001b[39m (\n\u001b[1;32m    308\u001b[0m                 \u001b[38;5;124mf\u001b[39m\u001b[38;5;124m'\u001b[39m\u001b[38;5;124mThis function changed in \u001b[39m\u001b[38;5;132;01m{\u001b[39;00mchanged_version\u001b[38;5;132;01m}\u001b[39;00m\u001b[38;5;124m--double check \u001b[39m\u001b[38;5;124m'\u001b[39m\n\u001b[1;32m    309\u001b[0m                 \u001b[38;5;124m'\u001b[39m\u001b[38;5;124mthat the function is being called properly.\u001b[39m\u001b[38;5;130;01m\\n\u001b[39;00m\u001b[38;5;124m'\u001b[39m\n\u001b[1;32m    310\u001b[0m             ) \u001b[38;5;241m+\u001b[39m msg\n\u001b[0;32m--> 311\u001b[0m     \u001b[38;5;28;01mraise\u001b[39;00m \u001b[38;5;167;01mValueError\u001b[39;00m(msg)\n\u001b[1;32m    313\u001b[0m \u001b[38;5;66;03m# Return the bound arguments for reuse\u001b[39;00m\n",
      "\u001b[0;31mValueError\u001b[0m: This function changed in 1.0--double check that the function is being called properly.\n`lcl` given arguments with incorrect units: `dewpoint` requires \"[temperature]\" but given \"dimensionless\"",
      "\nThe above exception was the direct cause of the following exception:\n",
      "\u001b[0;31mException\u001b[0m                                 Traceback (most recent call last)",
      "Cell \u001b[0;32mIn[12], line 1\u001b[0m\n\u001b[0;32m----> 1\u001b[0m cape_cin, array \u001b[38;5;241m=\u001b[39m \u001b[43mparcel\u001b[49m\u001b[38;5;241;43m.\u001b[39;49m\u001b[43mcape_cin\u001b[49m\u001b[43m(\u001b[49m\u001b[43mplevel\u001b[49m\u001b[43m,\u001b[49m\u001b[43m \u001b[49m\u001b[43mtlevel\u001b[49m\u001b[43m,\u001b[49m\u001b[43m \u001b[49m\u001b[43mdplevel\u001b[49m\u001b[43m,\u001b[49m\u001b[43m \u001b[49m\u001b[43mtsurf\u001b[49m\u001b[43m,\u001b[49m\u001b[43m \u001b[49m\u001b[43mpsurf\u001b[49m\u001b[43m,\u001b[49m\n\u001b[1;32m      2\u001b[0m \u001b[43m         \u001b[49m\u001b[43mdpsurf\u001b[49m\u001b[43m,\u001b[49m\u001b[43m \u001b[49m\u001b[43mvert_dim\u001b[49m\u001b[38;5;241;43m=\u001b[39;49m\u001b[38;5;124;43m'\u001b[39;49m\u001b[38;5;124;43mlevel\u001b[39;49m\u001b[38;5;124;43m'\u001b[39;49m\u001b[43m)\u001b[49m\n",
      "File \u001b[0;32m~/code/xarray_parcel/modules/parcel_functions.py:1419\u001b[0m, in \u001b[0;36mcape_cin\u001b[0;34m(pressure, temperature, dewpoint, parcel_temperature, parcel_pressure, parcel_dewpoint, vert_dim, virtual_temperature_correction, lcl_interp, **kwargs)\u001b[0m\n\u001b[1;32m   1392\u001b[0m \u001b[38;5;250m\u001b[39m\u001b[38;5;124;03m\"\"\"\u001b[39;00m\n\u001b[1;32m   1393\u001b[0m \u001b[38;5;124;03mCalculate CAPE and CIN; wraps finding of LFC and parcel profile\u001b[39;00m\n\u001b[1;32m   1394\u001b[0m \u001b[38;5;124;03mand call to cape_cin_base. Uses the bottom (highest-pressure) LFC\u001b[39;00m\n\u001b[0;32m   (...)\u001b[0m\n\u001b[1;32m   1415\u001b[0m \u001b[38;5;124;03m      lifted profile.\u001b[39;00m\n\u001b[1;32m   1416\u001b[0m \u001b[38;5;124;03m\"\"\"\u001b[39;00m\n\u001b[1;32m   1418\u001b[0m \u001b[38;5;66;03m# Calculate parcel profile. The LCL is always calculated using real temperature.\u001b[39;00m\n\u001b[0;32m-> 1419\u001b[0m profile \u001b[38;5;241m=\u001b[39m \u001b[43mparcel_profile_with_lcl\u001b[49m\u001b[43m(\u001b[49m\u001b[43mpressure\u001b[49m\u001b[38;5;241;43m=\u001b[39;49m\u001b[43mpressure\u001b[49m\u001b[43m,\u001b[49m\n\u001b[1;32m   1420\u001b[0m \u001b[43m                                  \u001b[49m\u001b[43mtemperature\u001b[49m\u001b[38;5;241;43m=\u001b[39;49m\u001b[43mtemperature\u001b[49m\u001b[43m,\u001b[49m\n\u001b[1;32m   1421\u001b[0m \u001b[43m                                  \u001b[49m\u001b[43mdewpoint\u001b[49m\u001b[38;5;241;43m=\u001b[39;49m\u001b[43mdewpoint\u001b[49m\u001b[43m,\u001b[49m\n\u001b[1;32m   1422\u001b[0m \u001b[43m                                  \u001b[49m\u001b[43mparcel_temperature\u001b[49m\u001b[38;5;241;43m=\u001b[39;49m\u001b[43mparcel_temperature\u001b[49m\u001b[43m,\u001b[49m\n\u001b[1;32m   1423\u001b[0m \u001b[43m                                  \u001b[49m\u001b[43mparcel_pressure\u001b[49m\u001b[38;5;241;43m=\u001b[39;49m\u001b[43mparcel_pressure\u001b[49m\u001b[43m,\u001b[49m\n\u001b[1;32m   1424\u001b[0m \u001b[43m                                  \u001b[49m\u001b[43mparcel_dewpoint\u001b[49m\u001b[38;5;241;43m=\u001b[39;49m\u001b[43mparcel_dewpoint\u001b[49m\u001b[43m,\u001b[49m\n\u001b[1;32m   1425\u001b[0m \u001b[43m                                  \u001b[49m\u001b[43mvert_dim\u001b[49m\u001b[38;5;241;43m=\u001b[39;49m\u001b[43mvert_dim\u001b[49m\u001b[43m,\u001b[49m\n\u001b[1;32m   1426\u001b[0m \u001b[43m                                  \u001b[49m\u001b[43mlcl_interp\u001b[49m\u001b[38;5;241;43m=\u001b[39;49m\u001b[43mlcl_interp\u001b[49m\u001b[43m)\u001b[49m\n\u001b[1;32m   1428\u001b[0m \u001b[38;5;66;03m# Apply the virtual temperature correction?\u001b[39;00m\n\u001b[1;32m   1429\u001b[0m \u001b[38;5;66;03m# By default, MetPy does not use any virtual temperature correction.\u001b[39;00m\n\u001b[1;32m   1430\u001b[0m \u001b[38;5;28;01mif\u001b[39;00m \u001b[38;5;129;01mnot\u001b[39;00m virtual_temperature_correction:\n\u001b[1;32m   1431\u001b[0m     \u001b[38;5;66;03m# Calculate LFC and EL.\u001b[39;00m\n",
      "File \u001b[0;32m~/code/xarray_parcel/modules/parcel_functions.py:830\u001b[0m, in \u001b[0;36mparcel_profile_with_lcl\u001b[0;34m(pressure, temperature, dewpoint, parcel_pressure, parcel_temperature, parcel_dewpoint, vert_dim, lcl_interp)\u001b[0m\n\u001b[1;32m    804\u001b[0m \u001b[38;5;28;01mdef\u001b[39;00m \u001b[38;5;21mparcel_profile_with_lcl\u001b[39m(pressure, temperature, dewpoint, parcel_pressure,\n\u001b[1;32m    805\u001b[0m                             parcel_temperature, parcel_dewpoint,\n\u001b[1;32m    806\u001b[0m                             vert_dim\u001b[38;5;241m=\u001b[39m\u001b[38;5;124m'\u001b[39m\u001b[38;5;124mmodel_level_number\u001b[39m\u001b[38;5;124m'\u001b[39m,\n\u001b[1;32m    807\u001b[0m                             lcl_interp\u001b[38;5;241m=\u001b[39m\u001b[38;5;124m'\u001b[39m\u001b[38;5;124mlog\u001b[39m\u001b[38;5;124m'\u001b[39m):\n\u001b[1;32m    808\u001b[0m \u001b[38;5;250m    \u001b[39m\u001b[38;5;124;03m\"\"\"\u001b[39;00m\n\u001b[1;32m    809\u001b[0m \u001b[38;5;124;03m    Calculate temperatures of a lifted parcel, including at the lcl.\u001b[39;00m\n\u001b[1;32m    810\u001b[0m \u001b[38;5;124;03m    \u001b[39;00m\n\u001b[0;32m   (...)\u001b[0m\n\u001b[1;32m    827\u001b[0m \u001b[38;5;124;03m           temperature including at the LCL.\u001b[39;00m\n\u001b[1;32m    828\u001b[0m \u001b[38;5;124;03m    \"\"\"\u001b[39;00m\n\u001b[0;32m--> 830\u001b[0m     profile \u001b[38;5;241m=\u001b[39m \u001b[43mparcel_profile\u001b[49m\u001b[43m(\u001b[49m\u001b[43mpressure\u001b[49m\u001b[38;5;241;43m=\u001b[39;49m\u001b[43mpressure\u001b[49m\u001b[43m,\u001b[49m\n\u001b[1;32m    831\u001b[0m \u001b[43m                             \u001b[49m\u001b[43mparcel_pressure\u001b[49m\u001b[38;5;241;43m=\u001b[39;49m\u001b[43mparcel_pressure\u001b[49m\u001b[43m,\u001b[49m\n\u001b[1;32m    832\u001b[0m \u001b[43m                             \u001b[49m\u001b[43mparcel_temperature\u001b[49m\u001b[38;5;241;43m=\u001b[39;49m\u001b[43mparcel_temperature\u001b[49m\u001b[43m,\u001b[49m\n\u001b[1;32m    833\u001b[0m \u001b[43m                             \u001b[49m\u001b[43mparcel_dewpoint\u001b[49m\u001b[38;5;241;43m=\u001b[39;49m\u001b[43mparcel_dewpoint\u001b[49m\u001b[43m,\u001b[49m\n\u001b[1;32m    834\u001b[0m \u001b[43m                             \u001b[49m\u001b[43mvert_dim\u001b[49m\u001b[38;5;241;43m=\u001b[39;49m\u001b[43mvert_dim\u001b[49m\u001b[43m)\u001b[49m\n\u001b[1;32m    836\u001b[0m     \u001b[38;5;66;03m# Calculate environmental virtual temperatures.\u001b[39;00m\n\u001b[1;32m    837\u001b[0m     mix_ratio \u001b[38;5;241m=\u001b[39m mixing_ratio(temperature\u001b[38;5;241m=\u001b[39mtemperature, \n\u001b[1;32m    838\u001b[0m                              dewpoint\u001b[38;5;241m=\u001b[39mdewpoint,\n\u001b[1;32m    839\u001b[0m                              pressure\u001b[38;5;241m=\u001b[39mpressure)\n",
      "File \u001b[0;32m~/code/xarray_parcel/modules/parcel_functions.py:734\u001b[0m, in \u001b[0;36mparcel_profile\u001b[0;34m(pressure, parcel_pressure, parcel_temperature, parcel_dewpoint, vert_dim)\u001b[0m\n\u001b[1;32m    731\u001b[0m out[\u001b[38;5;124m'\u001b[39m\u001b[38;5;124mpressure\u001b[39m\u001b[38;5;124m'\u001b[39m] \u001b[38;5;241m=\u001b[39m pressure\n\u001b[1;32m    733\u001b[0m \u001b[38;5;66;03m# Find the LCL for the selected parcel.\u001b[39;00m\n\u001b[0;32m--> 734\u001b[0m out \u001b[38;5;241m=\u001b[39m xarray\u001b[38;5;241m.\u001b[39mmerge([out, \u001b[43mlcl\u001b[49m\u001b[43m(\u001b[49m\u001b[43mparcel_pressure\u001b[49m\u001b[38;5;241;43m=\u001b[39;49m\u001b[43mparcel_pressure\u001b[49m\u001b[43m,\u001b[49m\u001b[43m \u001b[49m\n\u001b[1;32m    735\u001b[0m \u001b[43m                             \u001b[49m\u001b[43mparcel_temperature\u001b[49m\u001b[38;5;241;43m=\u001b[39;49m\u001b[43mparcel_temperature\u001b[49m\u001b[43m,\u001b[49m\u001b[43m \u001b[49m\n\u001b[1;32m    736\u001b[0m \u001b[43m                             \u001b[49m\u001b[43mparcel_dewpoint\u001b[49m\u001b[38;5;241;43m=\u001b[39;49m\u001b[43mparcel_dewpoint\u001b[49m\u001b[43m)\u001b[49m])\n\u001b[1;32m    738\u001b[0m \u001b[38;5;66;03m# Parcels are raised along the dry adiabats from the starting\u001b[39;00m\n\u001b[1;32m    739\u001b[0m \u001b[38;5;66;03m# point to the LCL.\u001b[39;00m\n\u001b[1;32m    740\u001b[0m below_lcl \u001b[38;5;241m=\u001b[39m dry_lapse(pressure\u001b[38;5;241m=\u001b[39mpressure, \n\u001b[1;32m    741\u001b[0m                       parcel_temperature\u001b[38;5;241m=\u001b[39mparcel_temperature, \n\u001b[1;32m    742\u001b[0m                       parcel_pressure\u001b[38;5;241m=\u001b[39mparcel_pressure,\n\u001b[1;32m    743\u001b[0m                       vert_dim\u001b[38;5;241m=\u001b[39mvert_dim)\n",
      "File \u001b[0;32m~/code/xarray_parcel/modules/parcel_functions.py:665\u001b[0m, in \u001b[0;36mlcl\u001b[0;34m(parcel_pressure, parcel_temperature, parcel_dewpoint)\u001b[0m\n\u001b[1;32m    662\u001b[0m     \u001b[38;5;28;01mreturn\u001b[39;00m(res)\n\u001b[1;32m    664\u001b[0m \u001b[38;5;66;03m# Apply the LCL function one block (chunk) at a time, in parallel.\u001b[39;00m\n\u001b[0;32m--> 665\u001b[0m out \u001b[38;5;241m=\u001b[39m \u001b[43mobj\u001b[49m\u001b[38;5;241;43m.\u001b[39;49m\u001b[43mmap_blocks\u001b[49m\u001b[43m(\u001b[49m\u001b[43mlcl_block\u001b[49m\u001b[43m)\u001b[49m\n\u001b[1;32m    667\u001b[0m out\u001b[38;5;241m.\u001b[39mlcl_pressure\u001b[38;5;241m.\u001b[39mattrs[\u001b[38;5;124m'\u001b[39m\u001b[38;5;124mlong_name\u001b[39m\u001b[38;5;124m'\u001b[39m] \u001b[38;5;241m=\u001b[39m (\u001b[38;5;124m'\u001b[39m\u001b[38;5;124mLifting condensation \u001b[39m\u001b[38;5;124m'\u001b[39m \u001b[38;5;241m+\u001b[39m\n\u001b[1;32m    668\u001b[0m                                        \u001b[38;5;124m'\u001b[39m\u001b[38;5;124mlevel pressure\u001b[39m\u001b[38;5;124m'\u001b[39m)\n\u001b[1;32m    669\u001b[0m out\u001b[38;5;241m.\u001b[39mlcl_pressure\u001b[38;5;241m.\u001b[39mattrs[\u001b[38;5;124m'\u001b[39m\u001b[38;5;124munits\u001b[39m\u001b[38;5;124m'\u001b[39m] \u001b[38;5;241m=\u001b[39m \u001b[38;5;124m'\u001b[39m\u001b[38;5;124mhPa\u001b[39m\u001b[38;5;124m'\u001b[39m\n",
      "File \u001b[0;32m~/.conda/envs/wb/lib/python3.10/site-packages/xarray/core/dataset.py:8735\u001b[0m, in \u001b[0;36mDataset.map_blocks\u001b[0;34m(self, func, args, kwargs, template)\u001b[0m\n\u001b[1;32m   8633\u001b[0m \u001b[38;5;250m\u001b[39m\u001b[38;5;124;03m\"\"\"\u001b[39;00m\n\u001b[1;32m   8634\u001b[0m \u001b[38;5;124;03mApply a function to each block of this Dataset.\u001b[39;00m\n\u001b[1;32m   8635\u001b[0m \n\u001b[0;32m   (...)\u001b[0m\n\u001b[1;32m   8731\u001b[0m \u001b[38;5;124;03m    a        (time) float64 dask.array<chunksize=(24,), meta=np.ndarray>\u001b[39;00m\n\u001b[1;32m   8732\u001b[0m \u001b[38;5;124;03m\"\"\"\u001b[39;00m\n\u001b[1;32m   8733\u001b[0m \u001b[38;5;28;01mfrom\u001b[39;00m \u001b[38;5;21;01mxarray\u001b[39;00m\u001b[38;5;21;01m.\u001b[39;00m\u001b[38;5;21;01mcore\u001b[39;00m\u001b[38;5;21;01m.\u001b[39;00m\u001b[38;5;21;01mparallel\u001b[39;00m \u001b[38;5;28;01mimport\u001b[39;00m map_blocks\n\u001b[0;32m-> 8735\u001b[0m \u001b[38;5;28;01mreturn\u001b[39;00m \u001b[43mmap_blocks\u001b[49m\u001b[43m(\u001b[49m\u001b[43mfunc\u001b[49m\u001b[43m,\u001b[49m\u001b[43m \u001b[49m\u001b[38;5;28;43mself\u001b[39;49m\u001b[43m,\u001b[49m\u001b[43m \u001b[49m\u001b[43margs\u001b[49m\u001b[43m,\u001b[49m\u001b[43m \u001b[49m\u001b[43mkwargs\u001b[49m\u001b[43m,\u001b[49m\u001b[43m \u001b[49m\u001b[43mtemplate\u001b[49m\u001b[43m)\u001b[49m\n",
      "File \u001b[0;32m~/.conda/envs/wb/lib/python3.10/site-packages/xarray/core/parallel.py:361\u001b[0m, in \u001b[0;36mmap_blocks\u001b[0;34m(func, obj, args, kwargs, template)\u001b[0m\n\u001b[1;32m    357\u001b[0m     input_indexes\u001b[38;5;241m.\u001b[39mupdate(arg\u001b[38;5;241m.\u001b[39m_indexes)\n\u001b[1;32m    359\u001b[0m \u001b[38;5;28;01mif\u001b[39;00m template \u001b[38;5;129;01mis\u001b[39;00m \u001b[38;5;28;01mNone\u001b[39;00m:\n\u001b[1;32m    360\u001b[0m     \u001b[38;5;66;03m# infer template by providing zero-shaped arrays\u001b[39;00m\n\u001b[0;32m--> 361\u001b[0m     template \u001b[38;5;241m=\u001b[39m \u001b[43minfer_template\u001b[49m\u001b[43m(\u001b[49m\u001b[43mfunc\u001b[49m\u001b[43m,\u001b[49m\u001b[43m \u001b[49m\u001b[43maligned\u001b[49m\u001b[43m[\u001b[49m\u001b[38;5;241;43m0\u001b[39;49m\u001b[43m]\u001b[49m\u001b[43m,\u001b[49m\u001b[43m \u001b[49m\u001b[38;5;241;43m*\u001b[39;49m\u001b[43margs\u001b[49m\u001b[43m,\u001b[49m\u001b[43m \u001b[49m\u001b[38;5;241;43m*\u001b[39;49m\u001b[38;5;241;43m*\u001b[39;49m\u001b[43mkwargs\u001b[49m\u001b[43m)\u001b[49m\n\u001b[1;32m    362\u001b[0m     template_indexes \u001b[38;5;241m=\u001b[39m \u001b[38;5;28mset\u001b[39m(template\u001b[38;5;241m.\u001b[39m_indexes)\n\u001b[1;32m    363\u001b[0m     preserved_indexes \u001b[38;5;241m=\u001b[39m template_indexes \u001b[38;5;241m&\u001b[39m \u001b[38;5;28mset\u001b[39m(input_indexes)\n",
      "File \u001b[0;32m~/.conda/envs/wb/lib/python3.10/site-packages/xarray/core/parallel.py:116\u001b[0m, in \u001b[0;36minfer_template\u001b[0;34m(func, obj, *args, **kwargs)\u001b[0m\n\u001b[1;32m    114\u001b[0m     template \u001b[38;5;241m=\u001b[39m func(\u001b[38;5;241m*\u001b[39mmeta_args, \u001b[38;5;241m*\u001b[39m\u001b[38;5;241m*\u001b[39mkwargs)\n\u001b[1;32m    115\u001b[0m \u001b[38;5;28;01mexcept\u001b[39;00m \u001b[38;5;167;01mException\u001b[39;00m \u001b[38;5;28;01mas\u001b[39;00m e:\n\u001b[0;32m--> 116\u001b[0m     \u001b[38;5;28;01mraise\u001b[39;00m \u001b[38;5;167;01mException\u001b[39;00m(\n\u001b[1;32m    117\u001b[0m         \u001b[38;5;124m\"\u001b[39m\u001b[38;5;124mCannot infer object returned from running user provided function. \u001b[39m\u001b[38;5;124m\"\u001b[39m\n\u001b[1;32m    118\u001b[0m         \u001b[38;5;124m\"\u001b[39m\u001b[38;5;124mPlease supply the \u001b[39m\u001b[38;5;124m'\u001b[39m\u001b[38;5;124mtemplate\u001b[39m\u001b[38;5;124m'\u001b[39m\u001b[38;5;124m kwarg to map_blocks.\u001b[39m\u001b[38;5;124m\"\u001b[39m\n\u001b[1;32m    119\u001b[0m     ) \u001b[38;5;28;01mfrom\u001b[39;00m \u001b[38;5;21;01me\u001b[39;00m\n\u001b[1;32m    121\u001b[0m \u001b[38;5;28;01mif\u001b[39;00m \u001b[38;5;129;01mnot\u001b[39;00m \u001b[38;5;28misinstance\u001b[39m(template, (Dataset, DataArray)):\n\u001b[1;32m    122\u001b[0m     \u001b[38;5;28;01mraise\u001b[39;00m \u001b[38;5;167;01mTypeError\u001b[39;00m(\n\u001b[1;32m    123\u001b[0m         \u001b[38;5;124m\"\u001b[39m\u001b[38;5;124mFunction must return an xarray DataArray or Dataset. Instead it returned \u001b[39m\u001b[38;5;124m\"\u001b[39m\n\u001b[1;32m    124\u001b[0m         \u001b[38;5;124mf\u001b[39m\u001b[38;5;124m\"\u001b[39m\u001b[38;5;132;01m{\u001b[39;00m\u001b[38;5;28mtype\u001b[39m(template)\u001b[38;5;132;01m}\u001b[39;00m\u001b[38;5;124m\"\u001b[39m\n\u001b[1;32m    125\u001b[0m     )\n",
      "\u001b[0;31mException\u001b[0m: Cannot infer object returned from running user provided function. Please supply the 'template' kwarg to map_blocks."
     ]
    }
   ],
   "source": [
    "    cape_cin, array = parcel.cape_cin(plevel, tlevel, dplevel, tsurf, psurf,\n",
    "             dpsurf, vert_dim='level')"
   ]
  },
  {
   "cell_type": "code",
   "execution_count": 9,
   "metadata": {},
   "outputs": [
    {
     "data": {
      "text/html": [
       "<table>\n",
       "    <tr>\n",
       "        <td>\n",
       "            <table style=\"border-collapse: collapse;\">\n",
       "                <thead>\n",
       "                    <tr>\n",
       "                        <td> </td>\n",
       "                        <th> Array </th>\n",
       "                        <th> Chunk </th>\n",
       "                    </tr>\n",
       "                </thead>\n",
       "                <tbody>\n",
       "                    \n",
       "                    <tr>\n",
       "                        <th> Bytes </th>\n",
       "                        <td> 411.90 MiB </td>\n",
       "                        <td> 102.97 MiB </td>\n",
       "                    </tr>\n",
       "                    \n",
       "                    <tr>\n",
       "                        <th> Shape </th>\n",
       "                        <td> (13, 4, 721, 1440) </td>\n",
       "                        <td> (13, 1, 721, 1440) </td>\n",
       "                    </tr>\n",
       "                    <tr>\n",
       "                        <th> Dask graph </th>\n",
       "                        <td colspan=\"2\"> 4 chunks in 42 graph layers </td>\n",
       "                    </tr>\n",
       "                    <tr>\n",
       "                        <th> Data type </th>\n",
       "                        <td colspan=\"2\"> float64 numpy.ndarray </td>\n",
       "                    </tr>\n",
       "                </tbody>\n",
       "            </table>\n",
       "        </td>\n",
       "        <td>\n",
       "        <svg width=\"374\" height=\"125\" style=\"stroke:rgb(0,0,0);stroke-width:1\" >\n",
       "\n",
       "  <!-- Horizontal lines -->\n",
       "  <line x1=\"0\" y1=\"0\" x2=\"25\" y2=\"0\" style=\"stroke-width:2\" />\n",
       "  <line x1=\"0\" y1=\"25\" x2=\"25\" y2=\"25\" style=\"stroke-width:2\" />\n",
       "\n",
       "  <!-- Vertical lines -->\n",
       "  <line x1=\"0\" y1=\"0\" x2=\"0\" y2=\"25\" style=\"stroke-width:2\" />\n",
       "  <line x1=\"25\" y1=\"0\" x2=\"25\" y2=\"25\" style=\"stroke-width:2\" />\n",
       "\n",
       "  <!-- Colored Rectangle -->\n",
       "  <polygon points=\"0.0,0.0 25.412616514582485,0.0 25.412616514582485,25.412616514582485 0.0,25.412616514582485\" style=\"fill:#ECB172A0;stroke-width:0\"/>\n",
       "\n",
       "  <!-- Text -->\n",
       "  <text x=\"12.706308\" y=\"45.412617\" font-size=\"1.0rem\" font-weight=\"100\" text-anchor=\"middle\" >13</text>\n",
       "  <text x=\"45.412617\" y=\"12.706308\" font-size=\"1.0rem\" font-weight=\"100\" text-anchor=\"middle\" transform=\"rotate(0,45.412617,12.706308)\">1</text>\n",
       "\n",
       "\n",
       "  <!-- Horizontal lines -->\n",
       "  <line x1=\"95\" y1=\"0\" x2=\"109\" y2=\"14\" style=\"stroke-width:2\" />\n",
       "  <line x1=\"95\" y1=\"60\" x2=\"109\" y2=\"75\" style=\"stroke-width:2\" />\n",
       "\n",
       "  <!-- Vertical lines -->\n",
       "  <line x1=\"95\" y1=\"0\" x2=\"95\" y2=\"60\" style=\"stroke-width:2\" />\n",
       "  <line x1=\"98\" y1=\"3\" x2=\"98\" y2=\"63\" />\n",
       "  <line x1=\"102\" y1=\"7\" x2=\"102\" y2=\"67\" />\n",
       "  <line x1=\"106\" y1=\"11\" x2=\"106\" y2=\"71\" />\n",
       "  <line x1=\"109\" y1=\"14\" x2=\"109\" y2=\"75\" style=\"stroke-width:2\" />\n",
       "\n",
       "  <!-- Colored Rectangle -->\n",
       "  <polygon points=\"95.0,0.0 109.9485979497544,14.948597949754403 109.9485979497544,75.03193128308774 95.0,60.083333333333336\" style=\"fill:#ECB172A0;stroke-width:0\"/>\n",
       "\n",
       "  <!-- Horizontal lines -->\n",
       "  <line x1=\"95\" y1=\"0\" x2=\"215\" y2=\"0\" style=\"stroke-width:2\" />\n",
       "  <line x1=\"98\" y1=\"3\" x2=\"218\" y2=\"3\" />\n",
       "  <line x1=\"102\" y1=\"7\" x2=\"222\" y2=\"7\" />\n",
       "  <line x1=\"106\" y1=\"11\" x2=\"226\" y2=\"11\" />\n",
       "  <line x1=\"109\" y1=\"14\" x2=\"229\" y2=\"14\" style=\"stroke-width:2\" />\n",
       "\n",
       "  <!-- Vertical lines -->\n",
       "  <line x1=\"95\" y1=\"0\" x2=\"109\" y2=\"14\" style=\"stroke-width:2\" />\n",
       "  <line x1=\"215\" y1=\"0\" x2=\"229\" y2=\"14\" style=\"stroke-width:2\" />\n",
       "\n",
       "  <!-- Colored Rectangle -->\n",
       "  <polygon points=\"95.0,0.0 215.0,0.0 229.9485979497544,14.948597949754403 109.9485979497544,14.948597949754403\" style=\"fill:#ECB172A0;stroke-width:0\"/>\n",
       "\n",
       "  <!-- Horizontal lines -->\n",
       "  <line x1=\"109\" y1=\"14\" x2=\"229\" y2=\"14\" style=\"stroke-width:2\" />\n",
       "  <line x1=\"109\" y1=\"75\" x2=\"229\" y2=\"75\" style=\"stroke-width:2\" />\n",
       "\n",
       "  <!-- Vertical lines -->\n",
       "  <line x1=\"109\" y1=\"14\" x2=\"109\" y2=\"75\" style=\"stroke-width:2\" />\n",
       "  <line x1=\"229\" y1=\"14\" x2=\"229\" y2=\"75\" style=\"stroke-width:2\" />\n",
       "\n",
       "  <!-- Colored Rectangle -->\n",
       "  <polygon points=\"109.9485979497544,14.948597949754403 229.9485979497544,14.948597949754403 229.9485979497544,75.03193128308774 109.9485979497544,75.03193128308774\" style=\"fill:#ECB172A0;stroke-width:0\"/>\n",
       "\n",
       "  <!-- Text -->\n",
       "  <text x=\"169.948598\" y=\"95.031931\" font-size=\"1.0rem\" font-weight=\"100\" text-anchor=\"middle\" >1440</text>\n",
       "  <text x=\"249.948598\" y=\"44.990265\" font-size=\"1.0rem\" font-weight=\"100\" text-anchor=\"middle\" transform=\"rotate(-90,249.948598,44.990265)\">721</text>\n",
       "  <text x=\"92.474299\" y=\"87.557632\" font-size=\"1.0rem\" font-weight=\"100\" text-anchor=\"middle\" transform=\"rotate(45,92.474299,87.557632)\">4</text>\n",
       "</svg>\n",
       "        </td>\n",
       "    </tr>\n",
       "</table>"
      ],
      "text/plain": [
       "dask.array<mul, shape=(13, 4, 721, 1440), dtype=float64, chunksize=(13, 1, 721, 1440), chunktype=numpy.ndarray>"
      ]
     },
     "execution_count": 9,
     "metadata": {},
     "output_type": "execute_result"
    }
   ],
   "source": [
    "dplevel.data=dplevel.data.to(units.K).magnitude\n",
    "dplevel.data"
   ]
  },
  {
   "cell_type": "code",
   "execution_count": null,
   "metadata": {},
   "outputs": [],
   "source": []
  }
 ],
 "metadata": {
  "kernelspec": {
   "display_name": "Python 3 (ipykernel)",
   "language": "python",
   "name": "python3"
  },
  "language_info": {
   "codemirror_mode": {
    "name": "ipython",
    "version": 3
   },
   "file_extension": ".py",
   "mimetype": "text/x-python",
   "name": "python",
   "nbconvert_exporter": "python",
   "pygments_lexer": "ipython3",
   "version": "3.10.13"
  }
 },
 "nbformat": 4,
 "nbformat_minor": 4
}
