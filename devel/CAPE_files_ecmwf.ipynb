{
 "cells": [
  {
   "cell_type": "code",
   "execution_count": 1,
   "id": "e4985f45-8926-4c4a-b0f7-7f093e3a981b",
   "metadata": {},
   "outputs": [
    {
     "name": "stdout",
     "output_type": "stream",
     "text": [
      "modules loaded\n"
     ]
    }
   ],
   "source": [
    "import sys, os\n",
    "import pandas as pd\n",
    "import xarray as xr\n",
    "import matplotlib.pyplot as plt\n",
    "import numpy as np\n",
    "import numpy.matlib\n",
    "#import weatherbench2 as wb\n",
    "#import metpy\n",
    "import copy\n",
    "import wrf\n",
    "import time\n",
    "#from metpy.units import units\n",
    "import cartopy.crs as ccrs\n",
    "print('modules loaded')\n",
    "import datetime\n",
    "import glob\n",
    "import datetime as dt\n",
    "import seaborn as sns\n",
    "import netCDF4 as nc\n",
    "import metpy\n",
    "from metpy.units import units\n",
    "from glob import glob"
   ]
  },
  {
   "cell_type": "code",
   "execution_count": 2,
   "id": "9514c7ea-1b33-4f84-a0fd-737c25b50b83",
   "metadata": {},
   "outputs": [],
   "source": [
    "figpath='/users/mfeldman/figs/case_24/'\n",
    "datapath='/work/FAC/FGSE/IDYST/tbeucler/default/raw_data/ECMWF_AI/'\n",
    "models=['aifs','pangu','graphcast','tigge']"
   ]
  },
  {
   "cell_type": "code",
   "execution_count": 3,
   "id": "35d09f05-f01d-4f99-8bb9-86d2b4f4a24b",
   "metadata": {},
   "outputs": [
    {
     "name": "stdout",
     "output_type": "stream",
     "text": [
      "[ 1  0 -1 -2 -3 -4 -5 -6 -7]\n",
      "/work/FAC/FGSE/IDYST/tbeucler/default/raw_data/ECMWF_AI/graphcast/pl_2024-03-23_00:00:00.nc\n",
      "graphcast 2024-03-23T00\n",
      "/work/FAC/FGSE/IDYST/tbeucler/default/raw_data/ECMWF_AI/graphcast/pl_2024-03-23_12:00:00.nc\n",
      "graphcast 2024-03-23T12\n",
      "/work/FAC/FGSE/IDYST/tbeucler/default/raw_data/ECMWF_AI/graphcast/pl_2024-03-24_00:00:00.nc\n",
      "graphcast 2024-03-24T00\n",
      "/work/FAC/FGSE/IDYST/tbeucler/default/raw_data/ECMWF_AI/graphcast/pl_2024-03-24_12:00:00.nc\n",
      "graphcast 2024-03-24T12\n",
      "/work/FAC/FGSE/IDYST/tbeucler/default/raw_data/ECMWF_AI/graphcast/pl_2024-03-25_00:00:00.nc\n",
      "graphcast 2024-03-25T00\n",
      "/work/FAC/FGSE/IDYST/tbeucler/default/raw_data/ECMWF_AI/graphcast/pl_2024-03-25_12:00:00.nc\n",
      "graphcast 2024-03-25T12\n",
      "/work/FAC/FGSE/IDYST/tbeucler/default/raw_data/ECMWF_AI/graphcast/pl_2024-03-26_00:00:00.nc\n",
      "graphcast 2024-03-26T00\n",
      "/work/FAC/FGSE/IDYST/tbeucler/default/raw_data/ECMWF_AI/graphcast/pl_2024-03-26_12:00:00.nc\n",
      "graphcast 2024-03-26T12\n",
      "/work/FAC/FGSE/IDYST/tbeucler/default/raw_data/ECMWF_AI/graphcast/pl_2024-03-27_00:00:00.nc\n",
      "graphcast 2024-03-27T00\n",
      "/work/FAC/FGSE/IDYST/tbeucler/default/raw_data/ECMWF_AI/graphcast/pl_2024-03-27_12:00:00.nc\n",
      "graphcast 2024-03-27T12\n",
      "/work/FAC/FGSE/IDYST/tbeucler/default/raw_data/ECMWF_AI/graphcast/pl_2024-03-28_00:00:00.nc\n",
      "graphcast 2024-03-28T00\n",
      "/work/FAC/FGSE/IDYST/tbeucler/default/raw_data/ECMWF_AI/graphcast/pl_2024-03-28_12:00:00.nc\n",
      "graphcast 2024-03-28T12\n",
      "/work/FAC/FGSE/IDYST/tbeucler/default/raw_data/ECMWF_AI/graphcast/pl_2024-03-29_00:00:00.nc\n",
      "graphcast 2024-03-29T00\n",
      "/work/FAC/FGSE/IDYST/tbeucler/default/raw_data/ECMWF_AI/graphcast/pl_2024-03-29_12:00:00.nc\n",
      "graphcast 2024-03-29T12\n",
      "/work/FAC/FGSE/IDYST/tbeucler/default/raw_data/ECMWF_AI/graphcast/pl_2024-03-30_00:00:00.nc\n",
      "graphcast 2024-03-30T00\n",
      "/work/FAC/FGSE/IDYST/tbeucler/default/raw_data/ECMWF_AI/graphcast/pl_2024-03-30_12:00:00.nc\n",
      "graphcast 2024-03-30T12\n",
      "/work/FAC/FGSE/IDYST/tbeucler/default/raw_data/ECMWF_AI/graphcast/pl_2024-03-31_00:00:00.nc\n",
      "graphcast 2024-03-31T00\n",
      "/work/FAC/FGSE/IDYST/tbeucler/default/raw_data/ECMWF_AI/graphcast/pl_2024-03-31_12:00:00.nc\n",
      "graphcast 2024-03-31T12\n",
      "/work/FAC/FGSE/IDYST/tbeucler/default/raw_data/ECMWF_AI/graphcast/pl_2024-04-01_00:00:00.nc\n",
      "graphcast 2024-04-01T00\n",
      "/work/FAC/FGSE/IDYST/tbeucler/default/raw_data/ECMWF_AI/graphcast/pl_2024-04-01_12:00:00.nc\n",
      "graphcast 2024-04-01T12\n",
      "/work/FAC/FGSE/IDYST/tbeucler/default/raw_data/ECMWF_AI/graphcast/pl_2024-04-02_00:00:00.nc\n",
      "graphcast 2024-04-02T00\n",
      "/work/FAC/FGSE/IDYST/tbeucler/default/raw_data/ECMWF_AI/graphcast/pl_2024-04-02_12:00:00.nc\n",
      "graphcast 2024-04-02T12\n",
      "/work/FAC/FGSE/IDYST/tbeucler/default/raw_data/ECMWF_AI/graphcast/pl_2024-04-03_00:00:00.nc\n",
      "graphcast 2024-04-03T00\n",
      "/work/FAC/FGSE/IDYST/tbeucler/default/raw_data/ECMWF_AI/graphcast/pl_2024-04-03_12:00:00.nc\n",
      "graphcast 2024-04-03T12\n"
     ]
    }
   ],
   "source": [
    "era5='gs://weatherbench2/datasets/era5/1959-2022-6h-1440x721.zarr'\n",
    "xr_era5=xr.open_zarr(era5).sortby('latitude')\n",
    "xr_era5=xr_era5.sel(time=xr_era5.time.dt.year.isin([2020]))\n",
    "xr_era5=xr_era5.sel(time=xr_era5.time.dt.month.isin([4]))#np.arange(3,10)))\n",
    "xr_era5=xr_era5.sel(time=xr_era5.time.dt.day.isin([2,3]),latitude=slice(20,50),longitude=slice(250,300))\n",
    "zsurf_c=xr_era5['geopotential_at_surface']\n",
    "\n",
    "year=2024; month=4; day=np.arange(2,4,1); days=day[0]-np.arange(1,10)\n",
    "print(days)\n",
    "latslice2=slice(20,50)\n",
    "for model in models[2:-1]:\n",
    "    files_pl=sorted(glob(datapath+model+'/pl*.nc'))\n",
    "    files_sfc=sorted(glob(datapath+model+'/sfc*.nc'))\n",
    "    for nn in range(len(files_pl))[:]:\n",
    "        st=datetime.datetime(2024,4,2,0)\n",
    "        et=datetime.datetime(2024,4,3,23)\n",
    "\n",
    "\n",
    "        print(files_pl[nn])\n",
    "        xr_pl=xr.open_dataset(files_pl[nn]).sortby('latitude')\n",
    "        init=np.datetime_as_string(xr_pl.time[0].values,'h')\n",
    "        \n",
    "        xr_pl=xr_pl.sel(time=xr_pl.time.dt.year.isin([year]))\n",
    "        xr_pl=xr_pl.sel(time=xr_pl.time.dt.month.isin([month]))\n",
    "        xr_pl=xr_pl.sel(time=xr_pl.time.dt.day.isin([day]))\n",
    "        \n",
    "        xr_sfc=xr.open_dataset(files_sfc[nn]).sortby('latitude')\n",
    "        xr_sfc=xr_sfc.sel(time=xr_sfc.time.dt.year.isin([year]))\n",
    "        xr_sfc=xr_sfc.sel(time=xr_sfc.time.dt.month.isin([month]))\n",
    "        xr_sfc=xr_sfc.sel(time=xr_sfc.time.dt.day.isin([day]))\n",
    "\n",
    "\n",
    "        xr_pl = xr_pl.sortby('level', ascending=False)\n",
    "        \n",
    "        plevel=copy.deepcopy(xr_pl.level.values)\n",
    "        \n",
    "        tlevel=xr_pl.t\n",
    "        qlevel=xr_pl.q\n",
    "        plevel_dim=np.ones([1,len(plevel),1,1])\n",
    "        if model=='tigge': zlevel=xr_pl.gh * 9.81\n",
    "        else: zlevel=xr_pl.z\n",
    "        ulevel=xr_pl.u\n",
    "        vlevel=xr_pl.v\n",
    "        for n1 in range(len(plevel.data)):\n",
    "            plevel_dim[0,n1,0,0]=plevel[n1]\n",
    "        plevel_exp=(tlevel/tlevel)*plevel_dim\n",
    "        \n",
    "        psurf=xr_sfc.msl\n",
    "        tsurf=xr_sfc.t2m\n",
    "        zsurf = zsurf_c.expand_dims(dim={\"time\": psurf.time}, axis=0)\n",
    "        # zsurf = zsurf.expand_dims(dim={\"time\": psurf.time}, axis=1)\n",
    "        \n",
    "        ps=psurf/100\n",
    "        zs=zsurf/9.81\n",
    "        zl=zlevel/9.81\n",
    "\n",
    "        mod_inst=wrf.cape_2d(pres_hpa=plevel_exp, tkel=tlevel, qv=qlevel, height=zl, terrain=zs, psfc_hpa=psurf, ter_follow=False)\n",
    "        mod_inst=mod_inst.assign_coords(longitude=psurf.longitude.values);\n",
    "        mod_inst=mod_inst.assign_coords(latitude=psurf.latitude.values);\n",
    "        mod_inst=mod_inst.assign_coords(time=psurf.time.values)\n",
    "\n",
    "        du_01=ulevel.sel(level=850)-xr_sfc.u10; dv_01=vlevel.sel(level=850)-xr_sfc.v10\n",
    "        du_03=ulevel.sel(level=700)-xr_sfc.u10; dv_03=vlevel.sel(level=700)-xr_sfc.v10\n",
    "        du_06=ulevel.sel(level=500)-xr_sfc.u10; dv_06=vlevel.sel(level=500)-xr_sfc.v10\n",
    "        \n",
    "        bs_01=( du_01**2 + dv_01**2 )**0.5\n",
    "        bs_03=( du_03**2 + dv_03**2 )**0.5\n",
    "        bs_06=( du_06**2 + dv_06**2 )**0.5\n",
    "        \n",
    "        du_01=du_01.to_dataset(name='du_01')\n",
    "        dv_01=dv_01.to_dataset(name='dv_01')\n",
    "        bs_01=bs_01.to_dataset(name='bs_01')\n",
    "        du_03=du_03.to_dataset(name='du_03')\n",
    "        dv_03=dv_03.to_dataset(name='dv_03')\n",
    "        bs_03=bs_03.to_dataset(name='bs_03')\n",
    "        du_06=du_06.to_dataset(name='du_06')\n",
    "        dv_06=dv_06.to_dataset(name='dv_06')\n",
    "        bs_06=bs_06.to_dataset(name='bs_06')\n",
    "        \n",
    "        mod_params=xr.merge([du_01,dv_01,bs_01,du_03,dv_03,bs_03,du_06,dv_06,bs_06],compat='override')\n",
    "        #mod_params=mod_params.squeeze(dim='level')\n",
    "        \n",
    "        if model=='tigge': mod_params['cape']=xr_sfc.cape\n",
    "        else: mod_params['cape']=mod_inst.sel(mcape_mcin_lcl_lfc='mcape')\n",
    "        mod_params['cin']=mod_inst.sel(mcape_mcin_lcl_lfc='mcin')\n",
    "        mod_params['lcl']=mod_inst.sel(mcape_mcin_lcl_lfc='lcl')\n",
    "        mod_params['lfc']=mod_inst.sel(mcape_mcin_lcl_lfc='lfc')#.squeeze(dim='mcape_mcin_lcl_lfc')\n",
    "        mod_params['q500']=qlevel.sel(level=500).squeeze()\n",
    "        mod_params['t500']=tlevel.sel(level=500).squeeze()\n",
    "        mod_params['q925']=qlevel.sel(level=925).squeeze()\n",
    "        mod_params['t925']=tlevel.sel(level=925).squeeze()\n",
    "        print(model,init)\n",
    "        mod_params.to_netcdf(datapath+'postproc/'+model+'_'+init+'.nc')\n",
    "\n",
    "        # cm=plt.cm.Reds\n",
    "        # cm.set_under(color=\"grey\")\n",
    "        # cm.set_bad(color=\"grey\")\n",
    "        # p = mod_params.cape.sel(latitude=slice(20,40),longitude=slice(260,290)).plot(x=\"longitude\", y=\"latitude\", col=\"time\", col_wrap=4,transform=ccrs.PlateCarree(), subplot_kws={'projection':ccrs.PlateCarree()}\\\n",
    "        #                 ,cmap=cm,vmin=200,vmax=1500,levels=np.arange(200,1500,100),extend='both')# col_wrap=4)\n",
    "        # for ax in p.axs.flat:\n",
    "        #                 ax.coastlines()\n",
    "        # f=p.fig\n",
    "        # f.savefig(figpath+model+'_'+init+'_cape.png',  dpi=300, bbox_inches='tight')\n",
    "        # plt.close()\n",
    "        \n",
    "        # cm=plt.cm.Reds\n",
    "        # cm.set_under(color=\"grey\")\n",
    "        # cm.set_bad(color=\"grey\")\n",
    "        # p = mod_params.bs_06.sel(latitude=slice(20,40),longitude=slice(260,290)).plot(x=\"longitude\", y=\"latitude\", col=\"time\", col_wrap=4,transform=ccrs.PlateCarree(), subplot_kws={'projection':ccrs.PlateCarree()}\\\n",
    "        #                 ,cmap=cm,vmin=5,vmax=30,levels=np.arange(5,32,2),extend='both')# col_wrap=4)\n",
    "        # for ax in p.axs.flat:\n",
    "        #                 ax.coastlines()\n",
    "        # f=p.fig\n",
    "        # f.savefig(figpath+model+'_'+init+'_bs_06.png',  dpi=300, bbox_inches='tight')\n",
    "        # plt.close()\n"
   ]
  },
  {
   "cell_type": "code",
   "execution_count": 75,
   "id": "6755ff9c-42c6-435e-a2de-ef2525286c3b",
   "metadata": {},
   "outputs": [
    {
     "name": "stdout",
     "output_type": "stream",
     "text": [
      "/work/FAC/FGSE/IDYST/tbeucler/default/raw_data/ECMWF_AI/tigge/pl_2024-03-23_00:00:00.nc\n",
      "/work/FAC/FGSE/IDYST/tbeucler/default/raw_data/ECMWF_AI/tigge/pl_2024-03-23_12:00:00.nc\n",
      "/work/FAC/FGSE/IDYST/tbeucler/default/raw_data/ECMWF_AI/tigge/pl_2024-03-24_00:00:00.nc\n",
      "/work/FAC/FGSE/IDYST/tbeucler/default/raw_data/ECMWF_AI/tigge/pl_2024-03-24_12:00:00.nc\n",
      "/work/FAC/FGSE/IDYST/tbeucler/default/raw_data/ECMWF_AI/tigge/pl_2024-03-25_00:00:00.nc\n",
      "/work/FAC/FGSE/IDYST/tbeucler/default/raw_data/ECMWF_AI/tigge/pl_2024-03-25_12:00:00.nc\n",
      "/work/FAC/FGSE/IDYST/tbeucler/default/raw_data/ECMWF_AI/tigge/pl_2024-03-26_00:00:00.nc\n",
      "/work/FAC/FGSE/IDYST/tbeucler/default/raw_data/ECMWF_AI/tigge/pl_2024-03-26_12:00:00.nc\n",
      "/work/FAC/FGSE/IDYST/tbeucler/default/raw_data/ECMWF_AI/tigge/pl_2024-03-27_00:00:00.nc\n",
      "/work/FAC/FGSE/IDYST/tbeucler/default/raw_data/ECMWF_AI/tigge/pl_2024-03-27_12:00:00.nc\n",
      "/work/FAC/FGSE/IDYST/tbeucler/default/raw_data/ECMWF_AI/tigge/pl_2024-03-28_00:00:00.nc\n",
      "/work/FAC/FGSE/IDYST/tbeucler/default/raw_data/ECMWF_AI/tigge/pl_2024-03-28_12:00:00.nc\n",
      "/work/FAC/FGSE/IDYST/tbeucler/default/raw_data/ECMWF_AI/tigge/pl_2024-03-29_00:00:00.nc\n",
      "/work/FAC/FGSE/IDYST/tbeucler/default/raw_data/ECMWF_AI/tigge/pl_2024-03-29_12:00:00.nc\n",
      "/work/FAC/FGSE/IDYST/tbeucler/default/raw_data/ECMWF_AI/tigge/pl_2024-03-30_00:00:00.nc\n",
      "/work/FAC/FGSE/IDYST/tbeucler/default/raw_data/ECMWF_AI/tigge/pl_2024-03-30_12:00:00.nc\n",
      "/work/FAC/FGSE/IDYST/tbeucler/default/raw_data/ECMWF_AI/tigge/pl_2024-03-31_00:00:00.nc\n",
      "/work/FAC/FGSE/IDYST/tbeucler/default/raw_data/ECMWF_AI/tigge/pl_2024-03-31_12:00:00.nc\n",
      "/work/FAC/FGSE/IDYST/tbeucler/default/raw_data/ECMWF_AI/tigge/pl_2024-04-01_00:00:00.nc\n",
      "/work/FAC/FGSE/IDYST/tbeucler/default/raw_data/ECMWF_AI/tigge/pl_2024-04-01_12:00:00.nc\n",
      "/work/FAC/FGSE/IDYST/tbeucler/default/raw_data/ECMWF_AI/tigge/pl_2024-04-02_00:00:00.nc\n",
      "/work/FAC/FGSE/IDYST/tbeucler/default/raw_data/ECMWF_AI/tigge/pl_2024-04-02_12:00:00.nc\n",
      "/work/FAC/FGSE/IDYST/tbeucler/default/raw_data/ECMWF_AI/tigge/pl_2024-04-03_00:00:00.nc\n",
      "/work/FAC/FGSE/IDYST/tbeucler/default/raw_data/ECMWF_AI/tigge/pl_2024-04-03_12:00:00.nc\n"
     ]
    }
   ],
   "source": [
    "for model in models[-1:]:\n",
    "    files_pl=sorted(glob(datapath+model+'/pl*.nc'))\n",
    "    files_sfc=sorted(glob(datapath+model+'/sfc*.nc'))\n",
    "    for nn in range(len(files_pl))[:]:\n",
    "        st=datetime.datetime(2024,4,2,0)\n",
    "        et=datetime.datetime(2024,4,3,23)\n",
    "\n",
    "\n",
    "        print(files_pl[nn])\n",
    "        xr_pl=xr.open_dataset(files_pl[nn]).sortby('latitude')\n",
    "        init=np.datetime_as_string(xr_pl.time[0].values,'h')\n",
    "        \n",
    "        xr_sfc=xr.open_dataset(files_sfc[nn]).sortby('latitude')\n",
    "        xr_sfc=xr_sfc.sel(time=xr_sfc.time.dt.year.isin([year]))\n",
    "        xr_sfc=xr_sfc.sel(time=xr_sfc.time.dt.month.isin([month]))\n",
    "        xr_sfc=xr_sfc.sel(time=xr_sfc.time.dt.day.isin([day]))\n",
    "\n",
    "        cm=plt.cm.Reds\n",
    "        cm.set_under(color=\"grey\")\n",
    "        cm.set_bad(color=\"grey\")\n",
    "        p = xr_sfc.cape.sel(latitude=slice(20,40),longitude=slice(260,290)).plot(x=\"longitude\", y=\"latitude\", col=\"time\", col_wrap=4,transform=ccrs.PlateCarree(), subplot_kws={'projection':ccrs.PlateCarree()}\\\n",
    "                        ,cmap=cm,vmin=200,vmax=1500,levels=np.arange(200,1500,100),extend='both')# col_wrap=4)\n",
    "        for ax in p.axs.flat:\n",
    "                        ax.coastlines()\n",
    "        f=p.fig\n",
    "        f.savefig(figpath+model+'_'+init+'_cape_mod.png',  dpi=300, bbox_inches='tight')\n",
    "        plt.close()"
   ]
  },
  {
   "cell_type": "code",
   "execution_count": 7,
   "id": "e6a42273-ea12-42a7-82bd-d8fde319fb90",
   "metadata": {},
   "outputs": [
    {
     "name": "stdout",
     "output_type": "stream",
     "text": [
      "[ 1  0 -1 -2 -3 -4 -5 -6 -7]\n",
      "/work/FAC/FGSE/IDYST/tbeucler/default/raw_data/ECMWF_AI/sfno/pl_2024-03-23_00:00:00.nc\n"
     ]
    },
    {
     "name": "stderr",
     "output_type": "stream",
     "text": [
      "/work/FAC/FGSE/IDYST/tbeucler/default/mfeldman/miniforge3/envs/wb/lib/python3.11/site-packages/metpy/calc/thermo.py:1396: RuntimeWarning: invalid value encountered in log\n",
      "  val = np.log(vapor_pressure / mpconsts.nounit.sat_pressure_0c)\n"
     ]
    },
    {
     "name": "stdout",
     "output_type": "stream",
     "text": [
      "sfno 2024-03-23T00\n",
      "/work/FAC/FGSE/IDYST/tbeucler/default/raw_data/ECMWF_AI/sfno/pl_2024-03-23_12:00:00.nc\n"
     ]
    },
    {
     "name": "stderr",
     "output_type": "stream",
     "text": [
      "/work/FAC/FGSE/IDYST/tbeucler/default/mfeldman/miniforge3/envs/wb/lib/python3.11/site-packages/metpy/calc/thermo.py:1396: RuntimeWarning: invalid value encountered in log\n",
      "  val = np.log(vapor_pressure / mpconsts.nounit.sat_pressure_0c)\n"
     ]
    },
    {
     "name": "stdout",
     "output_type": "stream",
     "text": [
      "sfno 2024-03-23T12\n",
      "/work/FAC/FGSE/IDYST/tbeucler/default/raw_data/ECMWF_AI/sfno/pl_2024-03-24_00:00:00.nc\n"
     ]
    },
    {
     "name": "stderr",
     "output_type": "stream",
     "text": [
      "/work/FAC/FGSE/IDYST/tbeucler/default/mfeldman/miniforge3/envs/wb/lib/python3.11/site-packages/metpy/calc/thermo.py:1396: RuntimeWarning: invalid value encountered in log\n",
      "  val = np.log(vapor_pressure / mpconsts.nounit.sat_pressure_0c)\n"
     ]
    },
    {
     "name": "stdout",
     "output_type": "stream",
     "text": [
      "sfno 2024-03-24T00\n",
      "/work/FAC/FGSE/IDYST/tbeucler/default/raw_data/ECMWF_AI/sfno/pl_2024-03-24_12:00:00.nc\n"
     ]
    },
    {
     "name": "stderr",
     "output_type": "stream",
     "text": [
      "/work/FAC/FGSE/IDYST/tbeucler/default/mfeldman/miniforge3/envs/wb/lib/python3.11/site-packages/metpy/calc/thermo.py:1396: RuntimeWarning: invalid value encountered in log\n",
      "  val = np.log(vapor_pressure / mpconsts.nounit.sat_pressure_0c)\n"
     ]
    },
    {
     "name": "stdout",
     "output_type": "stream",
     "text": [
      "sfno 2024-03-24T12\n",
      "/work/FAC/FGSE/IDYST/tbeucler/default/raw_data/ECMWF_AI/sfno/pl_2024-03-25_00:00:00.nc\n"
     ]
    },
    {
     "name": "stderr",
     "output_type": "stream",
     "text": [
      "/work/FAC/FGSE/IDYST/tbeucler/default/mfeldman/miniforge3/envs/wb/lib/python3.11/site-packages/metpy/calc/thermo.py:1396: RuntimeWarning: invalid value encountered in log\n",
      "  val = np.log(vapor_pressure / mpconsts.nounit.sat_pressure_0c)\n"
     ]
    },
    {
     "name": "stdout",
     "output_type": "stream",
     "text": [
      "sfno 2024-03-25T00\n",
      "/work/FAC/FGSE/IDYST/tbeucler/default/raw_data/ECMWF_AI/sfno/pl_2024-03-25_12:00:00.nc\n"
     ]
    },
    {
     "name": "stderr",
     "output_type": "stream",
     "text": [
      "/work/FAC/FGSE/IDYST/tbeucler/default/mfeldman/miniforge3/envs/wb/lib/python3.11/site-packages/metpy/calc/thermo.py:1396: RuntimeWarning: invalid value encountered in log\n",
      "  val = np.log(vapor_pressure / mpconsts.nounit.sat_pressure_0c)\n"
     ]
    },
    {
     "name": "stdout",
     "output_type": "stream",
     "text": [
      "sfno 2024-03-25T12\n",
      "/work/FAC/FGSE/IDYST/tbeucler/default/raw_data/ECMWF_AI/sfno/pl_2024-03-26_00:00:00.nc\n"
     ]
    },
    {
     "name": "stderr",
     "output_type": "stream",
     "text": [
      "/work/FAC/FGSE/IDYST/tbeucler/default/mfeldman/miniforge3/envs/wb/lib/python3.11/site-packages/metpy/calc/thermo.py:1396: RuntimeWarning: invalid value encountered in log\n",
      "  val = np.log(vapor_pressure / mpconsts.nounit.sat_pressure_0c)\n"
     ]
    },
    {
     "name": "stdout",
     "output_type": "stream",
     "text": [
      "sfno 2024-03-26T00\n",
      "/work/FAC/FGSE/IDYST/tbeucler/default/raw_data/ECMWF_AI/sfno/pl_2024-03-26_12:00:00.nc\n"
     ]
    },
    {
     "name": "stderr",
     "output_type": "stream",
     "text": [
      "/work/FAC/FGSE/IDYST/tbeucler/default/mfeldman/miniforge3/envs/wb/lib/python3.11/site-packages/metpy/calc/thermo.py:1396: RuntimeWarning: invalid value encountered in log\n",
      "  val = np.log(vapor_pressure / mpconsts.nounit.sat_pressure_0c)\n"
     ]
    },
    {
     "name": "stdout",
     "output_type": "stream",
     "text": [
      "sfno 2024-03-26T12\n",
      "/work/FAC/FGSE/IDYST/tbeucler/default/raw_data/ECMWF_AI/sfno/pl_2024-03-27_00:00:00.nc\n"
     ]
    },
    {
     "name": "stderr",
     "output_type": "stream",
     "text": [
      "/work/FAC/FGSE/IDYST/tbeucler/default/mfeldman/miniforge3/envs/wb/lib/python3.11/site-packages/metpy/calc/thermo.py:1396: RuntimeWarning: invalid value encountered in log\n",
      "  val = np.log(vapor_pressure / mpconsts.nounit.sat_pressure_0c)\n"
     ]
    },
    {
     "name": "stdout",
     "output_type": "stream",
     "text": [
      "sfno 2024-03-27T00\n",
      "/work/FAC/FGSE/IDYST/tbeucler/default/raw_data/ECMWF_AI/sfno/pl_2024-03-27_12:00:00.nc\n"
     ]
    },
    {
     "name": "stderr",
     "output_type": "stream",
     "text": [
      "/work/FAC/FGSE/IDYST/tbeucler/default/mfeldman/miniforge3/envs/wb/lib/python3.11/site-packages/metpy/calc/thermo.py:1396: RuntimeWarning: invalid value encountered in log\n",
      "  val = np.log(vapor_pressure / mpconsts.nounit.sat_pressure_0c)\n"
     ]
    },
    {
     "name": "stdout",
     "output_type": "stream",
     "text": [
      "sfno 2024-03-27T12\n",
      "/work/FAC/FGSE/IDYST/tbeucler/default/raw_data/ECMWF_AI/sfno/pl_2024-03-28_00:00:00.nc\n"
     ]
    },
    {
     "name": "stderr",
     "output_type": "stream",
     "text": [
      "/work/FAC/FGSE/IDYST/tbeucler/default/mfeldman/miniforge3/envs/wb/lib/python3.11/site-packages/metpy/calc/thermo.py:1396: RuntimeWarning: invalid value encountered in log\n",
      "  val = np.log(vapor_pressure / mpconsts.nounit.sat_pressure_0c)\n"
     ]
    },
    {
     "name": "stdout",
     "output_type": "stream",
     "text": [
      "sfno 2024-03-28T00\n",
      "/work/FAC/FGSE/IDYST/tbeucler/default/raw_data/ECMWF_AI/sfno/pl_2024-03-28_12:00:00.nc\n"
     ]
    },
    {
     "name": "stderr",
     "output_type": "stream",
     "text": [
      "/work/FAC/FGSE/IDYST/tbeucler/default/mfeldman/miniforge3/envs/wb/lib/python3.11/site-packages/metpy/calc/thermo.py:1396: RuntimeWarning: invalid value encountered in log\n",
      "  val = np.log(vapor_pressure / mpconsts.nounit.sat_pressure_0c)\n"
     ]
    },
    {
     "name": "stdout",
     "output_type": "stream",
     "text": [
      "sfno 2024-03-28T12\n",
      "/work/FAC/FGSE/IDYST/tbeucler/default/raw_data/ECMWF_AI/sfno/pl_2024-03-29_00:00:00.nc\n"
     ]
    },
    {
     "name": "stderr",
     "output_type": "stream",
     "text": [
      "/work/FAC/FGSE/IDYST/tbeucler/default/mfeldman/miniforge3/envs/wb/lib/python3.11/site-packages/metpy/calc/thermo.py:1396: RuntimeWarning: invalid value encountered in log\n",
      "  val = np.log(vapor_pressure / mpconsts.nounit.sat_pressure_0c)\n"
     ]
    },
    {
     "name": "stdout",
     "output_type": "stream",
     "text": [
      "sfno 2024-03-29T00\n",
      "/work/FAC/FGSE/IDYST/tbeucler/default/raw_data/ECMWF_AI/sfno/pl_2024-03-29_12:00:00.nc\n"
     ]
    },
    {
     "name": "stderr",
     "output_type": "stream",
     "text": [
      "/work/FAC/FGSE/IDYST/tbeucler/default/mfeldman/miniforge3/envs/wb/lib/python3.11/site-packages/metpy/calc/thermo.py:1396: RuntimeWarning: invalid value encountered in log\n",
      "  val = np.log(vapor_pressure / mpconsts.nounit.sat_pressure_0c)\n"
     ]
    },
    {
     "name": "stdout",
     "output_type": "stream",
     "text": [
      "sfno 2024-03-29T12\n",
      "/work/FAC/FGSE/IDYST/tbeucler/default/raw_data/ECMWF_AI/sfno/pl_2024-03-30_00:00:00.nc\n"
     ]
    },
    {
     "name": "stderr",
     "output_type": "stream",
     "text": [
      "/work/FAC/FGSE/IDYST/tbeucler/default/mfeldman/miniforge3/envs/wb/lib/python3.11/site-packages/metpy/calc/thermo.py:1396: RuntimeWarning: invalid value encountered in log\n",
      "  val = np.log(vapor_pressure / mpconsts.nounit.sat_pressure_0c)\n"
     ]
    },
    {
     "name": "stdout",
     "output_type": "stream",
     "text": [
      "sfno 2024-03-30T00\n",
      "/work/FAC/FGSE/IDYST/tbeucler/default/raw_data/ECMWF_AI/sfno/pl_2024-03-30_12:00:00.nc\n"
     ]
    },
    {
     "name": "stderr",
     "output_type": "stream",
     "text": [
      "/work/FAC/FGSE/IDYST/tbeucler/default/mfeldman/miniforge3/envs/wb/lib/python3.11/site-packages/metpy/calc/thermo.py:1396: RuntimeWarning: invalid value encountered in log\n",
      "  val = np.log(vapor_pressure / mpconsts.nounit.sat_pressure_0c)\n"
     ]
    },
    {
     "name": "stdout",
     "output_type": "stream",
     "text": [
      "sfno 2024-03-30T12\n",
      "/work/FAC/FGSE/IDYST/tbeucler/default/raw_data/ECMWF_AI/sfno/pl_2024-03-31_00:00:00.nc\n"
     ]
    },
    {
     "name": "stderr",
     "output_type": "stream",
     "text": [
      "/work/FAC/FGSE/IDYST/tbeucler/default/mfeldman/miniforge3/envs/wb/lib/python3.11/site-packages/metpy/calc/thermo.py:1396: RuntimeWarning: invalid value encountered in log\n",
      "  val = np.log(vapor_pressure / mpconsts.nounit.sat_pressure_0c)\n"
     ]
    },
    {
     "name": "stdout",
     "output_type": "stream",
     "text": [
      "sfno 2024-03-31T00\n",
      "/work/FAC/FGSE/IDYST/tbeucler/default/raw_data/ECMWF_AI/sfno/pl_2024-03-31_12:00:00.nc\n"
     ]
    },
    {
     "name": "stderr",
     "output_type": "stream",
     "text": [
      "/work/FAC/FGSE/IDYST/tbeucler/default/mfeldman/miniforge3/envs/wb/lib/python3.11/site-packages/metpy/calc/thermo.py:1396: RuntimeWarning: invalid value encountered in log\n",
      "  val = np.log(vapor_pressure / mpconsts.nounit.sat_pressure_0c)\n"
     ]
    },
    {
     "name": "stdout",
     "output_type": "stream",
     "text": [
      "sfno 2024-03-31T12\n",
      "/work/FAC/FGSE/IDYST/tbeucler/default/raw_data/ECMWF_AI/sfno/pl_2024-04-01_00:00:00.nc\n"
     ]
    },
    {
     "name": "stderr",
     "output_type": "stream",
     "text": [
      "/work/FAC/FGSE/IDYST/tbeucler/default/mfeldman/miniforge3/envs/wb/lib/python3.11/site-packages/metpy/calc/thermo.py:1396: RuntimeWarning: invalid value encountered in log\n",
      "  val = np.log(vapor_pressure / mpconsts.nounit.sat_pressure_0c)\n"
     ]
    },
    {
     "name": "stdout",
     "output_type": "stream",
     "text": [
      "sfno 2024-04-01T00\n",
      "/work/FAC/FGSE/IDYST/tbeucler/default/raw_data/ECMWF_AI/sfno/pl_2024-04-01_12:00:00.nc\n"
     ]
    },
    {
     "name": "stderr",
     "output_type": "stream",
     "text": [
      "/work/FAC/FGSE/IDYST/tbeucler/default/mfeldman/miniforge3/envs/wb/lib/python3.11/site-packages/metpy/calc/thermo.py:1396: RuntimeWarning: invalid value encountered in log\n",
      "  val = np.log(vapor_pressure / mpconsts.nounit.sat_pressure_0c)\n"
     ]
    },
    {
     "name": "stdout",
     "output_type": "stream",
     "text": [
      "sfno 2024-04-01T12\n",
      "/work/FAC/FGSE/IDYST/tbeucler/default/raw_data/ECMWF_AI/sfno/pl_2024-04-02_00:00:00.nc\n"
     ]
    },
    {
     "name": "stderr",
     "output_type": "stream",
     "text": [
      "/tmp/ipykernel_3689385/3985743562.py:48: UserWarning: Relative humidity >120%, ensure proper units.\n",
      "  dplevel=metpy.calc.dewpoint_from_relative_humidity(tlevel.values* units('K'), rlevel.values* units.percent)\n",
      "/work/FAC/FGSE/IDYST/tbeucler/default/mfeldman/miniforge3/envs/wb/lib/python3.11/site-packages/metpy/calc/thermo.py:1396: RuntimeWarning: invalid value encountered in log\n",
      "  val = np.log(vapor_pressure / mpconsts.nounit.sat_pressure_0c)\n"
     ]
    },
    {
     "name": "stdout",
     "output_type": "stream",
     "text": [
      "sfno 2024-04-02T00\n",
      "/work/FAC/FGSE/IDYST/tbeucler/default/raw_data/ECMWF_AI/sfno/pl_2024-04-02_12:00:00.nc\n"
     ]
    },
    {
     "name": "stderr",
     "output_type": "stream",
     "text": [
      "/tmp/ipykernel_3689385/3985743562.py:48: UserWarning: Relative humidity >120%, ensure proper units.\n",
      "  dplevel=metpy.calc.dewpoint_from_relative_humidity(tlevel.values* units('K'), rlevel.values* units.percent)\n",
      "/work/FAC/FGSE/IDYST/tbeucler/default/mfeldman/miniforge3/envs/wb/lib/python3.11/site-packages/metpy/calc/thermo.py:1396: RuntimeWarning: invalid value encountered in log\n",
      "  val = np.log(vapor_pressure / mpconsts.nounit.sat_pressure_0c)\n"
     ]
    },
    {
     "name": "stdout",
     "output_type": "stream",
     "text": [
      "sfno 2024-04-02T12\n",
      "/work/FAC/FGSE/IDYST/tbeucler/default/raw_data/ECMWF_AI/sfno/pl_2024-04-03_00:00:00.nc\n"
     ]
    },
    {
     "name": "stderr",
     "output_type": "stream",
     "text": [
      "/work/FAC/FGSE/IDYST/tbeucler/default/mfeldman/miniforge3/envs/wb/lib/python3.11/site-packages/metpy/calc/thermo.py:1396: RuntimeWarning: invalid value encountered in log\n",
      "  val = np.log(vapor_pressure / mpconsts.nounit.sat_pressure_0c)\n"
     ]
    },
    {
     "name": "stdout",
     "output_type": "stream",
     "text": [
      "sfno 2024-04-03T00\n",
      "/work/FAC/FGSE/IDYST/tbeucler/default/raw_data/ECMWF_AI/sfno/pl_2024-04-03_12:00:00.nc\n"
     ]
    },
    {
     "name": "stderr",
     "output_type": "stream",
     "text": [
      "/tmp/ipykernel_3689385/3985743562.py:48: UserWarning: Relative humidity >120%, ensure proper units.\n",
      "  dplevel=metpy.calc.dewpoint_from_relative_humidity(tlevel.values* units('K'), rlevel.values* units.percent)\n",
      "/work/FAC/FGSE/IDYST/tbeucler/default/mfeldman/miniforge3/envs/wb/lib/python3.11/site-packages/metpy/calc/thermo.py:1396: RuntimeWarning: invalid value encountered in log\n",
      "  val = np.log(vapor_pressure / mpconsts.nounit.sat_pressure_0c)\n"
     ]
    },
    {
     "name": "stdout",
     "output_type": "stream",
     "text": [
      "sfno 2024-04-03T12\n",
      "/work/FAC/FGSE/IDYST/tbeucler/default/raw_data/ECMWF_AI/fuxi/pl_2024-03-23_00:00:00.nc\n"
     ]
    },
    {
     "name": "stderr",
     "output_type": "stream",
     "text": [
      "/work/FAC/FGSE/IDYST/tbeucler/default/mfeldman/miniforge3/envs/wb/lib/python3.11/site-packages/metpy/calc/thermo.py:1396: RuntimeWarning: invalid value encountered in log\n",
      "  val = np.log(vapor_pressure / mpconsts.nounit.sat_pressure_0c)\n"
     ]
    },
    {
     "name": "stdout",
     "output_type": "stream",
     "text": [
      "fuxi 2024-03-23T00\n",
      "/work/FAC/FGSE/IDYST/tbeucler/default/raw_data/ECMWF_AI/fuxi/pl_2024-03-23_12:00:00.nc\n"
     ]
    },
    {
     "name": "stderr",
     "output_type": "stream",
     "text": [
      "/work/FAC/FGSE/IDYST/tbeucler/default/mfeldman/miniforge3/envs/wb/lib/python3.11/site-packages/metpy/calc/thermo.py:1396: RuntimeWarning: invalid value encountered in log\n",
      "  val = np.log(vapor_pressure / mpconsts.nounit.sat_pressure_0c)\n"
     ]
    },
    {
     "name": "stdout",
     "output_type": "stream",
     "text": [
      "fuxi 2024-03-23T12\n",
      "/work/FAC/FGSE/IDYST/tbeucler/default/raw_data/ECMWF_AI/fuxi/pl_2024-03-24_00:00:00.nc\n"
     ]
    },
    {
     "name": "stderr",
     "output_type": "stream",
     "text": [
      "/work/FAC/FGSE/IDYST/tbeucler/default/mfeldman/miniforge3/envs/wb/lib/python3.11/site-packages/metpy/calc/thermo.py:1396: RuntimeWarning: invalid value encountered in log\n",
      "  val = np.log(vapor_pressure / mpconsts.nounit.sat_pressure_0c)\n"
     ]
    },
    {
     "name": "stdout",
     "output_type": "stream",
     "text": [
      "fuxi 2024-03-24T00\n",
      "/work/FAC/FGSE/IDYST/tbeucler/default/raw_data/ECMWF_AI/fuxi/pl_2024-03-24_12:00:00.nc\n"
     ]
    },
    {
     "name": "stderr",
     "output_type": "stream",
     "text": [
      "/work/FAC/FGSE/IDYST/tbeucler/default/mfeldman/miniforge3/envs/wb/lib/python3.11/site-packages/metpy/calc/thermo.py:1396: RuntimeWarning: invalid value encountered in log\n",
      "  val = np.log(vapor_pressure / mpconsts.nounit.sat_pressure_0c)\n"
     ]
    },
    {
     "name": "stdout",
     "output_type": "stream",
     "text": [
      "fuxi 2024-03-24T12\n",
      "/work/FAC/FGSE/IDYST/tbeucler/default/raw_data/ECMWF_AI/fuxi/pl_2024-03-25_00:00:00.nc\n"
     ]
    },
    {
     "name": "stderr",
     "output_type": "stream",
     "text": [
      "/work/FAC/FGSE/IDYST/tbeucler/default/mfeldman/miniforge3/envs/wb/lib/python3.11/site-packages/metpy/calc/thermo.py:1396: RuntimeWarning: invalid value encountered in log\n",
      "  val = np.log(vapor_pressure / mpconsts.nounit.sat_pressure_0c)\n"
     ]
    },
    {
     "name": "stdout",
     "output_type": "stream",
     "text": [
      "fuxi 2024-03-25T00\n",
      "/work/FAC/FGSE/IDYST/tbeucler/default/raw_data/ECMWF_AI/fuxi/pl_2024-03-25_12:00:00.nc\n"
     ]
    },
    {
     "name": "stderr",
     "output_type": "stream",
     "text": [
      "/work/FAC/FGSE/IDYST/tbeucler/default/mfeldman/miniforge3/envs/wb/lib/python3.11/site-packages/metpy/calc/thermo.py:1396: RuntimeWarning: invalid value encountered in log\n",
      "  val = np.log(vapor_pressure / mpconsts.nounit.sat_pressure_0c)\n"
     ]
    },
    {
     "name": "stdout",
     "output_type": "stream",
     "text": [
      "fuxi 2024-03-25T12\n",
      "/work/FAC/FGSE/IDYST/tbeucler/default/raw_data/ECMWF_AI/fuxi/pl_2024-03-26_00:00:00.nc\n"
     ]
    },
    {
     "name": "stderr",
     "output_type": "stream",
     "text": [
      "/tmp/ipykernel_3689385/3985743562.py:48: UserWarning: Relative humidity >120%, ensure proper units.\n",
      "  dplevel=metpy.calc.dewpoint_from_relative_humidity(tlevel.values* units('K'), rlevel.values* units.percent)\n",
      "/work/FAC/FGSE/IDYST/tbeucler/default/mfeldman/miniforge3/envs/wb/lib/python3.11/site-packages/metpy/calc/thermo.py:1396: RuntimeWarning: invalid value encountered in log\n",
      "  val = np.log(vapor_pressure / mpconsts.nounit.sat_pressure_0c)\n"
     ]
    },
    {
     "name": "stdout",
     "output_type": "stream",
     "text": [
      "fuxi 2024-03-26T00\n",
      "/work/FAC/FGSE/IDYST/tbeucler/default/raw_data/ECMWF_AI/fuxi/pl_2024-03-26_12:00:00.nc\n"
     ]
    },
    {
     "name": "stderr",
     "output_type": "stream",
     "text": [
      "/tmp/ipykernel_3689385/3985743562.py:48: UserWarning: Relative humidity >120%, ensure proper units.\n",
      "  dplevel=metpy.calc.dewpoint_from_relative_humidity(tlevel.values* units('K'), rlevel.values* units.percent)\n",
      "/work/FAC/FGSE/IDYST/tbeucler/default/mfeldman/miniforge3/envs/wb/lib/python3.11/site-packages/metpy/calc/thermo.py:1396: RuntimeWarning: invalid value encountered in log\n",
      "  val = np.log(vapor_pressure / mpconsts.nounit.sat_pressure_0c)\n"
     ]
    },
    {
     "name": "stdout",
     "output_type": "stream",
     "text": [
      "fuxi 2024-03-26T12\n",
      "/work/FAC/FGSE/IDYST/tbeucler/default/raw_data/ECMWF_AI/fuxi/pl_2024-03-27_00:00:00.nc\n"
     ]
    },
    {
     "name": "stderr",
     "output_type": "stream",
     "text": [
      "/work/FAC/FGSE/IDYST/tbeucler/default/mfeldman/miniforge3/envs/wb/lib/python3.11/site-packages/metpy/calc/thermo.py:1396: RuntimeWarning: invalid value encountered in log\n",
      "  val = np.log(vapor_pressure / mpconsts.nounit.sat_pressure_0c)\n"
     ]
    },
    {
     "name": "stdout",
     "output_type": "stream",
     "text": [
      "fuxi 2024-03-27T00\n",
      "/work/FAC/FGSE/IDYST/tbeucler/default/raw_data/ECMWF_AI/fuxi/pl_2024-03-27_12:00:00.nc\n"
     ]
    },
    {
     "name": "stderr",
     "output_type": "stream",
     "text": [
      "/work/FAC/FGSE/IDYST/tbeucler/default/mfeldman/miniforge3/envs/wb/lib/python3.11/site-packages/metpy/calc/thermo.py:1396: RuntimeWarning: invalid value encountered in log\n",
      "  val = np.log(vapor_pressure / mpconsts.nounit.sat_pressure_0c)\n"
     ]
    },
    {
     "name": "stdout",
     "output_type": "stream",
     "text": [
      "fuxi 2024-03-27T12\n",
      "/work/FAC/FGSE/IDYST/tbeucler/default/raw_data/ECMWF_AI/fuxi/pl_2024-03-28_00:00:00.nc\n"
     ]
    },
    {
     "name": "stderr",
     "output_type": "stream",
     "text": [
      "/tmp/ipykernel_3689385/3985743562.py:48: UserWarning: Relative humidity >120%, ensure proper units.\n",
      "  dplevel=metpy.calc.dewpoint_from_relative_humidity(tlevel.values* units('K'), rlevel.values* units.percent)\n",
      "/work/FAC/FGSE/IDYST/tbeucler/default/mfeldman/miniforge3/envs/wb/lib/python3.11/site-packages/metpy/calc/thermo.py:1396: RuntimeWarning: invalid value encountered in log\n",
      "  val = np.log(vapor_pressure / mpconsts.nounit.sat_pressure_0c)\n"
     ]
    },
    {
     "name": "stdout",
     "output_type": "stream",
     "text": [
      "fuxi 2024-03-28T00\n",
      "/work/FAC/FGSE/IDYST/tbeucler/default/raw_data/ECMWF_AI/fuxi/pl_2024-03-28_12:00:00.nc\n"
     ]
    },
    {
     "name": "stderr",
     "output_type": "stream",
     "text": [
      "/tmp/ipykernel_3689385/3985743562.py:48: UserWarning: Relative humidity >120%, ensure proper units.\n",
      "  dplevel=metpy.calc.dewpoint_from_relative_humidity(tlevel.values* units('K'), rlevel.values* units.percent)\n",
      "/work/FAC/FGSE/IDYST/tbeucler/default/mfeldman/miniforge3/envs/wb/lib/python3.11/site-packages/metpy/calc/thermo.py:1396: RuntimeWarning: invalid value encountered in log\n",
      "  val = np.log(vapor_pressure / mpconsts.nounit.sat_pressure_0c)\n"
     ]
    },
    {
     "name": "stdout",
     "output_type": "stream",
     "text": [
      "fuxi 2024-03-28T12\n",
      "/work/FAC/FGSE/IDYST/tbeucler/default/raw_data/ECMWF_AI/fuxi/pl_2024-03-29_00:00:00.nc\n"
     ]
    },
    {
     "name": "stderr",
     "output_type": "stream",
     "text": [
      "/tmp/ipykernel_3689385/3985743562.py:48: UserWarning: Relative humidity >120%, ensure proper units.\n",
      "  dplevel=metpy.calc.dewpoint_from_relative_humidity(tlevel.values* units('K'), rlevel.values* units.percent)\n",
      "/work/FAC/FGSE/IDYST/tbeucler/default/mfeldman/miniforge3/envs/wb/lib/python3.11/site-packages/metpy/calc/thermo.py:1396: RuntimeWarning: invalid value encountered in log\n",
      "  val = np.log(vapor_pressure / mpconsts.nounit.sat_pressure_0c)\n"
     ]
    },
    {
     "name": "stdout",
     "output_type": "stream",
     "text": [
      "fuxi 2024-03-29T00\n",
      "/work/FAC/FGSE/IDYST/tbeucler/default/raw_data/ECMWF_AI/fuxi/pl_2024-03-29_12:00:00.nc\n"
     ]
    },
    {
     "name": "stderr",
     "output_type": "stream",
     "text": [
      "/tmp/ipykernel_3689385/3985743562.py:48: UserWarning: Relative humidity >120%, ensure proper units.\n",
      "  dplevel=metpy.calc.dewpoint_from_relative_humidity(tlevel.values* units('K'), rlevel.values* units.percent)\n",
      "/work/FAC/FGSE/IDYST/tbeucler/default/mfeldman/miniforge3/envs/wb/lib/python3.11/site-packages/metpy/calc/thermo.py:1396: RuntimeWarning: invalid value encountered in log\n",
      "  val = np.log(vapor_pressure / mpconsts.nounit.sat_pressure_0c)\n"
     ]
    },
    {
     "name": "stdout",
     "output_type": "stream",
     "text": [
      "fuxi 2024-03-29T12\n",
      "/work/FAC/FGSE/IDYST/tbeucler/default/raw_data/ECMWF_AI/fuxi/pl_2024-03-30_00:00:00.nc\n"
     ]
    },
    {
     "name": "stderr",
     "output_type": "stream",
     "text": [
      "/tmp/ipykernel_3689385/3985743562.py:48: UserWarning: Relative humidity >120%, ensure proper units.\n",
      "  dplevel=metpy.calc.dewpoint_from_relative_humidity(tlevel.values* units('K'), rlevel.values* units.percent)\n",
      "/work/FAC/FGSE/IDYST/tbeucler/default/mfeldman/miniforge3/envs/wb/lib/python3.11/site-packages/metpy/calc/thermo.py:1396: RuntimeWarning: invalid value encountered in log\n",
      "  val = np.log(vapor_pressure / mpconsts.nounit.sat_pressure_0c)\n"
     ]
    },
    {
     "name": "stdout",
     "output_type": "stream",
     "text": [
      "fuxi 2024-03-30T00\n",
      "/work/FAC/FGSE/IDYST/tbeucler/default/raw_data/ECMWF_AI/fuxi/pl_2024-03-30_12:00:00.nc\n"
     ]
    },
    {
     "name": "stderr",
     "output_type": "stream",
     "text": [
      "/work/FAC/FGSE/IDYST/tbeucler/default/mfeldman/miniforge3/envs/wb/lib/python3.11/site-packages/metpy/calc/thermo.py:1396: RuntimeWarning: invalid value encountered in log\n",
      "  val = np.log(vapor_pressure / mpconsts.nounit.sat_pressure_0c)\n"
     ]
    },
    {
     "name": "stdout",
     "output_type": "stream",
     "text": [
      "fuxi 2024-03-30T12\n",
      "/work/FAC/FGSE/IDYST/tbeucler/default/raw_data/ECMWF_AI/fuxi/pl_2024-03-31_00:00:00.nc\n"
     ]
    },
    {
     "name": "stderr",
     "output_type": "stream",
     "text": [
      "/work/FAC/FGSE/IDYST/tbeucler/default/mfeldman/miniforge3/envs/wb/lib/python3.11/site-packages/metpy/calc/thermo.py:1396: RuntimeWarning: invalid value encountered in log\n",
      "  val = np.log(vapor_pressure / mpconsts.nounit.sat_pressure_0c)\n"
     ]
    },
    {
     "name": "stdout",
     "output_type": "stream",
     "text": [
      "fuxi 2024-03-31T00\n",
      "/work/FAC/FGSE/IDYST/tbeucler/default/raw_data/ECMWF_AI/fuxi/pl_2024-03-31_12:00:00.nc\n"
     ]
    },
    {
     "name": "stderr",
     "output_type": "stream",
     "text": [
      "/work/FAC/FGSE/IDYST/tbeucler/default/mfeldman/miniforge3/envs/wb/lib/python3.11/site-packages/metpy/calc/thermo.py:1396: RuntimeWarning: invalid value encountered in log\n",
      "  val = np.log(vapor_pressure / mpconsts.nounit.sat_pressure_0c)\n"
     ]
    },
    {
     "name": "stdout",
     "output_type": "stream",
     "text": [
      "fuxi 2024-03-31T12\n",
      "/work/FAC/FGSE/IDYST/tbeucler/default/raw_data/ECMWF_AI/fuxi/pl_2024-04-01_00:00:00.nc\n"
     ]
    },
    {
     "name": "stderr",
     "output_type": "stream",
     "text": [
      "/tmp/ipykernel_3689385/3985743562.py:48: UserWarning: Relative humidity >120%, ensure proper units.\n",
      "  dplevel=metpy.calc.dewpoint_from_relative_humidity(tlevel.values* units('K'), rlevel.values* units.percent)\n",
      "/work/FAC/FGSE/IDYST/tbeucler/default/mfeldman/miniforge3/envs/wb/lib/python3.11/site-packages/metpy/calc/thermo.py:1396: RuntimeWarning: invalid value encountered in log\n",
      "  val = np.log(vapor_pressure / mpconsts.nounit.sat_pressure_0c)\n"
     ]
    },
    {
     "name": "stdout",
     "output_type": "stream",
     "text": [
      "fuxi 2024-04-01T00\n",
      "/work/FAC/FGSE/IDYST/tbeucler/default/raw_data/ECMWF_AI/fuxi/pl_2024-04-01_12:00:00.nc\n"
     ]
    },
    {
     "name": "stderr",
     "output_type": "stream",
     "text": [
      "/work/FAC/FGSE/IDYST/tbeucler/default/mfeldman/miniforge3/envs/wb/lib/python3.11/site-packages/metpy/calc/thermo.py:1396: RuntimeWarning: invalid value encountered in log\n",
      "  val = np.log(vapor_pressure / mpconsts.nounit.sat_pressure_0c)\n"
     ]
    },
    {
     "name": "stdout",
     "output_type": "stream",
     "text": [
      "fuxi 2024-04-01T12\n",
      "/work/FAC/FGSE/IDYST/tbeucler/default/raw_data/ECMWF_AI/fuxi/pl_2024-04-02_00:00:00.nc\n"
     ]
    },
    {
     "name": "stderr",
     "output_type": "stream",
     "text": [
      "/tmp/ipykernel_3689385/3985743562.py:48: UserWarning: Relative humidity >120%, ensure proper units.\n",
      "  dplevel=metpy.calc.dewpoint_from_relative_humidity(tlevel.values* units('K'), rlevel.values* units.percent)\n",
      "/work/FAC/FGSE/IDYST/tbeucler/default/mfeldman/miniforge3/envs/wb/lib/python3.11/site-packages/metpy/calc/thermo.py:1396: RuntimeWarning: invalid value encountered in log\n",
      "  val = np.log(vapor_pressure / mpconsts.nounit.sat_pressure_0c)\n"
     ]
    },
    {
     "name": "stdout",
     "output_type": "stream",
     "text": [
      "fuxi 2024-04-02T00\n",
      "/work/FAC/FGSE/IDYST/tbeucler/default/raw_data/ECMWF_AI/fuxi/pl_2024-04-02_12:00:00.nc\n"
     ]
    },
    {
     "name": "stderr",
     "output_type": "stream",
     "text": [
      "/tmp/ipykernel_3689385/3985743562.py:48: UserWarning: Relative humidity >120%, ensure proper units.\n",
      "  dplevel=metpy.calc.dewpoint_from_relative_humidity(tlevel.values* units('K'), rlevel.values* units.percent)\n",
      "/work/FAC/FGSE/IDYST/tbeucler/default/mfeldman/miniforge3/envs/wb/lib/python3.11/site-packages/metpy/calc/thermo.py:1396: RuntimeWarning: invalid value encountered in log\n",
      "  val = np.log(vapor_pressure / mpconsts.nounit.sat_pressure_0c)\n"
     ]
    },
    {
     "name": "stdout",
     "output_type": "stream",
     "text": [
      "fuxi 2024-04-02T12\n",
      "/work/FAC/FGSE/IDYST/tbeucler/default/raw_data/ECMWF_AI/fuxi/pl_2024-04-03_00:00:00.nc\n"
     ]
    },
    {
     "name": "stderr",
     "output_type": "stream",
     "text": [
      "/tmp/ipykernel_3689385/3985743562.py:48: UserWarning: Relative humidity >120%, ensure proper units.\n",
      "  dplevel=metpy.calc.dewpoint_from_relative_humidity(tlevel.values* units('K'), rlevel.values* units.percent)\n",
      "/work/FAC/FGSE/IDYST/tbeucler/default/mfeldman/miniforge3/envs/wb/lib/python3.11/site-packages/metpy/calc/thermo.py:1396: RuntimeWarning: invalid value encountered in log\n",
      "  val = np.log(vapor_pressure / mpconsts.nounit.sat_pressure_0c)\n"
     ]
    },
    {
     "name": "stdout",
     "output_type": "stream",
     "text": [
      "fuxi 2024-04-03T00\n",
      "/work/FAC/FGSE/IDYST/tbeucler/default/raw_data/ECMWF_AI/fuxi/pl_2024-04-03_12:00:00.nc\n"
     ]
    },
    {
     "name": "stderr",
     "output_type": "stream",
     "text": [
      "/tmp/ipykernel_3689385/3985743562.py:48: UserWarning: Relative humidity >120%, ensure proper units.\n",
      "  dplevel=metpy.calc.dewpoint_from_relative_humidity(tlevel.values* units('K'), rlevel.values* units.percent)\n",
      "/work/FAC/FGSE/IDYST/tbeucler/default/mfeldman/miniforge3/envs/wb/lib/python3.11/site-packages/metpy/calc/thermo.py:1396: RuntimeWarning: invalid value encountered in log\n",
      "  val = np.log(vapor_pressure / mpconsts.nounit.sat_pressure_0c)\n"
     ]
    },
    {
     "name": "stdout",
     "output_type": "stream",
     "text": [
      "fuxi 2024-04-03T12\n"
     ]
    }
   ],
   "source": [
    "era5='gs://weatherbench2/datasets/era5/1959-2022-6h-1440x721.zarr'\n",
    "xr_era5=xr.open_zarr(era5).sortby('latitude')\n",
    "xr_era5=xr_era5.sel(time=xr_era5.time.dt.year.isin([2020]))\n",
    "xr_era5=xr_era5.sel(time=xr_era5.time.dt.month.isin([4]))#np.arange(3,10)))\n",
    "xr_era5=xr_era5.sel(time=xr_era5.time.dt.day.isin([2,3]),latitude=slice(20,50),longitude=slice(250,300))\n",
    "zsurf_c=xr_era5['geopotential_at_surface']\n",
    "\n",
    "models2=['sfno','fuxi']\n",
    "year=2024; month=4; day=np.arange(2,4,1); days=day[0]-np.arange(1,10)\n",
    "print(days)\n",
    "latslice2=slice(20,50)\n",
    "for model in models2[:]:\n",
    "    files_pl=sorted(glob(datapath+model+'/pl*.nc'))\n",
    "    files_sfc=sorted(glob(datapath+model+'/sfc*.nc'))\n",
    "    for nn in range(len(files_pl))[:]:\n",
    "        st=datetime.datetime(2024,4,2,0)\n",
    "        et=datetime.datetime(2024,4,3,23)\n",
    "\n",
    "\n",
    "        print(files_pl[nn])\n",
    "        xr_pl=xr.open_dataset(files_pl[nn]).sortby('latitude')\n",
    "        init=np.datetime_as_string(xr_pl.time[0].values,'h')\n",
    "        \n",
    "        xr_pl=xr_pl.sel(time=xr_pl.time.dt.year.isin([year]))\n",
    "        xr_pl=xr_pl.sel(time=xr_pl.time.dt.month.isin([month]))\n",
    "        xr_pl=xr_pl.sel(time=xr_pl.time.dt.day.isin([day]))\n",
    "        \n",
    "        xr_sfc=xr.open_dataset(files_sfc[nn]).sortby('latitude')\n",
    "        xr_sfc=xr_sfc.sel(time=xr_sfc.time.dt.year.isin([year]))\n",
    "        xr_sfc=xr_sfc.sel(time=xr_sfc.time.dt.month.isin([month]))\n",
    "        xr_sfc=xr_sfc.sel(time=xr_sfc.time.dt.day.isin([day]))\n",
    "\n",
    "\n",
    "        xr_pl = xr_pl.sortby('level', ascending=False)\n",
    "        \n",
    "        plevel=copy.deepcopy(xr_pl.level.values)\n",
    "        \n",
    "        tlevel=xr_pl.t\n",
    "        rlevel=xr_pl.r\n",
    "        plevel_dim=np.ones([1,len(plevel),1,1])\n",
    "        zlevel=xr_pl.z\n",
    "        ulevel=xr_pl.u\n",
    "        vlevel=xr_pl.v\n",
    "        for n1 in range(len(plevel.data)):\n",
    "            plevel_dim[0,n1,0,0]=plevel[n1]\n",
    "        plevel_exp=(tlevel/tlevel)*plevel_dim\n",
    "\n",
    "        dplevel=metpy.calc.dewpoint_from_relative_humidity(tlevel.values* units('K'), rlevel.values* units.percent)\n",
    "        qlevel=metpy.calc.specific_humidity_from_dewpoint(plevel_exp.values* units('hPa'), dplevel).to('kg/kg').magnitude\n",
    "        \n",
    "        psurf=xr_sfc.msl\n",
    "        tsurf=xr_sfc.t2m\n",
    "        zsurf = zsurf_c.expand_dims(dim={\"time\": psurf.time}, axis=0)\n",
    "        # zsurf = zsurf.expand_dims(dim={\"time\": psurf.time}, axis=1)\n",
    "        \n",
    "        ps=psurf/100\n",
    "        zs=zsurf/9.81\n",
    "        zl=zlevel/9.81\n",
    "\n",
    "        q1level=copy.deepcopy(tlevel)\n",
    "        q1level.data=qlevel\n",
    "        \n",
    "        mod_inst=wrf.cape_2d(pres_hpa=plevel_exp, tkel=tlevel, qv=q1level, height=zl, terrain=zs, psfc_hpa=psurf, ter_follow=False)\n",
    "        mod_inst=mod_inst.assign_coords(longitude=psurf.longitude.values);\n",
    "        mod_inst=mod_inst.assign_coords(latitude=psurf.latitude.values);\n",
    "        mod_inst=mod_inst.assign_coords(time=psurf.time.values)\n",
    "\n",
    "        du_01=ulevel.sel(level=850)-xr_sfc.u10; dv_01=vlevel.sel(level=850)-xr_sfc.v10\n",
    "        du_03=ulevel.sel(level=700)-xr_sfc.u10; dv_03=vlevel.sel(level=700)-xr_sfc.v10\n",
    "        du_06=ulevel.sel(level=500)-xr_sfc.u10; dv_06=vlevel.sel(level=500)-xr_sfc.v10\n",
    "        \n",
    "        bs_01=( du_01**2 + dv_01**2 )**0.5\n",
    "        bs_03=( du_03**2 + dv_03**2 )**0.5\n",
    "        bs_06=( du_06**2 + dv_06**2 )**0.5\n",
    "        \n",
    "        du_01=du_01.to_dataset(name='du_01')\n",
    "        dv_01=dv_01.to_dataset(name='dv_01')\n",
    "        bs_01=bs_01.to_dataset(name='bs_01')\n",
    "        du_03=du_03.to_dataset(name='du_03')\n",
    "        dv_03=dv_03.to_dataset(name='dv_03')\n",
    "        bs_03=bs_03.to_dataset(name='bs_03')\n",
    "        du_06=du_06.to_dataset(name='du_06')\n",
    "        dv_06=dv_06.to_dataset(name='dv_06')\n",
    "        bs_06=bs_06.to_dataset(name='bs_06')\n",
    "        \n",
    "        mod_params=xr.merge([du_01,dv_01,bs_01,du_03,dv_03,bs_03,du_06,dv_06,bs_06],compat='override')\n",
    "        #mod_params=mod_params.squeeze(dim='level')\n",
    "        mod_params['cape']=mod_inst.sel(mcape_mcin_lcl_lfc='mcape')\n",
    "        mod_params['cin']=mod_inst.sel(mcape_mcin_lcl_lfc='mcin')\n",
    "        mod_params['lcl']=mod_inst.sel(mcape_mcin_lcl_lfc='lcl')\n",
    "        mod_params['lfc']=mod_inst.sel(mcape_mcin_lcl_lfc='lfc')#.squeeze(dim='mcape_mcin_lcl_lfc')\n",
    "        mod_params['q500']=q1level.sel(level=500).squeeze()*100\n",
    "        mod_params['r500']=rlevel.sel(level=500).squeeze()*100\n",
    "        mod_params['t500']=tlevel.sel(level=500).squeeze()\n",
    "        mod_params['q925']=q1level.sel(level=925).squeeze()*100\n",
    "        mod_params['r925']=rlevel.sel(level=925).squeeze()*100\n",
    "        mod_params['t925']=tlevel.sel(level=925).squeeze()\n",
    "        print(model,init)\n",
    "        # p=plt.imshow(q1level.sel(level=925)[-1,:,:])\n",
    "        # plt.colorbar(p)\n",
    "        # plt.show()\n",
    "        mod_params.to_netcdf(datapath+'postproc/'+model+'_'+init+'.nc')\n",
    "\n",
    "        # cm=plt.cm.Reds\n",
    "        # cm.set_under(color=\"grey\")\n",
    "        # cm.set_bad(color=\"grey\")\n",
    "        # p = mod_params.cape.sel(latitude=slice(20,40),longitude=slice(260,290)).plot(x=\"longitude\", y=\"latitude\", col=\"time\", col_wrap=4,transform=ccrs.PlateCarree(), subplot_kws={'projection':ccrs.PlateCarree()}\\\n",
    "        #                 ,cmap=cm,vmin=200,vmax=1500,levels=np.arange(200,1500,100),extend='both')# col_wrap=4)\n",
    "        # for ax in p.axs.flat:\n",
    "        #                 ax.coastlines()\n",
    "        # f=p.fig\n",
    "        # f.savefig(figpath+model+'_'+init+'_cape.png',  dpi=300, bbox_inches='tight')\n",
    "        # plt.close()\n",
    "        \n",
    "        # cm=plt.cm.Reds\n",
    "        # cm.set_under(color=\"grey\")\n",
    "        # cm.set_bad(color=\"grey\")\n",
    "        # p = mod_params.bs_06.sel(latitude=slice(20,40),longitude=slice(260,290)).plot(x=\"longitude\", y=\"latitude\", col=\"time\", col_wrap=4,transform=ccrs.PlateCarree(), subplot_kws={'projection':ccrs.PlateCarree()}\\\n",
    "        #                 ,cmap=cm,vmin=5,vmax=30,levels=np.arange(5,32,2),extend='both')# col_wrap=4)\n",
    "        # for ax in p.axs.flat:\n",
    "        #                 ax.coastlines()\n",
    "        # f=p.fig\n",
    "        # f.savefig(figpath+model+'_'+init+'_bs_06.png',  dpi=300, bbox_inches='tight')\n",
    "        # plt.close()\n",
    "        \n",
    "\n"
   ]
  },
  {
   "cell_type": "code",
   "execution_count": 14,
   "id": "a9d68127-75d4-4a50-af22-4e8731330707",
   "metadata": {},
   "outputs": [
    {
     "name": "stderr",
     "output_type": "stream",
     "text": [
      "/tmp/ipykernel_3689385/3299110031.py:1: DeprecationWarning: dropping variables using `drop` is deprecated; use drop_vars.\n",
      "  mod_params.drop(['level','mcape_mcin_lcl_lfc'])\n"
     ]
    },
    {
     "data": {
      "text/html": [
       "<div><svg style=\"position: absolute; width: 0; height: 0; overflow: hidden\">\n",
       "<defs>\n",
       "<symbol id=\"icon-database\" viewBox=\"0 0 32 32\">\n",
       "<path d=\"M16 0c-8.837 0-16 2.239-16 5v4c0 2.761 7.163 5 16 5s16-2.239 16-5v-4c0-2.761-7.163-5-16-5z\"></path>\n",
       "<path d=\"M16 17c-8.837 0-16-2.239-16-5v6c0 2.761 7.163 5 16 5s16-2.239 16-5v-6c0 2.761-7.163 5-16 5z\"></path>\n",
       "<path d=\"M16 26c-8.837 0-16-2.239-16-5v6c0 2.761 7.163 5 16 5s16-2.239 16-5v-6c0 2.761-7.163 5-16 5z\"></path>\n",
       "</symbol>\n",
       "<symbol id=\"icon-file-text2\" viewBox=\"0 0 32 32\">\n",
       "<path d=\"M28.681 7.159c-0.694-0.947-1.662-2.053-2.724-3.116s-2.169-2.030-3.116-2.724c-1.612-1.182-2.393-1.319-2.841-1.319h-15.5c-1.378 0-2.5 1.121-2.5 2.5v27c0 1.378 1.122 2.5 2.5 2.5h23c1.378 0 2.5-1.122 2.5-2.5v-19.5c0-0.448-0.137-1.23-1.319-2.841zM24.543 5.457c0.959 0.959 1.712 1.825 2.268 2.543h-4.811v-4.811c0.718 0.556 1.584 1.309 2.543 2.268zM28 29.5c0 0.271-0.229 0.5-0.5 0.5h-23c-0.271 0-0.5-0.229-0.5-0.5v-27c0-0.271 0.229-0.5 0.5-0.5 0 0 15.499-0 15.5 0v7c0 0.552 0.448 1 1 1h7v19.5z\"></path>\n",
       "<path d=\"M23 26h-14c-0.552 0-1-0.448-1-1s0.448-1 1-1h14c0.552 0 1 0.448 1 1s-0.448 1-1 1z\"></path>\n",
       "<path d=\"M23 22h-14c-0.552 0-1-0.448-1-1s0.448-1 1-1h14c0.552 0 1 0.448 1 1s-0.448 1-1 1z\"></path>\n",
       "<path d=\"M23 18h-14c-0.552 0-1-0.448-1-1s0.448-1 1-1h14c0.552 0 1 0.448 1 1s-0.448 1-1 1z\"></path>\n",
       "</symbol>\n",
       "</defs>\n",
       "</svg>\n",
       "<style>/* CSS stylesheet for displaying xarray objects in jupyterlab.\n",
       " *\n",
       " */\n",
       "\n",
       ":root {\n",
       "  --xr-font-color0: var(--jp-content-font-color0, rgba(0, 0, 0, 1));\n",
       "  --xr-font-color2: var(--jp-content-font-color2, rgba(0, 0, 0, 0.54));\n",
       "  --xr-font-color3: var(--jp-content-font-color3, rgba(0, 0, 0, 0.38));\n",
       "  --xr-border-color: var(--jp-border-color2, #e0e0e0);\n",
       "  --xr-disabled-color: var(--jp-layout-color3, #bdbdbd);\n",
       "  --xr-background-color: var(--jp-layout-color0, white);\n",
       "  --xr-background-color-row-even: var(--jp-layout-color1, white);\n",
       "  --xr-background-color-row-odd: var(--jp-layout-color2, #eeeeee);\n",
       "}\n",
       "\n",
       "html[theme=dark],\n",
       "body[data-theme=dark],\n",
       "body.vscode-dark {\n",
       "  --xr-font-color0: rgba(255, 255, 255, 1);\n",
       "  --xr-font-color2: rgba(255, 255, 255, 0.54);\n",
       "  --xr-font-color3: rgba(255, 255, 255, 0.38);\n",
       "  --xr-border-color: #1F1F1F;\n",
       "  --xr-disabled-color: #515151;\n",
       "  --xr-background-color: #111111;\n",
       "  --xr-background-color-row-even: #111111;\n",
       "  --xr-background-color-row-odd: #313131;\n",
       "}\n",
       "\n",
       ".xr-wrap {\n",
       "  display: block !important;\n",
       "  min-width: 300px;\n",
       "  max-width: 700px;\n",
       "}\n",
       "\n",
       ".xr-text-repr-fallback {\n",
       "  /* fallback to plain text repr when CSS is not injected (untrusted notebook) */\n",
       "  display: none;\n",
       "}\n",
       "\n",
       ".xr-header {\n",
       "  padding-top: 6px;\n",
       "  padding-bottom: 6px;\n",
       "  margin-bottom: 4px;\n",
       "  border-bottom: solid 1px var(--xr-border-color);\n",
       "}\n",
       "\n",
       ".xr-header > div,\n",
       ".xr-header > ul {\n",
       "  display: inline;\n",
       "  margin-top: 0;\n",
       "  margin-bottom: 0;\n",
       "}\n",
       "\n",
       ".xr-obj-type,\n",
       ".xr-array-name {\n",
       "  margin-left: 2px;\n",
       "  margin-right: 10px;\n",
       "}\n",
       "\n",
       ".xr-obj-type {\n",
       "  color: var(--xr-font-color2);\n",
       "}\n",
       "\n",
       ".xr-sections {\n",
       "  padding-left: 0 !important;\n",
       "  display: grid;\n",
       "  grid-template-columns: 150px auto auto 1fr 20px 20px;\n",
       "}\n",
       "\n",
       ".xr-section-item {\n",
       "  display: contents;\n",
       "}\n",
       "\n",
       ".xr-section-item input {\n",
       "  display: none;\n",
       "}\n",
       "\n",
       ".xr-section-item input + label {\n",
       "  color: var(--xr-disabled-color);\n",
       "}\n",
       "\n",
       ".xr-section-item input:enabled + label {\n",
       "  cursor: pointer;\n",
       "  color: var(--xr-font-color2);\n",
       "}\n",
       "\n",
       ".xr-section-item input:enabled + label:hover {\n",
       "  color: var(--xr-font-color0);\n",
       "}\n",
       "\n",
       ".xr-section-summary {\n",
       "  grid-column: 1;\n",
       "  color: var(--xr-font-color2);\n",
       "  font-weight: 500;\n",
       "}\n",
       "\n",
       ".xr-section-summary > span {\n",
       "  display: inline-block;\n",
       "  padding-left: 0.5em;\n",
       "}\n",
       "\n",
       ".xr-section-summary-in:disabled + label {\n",
       "  color: var(--xr-font-color2);\n",
       "}\n",
       "\n",
       ".xr-section-summary-in + label:before {\n",
       "  display: inline-block;\n",
       "  content: '►';\n",
       "  font-size: 11px;\n",
       "  width: 15px;\n",
       "  text-align: center;\n",
       "}\n",
       "\n",
       ".xr-section-summary-in:disabled + label:before {\n",
       "  color: var(--xr-disabled-color);\n",
       "}\n",
       "\n",
       ".xr-section-summary-in:checked + label:before {\n",
       "  content: '▼';\n",
       "}\n",
       "\n",
       ".xr-section-summary-in:checked + label > span {\n",
       "  display: none;\n",
       "}\n",
       "\n",
       ".xr-section-summary,\n",
       ".xr-section-inline-details {\n",
       "  padding-top: 4px;\n",
       "  padding-bottom: 4px;\n",
       "}\n",
       "\n",
       ".xr-section-inline-details {\n",
       "  grid-column: 2 / -1;\n",
       "}\n",
       "\n",
       ".xr-section-details {\n",
       "  display: none;\n",
       "  grid-column: 1 / -1;\n",
       "  margin-bottom: 5px;\n",
       "}\n",
       "\n",
       ".xr-section-summary-in:checked ~ .xr-section-details {\n",
       "  display: contents;\n",
       "}\n",
       "\n",
       ".xr-array-wrap {\n",
       "  grid-column: 1 / -1;\n",
       "  display: grid;\n",
       "  grid-template-columns: 20px auto;\n",
       "}\n",
       "\n",
       ".xr-array-wrap > label {\n",
       "  grid-column: 1;\n",
       "  vertical-align: top;\n",
       "}\n",
       "\n",
       ".xr-preview {\n",
       "  color: var(--xr-font-color3);\n",
       "}\n",
       "\n",
       ".xr-array-preview,\n",
       ".xr-array-data {\n",
       "  padding: 0 5px !important;\n",
       "  grid-column: 2;\n",
       "}\n",
       "\n",
       ".xr-array-data,\n",
       ".xr-array-in:checked ~ .xr-array-preview {\n",
       "  display: none;\n",
       "}\n",
       "\n",
       ".xr-array-in:checked ~ .xr-array-data,\n",
       ".xr-array-preview {\n",
       "  display: inline-block;\n",
       "}\n",
       "\n",
       ".xr-dim-list {\n",
       "  display: inline-block !important;\n",
       "  list-style: none;\n",
       "  padding: 0 !important;\n",
       "  margin: 0;\n",
       "}\n",
       "\n",
       ".xr-dim-list li {\n",
       "  display: inline-block;\n",
       "  padding: 0;\n",
       "  margin: 0;\n",
       "}\n",
       "\n",
       ".xr-dim-list:before {\n",
       "  content: '(';\n",
       "}\n",
       "\n",
       ".xr-dim-list:after {\n",
       "  content: ')';\n",
       "}\n",
       "\n",
       ".xr-dim-list li:not(:last-child):after {\n",
       "  content: ',';\n",
       "  padding-right: 5px;\n",
       "}\n",
       "\n",
       ".xr-has-index {\n",
       "  font-weight: bold;\n",
       "}\n",
       "\n",
       ".xr-var-list,\n",
       ".xr-var-item {\n",
       "  display: contents;\n",
       "}\n",
       "\n",
       ".xr-var-item > div,\n",
       ".xr-var-item label,\n",
       ".xr-var-item > .xr-var-name span {\n",
       "  background-color: var(--xr-background-color-row-even);\n",
       "  margin-bottom: 0;\n",
       "}\n",
       "\n",
       ".xr-var-item > .xr-var-name:hover span {\n",
       "  padding-right: 5px;\n",
       "}\n",
       "\n",
       ".xr-var-list > li:nth-child(odd) > div,\n",
       ".xr-var-list > li:nth-child(odd) > label,\n",
       ".xr-var-list > li:nth-child(odd) > .xr-var-name span {\n",
       "  background-color: var(--xr-background-color-row-odd);\n",
       "}\n",
       "\n",
       ".xr-var-name {\n",
       "  grid-column: 1;\n",
       "}\n",
       "\n",
       ".xr-var-dims {\n",
       "  grid-column: 2;\n",
       "}\n",
       "\n",
       ".xr-var-dtype {\n",
       "  grid-column: 3;\n",
       "  text-align: right;\n",
       "  color: var(--xr-font-color2);\n",
       "}\n",
       "\n",
       ".xr-var-preview {\n",
       "  grid-column: 4;\n",
       "}\n",
       "\n",
       ".xr-index-preview {\n",
       "  grid-column: 2 / 5;\n",
       "  color: var(--xr-font-color2);\n",
       "}\n",
       "\n",
       ".xr-var-name,\n",
       ".xr-var-dims,\n",
       ".xr-var-dtype,\n",
       ".xr-preview,\n",
       ".xr-attrs dt {\n",
       "  white-space: nowrap;\n",
       "  overflow: hidden;\n",
       "  text-overflow: ellipsis;\n",
       "  padding-right: 10px;\n",
       "}\n",
       "\n",
       ".xr-var-name:hover,\n",
       ".xr-var-dims:hover,\n",
       ".xr-var-dtype:hover,\n",
       ".xr-attrs dt:hover {\n",
       "  overflow: visible;\n",
       "  width: auto;\n",
       "  z-index: 1;\n",
       "}\n",
       "\n",
       ".xr-var-attrs,\n",
       ".xr-var-data,\n",
       ".xr-index-data {\n",
       "  display: none;\n",
       "  background-color: var(--xr-background-color) !important;\n",
       "  padding-bottom: 5px !important;\n",
       "}\n",
       "\n",
       ".xr-var-attrs-in:checked ~ .xr-var-attrs,\n",
       ".xr-var-data-in:checked ~ .xr-var-data,\n",
       ".xr-index-data-in:checked ~ .xr-index-data {\n",
       "  display: block;\n",
       "}\n",
       "\n",
       ".xr-var-data > table {\n",
       "  float: right;\n",
       "}\n",
       "\n",
       ".xr-var-name span,\n",
       ".xr-var-data,\n",
       ".xr-index-name div,\n",
       ".xr-index-data,\n",
       ".xr-attrs {\n",
       "  padding-left: 25px !important;\n",
       "}\n",
       "\n",
       ".xr-attrs,\n",
       ".xr-var-attrs,\n",
       ".xr-var-data,\n",
       ".xr-index-data {\n",
       "  grid-column: 1 / -1;\n",
       "}\n",
       "\n",
       "dl.xr-attrs {\n",
       "  padding: 0;\n",
       "  margin: 0;\n",
       "  display: grid;\n",
       "  grid-template-columns: 125px auto;\n",
       "}\n",
       "\n",
       ".xr-attrs dt,\n",
       ".xr-attrs dd {\n",
       "  padding: 0;\n",
       "  margin: 0;\n",
       "  float: left;\n",
       "  padding-right: 10px;\n",
       "  width: auto;\n",
       "}\n",
       "\n",
       ".xr-attrs dt {\n",
       "  font-weight: normal;\n",
       "  grid-column: 1;\n",
       "}\n",
       "\n",
       ".xr-attrs dt:hover span {\n",
       "  display: inline-block;\n",
       "  background: var(--xr-background-color);\n",
       "  padding-right: 10px;\n",
       "}\n",
       "\n",
       ".xr-attrs dd {\n",
       "  grid-column: 2;\n",
       "  white-space: pre-wrap;\n",
       "  word-break: break-all;\n",
       "}\n",
       "\n",
       ".xr-icon-database,\n",
       ".xr-icon-file-text2,\n",
       ".xr-no-icon {\n",
       "  display: inline-block;\n",
       "  vertical-align: middle;\n",
       "  width: 1em;\n",
       "  height: 1.5em !important;\n",
       "  stroke-width: 0;\n",
       "  stroke: currentColor;\n",
       "  fill: currentColor;\n",
       "}\n",
       "</style><pre class='xr-text-repr-fallback'>&lt;xarray.Dataset&gt;\n",
       "Dimensions:    (longitude: 201, latitude: 121, time: 2)\n",
       "Coordinates:\n",
       "  * longitude  (longitude) float32 250.0 250.2 250.5 250.8 ... 299.5 299.8 300.0\n",
       "  * latitude   (latitude) float32 20.0 20.25 20.5 20.75 ... 49.5 49.75 50.0\n",
       "  * time       (time) datetime64[ns] 2024-04-03T12:00:00 2024-04-03T18:00:00\n",
       "Data variables: (12/19)\n",
       "    du_01      (time, latitude, longitude) float32 -2.493 -2.597 ... -4.826\n",
       "    dv_01      (time, latitude, longitude) float32 4.112 3.687 ... -4.504 -3.77\n",
       "    bs_01      (time, latitude, longitude) float32 4.809 4.51 ... 6.066 6.124\n",
       "    du_03      (time, latitude, longitude) float32 7.561 7.633 ... -4.667 -4.486\n",
       "    dv_03      (time, latitude, longitude) float32 8.106 7.692 ... 1.143 2.325\n",
       "    bs_03      (time, latitude, longitude) float32 11.08 10.84 ... 4.805 5.053\n",
       "    ...         ...\n",
       "    q500       (time, latitude, longitude) float64 0.06094 0.06826 ... 0.02128\n",
       "    r500       (time, latitude, longitude) float32 1.285e+03 ... 5.039e+03\n",
       "    t500       (time, latitude, longitude) float32 266.8 266.9 ... 239.1 238.9\n",
       "    q925       (time, latitude, longitude) float64 0.7545 0.8189 ... 0.1854\n",
       "    r925       (time, latitude, longitude) float32 7.209e+03 ... 6.088e+03\n",
       "    t925       (time, latitude, longitude) float32 286.7 286.5 ... 269.2 269.1</pre><div class='xr-wrap' style='display:none'><div class='xr-header'><div class='xr-obj-type'>xarray.Dataset</div></div><ul class='xr-sections'><li class='xr-section-item'><input id='section-d8318073-facf-4e4e-a5a7-d667e880339e' class='xr-section-summary-in' type='checkbox' disabled ><label for='section-d8318073-facf-4e4e-a5a7-d667e880339e' class='xr-section-summary'  title='Expand/collapse section'>Dimensions:</label><div class='xr-section-inline-details'><ul class='xr-dim-list'><li><span class='xr-has-index'>longitude</span>: 201</li><li><span class='xr-has-index'>latitude</span>: 121</li><li><span class='xr-has-index'>time</span>: 2</li></ul></div><div class='xr-section-details'></div></li><li class='xr-section-item'><input id='section-c16f849b-5f61-4f0b-a3d5-d76ce426c071' class='xr-section-summary-in' type='checkbox'  checked><label for='section-c16f849b-5f61-4f0b-a3d5-d76ce426c071' class='xr-section-summary' >Coordinates: <span>(3)</span></label><div class='xr-section-inline-details'></div><div class='xr-section-details'><ul class='xr-var-list'><li class='xr-var-item'><div class='xr-var-name'><span class='xr-has-index'>longitude</span></div><div class='xr-var-dims'>(longitude)</div><div class='xr-var-dtype'>float32</div><div class='xr-var-preview xr-preview'>250.0 250.2 250.5 ... 299.8 300.0</div><input id='attrs-9bd1daeb-9d30-468b-9e50-4d19b59b53eb' class='xr-var-attrs-in' type='checkbox' ><label for='attrs-9bd1daeb-9d30-468b-9e50-4d19b59b53eb' title='Show/Hide attributes'><svg class='icon xr-icon-file-text2'><use xlink:href='#icon-file-text2'></use></svg></label><input id='data-cbcafdb7-2789-431d-9051-f1a2b1dd61cb' class='xr-var-data-in' type='checkbox'><label for='data-cbcafdb7-2789-431d-9051-f1a2b1dd61cb' title='Show/Hide data repr'><svg class='icon xr-icon-database'><use xlink:href='#icon-database'></use></svg></label><div class='xr-var-attrs'><dl class='xr-attrs'><dt><span>units :</span></dt><dd>degrees_east</dd><dt><span>long_name :</span></dt><dd>longitude</dd></dl></div><div class='xr-var-data'><pre>array([250.  , 250.25, 250.5 , ..., 299.5 , 299.75, 300.  ], dtype=float32)</pre></div></li><li class='xr-var-item'><div class='xr-var-name'><span class='xr-has-index'>latitude</span></div><div class='xr-var-dims'>(latitude)</div><div class='xr-var-dtype'>float32</div><div class='xr-var-preview xr-preview'>20.0 20.25 20.5 ... 49.5 49.75 50.0</div><input id='attrs-a0b26a56-56f6-4854-988d-52ca23cc7850' class='xr-var-attrs-in' type='checkbox' ><label for='attrs-a0b26a56-56f6-4854-988d-52ca23cc7850' title='Show/Hide attributes'><svg class='icon xr-icon-file-text2'><use xlink:href='#icon-file-text2'></use></svg></label><input id='data-4baf4b80-68c4-42c6-9931-fc397a142f05' class='xr-var-data-in' type='checkbox'><label for='data-4baf4b80-68c4-42c6-9931-fc397a142f05' title='Show/Hide data repr'><svg class='icon xr-icon-database'><use xlink:href='#icon-database'></use></svg></label><div class='xr-var-attrs'><dl class='xr-attrs'><dt><span>units :</span></dt><dd>degrees_north</dd><dt><span>long_name :</span></dt><dd>latitude</dd></dl></div><div class='xr-var-data'><pre>array([20.  , 20.25, 20.5 , 20.75, 21.  , 21.25, 21.5 , 21.75, 22.  , 22.25,\n",
       "       22.5 , 22.75, 23.  , 23.25, 23.5 , 23.75, 24.  , 24.25, 24.5 , 24.75,\n",
       "       25.  , 25.25, 25.5 , 25.75, 26.  , 26.25, 26.5 , 26.75, 27.  , 27.25,\n",
       "       27.5 , 27.75, 28.  , 28.25, 28.5 , 28.75, 29.  , 29.25, 29.5 , 29.75,\n",
       "       30.  , 30.25, 30.5 , 30.75, 31.  , 31.25, 31.5 , 31.75, 32.  , 32.25,\n",
       "       32.5 , 32.75, 33.  , 33.25, 33.5 , 33.75, 34.  , 34.25, 34.5 , 34.75,\n",
       "       35.  , 35.25, 35.5 , 35.75, 36.  , 36.25, 36.5 , 36.75, 37.  , 37.25,\n",
       "       37.5 , 37.75, 38.  , 38.25, 38.5 , 38.75, 39.  , 39.25, 39.5 , 39.75,\n",
       "       40.  , 40.25, 40.5 , 40.75, 41.  , 41.25, 41.5 , 41.75, 42.  , 42.25,\n",
       "       42.5 , 42.75, 43.  , 43.25, 43.5 , 43.75, 44.  , 44.25, 44.5 , 44.75,\n",
       "       45.  , 45.25, 45.5 , 45.75, 46.  , 46.25, 46.5 , 46.75, 47.  , 47.25,\n",
       "       47.5 , 47.75, 48.  , 48.25, 48.5 , 48.75, 49.  , 49.25, 49.5 , 49.75,\n",
       "       50.  ], dtype=float32)</pre></div></li><li class='xr-var-item'><div class='xr-var-name'><span class='xr-has-index'>time</span></div><div class='xr-var-dims'>(time)</div><div class='xr-var-dtype'>datetime64[ns]</div><div class='xr-var-preview xr-preview'>2024-04-03T12:00:00 2024-04-03T1...</div><input id='attrs-69ad788e-3e60-451b-a47c-a9a3d1cfa8f6' class='xr-var-attrs-in' type='checkbox' ><label for='attrs-69ad788e-3e60-451b-a47c-a9a3d1cfa8f6' title='Show/Hide attributes'><svg class='icon xr-icon-file-text2'><use xlink:href='#icon-file-text2'></use></svg></label><input id='data-fa1d9e60-34fe-4939-bf0f-57b777be06ee' class='xr-var-data-in' type='checkbox'><label for='data-fa1d9e60-34fe-4939-bf0f-57b777be06ee' title='Show/Hide data repr'><svg class='icon xr-icon-database'><use xlink:href='#icon-database'></use></svg></label><div class='xr-var-attrs'><dl class='xr-attrs'><dt><span>long_name :</span></dt><dd>time</dd></dl></div><div class='xr-var-data'><pre>array([&#x27;2024-04-03T12:00:00.000000000&#x27;, &#x27;2024-04-03T18:00:00.000000000&#x27;],\n",
       "      dtype=&#x27;datetime64[ns]&#x27;)</pre></div></li></ul></div></li><li class='xr-section-item'><input id='section-08208e3d-60b5-45cf-a6d1-b7387e4e2040' class='xr-section-summary-in' type='checkbox'  ><label for='section-08208e3d-60b5-45cf-a6d1-b7387e4e2040' class='xr-section-summary' >Data variables: <span>(19)</span></label><div class='xr-section-inline-details'></div><div class='xr-section-details'><ul class='xr-var-list'><li class='xr-var-item'><div class='xr-var-name'><span>du_01</span></div><div class='xr-var-dims'>(time, latitude, longitude)</div><div class='xr-var-dtype'>float32</div><div class='xr-var-preview xr-preview'>-2.493 -2.597 ... -4.063 -4.826</div><input id='attrs-e3265054-02df-486a-9c41-8db9ce9f1d47' class='xr-var-attrs-in' type='checkbox' disabled><label for='attrs-e3265054-02df-486a-9c41-8db9ce9f1d47' title='Show/Hide attributes'><svg class='icon xr-icon-file-text2'><use xlink:href='#icon-file-text2'></use></svg></label><input id='data-434ac0df-82dd-493d-85a2-1ad663d831f6' class='xr-var-data-in' type='checkbox'><label for='data-434ac0df-82dd-493d-85a2-1ad663d831f6' title='Show/Hide data repr'><svg class='icon xr-icon-database'><use xlink:href='#icon-database'></use></svg></label><div class='xr-var-attrs'><dl class='xr-attrs'></dl></div><div class='xr-var-data'><pre>array([[[-2.4933472 , -2.5970154 , -2.2375407 , ...,  2.837298  ,\n",
       "          2.742941  ,  2.5475006 ],\n",
       "        [-2.6538005 , -1.9134132 , -1.0846095 , ...,  1.2521062 ,\n",
       "          0.76042795,  0.95270205],\n",
       "        [-2.5659747 , -1.5276573 , -0.24613118, ...,  0.72639656,\n",
       "          1.5166574 ,  0.9909067 ],\n",
       "        ...,\n",
       "        [ 9.987057  , 11.457302  , 12.759512  , ..., -3.2751703 ,\n",
       "         -3.9514751 , -5.729946  ],\n",
       "        [11.090408  , 12.564487  , 14.893332  , ..., -4.1888857 ,\n",
       "         -5.3095717 , -6.9349003 ],\n",
       "        [14.08995   , 13.958322  , 16.287262  , ..., -5.078335  ,\n",
       "         -5.505148  , -7.582013  ]],\n",
       "\n",
       "       [[ 3.0193849 ,  2.9371557 ,  3.0525482 , ...,  2.9976926 ,\n",
       "          3.5599504 ,  3.570437  ],\n",
       "        [ 2.593271  ,  3.0675018 ,  3.34307   , ...,  1.9387026 ,\n",
       "          1.9941063 ,  2.1697993 ],\n",
       "        [ 2.4509447 ,  3.0036662 ,  3.496066  , ...,  1.663631  ,\n",
       "          2.8577042 ,  2.1436238 ],\n",
       "        ...,\n",
       "        [ 4.5948515 ,  5.5756645 ,  5.935101  , ..., -5.5245247 ,\n",
       "         -5.3112993 , -5.771031  ],\n",
       "        [ 6.1299515 ,  6.710765  ,  7.8693514 , ..., -5.296599  ,\n",
       "         -5.2543364 , -5.380962  ],\n",
       "        [ 9.314002  ,  8.266982  ,  9.350575  , ..., -4.6480007 ,\n",
       "         -4.063134  , -4.826107  ]]], dtype=float32)</pre></div></li><li class='xr-var-item'><div class='xr-var-name'><span>dv_01</span></div><div class='xr-var-dims'>(time, latitude, longitude)</div><div class='xr-var-dtype'>float32</div><div class='xr-var-preview xr-preview'>4.112 3.687 2.141 ... -4.504 -3.77</div><input id='attrs-36af7b7d-7cde-4033-bae0-627be8fb188b' class='xr-var-attrs-in' type='checkbox' disabled><label for='attrs-36af7b7d-7cde-4033-bae0-627be8fb188b' title='Show/Hide attributes'><svg class='icon xr-icon-file-text2'><use xlink:href='#icon-file-text2'></use></svg></label><input id='data-a50e0282-90f6-4e21-8184-dbc29aaace8b' class='xr-var-data-in' type='checkbox'><label for='data-a50e0282-90f6-4e21-8184-dbc29aaace8b' title='Show/Hide data repr'><svg class='icon xr-icon-database'><use xlink:href='#icon-database'></use></svg></label><div class='xr-var-attrs'><dl class='xr-attrs'></dl></div><div class='xr-var-data'><pre>array([[[ 4.1122065 ,  3.6868792 ,  2.1405525 , ...,  0.22538447,\n",
       "          1.1104443 ,  1.0204005 ],\n",
       "        [ 4.8825035 ,  4.3906975 ,  2.4557695 , ...,  0.06184864,\n",
       "         -0.60199   , -0.49489328],\n",
       "        [ 5.688056  ,  5.1629925 ,  3.237978  , ...,  0.367337  ,\n",
       "          1.8812354 ,  0.67401993],\n",
       "        ...,\n",
       "        [ 4.9227166 ,  3.3825798 ,  3.3105493 , ..., -0.37716007,\n",
       "         -0.24501038, -0.6216364 ],\n",
       "        [-0.01187086, -0.60355663, -0.9765036 , ..., -0.693882  ,\n",
       "         -0.7393522 , -0.7775898 ],\n",
       "        [ 0.1606946 , -0.6050441 , -1.0393122 , ..., -1.7009778 ,\n",
       "         -1.1694512 , -0.99165916]],\n",
       "\n",
       "       [[ 2.3140907 ,  2.2193084 ,  1.6010547 , ...,  3.6837575 ,\n",
       "          4.691081  ,  4.5957904 ],\n",
       "        [ 1.5966148 ,  1.559916  ,  0.9438062 , ...,  2.4520006 ,\n",
       "          2.1638927 ,  2.531143  ],\n",
       "        [ 0.8698292 ,  0.8157368 ,  0.5027485 , ...,  1.4316205 ,\n",
       "          3.4655614 ,  2.8151002 ],\n",
       "        ...,\n",
       "        [ 4.164612  ,  3.132866  ,  3.6295557 , ..., -3.2319283 ,\n",
       "         -2.7472486 , -2.3712683 ],\n",
       "        [ 0.42179108,  0.5096464 ,  0.9256344 , ..., -4.463599  ,\n",
       "         -3.8471813 , -3.0562515 ],\n",
       "        [ 1.5451088 ,  1.6184402 ,  2.0193443 , ..., -5.564022  ,\n",
       "         -4.5040493 , -3.7700405 ]]], dtype=float32)</pre></div></li><li class='xr-var-item'><div class='xr-var-name'><span>bs_01</span></div><div class='xr-var-dims'>(time, latitude, longitude)</div><div class='xr-var-dtype'>float32</div><div class='xr-var-preview xr-preview'>4.809 4.51 3.097 ... 6.066 6.124</div><input id='attrs-e2f6f828-fbb4-444f-83e0-b8c7aa50778e' class='xr-var-attrs-in' type='checkbox' disabled><label for='attrs-e2f6f828-fbb4-444f-83e0-b8c7aa50778e' title='Show/Hide attributes'><svg class='icon xr-icon-file-text2'><use xlink:href='#icon-file-text2'></use></svg></label><input id='data-99c87dc8-c2e3-4757-91a3-29ac4253c845' class='xr-var-data-in' type='checkbox'><label for='data-99c87dc8-c2e3-4757-91a3-29ac4253c845' title='Show/Hide data repr'><svg class='icon xr-icon-database'><use xlink:href='#icon-database'></use></svg></label><div class='xr-var-attrs'><dl class='xr-attrs'></dl></div><div class='xr-var-data'><pre>array([[[ 4.8090563 ,  4.509719  ,  3.096539  , ...,  2.8462358 ,\n",
       "          2.9591908 ,  2.7442625 ],\n",
       "        [ 5.557112  ,  4.789507  ,  2.6846194 , ...,  1.2536328 ,\n",
       "          0.9698673 ,  1.0735737 ],\n",
       "        [ 6.2400484 ,  5.3842573 ,  3.2473192 , ...,  0.81399536,\n",
       "          2.4164636 ,  1.1984152 ],\n",
       "        ...,\n",
       "        [11.134381  , 11.9461975 , 13.181991  , ...,  3.2968152 ,\n",
       "          3.9590638 ,  5.763568  ],\n",
       "        [11.090414  , 12.578976  , 14.92531   , ...,  4.245967  ,\n",
       "          5.3608017 ,  6.9783583 ],\n",
       "        [14.090865  , 13.971429  , 16.320389  , ...,  5.3556333 ,\n",
       "          5.62799   ,  7.6465883 ]],\n",
       "\n",
       "       [[ 3.804169  ,  3.681333  ,  3.4469445 , ...,  4.74934   ,\n",
       "          5.8889294 ,  5.8197346 ],\n",
       "        [ 3.0453627 ,  3.4413521 ,  3.4737425 , ...,  3.12584   ,\n",
       "          2.9425995 ,  3.3338737 ],\n",
       "        [ 2.6007178 ,  3.112465  ,  3.5320296 , ...,  2.1948133 ,\n",
       "          4.491836  ,  3.538349  ],\n",
       "        ...,\n",
       "        [ 6.2013426 ,  6.3955364 ,  6.9569464 , ...,  6.400448  ,\n",
       "          5.9797387 ,  6.2392077 ],\n",
       "        [ 6.1444454 ,  6.7300897 ,  7.9236035 , ...,  6.926592  ,\n",
       "          6.512208  ,  6.1883297 ],\n",
       "        [ 9.441292  ,  8.423915  ,  9.566138  , ...,  7.249983  ,\n",
       "          6.0659313 ,  6.124093  ]]], dtype=float32)</pre></div></li><li class='xr-var-item'><div class='xr-var-name'><span>du_03</span></div><div class='xr-var-dims'>(time, latitude, longitude)</div><div class='xr-var-dtype'>float32</div><div class='xr-var-preview xr-preview'>7.561 7.633 7.674 ... -4.667 -4.486</div><input id='attrs-8c0fb7da-aba0-49f5-892d-02f9627ef7ba' class='xr-var-attrs-in' type='checkbox' disabled><label for='attrs-8c0fb7da-aba0-49f5-892d-02f9627ef7ba' title='Show/Hide attributes'><svg class='icon xr-icon-file-text2'><use xlink:href='#icon-file-text2'></use></svg></label><input id='data-79935fea-fed3-4e01-9cdc-435a67ac5a05' class='xr-var-data-in' type='checkbox'><label for='data-79935fea-fed3-4e01-9cdc-435a67ac5a05' title='Show/Hide data repr'><svg class='icon xr-icon-database'><use xlink:href='#icon-database'></use></svg></label><div class='xr-var-attrs'><dl class='xr-attrs'></dl></div><div class='xr-var-data'><pre>array([[[ 7.5613375,  7.6332073,  7.673695 , ...,  5.213654 ,\n",
       "          5.493021 ,  5.7562428],\n",
       "        [ 7.382009 ,  7.837385 ,  7.994241 , ...,  5.272471 ,\n",
       "          5.0072904,  5.4279523],\n",
       "        [ 7.7284217,  8.53269  ,  9.085643 , ...,  6.011381 ,\n",
       "          6.7638936,  6.460866 ],\n",
       "        ...,\n",
       "        [14.962494 , 12.427475 , 13.059624 , ..., -3.696082 ,\n",
       "         -3.6985512, -3.848114 ],\n",
       "        [11.773682 , 10.193792 , 13.177597 , ..., -3.4565363,\n",
       "         -3.4503875, -3.4166088],\n",
       "        [12.814002 , 10.564607 , 12.502836 , ..., -2.299942 ,\n",
       "         -1.6905212, -2.4782267]],\n",
       "\n",
       "       [[11.307374 , 11.089246 , 10.779953 , ...,  5.230599 ,\n",
       "          5.439896 ,  5.474919 ],\n",
       "        [11.711759 , 11.644279 , 11.279985 , ...,  4.654807 ,\n",
       "          4.3780117,  4.5537047],\n",
       "        [12.114919 , 12.173115 , 12.040755 , ...,  4.770448 ,\n",
       "          5.556822 ,  5.057915 ],\n",
       "        ...,\n",
       "        [13.199941 , 11.608098 , 11.76746  , ..., -7.1817455,\n",
       "         -6.617446 , -6.2315793],\n",
       "        [11.377186 , 10.697154 , 12.973138 , ..., -7.335093 ,\n",
       "         -6.4623346, -5.477224 ],\n",
       "        [12.853055 , 11.511586 , 12.649917 , ..., -5.9616985,\n",
       "         -4.6671324, -4.4863567]]], dtype=float32)</pre></div></li><li class='xr-var-item'><div class='xr-var-name'><span>dv_03</span></div><div class='xr-var-dims'>(time, latitude, longitude)</div><div class='xr-var-dtype'>float32</div><div class='xr-var-preview xr-preview'>8.106 7.692 6.995 ... 1.143 2.325</div><input id='attrs-e2a0a214-aa42-4b9f-8c71-2c943d835bfe' class='xr-var-attrs-in' type='checkbox' disabled><label for='attrs-e2a0a214-aa42-4b9f-8c71-2c943d835bfe' title='Show/Hide attributes'><svg class='icon xr-icon-file-text2'><use xlink:href='#icon-file-text2'></use></svg></label><input id='data-37c518bb-67bb-4bff-92e5-e978ec112394' class='xr-var-data-in' type='checkbox'><label for='data-37c518bb-67bb-4bff-92e5-e978ec112394' title='Show/Hide data repr'><svg class='icon xr-icon-database'><use xlink:href='#icon-database'></use></svg></label><div class='xr-var-attrs'><dl class='xr-attrs'></dl></div><div class='xr-var-data'><pre>array([[[ 8.10573   ,  7.6915627 ,  6.995278  , ...,  0.3574481 ,\n",
       "          0.7942362 ,  0.6669915 ],\n",
       "        [ 9.00437   ,  8.521864  ,  7.7104053 , ..., -0.6524098 ,\n",
       "         -1.6417569 , -1.2686733 ],\n",
       "        [ 9.5085945 ,  9.260678  ,  8.34939   , ..., -0.5031655 ,\n",
       "          0.6889446 , -0.32668602],\n",
       "        ...,\n",
       "        [-2.5509567 , -4.4352026 , -4.8811026 , ..., -0.6357069 ,\n",
       "         -0.11666775,  0.21352482],\n",
       "        [-7.375801  , -6.896099  , -7.174184  , ..., -1.1365738 ,\n",
       "         -0.9067564 , -0.7534094 ],\n",
       "        [-5.917942  , -4.31398   , -3.6489596 , ..., -2.130649  ,\n",
       "         -1.4726386 , -1.4473705 ]],\n",
       "\n",
       "       [[ 6.209031  ,  6.1458697 ,  6.126551  , ...,  0.46587455,\n",
       "          1.0100461 ,  0.8905747 ],\n",
       "        [ 5.9974885 ,  5.9124284 ,  6.0068564 , ..., -0.2022878 ,\n",
       "         -0.9386672 , -0.3686721 ],\n",
       "        [ 5.4585676 ,  5.5867605 ,  5.7387834 , ...,  0.2765306 ,\n",
       "          1.7617574 ,  1.1298966 ],\n",
       "        ...,\n",
       "        [ 1.5512445 , -0.42168593, -0.6187936 , ...,  2.0431674 ,\n",
       "          3.1453831 ,  4.3100243 ],\n",
       "        [-3.1811218 , -2.7696185 , -2.8223624 , ...,  0.5138891 ,\n",
       "          1.7962039 ,  3.1339877 ],\n",
       "        [-2.500496  , -1.0711892 , -0.39313793, ..., -0.65907574,\n",
       "          1.1430564 ,  2.3253367 ]]], dtype=float32)</pre></div></li><li class='xr-var-item'><div class='xr-var-name'><span>bs_03</span></div><div class='xr-var-dims'>(time, latitude, longitude)</div><div class='xr-var-dtype'>float32</div><div class='xr-var-preview xr-preview'>11.08 10.84 10.38 ... 4.805 5.053</div><input id='attrs-9444350b-443d-40f1-a1e4-730a33111a8b' class='xr-var-attrs-in' type='checkbox' disabled><label for='attrs-9444350b-443d-40f1-a1e4-730a33111a8b' title='Show/Hide attributes'><svg class='icon xr-icon-file-text2'><use xlink:href='#icon-file-text2'></use></svg></label><input id='data-af9acad3-1c59-4be3-a534-97996fd44d2a' class='xr-var-data-in' type='checkbox'><label for='data-af9acad3-1c59-4be3-a534-97996fd44d2a' title='Show/Hide data repr'><svg class='icon xr-icon-database'><use xlink:href='#icon-database'></use></svg></label><div class='xr-var-attrs'><dl class='xr-attrs'></dl></div><div class='xr-var-data'><pre>array([[[11.084975 , 10.836328 , 10.383617 , ...,  5.225893 ,\n",
       "          5.5501432,  5.794757 ],\n",
       "        [11.64357  , 11.577857 , 11.106676 , ...,  5.3126817,\n",
       "          5.2695656,  5.574244 ],\n",
       "        [12.25324  , 12.592338 , 12.339417 , ...,  6.0324025,\n",
       "          6.7988896,  6.46912  ],\n",
       "        ...,\n",
       "        [15.178392 , 13.195194 , 13.941985 , ...,  3.7503529,\n",
       "          3.7003908,  3.8540335],\n",
       "        [13.893237 , 12.307298 , 15.003932 , ...,  3.6386044,\n",
       "          3.5675454,  3.4986916],\n",
       "        [14.114556 , 11.411457 , 13.024431 , ...,  3.1351871,\n",
       "          2.2419915,  2.8699284]],\n",
       "\n",
       "       [[12.899952 , 12.67845  , 12.399275 , ...,  5.251305 ,\n",
       "          5.5328712,  5.5468783],\n",
       "        [13.158083 , 13.059327 , 12.779687 , ...,  4.6592007,\n",
       "          4.4775085,  4.5686045],\n",
       "        [13.28786  , 13.393903 , 13.338419 , ...,  4.778456 ,\n",
       "          5.8294134,  5.182584 ],\n",
       "        ...,\n",
       "        [13.290778 , 11.615755 , 11.783718 , ...,  7.4667263,\n",
       "          7.3269386,  7.576865 ],\n",
       "        [11.813547 , 11.049882 , 13.276597 , ...,  7.353072 ,\n",
       "          6.7073183,  6.3104563],\n",
       "        [13.094026 , 11.561317 , 12.656024 , ...,  5.9980187,\n",
       "          4.8050704,  5.053176 ]]], dtype=float32)</pre></div></li><li class='xr-var-item'><div class='xr-var-name'><span>du_06</span></div><div class='xr-var-dims'>(time, latitude, longitude)</div><div class='xr-var-dtype'>float32</div><div class='xr-var-preview xr-preview'>25.98 25.78 25.67 ... -8.859 -8.48</div><input id='attrs-85bf3262-cd31-43a6-962f-bd997e929c10' class='xr-var-attrs-in' type='checkbox' disabled><label for='attrs-85bf3262-cd31-43a6-962f-bd997e929c10' title='Show/Hide attributes'><svg class='icon xr-icon-file-text2'><use xlink:href='#icon-file-text2'></use></svg></label><input id='data-f1f71cac-d372-4a91-bce8-4d8aa87a8845' class='xr-var-data-in' type='checkbox'><label for='data-f1f71cac-d372-4a91-bce8-4d8aa87a8845' title='Show/Hide data repr'><svg class='icon xr-icon-database'><use xlink:href='#icon-database'></use></svg></label><div class='xr-var-attrs'><dl class='xr-attrs'></dl></div><div class='xr-var-data'><pre>array([[[ 25.977625  ,  25.783358  ,  25.670958  , ...,  16.03466   ,\n",
       "          16.136604  ,  16.38095   ],\n",
       "        [ 26.226757  ,  26.63117   ,  26.686102  , ...,  15.712204  ,\n",
       "          15.301687  ,  15.775198  ],\n",
       "        [ 25.638859  ,  26.486542  ,  27.16973   , ...,  16.069841  ,\n",
       "          16.622278  ,  16.334352  ],\n",
       "        ...,\n",
       "        [ 13.29961   ,  12.542612  ,  15.086794  , ...,   0.64138126,\n",
       "           0.34635162,  -0.97912216],\n",
       "        [ 11.224421  ,  11.146978  ,  15.285929  , ...,  -0.48373318,\n",
       "          -0.855083  ,  -1.4517269 ],\n",
       "        [ 13.200938  ,  11.870753  ,  14.496029  , ...,  -1.522295  ,\n",
       "          -1.0072479 ,  -1.6647177 ]],\n",
       "\n",
       "       [[ 25.81466   ,  25.713554  ,  25.702486  , ...,  15.011597  ,\n",
       "          16.047617  ,  17.011288  ],\n",
       "        [ 25.296059  ,  25.487165  ,  25.375797  , ...,  14.54528   ,\n",
       "          15.006495  ,  16.0712    ],\n",
       "        [ 24.100512  ,  24.424845  ,  24.673758  , ...,  14.757183  ,\n",
       "          16.19663   ,  16.481033  ],\n",
       "        ...,\n",
       "        [  9.383426  ,   8.104907  ,   9.225004  , ...,  -7.7121315 ,\n",
       "          -7.2176676 ,  -7.441462  ],\n",
       "        [  8.100496  ,   7.3242006 ,   9.771947  , ...,  -9.320738  ,\n",
       "          -8.763188  ,  -8.100843  ],\n",
       "        [ 10.369111  ,   8.368907  ,   9.207126  , ..., -10.070772  ,\n",
       "          -8.85926   ,  -8.480295  ]]], dtype=float32)</pre></div></li><li class='xr-var-item'><div class='xr-var-name'><span>dv_06</span></div><div class='xr-var-dims'>(time, latitude, longitude)</div><div class='xr-var-dtype'>float32</div><div class='xr-var-preview xr-preview'>14.53 14.41 14.02 ... 6.238 7.217</div><input id='attrs-2d8125ba-8c25-48a6-bc96-632e69cccdad' class='xr-var-attrs-in' type='checkbox' disabled><label for='attrs-2d8125ba-8c25-48a6-bc96-632e69cccdad' title='Show/Hide attributes'><svg class='icon xr-icon-file-text2'><use xlink:href='#icon-file-text2'></use></svg></label><input id='data-22259107-7cf8-479d-b3df-81664ccfd6c7' class='xr-var-data-in' type='checkbox'><label for='data-22259107-7cf8-479d-b3df-81664ccfd6c7' title='Show/Hide data repr'><svg class='icon xr-icon-database'><use xlink:href='#icon-database'></use></svg></label><div class='xr-var-attrs'><dl class='xr-attrs'></dl></div><div class='xr-var-data'><pre>array([[[14.530336  , 14.406336  , 14.022539  , ...,  6.1012764 ,\n",
       "          6.6980286 ,  6.663786  ],\n",
       "        [13.771673  , 13.756039  , 13.418892  , ...,  5.0653777 ,\n",
       "          4.2471557 ,  4.5030556 ],\n",
       "        [12.702297  , 12.837551  , 12.357794  , ...,  4.8147116 ,\n",
       "          6.285829  ,  5.1530156 ],\n",
       "        ...,\n",
       "        [ 2.0582426 ,  0.09029472, -0.50068927, ..., -4.512047  ,\n",
       "         -3.4945145 , -2.5914278 ],\n",
       "        [-2.67732   , -1.4628992 , -1.6033397 , ..., -5.1877584 ,\n",
       "         -4.1097584 , -2.9296656 ],\n",
       "        [-1.5970507 ,  0.39194155,  1.1797252 , ..., -6.6821866 ,\n",
       "         -4.7612033 , -3.3018389 ]],\n",
       "\n",
       "       [[10.323458  , 10.39608   , 10.527425  , ..., -2.8505912 ,\n",
       "         -1.5233393 , -0.7611481 ],\n",
       "        [ 9.619001  ,  9.788769  , 10.104543  , ..., -3.9056435 ,\n",
       "         -3.8440623 , -2.6044497 ],\n",
       "        [ 8.702492  ,  9.029709  ,  9.378898  , ..., -4.4442716 ,\n",
       "         -2.043901  , -1.9819636 ],\n",
       "        ...,\n",
       "        [ 8.877974  ,  6.438171  ,  5.547266  , ...,  7.5730906 ,\n",
       "          8.519062  ,  9.447477  ],\n",
       "        [ 5.9554343 ,  6.1102514 ,  5.1609645 , ...,  6.159135  ,\n",
       "          7.190343  ,  8.355143  ],\n",
       "        [ 8.2989435 ,  8.714523  ,  8.103561  , ...,  4.7462244 ,\n",
       "          6.237728  ,  7.217263  ]]], dtype=float32)</pre></div></li><li class='xr-var-item'><div class='xr-var-name'><span>bs_06</span></div><div class='xr-var-dims'>(time, latitude, longitude)</div><div class='xr-var-dtype'>float32</div><div class='xr-var-preview xr-preview'>29.77 29.54 29.25 ... 10.83 11.14</div><input id='attrs-2e2202c6-e3cd-42eb-b95a-cb226bbc36fb' class='xr-var-attrs-in' type='checkbox' disabled><label for='attrs-2e2202c6-e3cd-42eb-b95a-cb226bbc36fb' title='Show/Hide attributes'><svg class='icon xr-icon-file-text2'><use xlink:href='#icon-file-text2'></use></svg></label><input id='data-53f8b5ce-1a4a-4078-b10c-9ad633911fec' class='xr-var-data-in' type='checkbox'><label for='data-53f8b5ce-1a4a-4078-b10c-9ad633911fec' title='Show/Hide data repr'><svg class='icon xr-icon-database'><use xlink:href='#icon-database'></use></svg></label><div class='xr-var-attrs'><dl class='xr-attrs'></dl></div><div class='xr-var-data'><pre>array([[[29.76521  , 29.535133 , 29.251148 , ..., 17.156221 ,\n",
       "         17.471508 , 17.684502 ],\n",
       "        [29.622656 , 29.97412  , 29.869963 , ..., 16.508526 ,\n",
       "         15.880176 , 16.405315 ],\n",
       "        [28.612925 , 29.433647 , 29.848104 , ..., 16.775616 ,\n",
       "         17.771095 , 17.12789  ],\n",
       "        ...,\n",
       "        [13.457933 , 12.542937 , 15.095099 , ...,  4.5574045,\n",
       "          3.5116365,  2.7702308],\n",
       "        [11.5393095, 11.242562 , 15.369786 , ...,  5.2102623,\n",
       "          4.197771 ,  3.2696254],\n",
       "        [13.297193 , 11.877222 , 14.543955 , ...,  6.8533936,\n",
       "          4.8665805,  3.6977594]],\n",
       "\n",
       "       [[27.802345 , 27.735634 , 27.774889 , ..., 15.279853 ,\n",
       "         16.119757 , 17.028307 ],\n",
       "        [27.06318  , 27.3023   , 27.313602 , ..., 15.060519 ,\n",
       "         15.49102  , 16.280867 ],\n",
       "        [25.623583 , 26.04052  , 26.396175 , ..., 15.411879 ,\n",
       "         16.325085 , 16.59978  ],\n",
       "        ...,\n",
       "        [12.917705 , 10.350824 , 10.764426 , ..., 10.808731 ,\n",
       "         11.165534 , 12.026229 ],\n",
       "        [10.054115 ,  9.538296 , 11.051085 , ..., 11.171888 ,\n",
       "         11.335542 , 11.637528 ],\n",
       "        [13.281224 , 12.082281 , 12.265352 , ..., 11.133153 ,\n",
       "         10.834931 , 11.135721 ]]], dtype=float32)</pre></div></li><li class='xr-var-item'><div class='xr-var-name'><span>cape</span></div><div class='xr-var-dims'>(time, latitude, longitude)</div><div class='xr-var-dtype'>float64</div><div class='xr-var-preview xr-preview'>nan nan nan nan ... nan nan nan nan</div><input id='attrs-bfcc0e4f-d38e-448b-b75b-f3b77136f679' class='xr-var-attrs-in' type='checkbox' ><label for='attrs-bfcc0e4f-d38e-448b-b75b-f3b77136f679' title='Show/Hide attributes'><svg class='icon xr-icon-file-text2'><use xlink:href='#icon-file-text2'></use></svg></label><input id='data-0fee128b-d952-4e0a-af7a-33a8c00685b6' class='xr-var-data-in' type='checkbox'><label for='data-0fee128b-d952-4e0a-af7a-33a8c00685b6' title='Show/Hide data repr'><svg class='icon xr-icon-database'><use xlink:href='#icon-database'></use></svg></label><div class='xr-var-attrs'><dl class='xr-attrs'><dt><span>description :</span></dt><dd>mcape ; mcin ; lcl ; lfc</dd><dt><span>units :</span></dt><dd>J kg-1 ; J kg-1 ; m ; m</dd><dt><span>MemoryOrder :</span></dt><dd></dd><dt><span>_FillValue :</span></dt><dd>9.969209968386869e+36</dd><dt><span>missing_value :</span></dt><dd>9.969209968386869e+36</dd></dl></div><div class='xr-var-data'><pre>array([[[        nan,         nan,         nan, ...,         nan,\n",
       "                 nan,         nan],\n",
       "        [        nan,         nan,         nan, ...,         nan,\n",
       "                 nan,         nan],\n",
       "        [        nan,         nan,         nan, ...,         nan,\n",
       "                 nan,         nan],\n",
       "        ...,\n",
       "        [72.52583701, 37.6511968 ,  6.08816234, ...,         nan,\n",
       "                 nan,         nan],\n",
       "        [21.64394816,  9.98145323, 10.91251399, ...,         nan,\n",
       "                 nan,         nan],\n",
       "        [ 1.17962808,         nan,  0.1       , ...,         nan,\n",
       "                 nan,         nan]],\n",
       "\n",
       "       [[        nan,         nan,         nan, ...,         nan,\n",
       "                 nan,         nan],\n",
       "        [        nan,         nan,         nan, ...,         nan,\n",
       "                 nan,         nan],\n",
       "        [        nan,         nan,         nan, ...,         nan,\n",
       "                 nan,         nan],\n",
       "        ...,\n",
       "        [        nan,         nan,         nan, ...,         nan,\n",
       "                 nan,         nan],\n",
       "        [        nan,         nan,         nan, ...,         nan,\n",
       "                 nan,         nan],\n",
       "        [        nan,         nan,         nan, ...,         nan,\n",
       "                 nan,         nan]]])</pre></div></li><li class='xr-var-item'><div class='xr-var-name'><span>cin</span></div><div class='xr-var-dims'>(time, latitude, longitude)</div><div class='xr-var-dtype'>float64</div><div class='xr-var-preview xr-preview'>nan nan nan nan ... nan nan nan nan</div><input id='attrs-0bb80d8d-1003-410d-9cc3-358df5103973' class='xr-var-attrs-in' type='checkbox' ><label for='attrs-0bb80d8d-1003-410d-9cc3-358df5103973' title='Show/Hide attributes'><svg class='icon xr-icon-file-text2'><use xlink:href='#icon-file-text2'></use></svg></label><input id='data-de3f6b03-b90d-4931-a32d-25e3cc6ebe16' class='xr-var-data-in' type='checkbox'><label for='data-de3f6b03-b90d-4931-a32d-25e3cc6ebe16' title='Show/Hide data repr'><svg class='icon xr-icon-database'><use xlink:href='#icon-database'></use></svg></label><div class='xr-var-attrs'><dl class='xr-attrs'><dt><span>description :</span></dt><dd>mcape ; mcin ; lcl ; lfc</dd><dt><span>units :</span></dt><dd>J kg-1 ; J kg-1 ; m ; m</dd><dt><span>MemoryOrder :</span></dt><dd></dd><dt><span>_FillValue :</span></dt><dd>9.969209968386869e+36</dd><dt><span>missing_value :</span></dt><dd>9.969209968386869e+36</dd></dl></div><div class='xr-var-data'><pre>array([[[nan, nan, nan, ..., nan, nan, nan],\n",
       "        [nan, nan, nan, ..., nan, nan, nan],\n",
       "        [nan, nan, nan, ..., nan, nan, nan],\n",
       "        ...,\n",
       "        [nan, nan, nan, ..., nan, nan, nan],\n",
       "        [nan, nan, nan, ..., nan, nan, nan],\n",
       "        [nan, nan, nan, ..., nan, nan, nan]],\n",
       "\n",
       "       [[nan, nan, nan, ..., nan, nan, nan],\n",
       "        [nan, nan, nan, ..., nan, nan, nan],\n",
       "        [nan, nan, nan, ..., nan, nan, nan],\n",
       "        ...,\n",
       "        [nan, nan, nan, ..., nan, nan, nan],\n",
       "        [nan, nan, nan, ..., nan, nan, nan],\n",
       "        [nan, nan, nan, ..., nan, nan, nan]]])</pre></div></li><li class='xr-var-item'><div class='xr-var-name'><span>lcl</span></div><div class='xr-var-dims'>(time, latitude, longitude)</div><div class='xr-var-dtype'>float64</div><div class='xr-var-preview xr-preview'>925.1 859.1 ... 3.219e+03 3.144e+03</div><input id='attrs-9c0bc36b-5039-403e-b9ab-6137706a5127' class='xr-var-attrs-in' type='checkbox' ><label for='attrs-9c0bc36b-5039-403e-b9ab-6137706a5127' title='Show/Hide attributes'><svg class='icon xr-icon-file-text2'><use xlink:href='#icon-file-text2'></use></svg></label><input id='data-32c33d26-bd16-49ac-b821-09a3edbfde65' class='xr-var-data-in' type='checkbox'><label for='data-32c33d26-bd16-49ac-b821-09a3edbfde65' title='Show/Hide data repr'><svg class='icon xr-icon-database'><use xlink:href='#icon-database'></use></svg></label><div class='xr-var-attrs'><dl class='xr-attrs'><dt><span>description :</span></dt><dd>mcape ; mcin ; lcl ; lfc</dd><dt><span>units :</span></dt><dd>J kg-1 ; J kg-1 ; m ; m</dd><dt><span>MemoryOrder :</span></dt><dd></dd><dt><span>_FillValue :</span></dt><dd>9.969209968386869e+36</dd><dt><span>missing_value :</span></dt><dd>9.969209968386869e+36</dd></dl></div><div class='xr-var-data'><pre>array([[[ 925.10034305,  859.09166887,  782.57425712, ...,\n",
       "         1244.73243074, 1266.38274103, 1255.59069196],\n",
       "        [ 964.1810637 ,  935.25939059,  764.62615909, ...,\n",
       "         1311.61566176, 1309.53934055, 1287.35413989],\n",
       "        [ 977.22796292, 1017.7266246 ,  718.34028583, ...,\n",
       "         1240.35255051, 1218.9441063 , 1241.85484038],\n",
       "        ...,\n",
       "        [ -52.09332233,  -77.66843256, -200.88242699, ...,\n",
       "         3246.5798497 , 3270.76268438, 3305.10504954],\n",
       "        [ 484.14861981,  563.98042407,  433.09004614, ...,\n",
       "         3211.51885074, 3230.42718654, 3276.2650648 ],\n",
       "        [ 689.06099257,  755.80333753,  609.13054714, ...,\n",
       "         3273.99791654, 3312.59726671, 3354.66807142]],\n",
       "\n",
       "       [[1107.17180052, 1090.22137707, 1096.71461478, ...,\n",
       "         1273.59849383, 1273.92532572, 1248.91481491],\n",
       "        [1102.35924176, 1155.39550661, 1105.2287515 , ...,\n",
       "         1351.40808683, 1338.06015307, 1310.46868237],\n",
       "        [1093.21124058, 1240.13643221, 1069.24125255, ...,\n",
       "         1300.74576207, 1268.99048833, 1286.18873011],\n",
       "        ...,\n",
       "        [ 481.88843647,  580.19046232,  593.49428912, ...,\n",
       "         3531.93181337, 3380.43832911, 3253.8801876 ],\n",
       "        [ 871.62764769, 1804.30409826, 1131.85843868, ...,\n",
       "         3397.29453448, 3260.54266469, 3147.47822514],\n",
       "        [1980.43673403, 2003.07965219, 1348.59830515, ...,\n",
       "         3281.89817046, 3218.98789616, 3144.28847397]]])</pre></div></li><li class='xr-var-item'><div class='xr-var-name'><span>lfc</span></div><div class='xr-var-dims'>(time, latitude, longitude)</div><div class='xr-var-dtype'>float64</div><div class='xr-var-preview xr-preview'>2.063e+04 2.063e+04 ... 2.05e+04</div><input id='attrs-be6371a7-3f85-45ce-8df9-5a5f92943f38' class='xr-var-attrs-in' type='checkbox' ><label for='attrs-be6371a7-3f85-45ce-8df9-5a5f92943f38' title='Show/Hide attributes'><svg class='icon xr-icon-file-text2'><use xlink:href='#icon-file-text2'></use></svg></label><input id='data-c746ce9b-d38a-4046-8623-9630c810fd98' class='xr-var-data-in' type='checkbox'><label for='data-c746ce9b-d38a-4046-8623-9630c810fd98' title='Show/Hide data repr'><svg class='icon xr-icon-database'><use xlink:href='#icon-database'></use></svg></label><div class='xr-var-attrs'><dl class='xr-attrs'><dt><span>description :</span></dt><dd>mcape ; mcin ; lcl ; lfc</dd><dt><span>units :</span></dt><dd>J kg-1 ; J kg-1 ; m ; m</dd><dt><span>MemoryOrder :</span></dt><dd></dd><dt><span>_FillValue :</span></dt><dd>9.969209968386869e+36</dd><dt><span>missing_value :</span></dt><dd>9.969209968386869e+36</dd></dl></div><div class='xr-var-data'><pre>array([[[20625.27596802, 20625.45893659, 20624.77047104, ...,\n",
       "         20624.37061989, 20624.54766542, 20625.27596802],\n",
       "        [20625.41512963, 20624.95760864, 20624.90983176, ...,\n",
       "         20624.91380168, 20625.55052043, 20626.27882302],\n",
       "        [20625.41512963, 20624.77444094, 20625.64210427, ...,\n",
       "         20625.45893659, 20626.27882302, 20626.32243088],\n",
       "        ...,\n",
       "        [ 3367.5757086 ,  3681.36154364,  4189.62898585, ...,\n",
       "         20494.2790581 , 20493.14699805, 20493.34402871],\n",
       "        [ 3987.33145442,  4178.66933545,  4152.1941537 , ...,\n",
       "         20498.16302717, 20497.03096724, 20491.23267281],\n",
       "        [ 4661.1344375 , 19725.52734375,  4820.49627112, ...,\n",
       "         20497.20000917, 20497.53249431, 20491.09351122]],\n",
       "\n",
       "       [[20626.23104614, 20626.09565534, 20624.45211166, ...,\n",
       "         20635.51319802, 20635.05547792, 20634.51034302],\n",
       "        [20626.37020776, 20625.27596802, 20624.59147239, ...,\n",
       "         20636.0563798 , 20636.37473918, 20635.51319802],\n",
       "        [20626.05184838, 20625.09280032, 20625.32374489, ...,\n",
       "         20636.28315534, 20636.78468239, 20635.87321213],\n",
       "        ...,\n",
       "        [19365.00268555, 19410.49462891, 19457.54260254, ...,\n",
       "         20500.6462456 , 20499.51418555, 20499.70926309],\n",
       "        [19472.32727051, 19508.61810303, 19555.16461182, ...,\n",
       "         20505.16693342, 20503.71846724, 20498.23657906],\n",
       "        [19687.62506104, 19720.11523438, 19731.92297363, ...,\n",
       "         20504.52227479, 20504.85671306, 20498.41577685]]])</pre></div></li><li class='xr-var-item'><div class='xr-var-name'><span>q500</span></div><div class='xr-var-dims'>(time, latitude, longitude)</div><div class='xr-var-dtype'>float64</div><div class='xr-var-preview xr-preview'>0.06094 0.06826 ... 0.01823 0.02128</div><input id='attrs-f2d59bce-a2b7-4416-9f2c-e92f1e879a78' class='xr-var-attrs-in' type='checkbox' disabled><label for='attrs-f2d59bce-a2b7-4416-9f2c-e92f1e879a78' title='Show/Hide attributes'><svg class='icon xr-icon-file-text2'><use xlink:href='#icon-file-text2'></use></svg></label><input id='data-af59076f-5d45-4731-9bff-842c88481b3c' class='xr-var-data-in' type='checkbox'><label for='data-af59076f-5d45-4731-9bff-842c88481b3c' title='Show/Hide data repr'><svg class='icon xr-icon-database'><use xlink:href='#icon-database'></use></svg></label><div class='xr-var-attrs'><dl class='xr-attrs'></dl></div><div class='xr-var-data'><pre>array([[[0.06093958, 0.06826221, 0.07568413, ..., 0.03115049,\n",
       "         0.02778091, 0.02467027],\n",
       "        [0.03172584, 0.03535388, 0.03981581, ..., 0.03298474,\n",
       "         0.0284787 , 0.02630508],\n",
       "        [0.01597767, 0.01775839, 0.02017799, ..., 0.03445615,\n",
       "         0.03003709, 0.02855766],\n",
       "        ...,\n",
       "        [0.07220097, 0.074829  , 0.07656516, ..., 0.00847718,\n",
       "         0.00871795, 0.00847104],\n",
       "        [0.07562992, 0.07612803, 0.07457376, ..., 0.00846206,\n",
       "         0.00864237, 0.0083997 ],\n",
       "        [0.0782364 , 0.07370754, 0.06968559, ..., 0.00931338,\n",
       "         0.0091692 , 0.00866053]],\n",
       "\n",
       "       [[0.01017023, 0.01430793, 0.02043185, ..., 0.09488876,\n",
       "         0.08564697, 0.07565778],\n",
       "        [0.0018562 , 0.00156561, 0.00331058, ..., 0.09895135,\n",
       "         0.08779152, 0.07669707],\n",
       "        [0.00322142, 0.00193702, 0.00153666, ..., 0.10186066,\n",
       "         0.0907425 , 0.07855731],\n",
       "        ...,\n",
       "        [0.1133647 , 0.11837542, 0.12334176, ..., 0.01211175,\n",
       "         0.01476185, 0.01759675],\n",
       "        [0.10518525, 0.11294845, 0.11978327, ..., 0.0135711 ,\n",
       "         0.01653271, 0.0196632 ],\n",
       "        [0.09639625, 0.10327179, 0.11110018, ..., 0.01531023,\n",
       "         0.01822698, 0.02127641]]])</pre></div></li><li class='xr-var-item'><div class='xr-var-name'><span>r500</span></div><div class='xr-var-dims'>(time, latitude, longitude)</div><div class='xr-var-dtype'>float32</div><div class='xr-var-preview xr-preview'>1.285e+03 1.434e+03 ... 5.039e+03</div><input id='attrs-d7093d76-61c7-4069-9e4b-d3339614aed7' class='xr-var-attrs-in' type='checkbox' disabled><label for='attrs-d7093d76-61c7-4069-9e4b-d3339614aed7' title='Show/Hide attributes'><svg class='icon xr-icon-file-text2'><use xlink:href='#icon-file-text2'></use></svg></label><input id='data-7bc28d9d-d1bd-4627-b8bb-598996a3fa75' class='xr-var-data-in' type='checkbox'><label for='data-7bc28d9d-d1bd-4627-b8bb-598996a3fa75' title='Show/Hide data repr'><svg class='icon xr-icon-database'><use xlink:href='#icon-database'></use></svg></label><div class='xr-var-attrs'><dl class='xr-attrs'></dl></div><div class='xr-var-data'><pre>array([[[1285.4424  , 1433.5342  , 1582.8186  , ...,  642.0414  ,\n",
       "          574.7921  ,  511.59668 ],\n",
       "        [ 673.0431  ,  747.44684 ,  839.0205  , ...,  688.5437  ,\n",
       "          597.4472  ,  554.2835  ],\n",
       "        [ 348.00415 ,  383.77496 ,  432.4234  , ...,  728.3688  ,\n",
       "          638.9416  ,  611.27856 ],\n",
       "        ...,\n",
       "        [4711.588   , 4952.2075  , 5089.806   , ..., 1909.2885  ,\n",
       "         2020.1786  , 2025.6633  ],\n",
       "        [4960.554   , 5009.2026  , 4878.042   , ..., 1937.9055  ,\n",
       "         2032.3406  , 2037.3485  ],\n",
       "        [5119.1387  , 4795.292   , 4472.6377  , ..., 2192.1177  ,\n",
       "         2202.6108  , 2132.261   ]],\n",
       "\n",
       "       [[ 208.25882 ,  293.3937  ,  419.54614 , ..., 1950.3059  ,\n",
       "         1771.928   , 1574.2336  ],\n",
       "        [  38.22708 ,   32.265472,   68.27469 , ..., 2076.4583  ,\n",
       "         1857.0629  , 1631.9443  ],\n",
       "        [  68.27469 ,   40.85045 ,   32.265472, ..., 2180.9097  ,\n",
       "         1961.2759  , 1711.594   ],\n",
       "        ...,\n",
       "        [7321.916   , 7644.0933  , 7925.2534  , ..., 2892.5137  ,\n",
       "         3554.9927  , 4292.829   ],\n",
       "        [6921.0425  , 7362.9336  , 7689.4033  , ..., 3182.0203  ,\n",
       "         3911.7485  , 4730.9043  ],\n",
       "        [6357.292   , 6699.263   , 7054.3496  , ..., 3556.662   ,\n",
       "         4257.2964  , 5039.489   ]]], dtype=float32)</pre></div></li><li class='xr-var-item'><div class='xr-var-name'><span>t500</span></div><div class='xr-var-dims'>(time, latitude, longitude)</div><div class='xr-var-dtype'>float32</div><div class='xr-var-preview xr-preview'>266.8 266.9 266.9 ... 239.1 238.9</div><input id='attrs-967d4241-3371-405e-82bb-205b3750b112' class='xr-var-attrs-in' type='checkbox' ><label for='attrs-967d4241-3371-405e-82bb-205b3750b112' title='Show/Hide attributes'><svg class='icon xr-icon-file-text2'><use xlink:href='#icon-file-text2'></use></svg></label><input id='data-421763da-b89c-4815-8603-0bcc042fc526' class='xr-var-data-in' type='checkbox'><label for='data-421763da-b89c-4815-8603-0bcc042fc526' title='Show/Hide data repr'><svg class='icon xr-icon-database'><use xlink:href='#icon-database'></use></svg></label><div class='xr-var-attrs'><dl class='xr-attrs'><dt><span>units :</span></dt><dd>K</dd><dt><span>long_name :</span></dt><dd>Temperature</dd><dt><span>standard_name :</span></dt><dd>air_temperature</dd></dl></div><div class='xr-var-data'><pre>array([[[266.80582, 266.8632 , ..., 267.06122, 267.03162],\n",
       "        [266.7336 , 266.77805, ..., 266.87985, 266.82245],\n",
       "        ...,\n",
       "        [252.84833, 252.81131, ..., 238.9871 , 238.67245],\n",
       "        [252.8761 , 252.94272, ..., 238.77055, 238.52069]],\n",
       "\n",
       "       [[267.19818, 267.1797 , ..., 267.05753, 266.9835 ],\n",
       "        [267.12415, 267.1149 , ..., 266.76694, 266.69104],\n",
       "        ...,\n",
       "        [252.80946, 252.91681, ..., 238.92418, 238.75389],\n",
       "        [252.78355, 252.9742 , ..., 239.05559, 238.91307]]], dtype=float32)</pre></div></li><li class='xr-var-item'><div class='xr-var-name'><span>q925</span></div><div class='xr-var-dims'>(time, latitude, longitude)</div><div class='xr-var-dtype'>float64</div><div class='xr-var-preview xr-preview'>0.7545 0.8189 ... 0.1785 0.1854</div><input id='attrs-0d6fb409-ef2d-47ae-baeb-dd2a2276e86d' class='xr-var-attrs-in' type='checkbox' disabled><label for='attrs-0d6fb409-ef2d-47ae-baeb-dd2a2276e86d' title='Show/Hide attributes'><svg class='icon xr-icon-file-text2'><use xlink:href='#icon-file-text2'></use></svg></label><input id='data-79012d3e-9c3f-46b8-91a6-3f4a86f951c9' class='xr-var-data-in' type='checkbox'><label for='data-79012d3e-9c3f-46b8-91a6-3f4a86f951c9' title='Show/Hide data repr'><svg class='icon xr-icon-database'><use xlink:href='#icon-database'></use></svg></label><div class='xr-var-attrs'><dl class='xr-attrs'></dl></div><div class='xr-var-data'><pre>array([[[0.75453822, 0.81888245, 0.82745837, ..., 1.04071202,\n",
       "         1.03071086, 1.03151683],\n",
       "        [0.63390919, 0.77883071, 0.82759254, ..., 1.00043694,\n",
       "         1.00706667, 1.01696991],\n",
       "        [0.46813449, 0.6594639 , 0.77477312, ..., 1.02678053,\n",
       "         1.03913999, 1.034321  ],\n",
       "        ...,\n",
       "        [0.68075112, 0.67301964, 0.67603919, ..., 0.20880594,\n",
       "         0.20927666, 0.2242154 ],\n",
       "        [0.58802453, 0.57524029, 0.60202231, ..., 0.21253308,\n",
       "         0.21151939, 0.21850199],\n",
       "        [0.57387198, 0.56869693, 0.59720853, ..., 0.21183018,\n",
       "         0.21471527, 0.22055309]],\n",
       "\n",
       "       [[0.69675468, 0.66694474, 0.59255772, ..., 1.07712833,\n",
       "         1.07752348, 1.085638  ],\n",
       "        [0.56041004, 0.61396158, 0.59627525, ..., 1.03693883,\n",
       "         1.04629186, 1.05877688],\n",
       "        [0.45046956, 0.54108083, 0.59741589, ..., 1.06860943,\n",
       "         1.08116895, 1.07368364],\n",
       "        ...,\n",
       "        [0.53354744, 0.52123253, 0.50578449, ..., 0.18546279,\n",
       "         0.18898217, 0.20324625],\n",
       "        [0.48026008, 0.46329961, 0.45984482, ..., 0.17823676,\n",
       "         0.1802953 , 0.18842072],\n",
       "        [0.46901645, 0.47008092, 0.47639115, ..., 0.17271972,\n",
       "         0.17849006, 0.1853878 ]]])</pre></div></li><li class='xr-var-item'><div class='xr-var-name'><span>r925</span></div><div class='xr-var-dims'>(time, latitude, longitude)</div><div class='xr-var-dtype'>float32</div><div class='xr-var-preview xr-preview'>7.209e+03 7.901e+03 ... 6.088e+03</div><input id='attrs-dca5a63a-6cc6-4f90-b5b1-31323588a2e2' class='xr-var-attrs-in' type='checkbox' disabled><label for='attrs-dca5a63a-6cc6-4f90-b5b1-31323588a2e2' title='Show/Hide attributes'><svg class='icon xr-icon-file-text2'><use xlink:href='#icon-file-text2'></use></svg></label><input id='data-717ad524-133c-43a5-b5fc-60ba246c2956' class='xr-var-data-in' type='checkbox'><label for='data-717ad524-133c-43a5-b5fc-60ba246c2956' title='Show/Hide data repr'><svg class='icon xr-icon-database'><use xlink:href='#icon-database'></use></svg></label><div class='xr-var-attrs'><dl class='xr-attrs'></dl></div><div class='xr-var-data'><pre>array([[[7208.88  , 7901.168 , 7884.9517, ..., 8110.548 , 7997.2725,\n",
       "         8024.22  ],\n",
       "        [5893.2227, 7372.949 , 7772.1543, ..., 7828.9106, 7770.962 ,\n",
       "         7888.5283],\n",
       "        [4158.092 , 5995.2896, 7134.7153, ..., 8038.5283, 8095.524 ,\n",
       "         8107.686 ],\n",
       "        ...,\n",
       "        [5968.5806, 6170.329 , 6760.7886, ..., 7841.7876, 7835.1104,\n",
       "         8642.581 ],\n",
       "        [4742.113 , 4599.029 , 5040.204 , ..., 8073.3457, 8042.821 ,\n",
       "         8459.673 ],\n",
       "        [4739.7275, 4655.07  , 5058.567 , ..., 8163.489 , 8413.886 ,\n",
       "         8757.048 ]],\n",
       "\n",
       "       [[6384.7163, 6043.4614, 5236.706 , ..., 7912.853 , 7888.0522,\n",
       "         8013.251 ],\n",
       "        [5059.5205, 5487.103 , 5193.304 , ..., 7635.509 , 7624.3003,\n",
       "         7795.2856],\n",
       "        [3973.9897, 4719.219 , 5148.9478, ..., 7829.6255, 7931.216 ,\n",
       "         7975.81  ],\n",
       "        ...,\n",
       "        [4280.9053, 4272.3203, 4298.7905, ..., 6436.7036, 6539.4854,\n",
       "         7067.942 ],\n",
       "        [3693.784 , 3475.8193, 3440.287 , ..., 5947.5947, 6031.299 ,\n",
       "         6341.5527],\n",
       "        [3550.4617, 3487.9814, 3500.1438, ..., 5510.9507, 5801.649 ,\n",
       "         6087.817 ]]], dtype=float32)</pre></div></li><li class='xr-var-item'><div class='xr-var-name'><span>t925</span></div><div class='xr-var-dims'>(time, latitude, longitude)</div><div class='xr-var-dtype'>float32</div><div class='xr-var-preview xr-preview'>286.7 286.5 286.7 ... 269.2 269.1</div><input id='attrs-c34dc686-755a-4a9f-ad4a-7946f43152ef' class='xr-var-attrs-in' type='checkbox' ><label for='attrs-c34dc686-755a-4a9f-ad4a-7946f43152ef' title='Show/Hide attributes'><svg class='icon xr-icon-file-text2'><use xlink:href='#icon-file-text2'></use></svg></label><input id='data-0b67136b-c181-4d01-b061-a7325e40c6c3' class='xr-var-data-in' type='checkbox'><label for='data-0b67136b-c181-4d01-b061-a7325e40c6c3' title='Show/Hide data repr'><svg class='icon xr-icon-database'><use xlink:href='#icon-database'></use></svg></label><div class='xr-var-attrs'><dl class='xr-attrs'><dt><span>units :</span></dt><dd>K</dd><dt><span>long_name :</span></dt><dd>Temperature</dd><dt><span>standard_name :</span></dt><dd>air_temperature</dd></dl></div><div class='xr-var-data'><pre>array([[[286.68237, 286.52505, ..., 289.8918 , 289.85107],\n",
       "        [287.11365, 286.8212 , ..., 289.98065, 289.89737],\n",
       "        ...,\n",
       "        [289.3273 , 289.46426, ..., 267.13342, 266.89648],\n",
       "        [288.95526, 289.09592, ..., 266.73917, 266.56705]],\n",
       "\n",
       "       [[287.3302 , 287.506  , ..., 290.80615, 290.67474],\n",
       "        [287.57266, 287.72443, ..., 290.88202, 290.7173 ],\n",
       "        ...,\n",
       "        [290.08246, 290.47668, ..., 268.82697, 268.7455 ],\n",
       "        [290.33417, 290.65067, ..., 269.21008, 269.07312]]], dtype=float32)</pre></div></li></ul></div></li><li class='xr-section-item'><input id='section-5d3d8e26-efdf-49ed-b622-9d49e874084f' class='xr-section-summary-in' type='checkbox'  ><label for='section-5d3d8e26-efdf-49ed-b622-9d49e874084f' class='xr-section-summary' >Indexes: <span>(3)</span></label><div class='xr-section-inline-details'></div><div class='xr-section-details'><ul class='xr-var-list'><li class='xr-var-item'><div class='xr-index-name'><div>longitude</div></div><div class='xr-index-preview'>PandasIndex</div><div></div><input id='index-17d8120a-e7a8-4bc6-ac9e-ce142c088eb2' class='xr-index-data-in' type='checkbox'/><label for='index-17d8120a-e7a8-4bc6-ac9e-ce142c088eb2' title='Show/Hide index repr'><svg class='icon xr-icon-database'><use xlink:href='#icon-database'></use></svg></label><div class='xr-index-data'><pre>PandasIndex(Index([ 250.0, 250.25,  250.5, 250.75,  251.0, 251.25,  251.5, 251.75,  252.0,\n",
       "       252.25,\n",
       "       ...\n",
       "       297.75,  298.0, 298.25,  298.5, 298.75,  299.0, 299.25,  299.5, 299.75,\n",
       "        300.0],\n",
       "      dtype=&#x27;float32&#x27;, name=&#x27;longitude&#x27;, length=201))</pre></div></li><li class='xr-var-item'><div class='xr-index-name'><div>latitude</div></div><div class='xr-index-preview'>PandasIndex</div><div></div><input id='index-6037bf15-b502-4e75-b370-befc756b010d' class='xr-index-data-in' type='checkbox'/><label for='index-6037bf15-b502-4e75-b370-befc756b010d' title='Show/Hide index repr'><svg class='icon xr-icon-database'><use xlink:href='#icon-database'></use></svg></label><div class='xr-index-data'><pre>PandasIndex(Index([ 20.0, 20.25,  20.5, 20.75,  21.0, 21.25,  21.5, 21.75,  22.0, 22.25,\n",
       "       ...\n",
       "       47.75,  48.0, 48.25,  48.5, 48.75,  49.0, 49.25,  49.5, 49.75,  50.0],\n",
       "      dtype=&#x27;float32&#x27;, name=&#x27;latitude&#x27;, length=121))</pre></div></li><li class='xr-var-item'><div class='xr-index-name'><div>time</div></div><div class='xr-index-preview'>PandasIndex</div><div></div><input id='index-a70726f7-7d9a-4221-a8a3-e62bf02ebd17' class='xr-index-data-in' type='checkbox'/><label for='index-a70726f7-7d9a-4221-a8a3-e62bf02ebd17' title='Show/Hide index repr'><svg class='icon xr-icon-database'><use xlink:href='#icon-database'></use></svg></label><div class='xr-index-data'><pre>PandasIndex(DatetimeIndex([&#x27;2024-04-03 12:00:00&#x27;, &#x27;2024-04-03 18:00:00&#x27;], dtype=&#x27;datetime64[ns]&#x27;, name=&#x27;time&#x27;, freq=None))</pre></div></li></ul></div></li><li class='xr-section-item'><input id='section-9612f695-8976-46c4-88ca-776d2031e3db' class='xr-section-summary-in' type='checkbox' disabled ><label for='section-9612f695-8976-46c4-88ca-776d2031e3db' class='xr-section-summary'  title='Expand/collapse section'>Attributes: <span>(0)</span></label><div class='xr-section-inline-details'></div><div class='xr-section-details'><dl class='xr-attrs'></dl></div></li></ul></div></div>"
      ],
      "text/plain": [
       "<xarray.Dataset>\n",
       "Dimensions:    (longitude: 201, latitude: 121, time: 2)\n",
       "Coordinates:\n",
       "  * longitude  (longitude) float32 250.0 250.2 250.5 250.8 ... 299.5 299.8 300.0\n",
       "  * latitude   (latitude) float32 20.0 20.25 20.5 20.75 ... 49.5 49.75 50.0\n",
       "  * time       (time) datetime64[ns] 2024-04-03T12:00:00 2024-04-03T18:00:00\n",
       "Data variables: (12/19)\n",
       "    du_01      (time, latitude, longitude) float32 -2.493 -2.597 ... -4.826\n",
       "    dv_01      (time, latitude, longitude) float32 4.112 3.687 ... -4.504 -3.77\n",
       "    bs_01      (time, latitude, longitude) float32 4.809 4.51 ... 6.066 6.124\n",
       "    du_03      (time, latitude, longitude) float32 7.561 7.633 ... -4.667 -4.486\n",
       "    dv_03      (time, latitude, longitude) float32 8.106 7.692 ... 1.143 2.325\n",
       "    bs_03      (time, latitude, longitude) float32 11.08 10.84 ... 4.805 5.053\n",
       "    ...         ...\n",
       "    q500       (time, latitude, longitude) float64 0.06094 0.06826 ... 0.02128\n",
       "    r500       (time, latitude, longitude) float32 1.285e+03 ... 5.039e+03\n",
       "    t500       (time, latitude, longitude) float32 266.8 266.9 ... 239.1 238.9\n",
       "    q925       (time, latitude, longitude) float64 0.7545 0.8189 ... 0.1854\n",
       "    r925       (time, latitude, longitude) float32 7.209e+03 ... 6.088e+03\n",
       "    t925       (time, latitude, longitude) float32 286.7 286.5 ... 269.2 269.1"
      ]
     },
     "execution_count": 14,
     "metadata": {},
     "output_type": "execute_result"
    }
   ],
   "source": [
    "mod_params.drop(['level','mcape_mcin_lcl_lfc'])"
   ]
  },
  {
   "cell_type": "code",
   "execution_count": 14,
   "id": "e984f095-1594-43d7-b6a1-739b242fe237",
   "metadata": {},
   "outputs": [
    {
     "data": {
      "text/plain": [
       "(array([16696.,  9730.,  7442.,  4379.,  4137.,  3050.,  1365.,  1027.,\n",
       "          685.,    24.]),\n",
       " array([3.68133717e-07, 4.67697145e-04, 9.35026156e-04, 1.40235517e-03,\n",
       "        1.86968418e-03, 2.33701319e-03, 2.80434220e-03, 3.27167121e-03,\n",
       "        3.73900022e-03, 4.20632923e-03, 4.67365824e-03]),\n",
       " <BarContainer object of 10 artists>)"
      ]
     },
     "execution_count": 14,
     "metadata": {},
     "output_type": "execute_result"
    },
    {
     "data": {
      "image/png": "[encoded data removed]",
      "text/plain": [
       "<Figure size 640x480 with 1 Axes>"
      ]
     },
     "metadata": {},
     "output_type": "display_data"
    }
   ],
   "source": [
    "plt.hist(q1level.sel(level=500).values.flatten())"
   ]
  },
  {
   "cell_type": "code",
   "execution_count": 6,
   "id": "9147193e-e7dc-4635-95c8-ce8d58272854",
   "metadata": {},
   "outputs": [
    {
     "name": "stdout",
     "output_type": "stream",
     "text": [
      "[ 1  0 -1 -2 -3 -4 -5 -6 -7]\n"
     ]
    }
   ],
   "source": [
    "era5='gs://weatherbench2/datasets/era5/1959-2022-6h-1440x721.zarr'\n",
    "xr_era5=xr.open_zarr(era5).sortby('latitude')\n",
    "xr_era5=xr_era5.sel(time=xr_era5.time.dt.year.isin([2020]))\n",
    "xr_era5=xr_era5.sel(time=xr_era5.time.dt.month.isin([4]))#np.arange(3,10)))\n",
    "xr_era5=xr_era5.sel(time=xr_era5.time.dt.day.isin([2,3]),latitude=slice(20,50),longitude=slice(250,300))\n",
    "zsurf_c=xr_era5['geopotential_at_surface']\n",
    "\n",
    "year=2024; month=4; day=np.arange(2,4,1); days=day[0]-np.arange(1,10)\n",
    "print(days)\n",
    "latslice2=slice(20,50)\n",
    "model='era5'\n",
    "file_pl=sorted(glob(datapath+model+'/*pl*.nc'))[0]\n",
    "file_rh=sorted(glob(datapath+model+'/*rh*.nc'))[0]\n",
    "file_sfc=sorted(glob(datapath+model+'/*sfc*.nc'))[0]\n",
    "\n",
    "st=datetime.datetime(2024,4,2,0)\n",
    "et=datetime.datetime(2024,4,3,23)\n",
    "\n",
    "\n",
    "#print(files_pl[nn])\n",
    "xr_pl=xr.open_dataset(file_pl).sortby('latitude')\n",
    "init=np.datetime_as_string(xr_pl.time[0].values,'h')\n",
    "\n",
    "xr_pl=xr_pl.sel(time=xr_pl.time.dt.year.isin([year]))\n",
    "xr_pl=xr_pl.sel(time=xr_pl.time.dt.month.isin([month]))\n",
    "xr_pl=xr_pl.sel(time=xr_pl.time.dt.day.isin([day]))\n",
    "\n",
    "xr_sfc=xr.open_dataset(file_sfc).sortby('latitude')\n",
    "xr_sfc=xr_sfc.sel(time=xr_sfc.time.dt.year.isin([year]))\n",
    "xr_sfc=xr_sfc.sel(time=xr_sfc.time.dt.month.isin([month]))\n",
    "xr_sfc=xr_sfc.sel(time=xr_sfc.time.dt.day.isin([day]))\n",
    "\n",
    "xr_rh=xr.open_dataset(file_rh).sortby('latitude')\n",
    "xr_rh=xr_rh.sel(time=xr_rh.time.dt.year.isin([year]))\n",
    "xr_rh=xr_rh.sel(time=xr_rh.time.dt.month.isin([month]))\n",
    "xr_rh=xr_rh.sel(time=xr_rh.time.dt.day.isin([day]))\n",
    "\n",
    "\n",
    "xr_pl = xr_pl.sortby('level', ascending=False)\n",
    "\n",
    "plevel=copy.deepcopy(xr_pl.level.values)\n",
    "\n",
    "tlevel=xr_pl.t\n",
    "qlevel=xr_pl.q\n",
    "rlevel=xr_rh.r\n",
    "plevel_dim=np.ones([1,len(plevel),1,1])\n",
    "if model=='tigge': zlevel=xr_pl.gh\n",
    "else: zlevel=xr_pl.z\n",
    "ulevel=xr_pl.u\n",
    "vlevel=xr_pl.v\n",
    "for n1 in range(len(plevel.data)):\n",
    "    plevel_dim[0,n1,0,0]=plevel[n1]\n",
    "plevel_exp=(tlevel/tlevel)*plevel_dim\n",
    "\n",
    "psurf=xr_sfc.msl\n",
    "tsurf=xr_sfc.t2m\n",
    "zsurf = zsurf_c.expand_dims(dim={\"time\": psurf.time}, axis=0)\n",
    "# zsurf = zsurf.expand_dims(dim={\"time\": psurf.time}, axis=1)\n",
    "\n",
    "ps=psurf/100\n",
    "zs=zsurf/9.81\n",
    "zl=zlevel/9.81\n",
    "\n",
    "mod_inst=wrf.cape_2d(pres_hpa=plevel_exp, tkel=tlevel, qv=qlevel, height=zl, terrain=zs, psfc_hpa=psurf, ter_follow=False)\n",
    "mod_inst=mod_inst.assign_coords(longitude=psurf.longitude.values);\n",
    "mod_inst=mod_inst.assign_coords(latitude=psurf.latitude.values);\n",
    "mod_inst=mod_inst.assign_coords(time=psurf.time.values)\n",
    "\n",
    "du_01=ulevel.sel(level=850)-xr_sfc.u10n; dv_01=vlevel.sel(level=850)-xr_sfc.v10n\n",
    "du_03=ulevel.sel(level=700)-xr_sfc.u10n; dv_03=vlevel.sel(level=700)-xr_sfc.v10n\n",
    "du_06=ulevel.sel(level=500)-xr_sfc.u10n; dv_06=vlevel.sel(level=500)-xr_sfc.v10n\n",
    "\n",
    "bs_01=( du_01**2 + dv_01**2 )**0.5\n",
    "bs_03=( du_03**2 + dv_03**2 )**0.5\n",
    "bs_06=( du_06**2 + dv_06**2 )**0.5\n",
    "\n",
    "du_01=du_01.to_dataset(name='du_01')\n",
    "dv_01=dv_01.to_dataset(name='dv_01')\n",
    "bs_01=bs_01.to_dataset(name='bs_01')\n",
    "du_03=du_03.to_dataset(name='du_03')\n",
    "dv_03=dv_03.to_dataset(name='dv_03')\n",
    "bs_03=bs_03.to_dataset(name='bs_03')\n",
    "du_06=du_06.to_dataset(name='du_06')\n",
    "dv_06=dv_06.to_dataset(name='dv_06')\n",
    "bs_06=bs_06.to_dataset(name='bs_06')\n",
    "\n",
    "mod_params=xr.merge([du_01,dv_01,bs_01,du_03,dv_03,bs_03,du_06,dv_06,bs_06],compat='override')\n",
    "#mod_params=mod_params.squeeze(dim='level')\n",
    "mod_params['cape']=mod_inst.sel(mcape_mcin_lcl_lfc='mcape')\n",
    "mod_params['cin']=mod_inst.sel(mcape_mcin_lcl_lfc='mcin')\n",
    "mod_params['lcl']=mod_inst.sel(mcape_mcin_lcl_lfc='lcl')\n",
    "mod_params['lfc']=mod_inst.sel(mcape_mcin_lcl_lfc='lfc')#.squeeze(dim='mcape_mcin_lcl_lfc')\n",
    "mod_params['q500']=qlevel.sel(level=500).squeeze()\n",
    "mod_params['r500']=rlevel.sel(level=500).squeeze()\n",
    "mod_params['t500']=tlevel.sel(level=500).squeeze()\n",
    "mod_params['q925']=qlevel.sel(level=925).squeeze()\n",
    "mod_params['r925']=rlevel.sel(level=925).squeeze()\n",
    "mod_params['t925']=tlevel.sel(level=925).squeeze()\n",
    "#print(model,init)\n",
    "mod_params.to_netcdf(datapath+'postproc/'+model+'.nc')\n",
    "\n",
    "\n",
    "cm=plt.cm.Reds\n",
    "cm.set_under(color=\"grey\")\n",
    "cm.set_bad(color=\"grey\")\n",
    "p = mod_params.cape.sel(latitude=slice(20,40),longitude=slice(-100,-70)).plot(x=\"longitude\", y=\"latitude\", col=\"time\", col_wrap=4,transform=ccrs.PlateCarree(), subplot_kws={'projection':ccrs.PlateCarree()}\\\n",
    "                ,cmap=cm,vmin=200,vmax=1500,levels=np.arange(200,1500,100),extend='both')# col_wrap=4)\n",
    "for ax in p.axs.flat:\n",
    "                ax.coastlines()\n",
    "f=p.fig\n",
    "f.savefig(figpath+model+'_cape.png',  dpi=300, bbox_inches='tight')\n",
    "plt.close()\n",
    "\n",
    "cm=plt.cm.Reds\n",
    "cm.set_under(color=\"grey\")\n",
    "cm.set_bad(color=\"grey\")\n",
    "p = mod_params.bs_06.sel(latitude=slice(20,40),longitude=slice(-100,-70)).plot(x=\"longitude\", y=\"latitude\", col=\"time\", col_wrap=4,transform=ccrs.PlateCarree(), subplot_kws={'projection':ccrs.PlateCarree()}\\\n",
    "                ,cmap=cm,vmin=5,vmax=30,levels=np.arange(5,32,2),extend='both')# col_wrap=4)\n",
    "for ax in p.axs.flat:\n",
    "                ax.coastlines()\n",
    "f=p.fig\n",
    "f.savefig(figpath+model+'_bs_06.png',  dpi=300, bbox_inches='tight')\n",
    "plt.close()\n"
   ]
  },
  {
   "cell_type": "code",
   "execution_count": 5,
   "id": "b26ba388-287e-4b79-9c33-afea1420c4a2",
   "metadata": {},
   "outputs": [
    {
     "data": {
      "text/plain": [
       "['/work/FAC/FGSE/IDYST/tbeucler/default/raw_data/ECMWF_AI/era5/case_24_era_pl.nc']"
      ]
     },
     "execution_count": 5,
     "metadata": {},
     "output_type": "execute_result"
    }
   ],
   "source": [
    "file_pl"
   ]
  },
  {
   "cell_type": "code",
   "execution_count": 15,
   "id": "dc9e0d4b-b17a-41a2-ac86-28c31cec0dcf",
   "metadata": {},
   "outputs": [
    {
     "data": {
      "text/plain": [
       "(array([7.2376e+04, 4.4658e+04, 2.2891e+04, 2.0443e+04, 2.0254e+04,\n",
       "        9.1000e+03, 3.3170e+03, 1.1760e+03, 3.1800e+02, 3.5000e+01]),\n",
       " array([6.51925802e-09, 4.77505557e-04, 9.55004594e-04, 1.43250369e-03,\n",
       "        1.91000267e-03, 2.38750177e-03, 2.86500086e-03, 3.34249996e-03,\n",
       "        3.81999882e-03, 4.29749815e-03, 4.77499701e-03]),\n",
       " <BarContainer object of 10 artists>)"
      ]
     },
     "execution_count": 15,
     "metadata": {},
     "output_type": "execute_result"
    },
    {
     "data": {
      "image/png": "[encoded data removed]",
      "text/plain": [
       "<Figure size 640x480 with 1 Axes>"
      ]
     },
     "metadata": {},
     "output_type": "display_data"
    }
   ],
   "source": [
    "plt.hist(qlevel.sel(level=500).values.flatten())"
   ]
  },
  {
   "cell_type": "code",
   "execution_count": 44,
   "id": "35084842-6804-492b-9674-55b56efa853f",
   "metadata": {},
   "outputs": [
    {
     "data": {
      "text/plain": [
       "<matplotlib.colorbar.Colorbar at 0x7fedeafe5250>"
      ]
     },
     "execution_count": 44,
     "metadata": {},
     "output_type": "execute_result"
    },
    {
     "data": {
      "image/png": "[encoded data removed]",
      "text/plain": [
       "<Figure size 640x480 with 2 Axes>"
      ]
     },
     "metadata": {},
     "output_type": "display_data"
    }
   ],
   "source": [
    "p=plt.imshow(q1level.sel(level=500)[1,:,:].values-qlevel.sel(level=500)[7,:,:].values,cmap='seismic',vmin=-0.0015,vmax=0.0015)\n",
    "plt.colorbar(p)"
   ]
  },
  {
   "cell_type": "code",
   "execution_count": 48,
   "id": "9e0b0113-4470-49a5-90e5-d3a784462d7b",
   "metadata": {},
   "outputs": [
    {
     "data": {
      "text/plain": [
       "array([8.77411138e-03, 5.46625684e-03, 5.88469179e-04, 2.91803391e-04,\n",
       "                  nan, 2.38610271e-05, 9.25232525e-05, 6.13869087e-05,\n",
       "       1.58240316e-04, 1.14631211e-04, 2.26130395e-05, 5.48979125e-06,\n",
       "       5.17938240e-06])"
      ]
     },
     "execution_count": 48,
     "metadata": {},
     "output_type": "execute_result"
    }
   ],
   "source": [
    "q1level.values[1,:,3,3]\n",
    "#plevel"
   ]
  },
  {
   "cell_type": "code",
   "execution_count": 41,
   "id": "9c3e1177-95c5-4071-9bf9-a5e17436afaa",
   "metadata": {},
   "outputs": [
    {
     "data": {
      "text/plain": [
       "<matplotlib.colorbar.Colorbar at 0x7fede9e2c190>"
      ]
     },
     "execution_count": 41,
     "metadata": {},
     "output_type": "execute_result"
    },
    {
     "data": {
      "image/png": "[encoded data removed]",
      "text/plain": [
       "<Figure size 640x480 with 2 Axes>"
      ]
     },
     "metadata": {},
     "output_type": "display_data"
    }
   ],
   "source": [
    "p=plt.imshow(qlevel.sel(level=500)[7,:,:])\n",
    "plt.colorbar(p)"
   ]
  },
  {
   "cell_type": "code",
   "execution_count": 9,
   "id": "ea52ce58-a7bd-4c18-8c14-fbf1293fcf1e",
   "metadata": {},
   "outputs": [
    {
     "data": {
      "text/plain": [
       "<bound method Mapping.keys of <xarray.Dataset>\n",
       "Dimensions:    (longitude: 201, latitude: 121, time: 8)\n",
       "Coordinates:\n",
       "  * longitude  (longitude) float32 -110.0 -109.8 -109.5 ... -60.5 -60.25 -60.0\n",
       "  * latitude   (latitude) float32 20.0 20.25 20.5 20.75 ... 49.5 49.75 50.0\n",
       "  * time       (time) datetime64[ns] 2024-04-02 ... 2024-04-03T18:00:00\n",
       "Data variables:\n",
       "    u10n       (time, latitude, longitude) float32 ...\n",
       "    v10n       (time, latitude, longitude) float32 ...\n",
       "    t2m        (time, latitude, longitude) float32 ...\n",
       "    cape       (time, latitude, longitude) float32 ...\n",
       "    cin        (time, latitude, longitude) float32 ...\n",
       "    msl        (time, latitude, longitude) float32 1.015e+05 ... 1.023e+05\n",
       "Attributes:\n",
       "    Conventions:  CF-1.6\n",
       "    history:      2024-04-09 13:30:58 GMT by grib_to_netcdf-2.25.1: /opt/ecmw...>"
      ]
     },
     "execution_count": 9,
     "metadata": {},
     "output_type": "execute_result"
    }
   ],
   "source": [
    "xr_sfc.keys"
   ]
  },
  {
   "cell_type": "code",
   "execution_count": null,
   "id": "f0cd3a3f-8acb-4ffa-84dd-a2cd0021f2e6",
   "metadata": {},
   "outputs": [],
   "source": []
  }
 ],
 "metadata": {
  "kernelspec": {
   "display_name": "Python 3 (ipykernel)",
   "language": "python",
   "name": "python3"
  },
  "language_info": {
   "codemirror_mode": {
    "name": "ipython",
    "version": 3
   },
   "file_extension": ".py",
   "mimetype": "text/x-python",
   "name": "python",
   "nbconvert_exporter": "python",
   "pygments_lexer": "ipython3",
   "version": "3.11.7"
  }
 },
 "nbformat": 4,
 "nbformat_minor": 5
}
