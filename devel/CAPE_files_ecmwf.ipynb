{
 "cells": [
  {
   "cell_type": "code",
   "execution_count": 1,
   "id": "e4985f45-8926-4c4a-b0f7-7f093e3a981b",
   "metadata": {},
   "outputs": [
    {
     "name": "stdout",
     "output_type": "stream",
     "text": [
      "modules loaded\n"
     ]
    }
   ],
   "source": [
    "import sys, os\n",
    "import pandas as pd\n",
    "import xarray as xr\n",
    "import matplotlib.pyplot as plt\n",
    "import numpy as np\n",
    "import numpy.matlib\n",
    "#import weatherbench2 as wb\n",
    "#import metpy\n",
    "import copy\n",
    "import wrf\n",
    "import time\n",
    "#from metpy.units import units\n",
    "import cartopy.crs as ccrs\n",
    "print('modules loaded')\n",
    "import datetime\n",
    "import glob\n",
    "import datetime as dt\n",
    "import seaborn as sns\n",
    "import netCDF4 as nc\n",
    "import metpy\n",
    "from metpy.units import units\n",
    "from glob import glob"
   ]
  },
  {
   "cell_type": "code",
   "execution_count": 2,
   "id": "9514c7ea-1b33-4f84-a0fd-737c25b50b83",
   "metadata": {},
   "outputs": [],
   "source": [
    "figpath='/users/mfeldman/figs/case_24/'\n",
    "datapath='/work/FAC/FGSE/IDYST/tbeucler/default/raw_data/ECMWF_AI/'\n",
    "models=['aifs','pangu','graphcast','tigge']"
   ]
  },
  {
   "cell_type": "code",
   "execution_count": 74,
   "id": "35d09f05-f01d-4f99-8bb9-86d2b4f4a24b",
   "metadata": {},
   "outputs": [
    {
     "name": "stdout",
     "output_type": "stream",
     "text": [
      "[ 1  0 -1 -2 -3 -4 -5 -6 -7]\n",
      "/work/FAC/FGSE/IDYST/tbeucler/default/raw_data/ECMWF_AI/tigge/pl_2024-03-23_00:00:00.nc\n",
      "tigge 2024-03-23T00\n",
      "/work/FAC/FGSE/IDYST/tbeucler/default/raw_data/ECMWF_AI/tigge/pl_2024-03-23_12:00:00.nc\n",
      "tigge 2024-03-23T12\n",
      "/work/FAC/FGSE/IDYST/tbeucler/default/raw_data/ECMWF_AI/tigge/pl_2024-03-24_00:00:00.nc\n",
      "tigge 2024-03-24T00\n",
      "/work/FAC/FGSE/IDYST/tbeucler/default/raw_data/ECMWF_AI/tigge/pl_2024-03-24_12:00:00.nc\n",
      "tigge 2024-03-24T12\n",
      "/work/FAC/FGSE/IDYST/tbeucler/default/raw_data/ECMWF_AI/tigge/pl_2024-03-25_00:00:00.nc\n",
      "tigge 2024-03-25T00\n",
      "/work/FAC/FGSE/IDYST/tbeucler/default/raw_data/ECMWF_AI/tigge/pl_2024-03-25_12:00:00.nc\n",
      "tigge 2024-03-25T12\n",
      "/work/FAC/FGSE/IDYST/tbeucler/default/raw_data/ECMWF_AI/tigge/pl_2024-03-26_00:00:00.nc\n",
      "tigge 2024-03-26T00\n",
      "/work/FAC/FGSE/IDYST/tbeucler/default/raw_data/ECMWF_AI/tigge/pl_2024-03-26_12:00:00.nc\n",
      "tigge 2024-03-26T12\n",
      "/work/FAC/FGSE/IDYST/tbeucler/default/raw_data/ECMWF_AI/tigge/pl_2024-03-27_00:00:00.nc\n",
      "tigge 2024-03-27T00\n",
      "/work/FAC/FGSE/IDYST/tbeucler/default/raw_data/ECMWF_AI/tigge/pl_2024-03-27_12:00:00.nc\n",
      "tigge 2024-03-27T12\n",
      "/work/FAC/FGSE/IDYST/tbeucler/default/raw_data/ECMWF_AI/tigge/pl_2024-03-28_00:00:00.nc\n",
      "tigge 2024-03-28T00\n",
      "/work/FAC/FGSE/IDYST/tbeucler/default/raw_data/ECMWF_AI/tigge/pl_2024-03-28_12:00:00.nc\n",
      "tigge 2024-03-28T12\n",
      "/work/FAC/FGSE/IDYST/tbeucler/default/raw_data/ECMWF_AI/tigge/pl_2024-03-29_00:00:00.nc\n",
      "tigge 2024-03-29T00\n",
      "/work/FAC/FGSE/IDYST/tbeucler/default/raw_data/ECMWF_AI/tigge/pl_2024-03-29_12:00:00.nc\n",
      "tigge 2024-03-29T12\n",
      "/work/FAC/FGSE/IDYST/tbeucler/default/raw_data/ECMWF_AI/tigge/pl_2024-03-30_00:00:00.nc\n",
      "tigge 2024-03-30T00\n",
      "/work/FAC/FGSE/IDYST/tbeucler/default/raw_data/ECMWF_AI/tigge/pl_2024-03-30_12:00:00.nc\n",
      "tigge 2024-03-30T12\n",
      "/work/FAC/FGSE/IDYST/tbeucler/default/raw_data/ECMWF_AI/tigge/pl_2024-03-31_00:00:00.nc\n",
      "tigge 2024-03-31T00\n",
      "/work/FAC/FGSE/IDYST/tbeucler/default/raw_data/ECMWF_AI/tigge/pl_2024-03-31_12:00:00.nc\n",
      "tigge 2024-03-31T12\n",
      "/work/FAC/FGSE/IDYST/tbeucler/default/raw_data/ECMWF_AI/tigge/pl_2024-04-01_00:00:00.nc\n",
      "tigge 2024-04-01T00\n",
      "/work/FAC/FGSE/IDYST/tbeucler/default/raw_data/ECMWF_AI/tigge/pl_2024-04-01_12:00:00.nc\n",
      "tigge 2024-04-01T12\n",
      "/work/FAC/FGSE/IDYST/tbeucler/default/raw_data/ECMWF_AI/tigge/pl_2024-04-02_00:00:00.nc\n",
      "tigge 2024-04-02T00\n",
      "/work/FAC/FGSE/IDYST/tbeucler/default/raw_data/ECMWF_AI/tigge/pl_2024-04-02_12:00:00.nc\n",
      "tigge 2024-04-02T12\n",
      "/work/FAC/FGSE/IDYST/tbeucler/default/raw_data/ECMWF_AI/tigge/pl_2024-04-03_00:00:00.nc\n",
      "tigge 2024-04-03T00\n",
      "/work/FAC/FGSE/IDYST/tbeucler/default/raw_data/ECMWF_AI/tigge/pl_2024-04-03_12:00:00.nc\n",
      "tigge 2024-04-03T12\n"
     ]
    }
   ],
   "source": [
    "era5='gs://weatherbench2/datasets/era5/1959-2022-6h-1440x721.zarr'\n",
    "xr_era5=xr.open_zarr(era5).sortby('latitude')\n",
    "xr_era5=xr_era5.sel(time=xr_era5.time.dt.year.isin([2020]))\n",
    "xr_era5=xr_era5.sel(time=xr_era5.time.dt.month.isin([4]))#np.arange(3,10)))\n",
    "xr_era5=xr_era5.sel(time=xr_era5.time.dt.day.isin([2,3]),latitude=slice(20,50),longitude=slice(250,300))\n",
    "zsurf_c=xr_era5['geopotential_at_surface']\n",
    "\n",
    "year=2024; month=4; day=np.arange(2,4,1); days=day[0]-np.arange(1,10)\n",
    "print(days)\n",
    "latslice2=slice(20,50)\n",
    "for model in models[-1:]:\n",
    "    files_pl=sorted(glob(datapath+model+'/pl*.nc'))\n",
    "    files_sfc=sorted(glob(datapath+model+'/sfc*.nc'))\n",
    "    for nn in range(len(files_pl))[:]:\n",
    "        st=datetime.datetime(2024,4,2,0)\n",
    "        et=datetime.datetime(2024,4,3,23)\n",
    "\n",
    "\n",
    "        print(files_pl[nn])\n",
    "        xr_pl=xr.open_dataset(files_pl[nn]).sortby('latitude')\n",
    "        init=np.datetime_as_string(xr_pl.time[0].values,'h')\n",
    "        \n",
    "        xr_pl=xr_pl.sel(time=xr_pl.time.dt.year.isin([year]))\n",
    "        xr_pl=xr_pl.sel(time=xr_pl.time.dt.month.isin([month]))\n",
    "        xr_pl=xr_pl.sel(time=xr_pl.time.dt.day.isin([day]))\n",
    "        \n",
    "        xr_sfc=xr.open_dataset(files_sfc[nn]).sortby('latitude')\n",
    "        xr_sfc=xr_sfc.sel(time=xr_sfc.time.dt.year.isin([year]))\n",
    "        xr_sfc=xr_sfc.sel(time=xr_sfc.time.dt.month.isin([month]))\n",
    "        xr_sfc=xr_sfc.sel(time=xr_sfc.time.dt.day.isin([day]))\n",
    "\n",
    "\n",
    "        xr_pl = xr_pl.sortby('level', ascending=False)\n",
    "        \n",
    "        plevel=copy.deepcopy(xr_pl.level.values)\n",
    "        \n",
    "        tlevel=xr_pl.t\n",
    "        qlevel=xr_pl.q\n",
    "        plevel_dim=np.ones([1,len(plevel),1,1])\n",
    "        if model=='tigge': zlevel=xr_pl.gh\n",
    "        else: zlevel=xr_pl.z\n",
    "        ulevel=xr_pl.u\n",
    "        vlevel=xr_pl.v\n",
    "        for n1 in range(len(plevel.data)):\n",
    "            plevel_dim[0,n1,0,0]=plevel[n1]\n",
    "        plevel_exp=(tlevel/tlevel)*plevel_dim\n",
    "        \n",
    "        psurf=xr_sfc.msl\n",
    "        tsurf=xr_sfc.t2m\n",
    "        zsurf = zsurf_c.expand_dims(dim={\"time\": psurf.time}, axis=0)\n",
    "        # zsurf = zsurf.expand_dims(dim={\"time\": psurf.time}, axis=1)\n",
    "        \n",
    "        ps=psurf/100\n",
    "        zs=zsurf/9.81\n",
    "        zl=zlevel/9.81\n",
    "\n",
    "        mod_inst=wrf.cape_2d(pres_hpa=plevel_exp, tkel=tlevel, qv=qlevel, height=zl, terrain=zs, psfc_hpa=psurf, ter_follow=False)\n",
    "        mod_inst=mod_inst.assign_coords(longitude=psurf.longitude.values);\n",
    "        mod_inst=mod_inst.assign_coords(latitude=psurf.latitude.values);\n",
    "        mod_inst=mod_inst.assign_coords(time=psurf.time.values)\n",
    "\n",
    "        du_01=ulevel.sel(level=850)-xr_sfc.u10; dv_01=vlevel.sel(level=850)-xr_sfc.v10\n",
    "        du_03=ulevel.sel(level=700)-xr_sfc.u10; dv_03=vlevel.sel(level=700)-xr_sfc.v10\n",
    "        du_06=ulevel.sel(level=500)-xr_sfc.u10; dv_06=vlevel.sel(level=500)-xr_sfc.v10\n",
    "        \n",
    "        bs_01=( du_01**2 + dv_01**2 )**0.5\n",
    "        bs_03=( du_03**2 + dv_03**2 )**0.5\n",
    "        bs_06=( du_06**2 + dv_06**2 )**0.5\n",
    "        \n",
    "        du_01=du_01.to_dataset(name='du_01')\n",
    "        dv_01=dv_01.to_dataset(name='dv_01')\n",
    "        bs_01=bs_01.to_dataset(name='bs_01')\n",
    "        du_03=du_03.to_dataset(name='du_03')\n",
    "        dv_03=dv_03.to_dataset(name='dv_03')\n",
    "        bs_03=bs_03.to_dataset(name='bs_03')\n",
    "        du_06=du_06.to_dataset(name='du_06')\n",
    "        dv_06=dv_06.to_dataset(name='dv_06')\n",
    "        bs_06=bs_06.to_dataset(name='bs_06')\n",
    "        \n",
    "        mod_params=xr.merge([du_01,dv_01,bs_01,du_03,dv_03,bs_03,du_06,dv_06,bs_06],compat='override')\n",
    "        #mod_params=mod_params.squeeze(dim='level')\n",
    "        mod_params['cape']=mod_inst.sel(mcape_mcin_lcl_lfc='mcape')\n",
    "        mod_params['cin']=mod_inst.sel(mcape_mcin_lcl_lfc='mcin')\n",
    "        mod_params['lcl']=mod_inst.sel(mcape_mcin_lcl_lfc='lcl')\n",
    "        mod_params['lfc']=mod_inst.sel(mcape_mcin_lcl_lfc='lfc')#.squeeze(dim='mcape_mcin_lcl_lfc')\n",
    "        print(model,init)\n",
    "        mod_params.to_netcdf(datapath+'postproc/'+model+'_'+init+'.nc')\n",
    "\n",
    "        cm=plt.cm.Reds\n",
    "        cm.set_under(color=\"grey\")\n",
    "        cm.set_bad(color=\"grey\")\n",
    "        p = mod_params.cape.sel(latitude=slice(20,40),longitude=slice(260,290)).plot(x=\"longitude\", y=\"latitude\", col=\"time\", col_wrap=4,transform=ccrs.PlateCarree(), subplot_kws={'projection':ccrs.PlateCarree()}\\\n",
    "                        ,cmap=cm,vmin=200,vmax=1500,levels=np.arange(200,1500,100),extend='both')# col_wrap=4)\n",
    "        for ax in p.axs.flat:\n",
    "                        ax.coastlines()\n",
    "        f=p.fig\n",
    "        f.savefig(figpath+model+'_'+init+'_cape.png',  dpi=300, bbox_inches='tight')\n",
    "        plt.close()\n",
    "        \n",
    "        cm=plt.cm.Reds\n",
    "        cm.set_under(color=\"grey\")\n",
    "        cm.set_bad(color=\"grey\")\n",
    "        p = mod_params.bs_06.sel(latitude=slice(20,40),longitude=slice(260,290)).plot(x=\"longitude\", y=\"latitude\", col=\"time\", col_wrap=4,transform=ccrs.PlateCarree(), subplot_kws={'projection':ccrs.PlateCarree()}\\\n",
    "                        ,cmap=cm,vmin=5,vmax=30,levels=np.arange(5,32,2),extend='both')# col_wrap=4)\n",
    "        for ax in p.axs.flat:\n",
    "                        ax.coastlines()\n",
    "        f=p.fig\n",
    "        f.savefig(figpath+model+'_'+init+'_bs_06.png',  dpi=300, bbox_inches='tight')\n",
    "        plt.close()\n"
   ]
  },
  {
   "cell_type": "code",
   "execution_count": 75,
   "id": "6755ff9c-42c6-435e-a2de-ef2525286c3b",
   "metadata": {},
   "outputs": [
    {
     "name": "stdout",
     "output_type": "stream",
     "text": [
      "/work/FAC/FGSE/IDYST/tbeucler/default/raw_data/ECMWF_AI/tigge/pl_2024-03-23_00:00:00.nc\n",
      "/work/FAC/FGSE/IDYST/tbeucler/default/raw_data/ECMWF_AI/tigge/pl_2024-03-23_12:00:00.nc\n",
      "/work/FAC/FGSE/IDYST/tbeucler/default/raw_data/ECMWF_AI/tigge/pl_2024-03-24_00:00:00.nc\n",
      "/work/FAC/FGSE/IDYST/tbeucler/default/raw_data/ECMWF_AI/tigge/pl_2024-03-24_12:00:00.nc\n",
      "/work/FAC/FGSE/IDYST/tbeucler/default/raw_data/ECMWF_AI/tigge/pl_2024-03-25_00:00:00.nc\n",
      "/work/FAC/FGSE/IDYST/tbeucler/default/raw_data/ECMWF_AI/tigge/pl_2024-03-25_12:00:00.nc\n",
      "/work/FAC/FGSE/IDYST/tbeucler/default/raw_data/ECMWF_AI/tigge/pl_2024-03-26_00:00:00.nc\n",
      "/work/FAC/FGSE/IDYST/tbeucler/default/raw_data/ECMWF_AI/tigge/pl_2024-03-26_12:00:00.nc\n",
      "/work/FAC/FGSE/IDYST/tbeucler/default/raw_data/ECMWF_AI/tigge/pl_2024-03-27_00:00:00.nc\n",
      "/work/FAC/FGSE/IDYST/tbeucler/default/raw_data/ECMWF_AI/tigge/pl_2024-03-27_12:00:00.nc\n",
      "/work/FAC/FGSE/IDYST/tbeucler/default/raw_data/ECMWF_AI/tigge/pl_2024-03-28_00:00:00.nc\n",
      "/work/FAC/FGSE/IDYST/tbeucler/default/raw_data/ECMWF_AI/tigge/pl_2024-03-28_12:00:00.nc\n",
      "/work/FAC/FGSE/IDYST/tbeucler/default/raw_data/ECMWF_AI/tigge/pl_2024-03-29_00:00:00.nc\n",
      "/work/FAC/FGSE/IDYST/tbeucler/default/raw_data/ECMWF_AI/tigge/pl_2024-03-29_12:00:00.nc\n",
      "/work/FAC/FGSE/IDYST/tbeucler/default/raw_data/ECMWF_AI/tigge/pl_2024-03-30_00:00:00.nc\n",
      "/work/FAC/FGSE/IDYST/tbeucler/default/raw_data/ECMWF_AI/tigge/pl_2024-03-30_12:00:00.nc\n",
      "/work/FAC/FGSE/IDYST/tbeucler/default/raw_data/ECMWF_AI/tigge/pl_2024-03-31_00:00:00.nc\n",
      "/work/FAC/FGSE/IDYST/tbeucler/default/raw_data/ECMWF_AI/tigge/pl_2024-03-31_12:00:00.nc\n",
      "/work/FAC/FGSE/IDYST/tbeucler/default/raw_data/ECMWF_AI/tigge/pl_2024-04-01_00:00:00.nc\n",
      "/work/FAC/FGSE/IDYST/tbeucler/default/raw_data/ECMWF_AI/tigge/pl_2024-04-01_12:00:00.nc\n",
      "/work/FAC/FGSE/IDYST/tbeucler/default/raw_data/ECMWF_AI/tigge/pl_2024-04-02_00:00:00.nc\n",
      "/work/FAC/FGSE/IDYST/tbeucler/default/raw_data/ECMWF_AI/tigge/pl_2024-04-02_12:00:00.nc\n",
      "/work/FAC/FGSE/IDYST/tbeucler/default/raw_data/ECMWF_AI/tigge/pl_2024-04-03_00:00:00.nc\n",
      "/work/FAC/FGSE/IDYST/tbeucler/default/raw_data/ECMWF_AI/tigge/pl_2024-04-03_12:00:00.nc\n"
     ]
    }
   ],
   "source": [
    "for model in models[-1:]:\n",
    "    files_pl=sorted(glob(datapath+model+'/pl*.nc'))\n",
    "    files_sfc=sorted(glob(datapath+model+'/sfc*.nc'))\n",
    "    for nn in range(len(files_pl))[:]:\n",
    "        st=datetime.datetime(2024,4,2,0)\n",
    "        et=datetime.datetime(2024,4,3,23)\n",
    "\n",
    "\n",
    "        print(files_pl[nn])\n",
    "        xr_pl=xr.open_dataset(files_pl[nn]).sortby('latitude')\n",
    "        init=np.datetime_as_string(xr_pl.time[0].values,'h')\n",
    "        \n",
    "        xr_sfc=xr.open_dataset(files_sfc[nn]).sortby('latitude')\n",
    "        xr_sfc=xr_sfc.sel(time=xr_sfc.time.dt.year.isin([year]))\n",
    "        xr_sfc=xr_sfc.sel(time=xr_sfc.time.dt.month.isin([month]))\n",
    "        xr_sfc=xr_sfc.sel(time=xr_sfc.time.dt.day.isin([day]))\n",
    "\n",
    "        cm=plt.cm.Reds\n",
    "        cm.set_under(color=\"grey\")\n",
    "        cm.set_bad(color=\"grey\")\n",
    "        p = xr_sfc.cape.sel(latitude=slice(20,40),longitude=slice(260,290)).plot(x=\"longitude\", y=\"latitude\", col=\"time\", col_wrap=4,transform=ccrs.PlateCarree(), subplot_kws={'projection':ccrs.PlateCarree()}\\\n",
    "                        ,cmap=cm,vmin=200,vmax=1500,levels=np.arange(200,1500,100),extend='both')# col_wrap=4)\n",
    "        for ax in p.axs.flat:\n",
    "                        ax.coastlines()\n",
    "        f=p.fig\n",
    "        f.savefig(figpath+model+'_'+init+'_cape_mod.png',  dpi=300, bbox_inches='tight')\n",
    "        plt.close()"
   ]
  },
  {
   "cell_type": "code",
   "execution_count": 71,
   "id": "e6a42273-ea12-42a7-82bd-d8fde319fb90",
   "metadata": {},
   "outputs": [
    {
     "name": "stdout",
     "output_type": "stream",
     "text": [
      "[ 1  0 -1 -2 -3 -4 -5 -6 -7]\n",
      "/work/FAC/FGSE/IDYST/tbeucler/default/raw_data/ECMWF_AI/sfno/pl_2024-03-23_00:00:00.nc\n"
     ]
    },
    {
     "name": "stderr",
     "output_type": "stream",
     "text": [
      "/work/FAC/FGSE/IDYST/tbeucler/default/mfeldman/miniforge3/envs/wb/lib/python3.11/site-packages/metpy/calc/thermo.py:1396: RuntimeWarning: invalid value encountered in log\n",
      "  val = np.log(vapor_pressure / mpconsts.nounit.sat_pressure_0c)\n"
     ]
    },
    {
     "name": "stdout",
     "output_type": "stream",
     "text": [
      "sfno 2024-03-23T00\n",
      "/work/FAC/FGSE/IDYST/tbeucler/default/raw_data/ECMWF_AI/sfno/pl_2024-03-23_12:00:00.nc\n"
     ]
    },
    {
     "name": "stderr",
     "output_type": "stream",
     "text": [
      "/work/FAC/FGSE/IDYST/tbeucler/default/mfeldman/miniforge3/envs/wb/lib/python3.11/site-packages/metpy/calc/thermo.py:1396: RuntimeWarning: invalid value encountered in log\n",
      "  val = np.log(vapor_pressure / mpconsts.nounit.sat_pressure_0c)\n"
     ]
    },
    {
     "name": "stdout",
     "output_type": "stream",
     "text": [
      "sfno 2024-03-23T12\n",
      "/work/FAC/FGSE/IDYST/tbeucler/default/raw_data/ECMWF_AI/sfno/pl_2024-03-24_00:00:00.nc\n"
     ]
    },
    {
     "name": "stderr",
     "output_type": "stream",
     "text": [
      "/work/FAC/FGSE/IDYST/tbeucler/default/mfeldman/miniforge3/envs/wb/lib/python3.11/site-packages/metpy/calc/thermo.py:1396: RuntimeWarning: invalid value encountered in log\n",
      "  val = np.log(vapor_pressure / mpconsts.nounit.sat_pressure_0c)\n"
     ]
    },
    {
     "name": "stdout",
     "output_type": "stream",
     "text": [
      "sfno 2024-03-24T00\n",
      "/work/FAC/FGSE/IDYST/tbeucler/default/raw_data/ECMWF_AI/sfno/pl_2024-03-24_12:00:00.nc\n"
     ]
    },
    {
     "name": "stderr",
     "output_type": "stream",
     "text": [
      "/work/FAC/FGSE/IDYST/tbeucler/default/mfeldman/miniforge3/envs/wb/lib/python3.11/site-packages/metpy/calc/thermo.py:1396: RuntimeWarning: invalid value encountered in log\n",
      "  val = np.log(vapor_pressure / mpconsts.nounit.sat_pressure_0c)\n"
     ]
    },
    {
     "name": "stdout",
     "output_type": "stream",
     "text": [
      "sfno 2024-03-24T12\n",
      "/work/FAC/FGSE/IDYST/tbeucler/default/raw_data/ECMWF_AI/sfno/pl_2024-03-25_00:00:00.nc\n"
     ]
    },
    {
     "name": "stderr",
     "output_type": "stream",
     "text": [
      "/work/FAC/FGSE/IDYST/tbeucler/default/mfeldman/miniforge3/envs/wb/lib/python3.11/site-packages/metpy/calc/thermo.py:1396: RuntimeWarning: invalid value encountered in log\n",
      "  val = np.log(vapor_pressure / mpconsts.nounit.sat_pressure_0c)\n"
     ]
    },
    {
     "name": "stdout",
     "output_type": "stream",
     "text": [
      "sfno 2024-03-25T00\n",
      "/work/FAC/FGSE/IDYST/tbeucler/default/raw_data/ECMWF_AI/sfno/pl_2024-03-25_12:00:00.nc\n"
     ]
    },
    {
     "name": "stderr",
     "output_type": "stream",
     "text": [
      "/work/FAC/FGSE/IDYST/tbeucler/default/mfeldman/miniforge3/envs/wb/lib/python3.11/site-packages/metpy/calc/thermo.py:1396: RuntimeWarning: invalid value encountered in log\n",
      "  val = np.log(vapor_pressure / mpconsts.nounit.sat_pressure_0c)\n"
     ]
    },
    {
     "name": "stdout",
     "output_type": "stream",
     "text": [
      "sfno 2024-03-25T12\n",
      "/work/FAC/FGSE/IDYST/tbeucler/default/raw_data/ECMWF_AI/sfno/pl_2024-03-26_00:00:00.nc\n"
     ]
    },
    {
     "name": "stderr",
     "output_type": "stream",
     "text": [
      "/work/FAC/FGSE/IDYST/tbeucler/default/mfeldman/miniforge3/envs/wb/lib/python3.11/site-packages/metpy/calc/thermo.py:1396: RuntimeWarning: invalid value encountered in log\n",
      "  val = np.log(vapor_pressure / mpconsts.nounit.sat_pressure_0c)\n"
     ]
    },
    {
     "name": "stdout",
     "output_type": "stream",
     "text": [
      "sfno 2024-03-26T00\n",
      "/work/FAC/FGSE/IDYST/tbeucler/default/raw_data/ECMWF_AI/sfno/pl_2024-03-26_12:00:00.nc\n"
     ]
    },
    {
     "name": "stderr",
     "output_type": "stream",
     "text": [
      "/work/FAC/FGSE/IDYST/tbeucler/default/mfeldman/miniforge3/envs/wb/lib/python3.11/site-packages/metpy/calc/thermo.py:1396: RuntimeWarning: invalid value encountered in log\n",
      "  val = np.log(vapor_pressure / mpconsts.nounit.sat_pressure_0c)\n"
     ]
    },
    {
     "name": "stdout",
     "output_type": "stream",
     "text": [
      "sfno 2024-03-26T12\n",
      "/work/FAC/FGSE/IDYST/tbeucler/default/raw_data/ECMWF_AI/sfno/pl_2024-03-27_00:00:00.nc\n"
     ]
    },
    {
     "name": "stderr",
     "output_type": "stream",
     "text": [
      "/work/FAC/FGSE/IDYST/tbeucler/default/mfeldman/miniforge3/envs/wb/lib/python3.11/site-packages/metpy/calc/thermo.py:1396: RuntimeWarning: invalid value encountered in log\n",
      "  val = np.log(vapor_pressure / mpconsts.nounit.sat_pressure_0c)\n"
     ]
    },
    {
     "name": "stdout",
     "output_type": "stream",
     "text": [
      "sfno 2024-03-27T00\n",
      "/work/FAC/FGSE/IDYST/tbeucler/default/raw_data/ECMWF_AI/sfno/pl_2024-03-27_12:00:00.nc\n"
     ]
    },
    {
     "name": "stderr",
     "output_type": "stream",
     "text": [
      "/work/FAC/FGSE/IDYST/tbeucler/default/mfeldman/miniforge3/envs/wb/lib/python3.11/site-packages/metpy/calc/thermo.py:1396: RuntimeWarning: invalid value encountered in log\n",
      "  val = np.log(vapor_pressure / mpconsts.nounit.sat_pressure_0c)\n"
     ]
    },
    {
     "name": "stdout",
     "output_type": "stream",
     "text": [
      "sfno 2024-03-27T12\n",
      "/work/FAC/FGSE/IDYST/tbeucler/default/raw_data/ECMWF_AI/sfno/pl_2024-03-28_00:00:00.nc\n"
     ]
    },
    {
     "name": "stderr",
     "output_type": "stream",
     "text": [
      "/work/FAC/FGSE/IDYST/tbeucler/default/mfeldman/miniforge3/envs/wb/lib/python3.11/site-packages/metpy/calc/thermo.py:1396: RuntimeWarning: invalid value encountered in log\n",
      "  val = np.log(vapor_pressure / mpconsts.nounit.sat_pressure_0c)\n"
     ]
    },
    {
     "name": "stdout",
     "output_type": "stream",
     "text": [
      "sfno 2024-03-28T00\n",
      "/work/FAC/FGSE/IDYST/tbeucler/default/raw_data/ECMWF_AI/sfno/pl_2024-03-28_12:00:00.nc\n"
     ]
    },
    {
     "name": "stderr",
     "output_type": "stream",
     "text": [
      "/work/FAC/FGSE/IDYST/tbeucler/default/mfeldman/miniforge3/envs/wb/lib/python3.11/site-packages/metpy/calc/thermo.py:1396: RuntimeWarning: invalid value encountered in log\n",
      "  val = np.log(vapor_pressure / mpconsts.nounit.sat_pressure_0c)\n"
     ]
    },
    {
     "name": "stdout",
     "output_type": "stream",
     "text": [
      "sfno 2024-03-28T12\n",
      "/work/FAC/FGSE/IDYST/tbeucler/default/raw_data/ECMWF_AI/sfno/pl_2024-03-29_00:00:00.nc\n"
     ]
    },
    {
     "name": "stderr",
     "output_type": "stream",
     "text": [
      "/work/FAC/FGSE/IDYST/tbeucler/default/mfeldman/miniforge3/envs/wb/lib/python3.11/site-packages/metpy/calc/thermo.py:1396: RuntimeWarning: invalid value encountered in log\n",
      "  val = np.log(vapor_pressure / mpconsts.nounit.sat_pressure_0c)\n"
     ]
    },
    {
     "name": "stdout",
     "output_type": "stream",
     "text": [
      "sfno 2024-03-29T00\n",
      "/work/FAC/FGSE/IDYST/tbeucler/default/raw_data/ECMWF_AI/sfno/pl_2024-03-29_12:00:00.nc\n"
     ]
    },
    {
     "name": "stderr",
     "output_type": "stream",
     "text": [
      "/work/FAC/FGSE/IDYST/tbeucler/default/mfeldman/miniforge3/envs/wb/lib/python3.11/site-packages/metpy/calc/thermo.py:1396: RuntimeWarning: invalid value encountered in log\n",
      "  val = np.log(vapor_pressure / mpconsts.nounit.sat_pressure_0c)\n"
     ]
    },
    {
     "name": "stdout",
     "output_type": "stream",
     "text": [
      "sfno 2024-03-29T12\n",
      "/work/FAC/FGSE/IDYST/tbeucler/default/raw_data/ECMWF_AI/sfno/pl_2024-03-30_00:00:00.nc\n"
     ]
    },
    {
     "name": "stderr",
     "output_type": "stream",
     "text": [
      "/work/FAC/FGSE/IDYST/tbeucler/default/mfeldman/miniforge3/envs/wb/lib/python3.11/site-packages/metpy/calc/thermo.py:1396: RuntimeWarning: invalid value encountered in log\n",
      "  val = np.log(vapor_pressure / mpconsts.nounit.sat_pressure_0c)\n"
     ]
    },
    {
     "name": "stdout",
     "output_type": "stream",
     "text": [
      "sfno 2024-03-30T00\n",
      "/work/FAC/FGSE/IDYST/tbeucler/default/raw_data/ECMWF_AI/sfno/pl_2024-03-30_12:00:00.nc\n"
     ]
    },
    {
     "name": "stderr",
     "output_type": "stream",
     "text": [
      "/work/FAC/FGSE/IDYST/tbeucler/default/mfeldman/miniforge3/envs/wb/lib/python3.11/site-packages/metpy/calc/thermo.py:1396: RuntimeWarning: invalid value encountered in log\n",
      "  val = np.log(vapor_pressure / mpconsts.nounit.sat_pressure_0c)\n"
     ]
    },
    {
     "name": "stdout",
     "output_type": "stream",
     "text": [
      "sfno 2024-03-30T12\n",
      "/work/FAC/FGSE/IDYST/tbeucler/default/raw_data/ECMWF_AI/sfno/pl_2024-03-31_00:00:00.nc\n"
     ]
    },
    {
     "name": "stderr",
     "output_type": "stream",
     "text": [
      "/work/FAC/FGSE/IDYST/tbeucler/default/mfeldman/miniforge3/envs/wb/lib/python3.11/site-packages/metpy/calc/thermo.py:1396: RuntimeWarning: invalid value encountered in log\n",
      "  val = np.log(vapor_pressure / mpconsts.nounit.sat_pressure_0c)\n"
     ]
    },
    {
     "name": "stdout",
     "output_type": "stream",
     "text": [
      "sfno 2024-03-31T00\n",
      "/work/FAC/FGSE/IDYST/tbeucler/default/raw_data/ECMWF_AI/sfno/pl_2024-03-31_12:00:00.nc\n"
     ]
    },
    {
     "name": "stderr",
     "output_type": "stream",
     "text": [
      "/work/FAC/FGSE/IDYST/tbeucler/default/mfeldman/miniforge3/envs/wb/lib/python3.11/site-packages/metpy/calc/thermo.py:1396: RuntimeWarning: invalid value encountered in log\n",
      "  val = np.log(vapor_pressure / mpconsts.nounit.sat_pressure_0c)\n"
     ]
    },
    {
     "name": "stdout",
     "output_type": "stream",
     "text": [
      "sfno 2024-03-31T12\n",
      "/work/FAC/FGSE/IDYST/tbeucler/default/raw_data/ECMWF_AI/sfno/pl_2024-04-01_00:00:00.nc\n"
     ]
    },
    {
     "name": "stderr",
     "output_type": "stream",
     "text": [
      "/work/FAC/FGSE/IDYST/tbeucler/default/mfeldman/miniforge3/envs/wb/lib/python3.11/site-packages/metpy/calc/thermo.py:1396: RuntimeWarning: invalid value encountered in log\n",
      "  val = np.log(vapor_pressure / mpconsts.nounit.sat_pressure_0c)\n"
     ]
    },
    {
     "name": "stdout",
     "output_type": "stream",
     "text": [
      "sfno 2024-04-01T00\n",
      "/work/FAC/FGSE/IDYST/tbeucler/default/raw_data/ECMWF_AI/sfno/pl_2024-04-01_12:00:00.nc\n"
     ]
    },
    {
     "name": "stderr",
     "output_type": "stream",
     "text": [
      "/work/FAC/FGSE/IDYST/tbeucler/default/mfeldman/miniforge3/envs/wb/lib/python3.11/site-packages/metpy/calc/thermo.py:1396: RuntimeWarning: invalid value encountered in log\n",
      "  val = np.log(vapor_pressure / mpconsts.nounit.sat_pressure_0c)\n"
     ]
    },
    {
     "name": "stdout",
     "output_type": "stream",
     "text": [
      "sfno 2024-04-01T12\n",
      "/work/FAC/FGSE/IDYST/tbeucler/default/raw_data/ECMWF_AI/sfno/pl_2024-04-02_00:00:00.nc\n"
     ]
    },
    {
     "name": "stderr",
     "output_type": "stream",
     "text": [
      "/tmp/ipykernel_2661966/2212193301.py:41: UserWarning: Relative humidity >120%, ensure proper units.\n",
      "  dplevel=metpy.calc.dewpoint_from_relative_humidity(tlevel.values* units('K'), rlevel.values* units.percent)\n",
      "/work/FAC/FGSE/IDYST/tbeucler/default/mfeldman/miniforge3/envs/wb/lib/python3.11/site-packages/metpy/calc/thermo.py:1396: RuntimeWarning: invalid value encountered in log\n",
      "  val = np.log(vapor_pressure / mpconsts.nounit.sat_pressure_0c)\n"
     ]
    },
    {
     "name": "stdout",
     "output_type": "stream",
     "text": [
      "sfno 2024-04-02T00\n",
      "/work/FAC/FGSE/IDYST/tbeucler/default/raw_data/ECMWF_AI/sfno/pl_2024-04-02_12:00:00.nc\n"
     ]
    },
    {
     "name": "stderr",
     "output_type": "stream",
     "text": [
      "/tmp/ipykernel_2661966/2212193301.py:41: UserWarning: Relative humidity >120%, ensure proper units.\n",
      "  dplevel=metpy.calc.dewpoint_from_relative_humidity(tlevel.values* units('K'), rlevel.values* units.percent)\n",
      "/work/FAC/FGSE/IDYST/tbeucler/default/mfeldman/miniforge3/envs/wb/lib/python3.11/site-packages/metpy/calc/thermo.py:1396: RuntimeWarning: invalid value encountered in log\n",
      "  val = np.log(vapor_pressure / mpconsts.nounit.sat_pressure_0c)\n"
     ]
    },
    {
     "name": "stdout",
     "output_type": "stream",
     "text": [
      "sfno 2024-04-02T12\n",
      "/work/FAC/FGSE/IDYST/tbeucler/default/raw_data/ECMWF_AI/sfno/pl_2024-04-03_00:00:00.nc\n"
     ]
    },
    {
     "name": "stderr",
     "output_type": "stream",
     "text": [
      "/work/FAC/FGSE/IDYST/tbeucler/default/mfeldman/miniforge3/envs/wb/lib/python3.11/site-packages/metpy/calc/thermo.py:1396: RuntimeWarning: invalid value encountered in log\n",
      "  val = np.log(vapor_pressure / mpconsts.nounit.sat_pressure_0c)\n"
     ]
    },
    {
     "name": "stdout",
     "output_type": "stream",
     "text": [
      "sfno 2024-04-03T00\n",
      "/work/FAC/FGSE/IDYST/tbeucler/default/raw_data/ECMWF_AI/sfno/pl_2024-04-03_12:00:00.nc\n"
     ]
    },
    {
     "name": "stderr",
     "output_type": "stream",
     "text": [
      "/tmp/ipykernel_2661966/2212193301.py:41: UserWarning: Relative humidity >120%, ensure proper units.\n",
      "  dplevel=metpy.calc.dewpoint_from_relative_humidity(tlevel.values* units('K'), rlevel.values* units.percent)\n",
      "/work/FAC/FGSE/IDYST/tbeucler/default/mfeldman/miniforge3/envs/wb/lib/python3.11/site-packages/metpy/calc/thermo.py:1396: RuntimeWarning: invalid value encountered in log\n",
      "  val = np.log(vapor_pressure / mpconsts.nounit.sat_pressure_0c)\n"
     ]
    },
    {
     "name": "stdout",
     "output_type": "stream",
     "text": [
      "sfno 2024-04-03T12\n",
      "/work/FAC/FGSE/IDYST/tbeucler/default/raw_data/ECMWF_AI/fuxi/pl_2024-03-23_00:00:00.nc\n"
     ]
    },
    {
     "name": "stderr",
     "output_type": "stream",
     "text": [
      "/work/FAC/FGSE/IDYST/tbeucler/default/mfeldman/miniforge3/envs/wb/lib/python3.11/site-packages/metpy/calc/thermo.py:1396: RuntimeWarning: invalid value encountered in log\n",
      "  val = np.log(vapor_pressure / mpconsts.nounit.sat_pressure_0c)\n"
     ]
    },
    {
     "name": "stdout",
     "output_type": "stream",
     "text": [
      "fuxi 2024-03-23T00\n",
      "/work/FAC/FGSE/IDYST/tbeucler/default/raw_data/ECMWF_AI/fuxi/pl_2024-03-23_12:00:00.nc\n"
     ]
    },
    {
     "name": "stderr",
     "output_type": "stream",
     "text": [
      "/work/FAC/FGSE/IDYST/tbeucler/default/mfeldman/miniforge3/envs/wb/lib/python3.11/site-packages/metpy/calc/thermo.py:1396: RuntimeWarning: invalid value encountered in log\n",
      "  val = np.log(vapor_pressure / mpconsts.nounit.sat_pressure_0c)\n"
     ]
    },
    {
     "name": "stdout",
     "output_type": "stream",
     "text": [
      "fuxi 2024-03-23T12\n",
      "/work/FAC/FGSE/IDYST/tbeucler/default/raw_data/ECMWF_AI/fuxi/pl_2024-03-24_00:00:00.nc\n"
     ]
    },
    {
     "name": "stderr",
     "output_type": "stream",
     "text": [
      "/work/FAC/FGSE/IDYST/tbeucler/default/mfeldman/miniforge3/envs/wb/lib/python3.11/site-packages/metpy/calc/thermo.py:1396: RuntimeWarning: invalid value encountered in log\n",
      "  val = np.log(vapor_pressure / mpconsts.nounit.sat_pressure_0c)\n"
     ]
    },
    {
     "name": "stdout",
     "output_type": "stream",
     "text": [
      "fuxi 2024-03-24T00\n",
      "/work/FAC/FGSE/IDYST/tbeucler/default/raw_data/ECMWF_AI/fuxi/pl_2024-03-24_12:00:00.nc\n"
     ]
    },
    {
     "name": "stderr",
     "output_type": "stream",
     "text": [
      "/work/FAC/FGSE/IDYST/tbeucler/default/mfeldman/miniforge3/envs/wb/lib/python3.11/site-packages/metpy/calc/thermo.py:1396: RuntimeWarning: invalid value encountered in log\n",
      "  val = np.log(vapor_pressure / mpconsts.nounit.sat_pressure_0c)\n"
     ]
    },
    {
     "name": "stdout",
     "output_type": "stream",
     "text": [
      "fuxi 2024-03-24T12\n",
      "/work/FAC/FGSE/IDYST/tbeucler/default/raw_data/ECMWF_AI/fuxi/pl_2024-03-25_00:00:00.nc\n"
     ]
    },
    {
     "name": "stderr",
     "output_type": "stream",
     "text": [
      "/work/FAC/FGSE/IDYST/tbeucler/default/mfeldman/miniforge3/envs/wb/lib/python3.11/site-packages/metpy/calc/thermo.py:1396: RuntimeWarning: invalid value encountered in log\n",
      "  val = np.log(vapor_pressure / mpconsts.nounit.sat_pressure_0c)\n"
     ]
    },
    {
     "name": "stdout",
     "output_type": "stream",
     "text": [
      "fuxi 2024-03-25T00\n",
      "/work/FAC/FGSE/IDYST/tbeucler/default/raw_data/ECMWF_AI/fuxi/pl_2024-03-25_12:00:00.nc\n"
     ]
    },
    {
     "name": "stderr",
     "output_type": "stream",
     "text": [
      "/work/FAC/FGSE/IDYST/tbeucler/default/mfeldman/miniforge3/envs/wb/lib/python3.11/site-packages/metpy/calc/thermo.py:1396: RuntimeWarning: invalid value encountered in log\n",
      "  val = np.log(vapor_pressure / mpconsts.nounit.sat_pressure_0c)\n"
     ]
    },
    {
     "name": "stdout",
     "output_type": "stream",
     "text": [
      "fuxi 2024-03-25T12\n",
      "/work/FAC/FGSE/IDYST/tbeucler/default/raw_data/ECMWF_AI/fuxi/pl_2024-03-26_00:00:00.nc\n"
     ]
    },
    {
     "name": "stderr",
     "output_type": "stream",
     "text": [
      "/tmp/ipykernel_2661966/2212193301.py:41: UserWarning: Relative humidity >120%, ensure proper units.\n",
      "  dplevel=metpy.calc.dewpoint_from_relative_humidity(tlevel.values* units('K'), rlevel.values* units.percent)\n",
      "/work/FAC/FGSE/IDYST/tbeucler/default/mfeldman/miniforge3/envs/wb/lib/python3.11/site-packages/metpy/calc/thermo.py:1396: RuntimeWarning: invalid value encountered in log\n",
      "  val = np.log(vapor_pressure / mpconsts.nounit.sat_pressure_0c)\n"
     ]
    },
    {
     "name": "stdout",
     "output_type": "stream",
     "text": [
      "fuxi 2024-03-26T00\n",
      "/work/FAC/FGSE/IDYST/tbeucler/default/raw_data/ECMWF_AI/fuxi/pl_2024-03-26_12:00:00.nc\n"
     ]
    },
    {
     "name": "stderr",
     "output_type": "stream",
     "text": [
      "/tmp/ipykernel_2661966/2212193301.py:41: UserWarning: Relative humidity >120%, ensure proper units.\n",
      "  dplevel=metpy.calc.dewpoint_from_relative_humidity(tlevel.values* units('K'), rlevel.values* units.percent)\n",
      "/work/FAC/FGSE/IDYST/tbeucler/default/mfeldman/miniforge3/envs/wb/lib/python3.11/site-packages/metpy/calc/thermo.py:1396: RuntimeWarning: invalid value encountered in log\n",
      "  val = np.log(vapor_pressure / mpconsts.nounit.sat_pressure_0c)\n"
     ]
    },
    {
     "name": "stdout",
     "output_type": "stream",
     "text": [
      "fuxi 2024-03-26T12\n",
      "/work/FAC/FGSE/IDYST/tbeucler/default/raw_data/ECMWF_AI/fuxi/pl_2024-03-27_00:00:00.nc\n"
     ]
    },
    {
     "name": "stderr",
     "output_type": "stream",
     "text": [
      "/work/FAC/FGSE/IDYST/tbeucler/default/mfeldman/miniforge3/envs/wb/lib/python3.11/site-packages/metpy/calc/thermo.py:1396: RuntimeWarning: invalid value encountered in log\n",
      "  val = np.log(vapor_pressure / mpconsts.nounit.sat_pressure_0c)\n"
     ]
    },
    {
     "name": "stdout",
     "output_type": "stream",
     "text": [
      "fuxi 2024-03-27T00\n",
      "/work/FAC/FGSE/IDYST/tbeucler/default/raw_data/ECMWF_AI/fuxi/pl_2024-03-27_12:00:00.nc\n"
     ]
    },
    {
     "name": "stderr",
     "output_type": "stream",
     "text": [
      "/work/FAC/FGSE/IDYST/tbeucler/default/mfeldman/miniforge3/envs/wb/lib/python3.11/site-packages/metpy/calc/thermo.py:1396: RuntimeWarning: invalid value encountered in log\n",
      "  val = np.log(vapor_pressure / mpconsts.nounit.sat_pressure_0c)\n"
     ]
    },
    {
     "name": "stdout",
     "output_type": "stream",
     "text": [
      "fuxi 2024-03-27T12\n",
      "/work/FAC/FGSE/IDYST/tbeucler/default/raw_data/ECMWF_AI/fuxi/pl_2024-03-28_00:00:00.nc\n"
     ]
    },
    {
     "name": "stderr",
     "output_type": "stream",
     "text": [
      "/tmp/ipykernel_2661966/2212193301.py:41: UserWarning: Relative humidity >120%, ensure proper units.\n",
      "  dplevel=metpy.calc.dewpoint_from_relative_humidity(tlevel.values* units('K'), rlevel.values* units.percent)\n",
      "/work/FAC/FGSE/IDYST/tbeucler/default/mfeldman/miniforge3/envs/wb/lib/python3.11/site-packages/metpy/calc/thermo.py:1396: RuntimeWarning: invalid value encountered in log\n",
      "  val = np.log(vapor_pressure / mpconsts.nounit.sat_pressure_0c)\n"
     ]
    },
    {
     "name": "stdout",
     "output_type": "stream",
     "text": [
      "fuxi 2024-03-28T00\n",
      "/work/FAC/FGSE/IDYST/tbeucler/default/raw_data/ECMWF_AI/fuxi/pl_2024-03-28_12:00:00.nc\n"
     ]
    },
    {
     "name": "stderr",
     "output_type": "stream",
     "text": [
      "/tmp/ipykernel_2661966/2212193301.py:41: UserWarning: Relative humidity >120%, ensure proper units.\n",
      "  dplevel=metpy.calc.dewpoint_from_relative_humidity(tlevel.values* units('K'), rlevel.values* units.percent)\n",
      "/work/FAC/FGSE/IDYST/tbeucler/default/mfeldman/miniforge3/envs/wb/lib/python3.11/site-packages/metpy/calc/thermo.py:1396: RuntimeWarning: invalid value encountered in log\n",
      "  val = np.log(vapor_pressure / mpconsts.nounit.sat_pressure_0c)\n"
     ]
    },
    {
     "name": "stdout",
     "output_type": "stream",
     "text": [
      "fuxi 2024-03-28T12\n",
      "/work/FAC/FGSE/IDYST/tbeucler/default/raw_data/ECMWF_AI/fuxi/pl_2024-03-29_00:00:00.nc\n"
     ]
    },
    {
     "name": "stderr",
     "output_type": "stream",
     "text": [
      "/tmp/ipykernel_2661966/2212193301.py:41: UserWarning: Relative humidity >120%, ensure proper units.\n",
      "  dplevel=metpy.calc.dewpoint_from_relative_humidity(tlevel.values* units('K'), rlevel.values* units.percent)\n",
      "/work/FAC/FGSE/IDYST/tbeucler/default/mfeldman/miniforge3/envs/wb/lib/python3.11/site-packages/metpy/calc/thermo.py:1396: RuntimeWarning: invalid value encountered in log\n",
      "  val = np.log(vapor_pressure / mpconsts.nounit.sat_pressure_0c)\n"
     ]
    },
    {
     "name": "stdout",
     "output_type": "stream",
     "text": [
      "fuxi 2024-03-29T00\n",
      "/work/FAC/FGSE/IDYST/tbeucler/default/raw_data/ECMWF_AI/fuxi/pl_2024-03-29_12:00:00.nc\n"
     ]
    },
    {
     "name": "stderr",
     "output_type": "stream",
     "text": [
      "/tmp/ipykernel_2661966/2212193301.py:41: UserWarning: Relative humidity >120%, ensure proper units.\n",
      "  dplevel=metpy.calc.dewpoint_from_relative_humidity(tlevel.values* units('K'), rlevel.values* units.percent)\n",
      "/work/FAC/FGSE/IDYST/tbeucler/default/mfeldman/miniforge3/envs/wb/lib/python3.11/site-packages/metpy/calc/thermo.py:1396: RuntimeWarning: invalid value encountered in log\n",
      "  val = np.log(vapor_pressure / mpconsts.nounit.sat_pressure_0c)\n"
     ]
    },
    {
     "name": "stdout",
     "output_type": "stream",
     "text": [
      "fuxi 2024-03-29T12\n",
      "/work/FAC/FGSE/IDYST/tbeucler/default/raw_data/ECMWF_AI/fuxi/pl_2024-03-30_00:00:00.nc\n"
     ]
    },
    {
     "name": "stderr",
     "output_type": "stream",
     "text": [
      "/tmp/ipykernel_2661966/2212193301.py:41: UserWarning: Relative humidity >120%, ensure proper units.\n",
      "  dplevel=metpy.calc.dewpoint_from_relative_humidity(tlevel.values* units('K'), rlevel.values* units.percent)\n",
      "/work/FAC/FGSE/IDYST/tbeucler/default/mfeldman/miniforge3/envs/wb/lib/python3.11/site-packages/metpy/calc/thermo.py:1396: RuntimeWarning: invalid value encountered in log\n",
      "  val = np.log(vapor_pressure / mpconsts.nounit.sat_pressure_0c)\n"
     ]
    },
    {
     "name": "stdout",
     "output_type": "stream",
     "text": [
      "fuxi 2024-03-30T00\n",
      "/work/FAC/FGSE/IDYST/tbeucler/default/raw_data/ECMWF_AI/fuxi/pl_2024-03-30_12:00:00.nc\n"
     ]
    },
    {
     "name": "stderr",
     "output_type": "stream",
     "text": [
      "/work/FAC/FGSE/IDYST/tbeucler/default/mfeldman/miniforge3/envs/wb/lib/python3.11/site-packages/metpy/calc/thermo.py:1396: RuntimeWarning: invalid value encountered in log\n",
      "  val = np.log(vapor_pressure / mpconsts.nounit.sat_pressure_0c)\n"
     ]
    },
    {
     "name": "stdout",
     "output_type": "stream",
     "text": [
      "fuxi 2024-03-30T12\n",
      "/work/FAC/FGSE/IDYST/tbeucler/default/raw_data/ECMWF_AI/fuxi/pl_2024-03-31_00:00:00.nc\n"
     ]
    },
    {
     "name": "stderr",
     "output_type": "stream",
     "text": [
      "/work/FAC/FGSE/IDYST/tbeucler/default/mfeldman/miniforge3/envs/wb/lib/python3.11/site-packages/metpy/calc/thermo.py:1396: RuntimeWarning: invalid value encountered in log\n",
      "  val = np.log(vapor_pressure / mpconsts.nounit.sat_pressure_0c)\n"
     ]
    },
    {
     "name": "stdout",
     "output_type": "stream",
     "text": [
      "fuxi 2024-03-31T00\n",
      "/work/FAC/FGSE/IDYST/tbeucler/default/raw_data/ECMWF_AI/fuxi/pl_2024-03-31_12:00:00.nc\n"
     ]
    },
    {
     "name": "stderr",
     "output_type": "stream",
     "text": [
      "/work/FAC/FGSE/IDYST/tbeucler/default/mfeldman/miniforge3/envs/wb/lib/python3.11/site-packages/metpy/calc/thermo.py:1396: RuntimeWarning: invalid value encountered in log\n",
      "  val = np.log(vapor_pressure / mpconsts.nounit.sat_pressure_0c)\n"
     ]
    },
    {
     "name": "stdout",
     "output_type": "stream",
     "text": [
      "fuxi 2024-03-31T12\n",
      "/work/FAC/FGSE/IDYST/tbeucler/default/raw_data/ECMWF_AI/fuxi/pl_2024-04-01_00:00:00.nc\n"
     ]
    },
    {
     "name": "stderr",
     "output_type": "stream",
     "text": [
      "/tmp/ipykernel_2661966/2212193301.py:41: UserWarning: Relative humidity >120%, ensure proper units.\n",
      "  dplevel=metpy.calc.dewpoint_from_relative_humidity(tlevel.values* units('K'), rlevel.values* units.percent)\n",
      "/work/FAC/FGSE/IDYST/tbeucler/default/mfeldman/miniforge3/envs/wb/lib/python3.11/site-packages/metpy/calc/thermo.py:1396: RuntimeWarning: invalid value encountered in log\n",
      "  val = np.log(vapor_pressure / mpconsts.nounit.sat_pressure_0c)\n"
     ]
    },
    {
     "name": "stdout",
     "output_type": "stream",
     "text": [
      "fuxi 2024-04-01T00\n",
      "/work/FAC/FGSE/IDYST/tbeucler/default/raw_data/ECMWF_AI/fuxi/pl_2024-04-01_12:00:00.nc\n"
     ]
    },
    {
     "name": "stderr",
     "output_type": "stream",
     "text": [
      "/work/FAC/FGSE/IDYST/tbeucler/default/mfeldman/miniforge3/envs/wb/lib/python3.11/site-packages/metpy/calc/thermo.py:1396: RuntimeWarning: invalid value encountered in log\n",
      "  val = np.log(vapor_pressure / mpconsts.nounit.sat_pressure_0c)\n"
     ]
    },
    {
     "name": "stdout",
     "output_type": "stream",
     "text": [
      "fuxi 2024-04-01T12\n",
      "/work/FAC/FGSE/IDYST/tbeucler/default/raw_data/ECMWF_AI/fuxi/pl_2024-04-02_00:00:00.nc\n"
     ]
    },
    {
     "name": "stderr",
     "output_type": "stream",
     "text": [
      "/tmp/ipykernel_2661966/2212193301.py:41: UserWarning: Relative humidity >120%, ensure proper units.\n",
      "  dplevel=metpy.calc.dewpoint_from_relative_humidity(tlevel.values* units('K'), rlevel.values* units.percent)\n",
      "/work/FAC/FGSE/IDYST/tbeucler/default/mfeldman/miniforge3/envs/wb/lib/python3.11/site-packages/metpy/calc/thermo.py:1396: RuntimeWarning: invalid value encountered in log\n",
      "  val = np.log(vapor_pressure / mpconsts.nounit.sat_pressure_0c)\n"
     ]
    },
    {
     "name": "stdout",
     "output_type": "stream",
     "text": [
      "fuxi 2024-04-02T00\n",
      "/work/FAC/FGSE/IDYST/tbeucler/default/raw_data/ECMWF_AI/fuxi/pl_2024-04-02_12:00:00.nc\n"
     ]
    },
    {
     "name": "stderr",
     "output_type": "stream",
     "text": [
      "/tmp/ipykernel_2661966/2212193301.py:41: UserWarning: Relative humidity >120%, ensure proper units.\n",
      "  dplevel=metpy.calc.dewpoint_from_relative_humidity(tlevel.values* units('K'), rlevel.values* units.percent)\n",
      "/work/FAC/FGSE/IDYST/tbeucler/default/mfeldman/miniforge3/envs/wb/lib/python3.11/site-packages/metpy/calc/thermo.py:1396: RuntimeWarning: invalid value encountered in log\n",
      "  val = np.log(vapor_pressure / mpconsts.nounit.sat_pressure_0c)\n"
     ]
    },
    {
     "name": "stdout",
     "output_type": "stream",
     "text": [
      "fuxi 2024-04-02T12\n",
      "/work/FAC/FGSE/IDYST/tbeucler/default/raw_data/ECMWF_AI/fuxi/pl_2024-04-03_00:00:00.nc\n"
     ]
    },
    {
     "name": "stderr",
     "output_type": "stream",
     "text": [
      "/tmp/ipykernel_2661966/2212193301.py:41: UserWarning: Relative humidity >120%, ensure proper units.\n",
      "  dplevel=metpy.calc.dewpoint_from_relative_humidity(tlevel.values* units('K'), rlevel.values* units.percent)\n",
      "/work/FAC/FGSE/IDYST/tbeucler/default/mfeldman/miniforge3/envs/wb/lib/python3.11/site-packages/metpy/calc/thermo.py:1396: RuntimeWarning: invalid value encountered in log\n",
      "  val = np.log(vapor_pressure / mpconsts.nounit.sat_pressure_0c)\n"
     ]
    },
    {
     "name": "stdout",
     "output_type": "stream",
     "text": [
      "fuxi 2024-04-03T00\n",
      "/work/FAC/FGSE/IDYST/tbeucler/default/raw_data/ECMWF_AI/fuxi/pl_2024-04-03_12:00:00.nc\n"
     ]
    },
    {
     "name": "stderr",
     "output_type": "stream",
     "text": [
      "/tmp/ipykernel_2661966/2212193301.py:41: UserWarning: Relative humidity >120%, ensure proper units.\n",
      "  dplevel=metpy.calc.dewpoint_from_relative_humidity(tlevel.values* units('K'), rlevel.values* units.percent)\n",
      "/work/FAC/FGSE/IDYST/tbeucler/default/mfeldman/miniforge3/envs/wb/lib/python3.11/site-packages/metpy/calc/thermo.py:1396: RuntimeWarning: invalid value encountered in log\n",
      "  val = np.log(vapor_pressure / mpconsts.nounit.sat_pressure_0c)\n"
     ]
    },
    {
     "name": "stdout",
     "output_type": "stream",
     "text": [
      "fuxi 2024-04-03T12\n"
     ]
    }
   ],
   "source": [
    "models2=['sfno','fuxi']\n",
    "year=2024; month=4; day=np.arange(2,4,1); days=day[0]-np.arange(1,10)\n",
    "print(days)\n",
    "latslice2=slice(20,50)\n",
    "for model in models2[:]:\n",
    "    files_pl=sorted(glob(datapath+model+'/pl*.nc'))\n",
    "    files_sfc=sorted(glob(datapath+model+'/sfc*.nc'))\n",
    "    for nn in range(len(files_pl))[:]:\n",
    "        st=datetime.datetime(2024,4,2,0)\n",
    "        et=datetime.datetime(2024,4,3,23)\n",
    "\n",
    "\n",
    "        print(files_pl[nn])\n",
    "        xr_pl=xr.open_dataset(files_pl[nn]).sortby('latitude')\n",
    "        init=np.datetime_as_string(xr_pl.time[0].values,'h')\n",
    "        \n",
    "        xr_pl=xr_pl.sel(time=xr_pl.time.dt.year.isin([year]))\n",
    "        xr_pl=xr_pl.sel(time=xr_pl.time.dt.month.isin([month]))\n",
    "        xr_pl=xr_pl.sel(time=xr_pl.time.dt.day.isin([day]))\n",
    "        \n",
    "        xr_sfc=xr.open_dataset(files_sfc[nn]).sortby('latitude')\n",
    "        xr_sfc=xr_sfc.sel(time=xr_sfc.time.dt.year.isin([year]))\n",
    "        xr_sfc=xr_sfc.sel(time=xr_sfc.time.dt.month.isin([month]))\n",
    "        xr_sfc=xr_sfc.sel(time=xr_sfc.time.dt.day.isin([day]))\n",
    "\n",
    "\n",
    "        xr_pl = xr_pl.sortby('level', ascending=False)\n",
    "        \n",
    "        plevel=copy.deepcopy(xr_pl.level.values)\n",
    "        \n",
    "        tlevel=xr_pl.t\n",
    "        rlevel=xr_pl.r\n",
    "        plevel_dim=np.ones([1,len(plevel),1,1])\n",
    "        zlevel=xr_pl.z\n",
    "        ulevel=xr_pl.u\n",
    "        vlevel=xr_pl.v\n",
    "        for n1 in range(len(plevel.data)):\n",
    "            plevel_dim[0,n1,0,0]=plevel[n1]\n",
    "        plevel_exp=(tlevel/tlevel)*plevel_dim\n",
    "\n",
    "        dplevel=metpy.calc.dewpoint_from_relative_humidity(tlevel.values* units('K'), rlevel.values* units.percent)\n",
    "        qlevel=metpy.calc.specific_humidity_from_dewpoint(plevel_exp.values* units('hPa'), dplevel).magnitude\n",
    "        \n",
    "        psurf=xr_sfc.msl\n",
    "        tsurf=xr_sfc.t2m\n",
    "        zsurf = zsurf_c.expand_dims(dim={\"time\": psurf.time}, axis=0)\n",
    "        # zsurf = zsurf.expand_dims(dim={\"time\": psurf.time}, axis=1)\n",
    "        \n",
    "        ps=psurf/100\n",
    "        zs=zsurf/9.81\n",
    "        zl=zlevel/9.81\n",
    "\n",
    "        mod_inst=wrf.cape_2d(pres_hpa=plevel_exp, tkel=tlevel, qv=qlevel, height=zl, terrain=zs, psfc_hpa=psurf, ter_follow=False)\n",
    "        mod_inst=mod_inst.assign_coords(longitude=psurf.longitude.values);\n",
    "        mod_inst=mod_inst.assign_coords(latitude=psurf.latitude.values);\n",
    "        mod_inst=mod_inst.assign_coords(time=psurf.time.values)\n",
    "\n",
    "        du_01=ulevel.sel(level=850)-xr_sfc.u10; dv_01=vlevel.sel(level=850)-xr_sfc.v10\n",
    "        du_03=ulevel.sel(level=700)-xr_sfc.u10; dv_03=vlevel.sel(level=700)-xr_sfc.v10\n",
    "        du_06=ulevel.sel(level=500)-xr_sfc.u10; dv_06=vlevel.sel(level=500)-xr_sfc.v10\n",
    "        \n",
    "        bs_01=( du_01**2 + dv_01**2 )**0.5\n",
    "        bs_03=( du_03**2 + dv_03**2 )**0.5\n",
    "        bs_06=( du_06**2 + dv_06**2 )**0.5\n",
    "        \n",
    "        du_01=du_01.to_dataset(name='du_01')\n",
    "        dv_01=dv_01.to_dataset(name='dv_01')\n",
    "        bs_01=bs_01.to_dataset(name='bs_01')\n",
    "        du_03=du_03.to_dataset(name='du_03')\n",
    "        dv_03=dv_03.to_dataset(name='dv_03')\n",
    "        bs_03=bs_03.to_dataset(name='bs_03')\n",
    "        du_06=du_06.to_dataset(name='du_06')\n",
    "        dv_06=dv_06.to_dataset(name='dv_06')\n",
    "        bs_06=bs_06.to_dataset(name='bs_06')\n",
    "        \n",
    "        mod_params=xr.merge([du_01,dv_01,bs_01,du_03,dv_03,bs_03,du_06,dv_06,bs_06],compat='override')\n",
    "        #mod_params=mod_params.squeeze(dim='level')\n",
    "        mod_params['cape']=mod_inst.sel(mcape_mcin_lcl_lfc='mcape')\n",
    "        mod_params['cin']=mod_inst.sel(mcape_mcin_lcl_lfc='mcin')\n",
    "        mod_params['lcl']=mod_inst.sel(mcape_mcin_lcl_lfc='lcl')\n",
    "        mod_params['lfc']=mod_inst.sel(mcape_mcin_lcl_lfc='lfc')#.squeeze(dim='mcape_mcin_lcl_lfc')\n",
    "        print(model,init)\n",
    "        mod_params.to_netcdf(datapath+'postproc/'+model+'_'+init+'.nc')\n",
    "\n",
    "        cm=plt.cm.Reds\n",
    "        cm.set_under(color=\"grey\")\n",
    "        cm.set_bad(color=\"grey\")\n",
    "        p = mod_params.cape.sel(latitude=slice(20,40),longitude=slice(260,290)).plot(x=\"longitude\", y=\"latitude\", col=\"time\", col_wrap=4,transform=ccrs.PlateCarree(), subplot_kws={'projection':ccrs.PlateCarree()}\\\n",
    "                        ,cmap=cm,vmin=200,vmax=1500,levels=np.arange(200,1500,100),extend='both')# col_wrap=4)\n",
    "        for ax in p.axs.flat:\n",
    "                        ax.coastlines()\n",
    "        f=p.fig\n",
    "        f.savefig(figpath+model+'_'+init+'_cape.png',  dpi=300, bbox_inches='tight')\n",
    "        plt.close()\n",
    "        \n",
    "        cm=plt.cm.Reds\n",
    "        cm.set_under(color=\"grey\")\n",
    "        cm.set_bad(color=\"grey\")\n",
    "        p = mod_params.bs_06.sel(latitude=slice(20,40),longitude=slice(260,290)).plot(x=\"longitude\", y=\"latitude\", col=\"time\", col_wrap=4,transform=ccrs.PlateCarree(), subplot_kws={'projection':ccrs.PlateCarree()}\\\n",
    "                        ,cmap=cm,vmin=5,vmax=30,levels=np.arange(5,32,2),extend='both')# col_wrap=4)\n",
    "        for ax in p.axs.flat:\n",
    "                        ax.coastlines()\n",
    "        f=p.fig\n",
    "        f.savefig(figpath+model+'_'+init+'_bs_06.png',  dpi=300, bbox_inches='tight')\n",
    "        plt.close()\n",
    "        \n",
    "\n"
   ]
  },
  {
   "cell_type": "code",
   "execution_count": 15,
   "id": "9147193e-e7dc-4635-95c8-ce8d58272854",
   "metadata": {},
   "outputs": [
    {
     "name": "stdout",
     "output_type": "stream",
     "text": [
      "[ 1  0 -1 -2 -3 -4 -5 -6 -7]\n"
     ]
    }
   ],
   "source": [
    "era5='gs://weatherbench2/datasets/era5/1959-2022-6h-1440x721.zarr'\n",
    "xr_era5=xr.open_zarr(era5).sortby('latitude')\n",
    "xr_era5=xr_era5.sel(time=xr_era5.time.dt.year.isin([2020]))\n",
    "xr_era5=xr_era5.sel(time=xr_era5.time.dt.month.isin([4]))#np.arange(3,10)))\n",
    "xr_era5=xr_era5.sel(time=xr_era5.time.dt.day.isin([2,3]),latitude=slice(20,50),longitude=slice(250,300))\n",
    "zsurf_c=xr_era5['geopotential_at_surface']\n",
    "\n",
    "year=2024; month=4; day=np.arange(2,4,1); days=day[0]-np.arange(1,10)\n",
    "print(days)\n",
    "latslice2=slice(20,50)\n",
    "model='era5'\n",
    "file_pl=sorted(glob(datapath+model+'/*pl*.nc'))[0]\n",
    "file_sfc=sorted(glob(datapath+model+'/*sfc*.nc'))[0]\n",
    "\n",
    "st=datetime.datetime(2024,4,2,0)\n",
    "et=datetime.datetime(2024,4,3,23)\n",
    "\n",
    "\n",
    "#print(files_pl[nn])\n",
    "xr_pl=xr.open_dataset(file_pl).sortby('latitude')\n",
    "init=np.datetime_as_string(xr_pl.time[0].values,'h')\n",
    "\n",
    "xr_pl=xr_pl.sel(time=xr_pl.time.dt.year.isin([year]))\n",
    "xr_pl=xr_pl.sel(time=xr_pl.time.dt.month.isin([month]))\n",
    "xr_pl=xr_pl.sel(time=xr_pl.time.dt.day.isin([day]))\n",
    "\n",
    "xr_sfc=xr.open_dataset(file_sfc).sortby('latitude')\n",
    "xr_sfc=xr_sfc.sel(time=xr_sfc.time.dt.year.isin([year]))\n",
    "xr_sfc=xr_sfc.sel(time=xr_sfc.time.dt.month.isin([month]))\n",
    "xr_sfc=xr_sfc.sel(time=xr_sfc.time.dt.day.isin([day]))\n",
    "\n",
    "\n",
    "xr_pl = xr_pl.sortby('level', ascending=False)\n",
    "\n",
    "plevel=copy.deepcopy(xr_pl.level.values)\n",
    "\n",
    "tlevel=xr_pl.t\n",
    "qlevel=xr_pl.q\n",
    "plevel_dim=np.ones([1,len(plevel),1,1])\n",
    "if model=='tigge': zlevel=xr_pl.gh\n",
    "else: zlevel=xr_pl.z\n",
    "ulevel=xr_pl.u\n",
    "vlevel=xr_pl.v\n",
    "for n1 in range(len(plevel.data)):\n",
    "    plevel_dim[0,n1,0,0]=plevel[n1]\n",
    "plevel_exp=(tlevel/tlevel)*plevel_dim\n",
    "\n",
    "psurf=xr_sfc.msl\n",
    "tsurf=xr_sfc.t2m\n",
    "zsurf = zsurf_c.expand_dims(dim={\"time\": psurf.time}, axis=0)\n",
    "# zsurf = zsurf.expand_dims(dim={\"time\": psurf.time}, axis=1)\n",
    "\n",
    "ps=psurf/100\n",
    "zs=zsurf/9.81\n",
    "zl=zlevel/9.81\n",
    "\n",
    "mod_inst=wrf.cape_2d(pres_hpa=plevel_exp, tkel=tlevel, qv=qlevel, height=zl, terrain=zs, psfc_hpa=psurf, ter_follow=False)\n",
    "mod_inst=mod_inst.assign_coords(longitude=psurf.longitude.values);\n",
    "mod_inst=mod_inst.assign_coords(latitude=psurf.latitude.values);\n",
    "mod_inst=mod_inst.assign_coords(time=psurf.time.values)\n",
    "\n",
    "du_01=ulevel.sel(level=850)-xr_sfc.u10n; dv_01=vlevel.sel(level=850)-xr_sfc.v10n\n",
    "du_03=ulevel.sel(level=700)-xr_sfc.u10n; dv_03=vlevel.sel(level=700)-xr_sfc.v10n\n",
    "du_06=ulevel.sel(level=500)-xr_sfc.u10n; dv_06=vlevel.sel(level=500)-xr_sfc.v10n\n",
    "\n",
    "bs_01=( du_01**2 + dv_01**2 )**0.5\n",
    "bs_03=( du_03**2 + dv_03**2 )**0.5\n",
    "bs_06=( du_06**2 + dv_06**2 )**0.5\n",
    "\n",
    "du_01=du_01.to_dataset(name='du_01')\n",
    "dv_01=dv_01.to_dataset(name='dv_01')\n",
    "bs_01=bs_01.to_dataset(name='bs_01')\n",
    "du_03=du_03.to_dataset(name='du_03')\n",
    "dv_03=dv_03.to_dataset(name='dv_03')\n",
    "bs_03=bs_03.to_dataset(name='bs_03')\n",
    "du_06=du_06.to_dataset(name='du_06')\n",
    "dv_06=dv_06.to_dataset(name='dv_06')\n",
    "bs_06=bs_06.to_dataset(name='bs_06')\n",
    "\n",
    "mod_params=xr.merge([du_01,dv_01,bs_01,du_03,dv_03,bs_03,du_06,dv_06,bs_06],compat='override')\n",
    "#mod_params=mod_params.squeeze(dim='level')\n",
    "mod_params['cape']=mod_inst.sel(mcape_mcin_lcl_lfc='mcape')\n",
    "mod_params['cin']=mod_inst.sel(mcape_mcin_lcl_lfc='mcin')\n",
    "mod_params['lcl']=mod_inst.sel(mcape_mcin_lcl_lfc='lcl')\n",
    "mod_params['lfc']=mod_inst.sel(mcape_mcin_lcl_lfc='lfc')#.squeeze(dim='mcape_mcin_lcl_lfc')\n",
    "#print(model,init)\n",
    "mod_params.to_netcdf(datapath+'postproc/'+model+'.nc')\n",
    "\n",
    "cm=plt.cm.Reds\n",
    "cm.set_under(color=\"grey\")\n",
    "cm.set_bad(color=\"grey\")\n",
    "p = mod_params.cape.sel(latitude=slice(20,40),longitude=slice(-100,-70)).plot(x=\"longitude\", y=\"latitude\", col=\"time\", col_wrap=4,transform=ccrs.PlateCarree(), subplot_kws={'projection':ccrs.PlateCarree()}\\\n",
    "                ,cmap=cm,vmin=200,vmax=1500,levels=np.arange(200,1500,100),extend='both')# col_wrap=4)\n",
    "for ax in p.axs.flat:\n",
    "                ax.coastlines()\n",
    "f=p.fig\n",
    "f.savefig(figpath+model+'_cape.png',  dpi=300, bbox_inches='tight')\n",
    "plt.close()\n",
    "\n",
    "cm=plt.cm.Reds\n",
    "cm.set_under(color=\"grey\")\n",
    "cm.set_bad(color=\"grey\")\n",
    "p = mod_params.bs_06.sel(latitude=slice(20,40),longitude=slice(-100,-70)).plot(x=\"longitude\", y=\"latitude\", col=\"time\", col_wrap=4,transform=ccrs.PlateCarree(), subplot_kws={'projection':ccrs.PlateCarree()}\\\n",
    "                ,cmap=cm,vmin=5,vmax=30,levels=np.arange(5,32,2),extend='both')# col_wrap=4)\n",
    "for ax in p.axs.flat:\n",
    "                ax.coastlines()\n",
    "f=p.fig\n",
    "f.savefig(figpath+model+'_bs_06.png',  dpi=300, bbox_inches='tight')\n",
    "plt.close()\n"
   ]
  },
  {
   "cell_type": "code",
   "execution_count": 14,
   "id": "9c3e1177-95c5-4071-9bf9-a5e17436afaa",
   "metadata": {},
   "outputs": [
    {
     "data": {
      "text/html": [
       "<div><svg style=\"position: absolute; width: 0; height: 0; overflow: hidden\">\n",
       "<defs>\n",
       "<symbol id=\"icon-database\" viewBox=\"0 0 32 32\">\n",
       "<path d=\"M16 0c-8.837 0-16 2.239-16 5v4c0 2.761 7.163 5 16 5s16-2.239 16-5v-4c0-2.761-7.163-5-16-5z\"></path>\n",
       "<path d=\"M16 17c-8.837 0-16-2.239-16-5v6c0 2.761 7.163 5 16 5s16-2.239 16-5v-6c0 2.761-7.163 5-16 5z\"></path>\n",
       "<path d=\"M16 26c-8.837 0-16-2.239-16-5v6c0 2.761 7.163 5 16 5s16-2.239 16-5v-6c0 2.761-7.163 5-16 5z\"></path>\n",
       "</symbol>\n",
       "<symbol id=\"icon-file-text2\" viewBox=\"0 0 32 32\">\n",
       "<path d=\"M28.681 7.159c-0.694-0.947-1.662-2.053-2.724-3.116s-2.169-2.030-3.116-2.724c-1.612-1.182-2.393-1.319-2.841-1.319h-15.5c-1.378 0-2.5 1.121-2.5 2.5v27c0 1.378 1.122 2.5 2.5 2.5h23c1.378 0 2.5-1.122 2.5-2.5v-19.5c0-0.448-0.137-1.23-1.319-2.841zM24.543 5.457c0.959 0.959 1.712 1.825 2.268 2.543h-4.811v-4.811c0.718 0.556 1.584 1.309 2.543 2.268zM28 29.5c0 0.271-0.229 0.5-0.5 0.5h-23c-0.271 0-0.5-0.229-0.5-0.5v-27c0-0.271 0.229-0.5 0.5-0.5 0 0 15.499-0 15.5 0v7c0 0.552 0.448 1 1 1h7v19.5z\"></path>\n",
       "<path d=\"M23 26h-14c-0.552 0-1-0.448-1-1s0.448-1 1-1h14c0.552 0 1 0.448 1 1s-0.448 1-1 1z\"></path>\n",
       "<path d=\"M23 22h-14c-0.552 0-1-0.448-1-1s0.448-1 1-1h14c0.552 0 1 0.448 1 1s-0.448 1-1 1z\"></path>\n",
       "<path d=\"M23 18h-14c-0.552 0-1-0.448-1-1s0.448-1 1-1h14c0.552 0 1 0.448 1 1s-0.448 1-1 1z\"></path>\n",
       "</symbol>\n",
       "</defs>\n",
       "</svg>\n",
       "<style>/* CSS stylesheet for displaying xarray objects in jupyterlab.\n",
       " *\n",
       " */\n",
       "\n",
       ":root {\n",
       "  --xr-font-color0: var(--jp-content-font-color0, rgba(0, 0, 0, 1));\n",
       "  --xr-font-color2: var(--jp-content-font-color2, rgba(0, 0, 0, 0.54));\n",
       "  --xr-font-color3: var(--jp-content-font-color3, rgba(0, 0, 0, 0.38));\n",
       "  --xr-border-color: var(--jp-border-color2, #e0e0e0);\n",
       "  --xr-disabled-color: var(--jp-layout-color3, #bdbdbd);\n",
       "  --xr-background-color: var(--jp-layout-color0, white);\n",
       "  --xr-background-color-row-even: var(--jp-layout-color1, white);\n",
       "  --xr-background-color-row-odd: var(--jp-layout-color2, #eeeeee);\n",
       "}\n",
       "\n",
       "html[theme=dark],\n",
       "body[data-theme=dark],\n",
       "body.vscode-dark {\n",
       "  --xr-font-color0: rgba(255, 255, 255, 1);\n",
       "  --xr-font-color2: rgba(255, 255, 255, 0.54);\n",
       "  --xr-font-color3: rgba(255, 255, 255, 0.38);\n",
       "  --xr-border-color: #1F1F1F;\n",
       "  --xr-disabled-color: #515151;\n",
       "  --xr-background-color: #111111;\n",
       "  --xr-background-color-row-even: #111111;\n",
       "  --xr-background-color-row-odd: #313131;\n",
       "}\n",
       "\n",
       ".xr-wrap {\n",
       "  display: block !important;\n",
       "  min-width: 300px;\n",
       "  max-width: 700px;\n",
       "}\n",
       "\n",
       ".xr-text-repr-fallback {\n",
       "  /* fallback to plain text repr when CSS is not injected (untrusted notebook) */\n",
       "  display: none;\n",
       "}\n",
       "\n",
       ".xr-header {\n",
       "  padding-top: 6px;\n",
       "  padding-bottom: 6px;\n",
       "  margin-bottom: 4px;\n",
       "  border-bottom: solid 1px var(--xr-border-color);\n",
       "}\n",
       "\n",
       ".xr-header > div,\n",
       ".xr-header > ul {\n",
       "  display: inline;\n",
       "  margin-top: 0;\n",
       "  margin-bottom: 0;\n",
       "}\n",
       "\n",
       ".xr-obj-type,\n",
       ".xr-array-name {\n",
       "  margin-left: 2px;\n",
       "  margin-right: 10px;\n",
       "}\n",
       "\n",
       ".xr-obj-type {\n",
       "  color: var(--xr-font-color2);\n",
       "}\n",
       "\n",
       ".xr-sections {\n",
       "  padding-left: 0 !important;\n",
       "  display: grid;\n",
       "  grid-template-columns: 150px auto auto 1fr 20px 20px;\n",
       "}\n",
       "\n",
       ".xr-section-item {\n",
       "  display: contents;\n",
       "}\n",
       "\n",
       ".xr-section-item input {\n",
       "  display: none;\n",
       "}\n",
       "\n",
       ".xr-section-item input + label {\n",
       "  color: var(--xr-disabled-color);\n",
       "}\n",
       "\n",
       ".xr-section-item input:enabled + label {\n",
       "  cursor: pointer;\n",
       "  color: var(--xr-font-color2);\n",
       "}\n",
       "\n",
       ".xr-section-item input:enabled + label:hover {\n",
       "  color: var(--xr-font-color0);\n",
       "}\n",
       "\n",
       ".xr-section-summary {\n",
       "  grid-column: 1;\n",
       "  color: var(--xr-font-color2);\n",
       "  font-weight: 500;\n",
       "}\n",
       "\n",
       ".xr-section-summary > span {\n",
       "  display: inline-block;\n",
       "  padding-left: 0.5em;\n",
       "}\n",
       "\n",
       ".xr-section-summary-in:disabled + label {\n",
       "  color: var(--xr-font-color2);\n",
       "}\n",
       "\n",
       ".xr-section-summary-in + label:before {\n",
       "  display: inline-block;\n",
       "  content: '►';\n",
       "  font-size: 11px;\n",
       "  width: 15px;\n",
       "  text-align: center;\n",
       "}\n",
       "\n",
       ".xr-section-summary-in:disabled + label:before {\n",
       "  color: var(--xr-disabled-color);\n",
       "}\n",
       "\n",
       ".xr-section-summary-in:checked + label:before {\n",
       "  content: '▼';\n",
       "}\n",
       "\n",
       ".xr-section-summary-in:checked + label > span {\n",
       "  display: none;\n",
       "}\n",
       "\n",
       ".xr-section-summary,\n",
       ".xr-section-inline-details {\n",
       "  padding-top: 4px;\n",
       "  padding-bottom: 4px;\n",
       "}\n",
       "\n",
       ".xr-section-inline-details {\n",
       "  grid-column: 2 / -1;\n",
       "}\n",
       "\n",
       ".xr-section-details {\n",
       "  display: none;\n",
       "  grid-column: 1 / -1;\n",
       "  margin-bottom: 5px;\n",
       "}\n",
       "\n",
       ".xr-section-summary-in:checked ~ .xr-section-details {\n",
       "  display: contents;\n",
       "}\n",
       "\n",
       ".xr-array-wrap {\n",
       "  grid-column: 1 / -1;\n",
       "  display: grid;\n",
       "  grid-template-columns: 20px auto;\n",
       "}\n",
       "\n",
       ".xr-array-wrap > label {\n",
       "  grid-column: 1;\n",
       "  vertical-align: top;\n",
       "}\n",
       "\n",
       ".xr-preview {\n",
       "  color: var(--xr-font-color3);\n",
       "}\n",
       "\n",
       ".xr-array-preview,\n",
       ".xr-array-data {\n",
       "  padding: 0 5px !important;\n",
       "  grid-column: 2;\n",
       "}\n",
       "\n",
       ".xr-array-data,\n",
       ".xr-array-in:checked ~ .xr-array-preview {\n",
       "  display: none;\n",
       "}\n",
       "\n",
       ".xr-array-in:checked ~ .xr-array-data,\n",
       ".xr-array-preview {\n",
       "  display: inline-block;\n",
       "}\n",
       "\n",
       ".xr-dim-list {\n",
       "  display: inline-block !important;\n",
       "  list-style: none;\n",
       "  padding: 0 !important;\n",
       "  margin: 0;\n",
       "}\n",
       "\n",
       ".xr-dim-list li {\n",
       "  display: inline-block;\n",
       "  padding: 0;\n",
       "  margin: 0;\n",
       "}\n",
       "\n",
       ".xr-dim-list:before {\n",
       "  content: '(';\n",
       "}\n",
       "\n",
       ".xr-dim-list:after {\n",
       "  content: ')';\n",
       "}\n",
       "\n",
       ".xr-dim-list li:not(:last-child):after {\n",
       "  content: ',';\n",
       "  padding-right: 5px;\n",
       "}\n",
       "\n",
       ".xr-has-index {\n",
       "  font-weight: bold;\n",
       "}\n",
       "\n",
       ".xr-var-list,\n",
       ".xr-var-item {\n",
       "  display: contents;\n",
       "}\n",
       "\n",
       ".xr-var-item > div,\n",
       ".xr-var-item label,\n",
       ".xr-var-item > .xr-var-name span {\n",
       "  background-color: var(--xr-background-color-row-even);\n",
       "  margin-bottom: 0;\n",
       "}\n",
       "\n",
       ".xr-var-item > .xr-var-name:hover span {\n",
       "  padding-right: 5px;\n",
       "}\n",
       "\n",
       ".xr-var-list > li:nth-child(odd) > div,\n",
       ".xr-var-list > li:nth-child(odd) > label,\n",
       ".xr-var-list > li:nth-child(odd) > .xr-var-name span {\n",
       "  background-color: var(--xr-background-color-row-odd);\n",
       "}\n",
       "\n",
       ".xr-var-name {\n",
       "  grid-column: 1;\n",
       "}\n",
       "\n",
       ".xr-var-dims {\n",
       "  grid-column: 2;\n",
       "}\n",
       "\n",
       ".xr-var-dtype {\n",
       "  grid-column: 3;\n",
       "  text-align: right;\n",
       "  color: var(--xr-font-color2);\n",
       "}\n",
       "\n",
       ".xr-var-preview {\n",
       "  grid-column: 4;\n",
       "}\n",
       "\n",
       ".xr-index-preview {\n",
       "  grid-column: 2 / 5;\n",
       "  color: var(--xr-font-color2);\n",
       "}\n",
       "\n",
       ".xr-var-name,\n",
       ".xr-var-dims,\n",
       ".xr-var-dtype,\n",
       ".xr-preview,\n",
       ".xr-attrs dt {\n",
       "  white-space: nowrap;\n",
       "  overflow: hidden;\n",
       "  text-overflow: ellipsis;\n",
       "  padding-right: 10px;\n",
       "}\n",
       "\n",
       ".xr-var-name:hover,\n",
       ".xr-var-dims:hover,\n",
       ".xr-var-dtype:hover,\n",
       ".xr-attrs dt:hover {\n",
       "  overflow: visible;\n",
       "  width: auto;\n",
       "  z-index: 1;\n",
       "}\n",
       "\n",
       ".xr-var-attrs,\n",
       ".xr-var-data,\n",
       ".xr-index-data {\n",
       "  display: none;\n",
       "  background-color: var(--xr-background-color) !important;\n",
       "  padding-bottom: 5px !important;\n",
       "}\n",
       "\n",
       ".xr-var-attrs-in:checked ~ .xr-var-attrs,\n",
       ".xr-var-data-in:checked ~ .xr-var-data,\n",
       ".xr-index-data-in:checked ~ .xr-index-data {\n",
       "  display: block;\n",
       "}\n",
       "\n",
       ".xr-var-data > table {\n",
       "  float: right;\n",
       "}\n",
       "\n",
       ".xr-var-name span,\n",
       ".xr-var-data,\n",
       ".xr-index-name div,\n",
       ".xr-index-data,\n",
       ".xr-attrs {\n",
       "  padding-left: 25px !important;\n",
       "}\n",
       "\n",
       ".xr-attrs,\n",
       ".xr-var-attrs,\n",
       ".xr-var-data,\n",
       ".xr-index-data {\n",
       "  grid-column: 1 / -1;\n",
       "}\n",
       "\n",
       "dl.xr-attrs {\n",
       "  padding: 0;\n",
       "  margin: 0;\n",
       "  display: grid;\n",
       "  grid-template-columns: 125px auto;\n",
       "}\n",
       "\n",
       ".xr-attrs dt,\n",
       ".xr-attrs dd {\n",
       "  padding: 0;\n",
       "  margin: 0;\n",
       "  float: left;\n",
       "  padding-right: 10px;\n",
       "  width: auto;\n",
       "}\n",
       "\n",
       ".xr-attrs dt {\n",
       "  font-weight: normal;\n",
       "  grid-column: 1;\n",
       "}\n",
       "\n",
       ".xr-attrs dt:hover span {\n",
       "  display: inline-block;\n",
       "  background: var(--xr-background-color);\n",
       "  padding-right: 10px;\n",
       "}\n",
       "\n",
       ".xr-attrs dd {\n",
       "  grid-column: 2;\n",
       "  white-space: pre-wrap;\n",
       "  word-break: break-all;\n",
       "}\n",
       "\n",
       ".xr-icon-database,\n",
       ".xr-icon-file-text2,\n",
       ".xr-no-icon {\n",
       "  display: inline-block;\n",
       "  vertical-align: middle;\n",
       "  width: 1em;\n",
       "  height: 1.5em !important;\n",
       "  stroke-width: 0;\n",
       "  stroke: currentColor;\n",
       "  fill: currentColor;\n",
       "}\n",
       "</style><pre class='xr-text-repr-fallback'>&lt;xarray.DataArray &#x27;longitude&#x27; (longitude: 201)&gt;\n",
       "array([-110.  , -109.75, -109.5 , ...,  -60.5 ,  -60.25,  -60.  ],\n",
       "      dtype=float32)\n",
       "Coordinates:\n",
       "  * longitude           (longitude) float32 -110.0 -109.8 ... -60.25 -60.0\n",
       "    level               int32 850\n",
       "    mcape_mcin_lcl_lfc  &lt;U5 &#x27;mcape&#x27;</pre><div class='xr-wrap' style='display:none'><div class='xr-header'><div class='xr-obj-type'>xarray.DataArray</div><div class='xr-array-name'>'longitude'</div><ul class='xr-dim-list'><li><span class='xr-has-index'>longitude</span>: 201</li></ul></div><ul class='xr-sections'><li class='xr-section-item'><div class='xr-array-wrap'><input id='section-b67b1e8e-c3e9-4772-a01d-136fe158a52f' class='xr-array-in' type='checkbox' checked><label for='section-b67b1e8e-c3e9-4772-a01d-136fe158a52f' title='Show/hide data repr'><svg class='icon xr-icon-database'><use xlink:href='#icon-database'></use></svg></label><div class='xr-array-preview xr-preview'><span>-110.0 -109.8 -109.5 -109.2 -109.0 ... -61.0 -60.75 -60.5 -60.25 -60.0</span></div><div class='xr-array-data'><pre>array([-110.  , -109.75, -109.5 , ...,  -60.5 ,  -60.25,  -60.  ],\n",
       "      dtype=float32)</pre></div></div></li><li class='xr-section-item'><input id='section-dee195c1-31b5-4f29-b330-3abe7f1884d5' class='xr-section-summary-in' type='checkbox'  checked><label for='section-dee195c1-31b5-4f29-b330-3abe7f1884d5' class='xr-section-summary' >Coordinates: <span>(3)</span></label><div class='xr-section-inline-details'></div><div class='xr-section-details'><ul class='xr-var-list'><li class='xr-var-item'><div class='xr-var-name'><span class='xr-has-index'>longitude</span></div><div class='xr-var-dims'>(longitude)</div><div class='xr-var-dtype'>float32</div><div class='xr-var-preview xr-preview'>-110.0 -109.8 ... -60.25 -60.0</div><input id='attrs-d069a2d5-0079-4c0f-9e0f-456014c7d6c9' class='xr-var-attrs-in' type='checkbox' disabled><label for='attrs-d069a2d5-0079-4c0f-9e0f-456014c7d6c9' title='Show/Hide attributes'><svg class='icon xr-icon-file-text2'><use xlink:href='#icon-file-text2'></use></svg></label><input id='data-92b0883c-b058-4c90-a1f5-33ed6bc806f6' class='xr-var-data-in' type='checkbox'><label for='data-92b0883c-b058-4c90-a1f5-33ed6bc806f6' title='Show/Hide data repr'><svg class='icon xr-icon-database'><use xlink:href='#icon-database'></use></svg></label><div class='xr-var-attrs'><dl class='xr-attrs'></dl></div><div class='xr-var-data'><pre>array([-110.  , -109.75, -109.5 , ...,  -60.5 ,  -60.25,  -60.  ],\n",
       "      dtype=float32)</pre></div></li><li class='xr-var-item'><div class='xr-var-name'><span>level</span></div><div class='xr-var-dims'>()</div><div class='xr-var-dtype'>int32</div><div class='xr-var-preview xr-preview'>850</div><input id='attrs-9cd677f9-eac1-47f5-b9f7-2bf0280cba48' class='xr-var-attrs-in' type='checkbox' ><label for='attrs-9cd677f9-eac1-47f5-b9f7-2bf0280cba48' title='Show/Hide attributes'><svg class='icon xr-icon-file-text2'><use xlink:href='#icon-file-text2'></use></svg></label><input id='data-4245ad68-0e2e-487d-98a2-5987d1872205' class='xr-var-data-in' type='checkbox'><label for='data-4245ad68-0e2e-487d-98a2-5987d1872205' title='Show/Hide data repr'><svg class='icon xr-icon-database'><use xlink:href='#icon-database'></use></svg></label><div class='xr-var-attrs'><dl class='xr-attrs'><dt><span>units :</span></dt><dd>millibars</dd><dt><span>long_name :</span></dt><dd>pressure_level</dd></dl></div><div class='xr-var-data'><pre>array(850, dtype=int32)</pre></div></li><li class='xr-var-item'><div class='xr-var-name'><span>mcape_mcin_lcl_lfc</span></div><div class='xr-var-dims'>()</div><div class='xr-var-dtype'>&lt;U5</div><div class='xr-var-preview xr-preview'>&#x27;mcape&#x27;</div><input id='attrs-3da034c5-d9f1-4d19-aa21-848f9434fda4' class='xr-var-attrs-in' type='checkbox' disabled><label for='attrs-3da034c5-d9f1-4d19-aa21-848f9434fda4' title='Show/Hide attributes'><svg class='icon xr-icon-file-text2'><use xlink:href='#icon-file-text2'></use></svg></label><input id='data-4a96e052-0378-4f14-af5f-1bb28546a825' class='xr-var-data-in' type='checkbox'><label for='data-4a96e052-0378-4f14-af5f-1bb28546a825' title='Show/Hide data repr'><svg class='icon xr-icon-database'><use xlink:href='#icon-database'></use></svg></label><div class='xr-var-attrs'><dl class='xr-attrs'></dl></div><div class='xr-var-data'><pre>array(&#x27;mcape&#x27;, dtype=&#x27;&lt;U5&#x27;)</pre></div></li></ul></div></li><li class='xr-section-item'><input id='section-97ad9e69-f068-4f6c-8b3a-0adf5771fd88' class='xr-section-summary-in' type='checkbox'  ><label for='section-97ad9e69-f068-4f6c-8b3a-0adf5771fd88' class='xr-section-summary' >Indexes: <span>(1)</span></label><div class='xr-section-inline-details'></div><div class='xr-section-details'><ul class='xr-var-list'><li class='xr-var-item'><div class='xr-index-name'><div>longitude</div></div><div class='xr-index-preview'>PandasIndex</div><div></div><input id='index-fe55cb07-710d-41ec-8249-f0092433d813' class='xr-index-data-in' type='checkbox'/><label for='index-fe55cb07-710d-41ec-8249-f0092433d813' title='Show/Hide index repr'><svg class='icon xr-icon-database'><use xlink:href='#icon-database'></use></svg></label><div class='xr-index-data'><pre>PandasIndex(Index([ -110.0, -109.75,  -109.5, -109.25,  -109.0, -108.75,  -108.5, -108.25,\n",
       "        -108.0, -107.75,\n",
       "       ...\n",
       "        -62.25,   -62.0,  -61.75,   -61.5,  -61.25,   -61.0,  -60.75,   -60.5,\n",
       "        -60.25,   -60.0],\n",
       "      dtype=&#x27;float32&#x27;, name=&#x27;longitude&#x27;, length=201))</pre></div></li></ul></div></li><li class='xr-section-item'><input id='section-216e9341-c8f2-43f8-b20d-d489f814796b' class='xr-section-summary-in' type='checkbox' disabled ><label for='section-216e9341-c8f2-43f8-b20d-d489f814796b' class='xr-section-summary'  title='Expand/collapse section'>Attributes: <span>(0)</span></label><div class='xr-section-inline-details'></div><div class='xr-section-details'><dl class='xr-attrs'></dl></div></li></ul></div></div>"
      ],
      "text/plain": [
       "<xarray.DataArray 'longitude' (longitude: 201)>\n",
       "array([-110.  , -109.75, -109.5 , ...,  -60.5 ,  -60.25,  -60.  ],\n",
       "      dtype=float32)\n",
       "Coordinates:\n",
       "  * longitude           (longitude) float32 -110.0 -109.8 ... -60.25 -60.0\n",
       "    level               int32 850\n",
       "    mcape_mcin_lcl_lfc  <U5 'mcape'"
      ]
     },
     "execution_count": 14,
     "metadata": {},
     "output_type": "execute_result"
    }
   ],
   "source": [
    "mod_params.cape.longitude"
   ]
  },
  {
   "cell_type": "code",
   "execution_count": 9,
   "id": "ea52ce58-a7bd-4c18-8c14-fbf1293fcf1e",
   "metadata": {},
   "outputs": [
    {
     "data": {
      "text/plain": [
       "<bound method Mapping.keys of <xarray.Dataset>\n",
       "Dimensions:    (longitude: 201, latitude: 121, time: 8)\n",
       "Coordinates:\n",
       "  * longitude  (longitude) float32 -110.0 -109.8 -109.5 ... -60.5 -60.25 -60.0\n",
       "  * latitude   (latitude) float32 20.0 20.25 20.5 20.75 ... 49.5 49.75 50.0\n",
       "  * time       (time) datetime64[ns] 2024-04-02 ... 2024-04-03T18:00:00\n",
       "Data variables:\n",
       "    u10n       (time, latitude, longitude) float32 ...\n",
       "    v10n       (time, latitude, longitude) float32 ...\n",
       "    t2m        (time, latitude, longitude) float32 ...\n",
       "    cape       (time, latitude, longitude) float32 ...\n",
       "    cin        (time, latitude, longitude) float32 ...\n",
       "    msl        (time, latitude, longitude) float32 1.015e+05 ... 1.023e+05\n",
       "Attributes:\n",
       "    Conventions:  CF-1.6\n",
       "    history:      2024-04-09 13:30:58 GMT by grib_to_netcdf-2.25.1: /opt/ecmw...>"
      ]
     },
     "execution_count": 9,
     "metadata": {},
     "output_type": "execute_result"
    }
   ],
   "source": [
    "xr_sfc.keys"
   ]
  },
  {
   "cell_type": "code",
   "execution_count": null,
   "id": "f0cd3a3f-8acb-4ffa-84dd-a2cd0021f2e6",
   "metadata": {},
   "outputs": [],
   "source": []
  }
 ],
 "metadata": {
  "kernelspec": {
   "display_name": "Python 3 (ipykernel)",
   "language": "python",
   "name": "python3"
  },
  "language_info": {
   "codemirror_mode": {
    "name": "ipython",
    "version": 3
   },
   "file_extension": ".py",
   "mimetype": "text/x-python",
   "name": "python",
   "nbconvert_exporter": "python",
   "pygments_lexer": "ipython3",
   "version": "3.11.7"
  }
 },
 "nbformat": 4,
 "nbformat_minor": 5
}
