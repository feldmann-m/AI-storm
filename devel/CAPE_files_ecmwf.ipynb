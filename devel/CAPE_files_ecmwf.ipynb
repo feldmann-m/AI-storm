{
 "cells": [
  {
   "cell_type": "code",
   "execution_count": 4,
   "id": "e4985f45-8926-4c4a-b0f7-7f093e3a981b",
   "metadata": {},
   "outputs": [
    {
     "name": "stdout",
     "output_type": "stream",
     "text": [
      "modules loaded\n"
     ]
    }
   ],
   "source": [
    "import sys, os\n",
    "import pandas as pd\n",
    "import xarray as xr\n",
    "import matplotlib.pyplot as plt\n",
    "import numpy as np\n",
    "import numpy.matlib\n",
    "#import weatherbench2 as wb\n",
    "#import metpy\n",
    "import copy\n",
    "import wrf\n",
    "import time\n",
    "#from metpy.units import units\n",
    "import cartopy.crs as ccrs\n",
    "print('modules loaded')\n",
    "import datetime\n",
    "import glob\n",
    "import datetime as dt\n",
    "import seaborn as sns\n",
    "import netCDF4 as nc\n",
    "import metpy\n",
    "from metpy.units import units\n",
    "from glob import glob"
   ]
  },
  {
   "cell_type": "code",
   "execution_count": 73,
   "id": "9514c7ea-1b33-4f84-a0fd-737c25b50b83",
   "metadata": {},
   "outputs": [],
   "source": [
    "figpath='/users/mfeldman/figs/case_24/'\n",
    "datapath='/work/FAC/FGSE/IDYST/tbeucler/default/raw_data/ECMWF_AI/'\n",
    "models=['aifs','pangu','graphcast','tigge']"
   ]
  },
  {
   "cell_type": "code",
   "execution_count": 74,
   "id": "35d09f05-f01d-4f99-8bb9-86d2b4f4a24b",
   "metadata": {},
   "outputs": [
    {
     "name": "stdout",
     "output_type": "stream",
     "text": [
      "[ 1  0 -1 -2 -3 -4 -5 -6 -7]\n",
      "/work/FAC/FGSE/IDYST/tbeucler/default/raw_data/ECMWF_AI/tigge/pl_2024-03-23_00:00:00.nc\n",
      "tigge 2024-03-23T00\n",
      "/work/FAC/FGSE/IDYST/tbeucler/default/raw_data/ECMWF_AI/tigge/pl_2024-03-23_12:00:00.nc\n",
      "tigge 2024-03-23T12\n",
      "/work/FAC/FGSE/IDYST/tbeucler/default/raw_data/ECMWF_AI/tigge/pl_2024-03-24_00:00:00.nc\n",
      "tigge 2024-03-24T00\n",
      "/work/FAC/FGSE/IDYST/tbeucler/default/raw_data/ECMWF_AI/tigge/pl_2024-03-24_12:00:00.nc\n",
      "tigge 2024-03-24T12\n",
      "/work/FAC/FGSE/IDYST/tbeucler/default/raw_data/ECMWF_AI/tigge/pl_2024-03-25_00:00:00.nc\n",
      "tigge 2024-03-25T00\n",
      "/work/FAC/FGSE/IDYST/tbeucler/default/raw_data/ECMWF_AI/tigge/pl_2024-03-25_12:00:00.nc\n",
      "tigge 2024-03-25T12\n",
      "/work/FAC/FGSE/IDYST/tbeucler/default/raw_data/ECMWF_AI/tigge/pl_2024-03-26_00:00:00.nc\n",
      "tigge 2024-03-26T00\n",
      "/work/FAC/FGSE/IDYST/tbeucler/default/raw_data/ECMWF_AI/tigge/pl_2024-03-26_12:00:00.nc\n",
      "tigge 2024-03-26T12\n",
      "/work/FAC/FGSE/IDYST/tbeucler/default/raw_data/ECMWF_AI/tigge/pl_2024-03-27_00:00:00.nc\n",
      "tigge 2024-03-27T00\n",
      "/work/FAC/FGSE/IDYST/tbeucler/default/raw_data/ECMWF_AI/tigge/pl_2024-03-27_12:00:00.nc\n",
      "tigge 2024-03-27T12\n",
      "/work/FAC/FGSE/IDYST/tbeucler/default/raw_data/ECMWF_AI/tigge/pl_2024-03-28_00:00:00.nc\n",
      "tigge 2024-03-28T00\n",
      "/work/FAC/FGSE/IDYST/tbeucler/default/raw_data/ECMWF_AI/tigge/pl_2024-03-28_12:00:00.nc\n",
      "tigge 2024-03-28T12\n",
      "/work/FAC/FGSE/IDYST/tbeucler/default/raw_data/ECMWF_AI/tigge/pl_2024-03-29_00:00:00.nc\n",
      "tigge 2024-03-29T00\n",
      "/work/FAC/FGSE/IDYST/tbeucler/default/raw_data/ECMWF_AI/tigge/pl_2024-03-29_12:00:00.nc\n",
      "tigge 2024-03-29T12\n",
      "/work/FAC/FGSE/IDYST/tbeucler/default/raw_data/ECMWF_AI/tigge/pl_2024-03-30_00:00:00.nc\n",
      "tigge 2024-03-30T00\n",
      "/work/FAC/FGSE/IDYST/tbeucler/default/raw_data/ECMWF_AI/tigge/pl_2024-03-30_12:00:00.nc\n",
      "tigge 2024-03-30T12\n",
      "/work/FAC/FGSE/IDYST/tbeucler/default/raw_data/ECMWF_AI/tigge/pl_2024-03-31_00:00:00.nc\n",
      "tigge 2024-03-31T00\n",
      "/work/FAC/FGSE/IDYST/tbeucler/default/raw_data/ECMWF_AI/tigge/pl_2024-03-31_12:00:00.nc\n",
      "tigge 2024-03-31T12\n",
      "/work/FAC/FGSE/IDYST/tbeucler/default/raw_data/ECMWF_AI/tigge/pl_2024-04-01_00:00:00.nc\n",
      "tigge 2024-04-01T00\n",
      "/work/FAC/FGSE/IDYST/tbeucler/default/raw_data/ECMWF_AI/tigge/pl_2024-04-01_12:00:00.nc\n",
      "tigge 2024-04-01T12\n",
      "/work/FAC/FGSE/IDYST/tbeucler/default/raw_data/ECMWF_AI/tigge/pl_2024-04-02_00:00:00.nc\n",
      "tigge 2024-04-02T00\n",
      "/work/FAC/FGSE/IDYST/tbeucler/default/raw_data/ECMWF_AI/tigge/pl_2024-04-02_12:00:00.nc\n",
      "tigge 2024-04-02T12\n",
      "/work/FAC/FGSE/IDYST/tbeucler/default/raw_data/ECMWF_AI/tigge/pl_2024-04-03_00:00:00.nc\n",
      "tigge 2024-04-03T00\n",
      "/work/FAC/FGSE/IDYST/tbeucler/default/raw_data/ECMWF_AI/tigge/pl_2024-04-03_12:00:00.nc\n",
      "tigge 2024-04-03T12\n"
     ]
    }
   ],
   "source": [
    "era5='gs://weatherbench2/datasets/era5/1959-2022-6h-1440x721.zarr'\n",
    "xr_era5=xr.open_zarr(era5).sortby('latitude')\n",
    "xr_era5=xr_era5.sel(time=xr_era5.time.dt.year.isin([2020]))\n",
    "xr_era5=xr_era5.sel(time=xr_era5.time.dt.month.isin([4]))#np.arange(3,10)))\n",
    "xr_era5=xr_era5.sel(time=xr_era5.time.dt.day.isin([2,3]),latitude=slice(20,50),longitude=slice(250,300))\n",
    "zsurf_c=xr_era5['geopotential_at_surface']\n",
    "\n",
    "year=2024; month=4; day=np.arange(2,4,1); days=day[0]-np.arange(1,10)\n",
    "print(days)\n",
    "latslice2=slice(20,50)\n",
    "for model in models[-1:]:\n",
    "    files_pl=sorted(glob(datapath+model+'/pl*.nc'))\n",
    "    files_sfc=sorted(glob(datapath+model+'/sfc*.nc'))\n",
    "    for nn in range(len(files_pl))[:]:\n",
    "        st=datetime.datetime(2024,4,2,0)\n",
    "        et=datetime.datetime(2024,4,3,23)\n",
    "\n",
    "\n",
    "        print(files_pl[nn])\n",
    "        xr_pl=xr.open_dataset(files_pl[nn]).sortby('latitude')\n",
    "        init=np.datetime_as_string(xr_pl.time[0].values,'h')\n",
    "        \n",
    "        xr_pl=xr_pl.sel(time=xr_pl.time.dt.year.isin([year]))\n",
    "        xr_pl=xr_pl.sel(time=xr_pl.time.dt.month.isin([month]))\n",
    "        xr_pl=xr_pl.sel(time=xr_pl.time.dt.day.isin([day]))\n",
    "        \n",
    "        xr_sfc=xr.open_dataset(files_sfc[nn]).sortby('latitude')\n",
    "        xr_sfc=xr_sfc.sel(time=xr_sfc.time.dt.year.isin([year]))\n",
    "        xr_sfc=xr_sfc.sel(time=xr_sfc.time.dt.month.isin([month]))\n",
    "        xr_sfc=xr_sfc.sel(time=xr_sfc.time.dt.day.isin([day]))\n",
    "\n",
    "\n",
    "        xr_pl = xr_pl.sortby('level', ascending=False)\n",
    "        \n",
    "        plevel=copy.deepcopy(xr_pl.level.values)\n",
    "        \n",
    "        tlevel=xr_pl.t\n",
    "        qlevel=xr_pl.q\n",
    "        plevel_dim=np.ones([1,len(plevel),1,1])\n",
    "        if model=='tigge': zlevel=xr_pl.gh\n",
    "        else: zlevel=xr_pl.z\n",
    "        ulevel=xr_pl.u\n",
    "        vlevel=xr_pl.v\n",
    "        for n1 in range(len(plevel.data)):\n",
    "            plevel_dim[0,n1,0,0]=plevel[n1]\n",
    "        plevel_exp=(tlevel/tlevel)*plevel_dim\n",
    "        \n",
    "        psurf=xr_sfc.msl\n",
    "        tsurf=xr_sfc.t2m\n",
    "        zsurf = zsurf_c.expand_dims(dim={\"time\": psurf.time}, axis=0)\n",
    "        # zsurf = zsurf.expand_dims(dim={\"time\": psurf.time}, axis=1)\n",
    "        \n",
    "        ps=psurf/100\n",
    "        zs=zsurf/9.81\n",
    "        zl=zlevel/9.81\n",
    "\n",
    "        mod_inst=wrf.cape_2d(pres_hpa=plevel_exp, tkel=tlevel, qv=qlevel, height=zl, terrain=zs, psfc_hpa=psurf, ter_follow=False)\n",
    "        mod_inst=mod_inst.assign_coords(longitude=psurf.longitude.values);\n",
    "        mod_inst=mod_inst.assign_coords(latitude=psurf.latitude.values);\n",
    "        mod_inst=mod_inst.assign_coords(time=psurf.time.values)\n",
    "\n",
    "        du_01=ulevel.sel(level=850)-xr_sfc.u10; dv_01=vlevel.sel(level=850)-xr_sfc.v10\n",
    "        du_03=ulevel.sel(level=700)-xr_sfc.u10; dv_03=vlevel.sel(level=700)-xr_sfc.v10\n",
    "        du_06=ulevel.sel(level=500)-xr_sfc.u10; dv_06=vlevel.sel(level=500)-xr_sfc.v10\n",
    "        \n",
    "        bs_01=( du_01**2 + dv_01**2 )**0.5\n",
    "        bs_03=( du_03**2 + dv_03**2 )**0.5\n",
    "        bs_06=( du_06**2 + dv_06**2 )**0.5\n",
    "        \n",
    "        du_01=du_01.to_dataset(name='du_01')\n",
    "        dv_01=dv_01.to_dataset(name='dv_01')\n",
    "        bs_01=bs_01.to_dataset(name='bs_01')\n",
    "        du_03=du_03.to_dataset(name='du_03')\n",
    "        dv_03=dv_03.to_dataset(name='dv_03')\n",
    "        bs_03=bs_03.to_dataset(name='bs_03')\n",
    "        du_06=du_06.to_dataset(name='du_06')\n",
    "        dv_06=dv_06.to_dataset(name='dv_06')\n",
    "        bs_06=bs_06.to_dataset(name='bs_06')\n",
    "        \n",
    "        mod_params=xr.merge([du_01,dv_01,bs_01,du_03,dv_03,bs_03,du_06,dv_06,bs_06],compat='override')\n",
    "        #mod_params=mod_params.squeeze(dim='level')\n",
    "        mod_params['cape']=mod_inst.sel(mcape_mcin_lcl_lfc='mcape')\n",
    "        mod_params['cin']=mod_inst.sel(mcape_mcin_lcl_lfc='mcin')\n",
    "        mod_params['lcl']=mod_inst.sel(mcape_mcin_lcl_lfc='lcl')\n",
    "        mod_params['lfc']=mod_inst.sel(mcape_mcin_lcl_lfc='lfc')#.squeeze(dim='mcape_mcin_lcl_lfc')\n",
    "        print(model,init)\n",
    "        mod_params.to_netcdf(datapath+'postproc/'+model+'_'+init+'.nc')\n",
    "\n",
    "        cm=plt.cm.Reds\n",
    "        cm.set_under(color=\"grey\")\n",
    "        cm.set_bad(color=\"grey\")\n",
    "        p = mod_params.cape.sel(latitude=slice(20,40),longitude=slice(260,290)).plot(x=\"longitude\", y=\"latitude\", col=\"time\", col_wrap=4,transform=ccrs.PlateCarree(), subplot_kws={'projection':ccrs.PlateCarree()}\\\n",
    "                        ,cmap=cm,vmin=200,vmax=1500,levels=np.arange(200,1500,100),extend='both')# col_wrap=4)\n",
    "        for ax in p.axs.flat:\n",
    "                        ax.coastlines()\n",
    "        f=p.fig\n",
    "        f.savefig(figpath+model+'_'+init+'_cape.png',  dpi=300, bbox_inches='tight')\n",
    "        plt.close()\n",
    "        \n",
    "        cm=plt.cm.Reds\n",
    "        cm.set_under(color=\"grey\")\n",
    "        cm.set_bad(color=\"grey\")\n",
    "        p = mod_params.bs_06.sel(latitude=slice(20,40),longitude=slice(260,290)).plot(x=\"longitude\", y=\"latitude\", col=\"time\", col_wrap=4,transform=ccrs.PlateCarree(), subplot_kws={'projection':ccrs.PlateCarree()}\\\n",
    "                        ,cmap=cm,vmin=5,vmax=30,levels=np.arange(5,32,2),extend='both')# col_wrap=4)\n",
    "        for ax in p.axs.flat:\n",
    "                        ax.coastlines()\n",
    "        f=p.fig\n",
    "        f.savefig(figpath+model+'_'+init+'_bs_06.png',  dpi=300, bbox_inches='tight')\n",
    "        plt.close()\n"
   ]
  },
  {
   "cell_type": "code",
   "execution_count": 75,
   "id": "6755ff9c-42c6-435e-a2de-ef2525286c3b",
   "metadata": {},
   "outputs": [
    {
     "name": "stdout",
     "output_type": "stream",
     "text": [
      "/work/FAC/FGSE/IDYST/tbeucler/default/raw_data/ECMWF_AI/tigge/pl_2024-03-23_00:00:00.nc\n",
      "/work/FAC/FGSE/IDYST/tbeucler/default/raw_data/ECMWF_AI/tigge/pl_2024-03-23_12:00:00.nc\n",
      "/work/FAC/FGSE/IDYST/tbeucler/default/raw_data/ECMWF_AI/tigge/pl_2024-03-24_00:00:00.nc\n",
      "/work/FAC/FGSE/IDYST/tbeucler/default/raw_data/ECMWF_AI/tigge/pl_2024-03-24_12:00:00.nc\n",
      "/work/FAC/FGSE/IDYST/tbeucler/default/raw_data/ECMWF_AI/tigge/pl_2024-03-25_00:00:00.nc\n",
      "/work/FAC/FGSE/IDYST/tbeucler/default/raw_data/ECMWF_AI/tigge/pl_2024-03-25_12:00:00.nc\n",
      "/work/FAC/FGSE/IDYST/tbeucler/default/raw_data/ECMWF_AI/tigge/pl_2024-03-26_00:00:00.nc\n",
      "/work/FAC/FGSE/IDYST/tbeucler/default/raw_data/ECMWF_AI/tigge/pl_2024-03-26_12:00:00.nc\n",
      "/work/FAC/FGSE/IDYST/tbeucler/default/raw_data/ECMWF_AI/tigge/pl_2024-03-27_00:00:00.nc\n",
      "/work/FAC/FGSE/IDYST/tbeucler/default/raw_data/ECMWF_AI/tigge/pl_2024-03-27_12:00:00.nc\n",
      "/work/FAC/FGSE/IDYST/tbeucler/default/raw_data/ECMWF_AI/tigge/pl_2024-03-28_00:00:00.nc\n",
      "/work/FAC/FGSE/IDYST/tbeucler/default/raw_data/ECMWF_AI/tigge/pl_2024-03-28_12:00:00.nc\n",
      "/work/FAC/FGSE/IDYST/tbeucler/default/raw_data/ECMWF_AI/tigge/pl_2024-03-29_00:00:00.nc\n",
      "/work/FAC/FGSE/IDYST/tbeucler/default/raw_data/ECMWF_AI/tigge/pl_2024-03-29_12:00:00.nc\n",
      "/work/FAC/FGSE/IDYST/tbeucler/default/raw_data/ECMWF_AI/tigge/pl_2024-03-30_00:00:00.nc\n",
      "/work/FAC/FGSE/IDYST/tbeucler/default/raw_data/ECMWF_AI/tigge/pl_2024-03-30_12:00:00.nc\n",
      "/work/FAC/FGSE/IDYST/tbeucler/default/raw_data/ECMWF_AI/tigge/pl_2024-03-31_00:00:00.nc\n",
      "/work/FAC/FGSE/IDYST/tbeucler/default/raw_data/ECMWF_AI/tigge/pl_2024-03-31_12:00:00.nc\n",
      "/work/FAC/FGSE/IDYST/tbeucler/default/raw_data/ECMWF_AI/tigge/pl_2024-04-01_00:00:00.nc\n",
      "/work/FAC/FGSE/IDYST/tbeucler/default/raw_data/ECMWF_AI/tigge/pl_2024-04-01_12:00:00.nc\n",
      "/work/FAC/FGSE/IDYST/tbeucler/default/raw_data/ECMWF_AI/tigge/pl_2024-04-02_00:00:00.nc\n",
      "/work/FAC/FGSE/IDYST/tbeucler/default/raw_data/ECMWF_AI/tigge/pl_2024-04-02_12:00:00.nc\n",
      "/work/FAC/FGSE/IDYST/tbeucler/default/raw_data/ECMWF_AI/tigge/pl_2024-04-03_00:00:00.nc\n",
      "/work/FAC/FGSE/IDYST/tbeucler/default/raw_data/ECMWF_AI/tigge/pl_2024-04-03_12:00:00.nc\n"
     ]
    }
   ],
   "source": [
    "for model in models[-1:]:\n",
    "    files_pl=sorted(glob(datapath+model+'/pl*.nc'))\n",
    "    files_sfc=sorted(glob(datapath+model+'/sfc*.nc'))\n",
    "    for nn in range(len(files_pl))[:]:\n",
    "        st=datetime.datetime(2024,4,2,0)\n",
    "        et=datetime.datetime(2024,4,3,23)\n",
    "\n",
    "\n",
    "        print(files_pl[nn])\n",
    "        xr_pl=xr.open_dataset(files_pl[nn]).sortby('latitude')\n",
    "        init=np.datetime_as_string(xr_pl.time[0].values,'h')\n",
    "        \n",
    "        xr_sfc=xr.open_dataset(files_sfc[nn]).sortby('latitude')\n",
    "        xr_sfc=xr_sfc.sel(time=xr_sfc.time.dt.year.isin([year]))\n",
    "        xr_sfc=xr_sfc.sel(time=xr_sfc.time.dt.month.isin([month]))\n",
    "        xr_sfc=xr_sfc.sel(time=xr_sfc.time.dt.day.isin([day]))\n",
    "\n",
    "        cm=plt.cm.Reds\n",
    "        cm.set_under(color=\"grey\")\n",
    "        cm.set_bad(color=\"grey\")\n",
    "        p = xr_sfc.cape.sel(latitude=slice(20,40),longitude=slice(260,290)).plot(x=\"longitude\", y=\"latitude\", col=\"time\", col_wrap=4,transform=ccrs.PlateCarree(), subplot_kws={'projection':ccrs.PlateCarree()}\\\n",
    "                        ,cmap=cm,vmin=200,vmax=1500,levels=np.arange(200,1500,100),extend='both')# col_wrap=4)\n",
    "        for ax in p.axs.flat:\n",
    "                        ax.coastlines()\n",
    "        f=p.fig\n",
    "        f.savefig(figpath+model+'_'+init+'_cape_mod.png',  dpi=300, bbox_inches='tight')\n",
    "        plt.close()"
   ]
  },
  {
   "cell_type": "code",
   "execution_count": 71,
   "id": "e6a42273-ea12-42a7-82bd-d8fde319fb90",
   "metadata": {},
   "outputs": [
    {
     "name": "stdout",
     "output_type": "stream",
     "text": [
      "[ 1  0 -1 -2 -3 -4 -5 -6 -7]\n",
      "/work/FAC/FGSE/IDYST/tbeucler/default/raw_data/ECMWF_AI/sfno/pl_2024-03-23_00:00:00.nc\n"
     ]
    },
    {
     "name": "stderr",
     "output_type": "stream",
     "text": [
      "/work/FAC/FGSE/IDYST/tbeucler/default/mfeldman/miniforge3/envs/wb/lib/python3.11/site-packages/metpy/calc/thermo.py:1396: RuntimeWarning: invalid value encountered in log\n",
      "  val = np.log(vapor_pressure / mpconsts.nounit.sat_pressure_0c)\n"
     ]
    },
    {
     "name": "stdout",
     "output_type": "stream",
     "text": [
      "sfno 2024-03-23T00\n",
      "/work/FAC/FGSE/IDYST/tbeucler/default/raw_data/ECMWF_AI/sfno/pl_2024-03-23_12:00:00.nc\n"
     ]
    },
    {
     "name": "stderr",
     "output_type": "stream",
     "text": [
      "/work/FAC/FGSE/IDYST/tbeucler/default/mfeldman/miniforge3/envs/wb/lib/python3.11/site-packages/metpy/calc/thermo.py:1396: RuntimeWarning: invalid value encountered in log\n",
      "  val = np.log(vapor_pressure / mpconsts.nounit.sat_pressure_0c)\n"
     ]
    },
    {
     "name": "stdout",
     "output_type": "stream",
     "text": [
      "sfno 2024-03-23T12\n",
      "/work/FAC/FGSE/IDYST/tbeucler/default/raw_data/ECMWF_AI/sfno/pl_2024-03-24_00:00:00.nc\n"
     ]
    },
    {
     "name": "stderr",
     "output_type": "stream",
     "text": [
      "/work/FAC/FGSE/IDYST/tbeucler/default/mfeldman/miniforge3/envs/wb/lib/python3.11/site-packages/metpy/calc/thermo.py:1396: RuntimeWarning: invalid value encountered in log\n",
      "  val = np.log(vapor_pressure / mpconsts.nounit.sat_pressure_0c)\n"
     ]
    },
    {
     "name": "stdout",
     "output_type": "stream",
     "text": [
      "sfno 2024-03-24T00\n",
      "/work/FAC/FGSE/IDYST/tbeucler/default/raw_data/ECMWF_AI/sfno/pl_2024-03-24_12:00:00.nc\n"
     ]
    },
    {
     "name": "stderr",
     "output_type": "stream",
     "text": [
      "/work/FAC/FGSE/IDYST/tbeucler/default/mfeldman/miniforge3/envs/wb/lib/python3.11/site-packages/metpy/calc/thermo.py:1396: RuntimeWarning: invalid value encountered in log\n",
      "  val = np.log(vapor_pressure / mpconsts.nounit.sat_pressure_0c)\n"
     ]
    },
    {
     "name": "stdout",
     "output_type": "stream",
     "text": [
      "sfno 2024-03-24T12\n",
      "/work/FAC/FGSE/IDYST/tbeucler/default/raw_data/ECMWF_AI/sfno/pl_2024-03-25_00:00:00.nc\n"
     ]
    },
    {
     "name": "stderr",
     "output_type": "stream",
     "text": [
      "/work/FAC/FGSE/IDYST/tbeucler/default/mfeldman/miniforge3/envs/wb/lib/python3.11/site-packages/metpy/calc/thermo.py:1396: RuntimeWarning: invalid value encountered in log\n",
      "  val = np.log(vapor_pressure / mpconsts.nounit.sat_pressure_0c)\n"
     ]
    },
    {
     "name": "stdout",
     "output_type": "stream",
     "text": [
      "sfno 2024-03-25T00\n",
      "/work/FAC/FGSE/IDYST/tbeucler/default/raw_data/ECMWF_AI/sfno/pl_2024-03-25_12:00:00.nc\n"
     ]
    },
    {
     "name": "stderr",
     "output_type": "stream",
     "text": [
      "/work/FAC/FGSE/IDYST/tbeucler/default/mfeldman/miniforge3/envs/wb/lib/python3.11/site-packages/metpy/calc/thermo.py:1396: RuntimeWarning: invalid value encountered in log\n",
      "  val = np.log(vapor_pressure / mpconsts.nounit.sat_pressure_0c)\n"
     ]
    },
    {
     "name": "stdout",
     "output_type": "stream",
     "text": [
      "sfno 2024-03-25T12\n",
      "/work/FAC/FGSE/IDYST/tbeucler/default/raw_data/ECMWF_AI/sfno/pl_2024-03-26_00:00:00.nc\n"
     ]
    },
    {
     "name": "stderr",
     "output_type": "stream",
     "text": [
      "/work/FAC/FGSE/IDYST/tbeucler/default/mfeldman/miniforge3/envs/wb/lib/python3.11/site-packages/metpy/calc/thermo.py:1396: RuntimeWarning: invalid value encountered in log\n",
      "  val = np.log(vapor_pressure / mpconsts.nounit.sat_pressure_0c)\n"
     ]
    },
    {
     "name": "stdout",
     "output_type": "stream",
     "text": [
      "sfno 2024-03-26T00\n",
      "/work/FAC/FGSE/IDYST/tbeucler/default/raw_data/ECMWF_AI/sfno/pl_2024-03-26_12:00:00.nc\n"
     ]
    },
    {
     "name": "stderr",
     "output_type": "stream",
     "text": [
      "/work/FAC/FGSE/IDYST/tbeucler/default/mfeldman/miniforge3/envs/wb/lib/python3.11/site-packages/metpy/calc/thermo.py:1396: RuntimeWarning: invalid value encountered in log\n",
      "  val = np.log(vapor_pressure / mpconsts.nounit.sat_pressure_0c)\n"
     ]
    },
    {
     "name": "stdout",
     "output_type": "stream",
     "text": [
      "sfno 2024-03-26T12\n",
      "/work/FAC/FGSE/IDYST/tbeucler/default/raw_data/ECMWF_AI/sfno/pl_2024-03-27_00:00:00.nc\n"
     ]
    },
    {
     "name": "stderr",
     "output_type": "stream",
     "text": [
      "/work/FAC/FGSE/IDYST/tbeucler/default/mfeldman/miniforge3/envs/wb/lib/python3.11/site-packages/metpy/calc/thermo.py:1396: RuntimeWarning: invalid value encountered in log\n",
      "  val = np.log(vapor_pressure / mpconsts.nounit.sat_pressure_0c)\n"
     ]
    },
    {
     "name": "stdout",
     "output_type": "stream",
     "text": [
      "sfno 2024-03-27T00\n",
      "/work/FAC/FGSE/IDYST/tbeucler/default/raw_data/ECMWF_AI/sfno/pl_2024-03-27_12:00:00.nc\n"
     ]
    },
    {
     "name": "stderr",
     "output_type": "stream",
     "text": [
      "/work/FAC/FGSE/IDYST/tbeucler/default/mfeldman/miniforge3/envs/wb/lib/python3.11/site-packages/metpy/calc/thermo.py:1396: RuntimeWarning: invalid value encountered in log\n",
      "  val = np.log(vapor_pressure / mpconsts.nounit.sat_pressure_0c)\n"
     ]
    },
    {
     "name": "stdout",
     "output_type": "stream",
     "text": [
      "sfno 2024-03-27T12\n",
      "/work/FAC/FGSE/IDYST/tbeucler/default/raw_data/ECMWF_AI/sfno/pl_2024-03-28_00:00:00.nc\n"
     ]
    },
    {
     "name": "stderr",
     "output_type": "stream",
     "text": [
      "/work/FAC/FGSE/IDYST/tbeucler/default/mfeldman/miniforge3/envs/wb/lib/python3.11/site-packages/metpy/calc/thermo.py:1396: RuntimeWarning: invalid value encountered in log\n",
      "  val = np.log(vapor_pressure / mpconsts.nounit.sat_pressure_0c)\n"
     ]
    },
    {
     "name": "stdout",
     "output_type": "stream",
     "text": [
      "sfno 2024-03-28T00\n",
      "/work/FAC/FGSE/IDYST/tbeucler/default/raw_data/ECMWF_AI/sfno/pl_2024-03-28_12:00:00.nc\n"
     ]
    },
    {
     "name": "stderr",
     "output_type": "stream",
     "text": [
      "/work/FAC/FGSE/IDYST/tbeucler/default/mfeldman/miniforge3/envs/wb/lib/python3.11/site-packages/metpy/calc/thermo.py:1396: RuntimeWarning: invalid value encountered in log\n",
      "  val = np.log(vapor_pressure / mpconsts.nounit.sat_pressure_0c)\n"
     ]
    },
    {
     "name": "stdout",
     "output_type": "stream",
     "text": [
      "sfno 2024-03-28T12\n",
      "/work/FAC/FGSE/IDYST/tbeucler/default/raw_data/ECMWF_AI/sfno/pl_2024-03-29_00:00:00.nc\n"
     ]
    },
    {
     "name": "stderr",
     "output_type": "stream",
     "text": [
      "/work/FAC/FGSE/IDYST/tbeucler/default/mfeldman/miniforge3/envs/wb/lib/python3.11/site-packages/metpy/calc/thermo.py:1396: RuntimeWarning: invalid value encountered in log\n",
      "  val = np.log(vapor_pressure / mpconsts.nounit.sat_pressure_0c)\n"
     ]
    },
    {
     "name": "stdout",
     "output_type": "stream",
     "text": [
      "sfno 2024-03-29T00\n",
      "/work/FAC/FGSE/IDYST/tbeucler/default/raw_data/ECMWF_AI/sfno/pl_2024-03-29_12:00:00.nc\n"
     ]
    },
    {
     "name": "stderr",
     "output_type": "stream",
     "text": [
      "/work/FAC/FGSE/IDYST/tbeucler/default/mfeldman/miniforge3/envs/wb/lib/python3.11/site-packages/metpy/calc/thermo.py:1396: RuntimeWarning: invalid value encountered in log\n",
      "  val = np.log(vapor_pressure / mpconsts.nounit.sat_pressure_0c)\n"
     ]
    },
    {
     "name": "stdout",
     "output_type": "stream",
     "text": [
      "sfno 2024-03-29T12\n",
      "/work/FAC/FGSE/IDYST/tbeucler/default/raw_data/ECMWF_AI/sfno/pl_2024-03-30_00:00:00.nc\n"
     ]
    },
    {
     "name": "stderr",
     "output_type": "stream",
     "text": [
      "/work/FAC/FGSE/IDYST/tbeucler/default/mfeldman/miniforge3/envs/wb/lib/python3.11/site-packages/metpy/calc/thermo.py:1396: RuntimeWarning: invalid value encountered in log\n",
      "  val = np.log(vapor_pressure / mpconsts.nounit.sat_pressure_0c)\n"
     ]
    },
    {
     "name": "stdout",
     "output_type": "stream",
     "text": [
      "sfno 2024-03-30T00\n",
      "/work/FAC/FGSE/IDYST/tbeucler/default/raw_data/ECMWF_AI/sfno/pl_2024-03-30_12:00:00.nc\n"
     ]
    },
    {
     "name": "stderr",
     "output_type": "stream",
     "text": [
      "/work/FAC/FGSE/IDYST/tbeucler/default/mfeldman/miniforge3/envs/wb/lib/python3.11/site-packages/metpy/calc/thermo.py:1396: RuntimeWarning: invalid value encountered in log\n",
      "  val = np.log(vapor_pressure / mpconsts.nounit.sat_pressure_0c)\n"
     ]
    },
    {
     "name": "stdout",
     "output_type": "stream",
     "text": [
      "sfno 2024-03-30T12\n",
      "/work/FAC/FGSE/IDYST/tbeucler/default/raw_data/ECMWF_AI/sfno/pl_2024-03-31_00:00:00.nc\n"
     ]
    },
    {
     "name": "stderr",
     "output_type": "stream",
     "text": [
      "/work/FAC/FGSE/IDYST/tbeucler/default/mfeldman/miniforge3/envs/wb/lib/python3.11/site-packages/metpy/calc/thermo.py:1396: RuntimeWarning: invalid value encountered in log\n",
      "  val = np.log(vapor_pressure / mpconsts.nounit.sat_pressure_0c)\n"
     ]
    },
    {
     "name": "stdout",
     "output_type": "stream",
     "text": [
      "sfno 2024-03-31T00\n",
      "/work/FAC/FGSE/IDYST/tbeucler/default/raw_data/ECMWF_AI/sfno/pl_2024-03-31_12:00:00.nc\n"
     ]
    },
    {
     "name": "stderr",
     "output_type": "stream",
     "text": [
      "/work/FAC/FGSE/IDYST/tbeucler/default/mfeldman/miniforge3/envs/wb/lib/python3.11/site-packages/metpy/calc/thermo.py:1396: RuntimeWarning: invalid value encountered in log\n",
      "  val = np.log(vapor_pressure / mpconsts.nounit.sat_pressure_0c)\n"
     ]
    },
    {
     "name": "stdout",
     "output_type": "stream",
     "text": [
      "sfno 2024-03-31T12\n",
      "/work/FAC/FGSE/IDYST/tbeucler/default/raw_data/ECMWF_AI/sfno/pl_2024-04-01_00:00:00.nc\n"
     ]
    },
    {
     "name": "stderr",
     "output_type": "stream",
     "text": [
      "/work/FAC/FGSE/IDYST/tbeucler/default/mfeldman/miniforge3/envs/wb/lib/python3.11/site-packages/metpy/calc/thermo.py:1396: RuntimeWarning: invalid value encountered in log\n",
      "  val = np.log(vapor_pressure / mpconsts.nounit.sat_pressure_0c)\n"
     ]
    },
    {
     "name": "stdout",
     "output_type": "stream",
     "text": [
      "sfno 2024-04-01T00\n",
      "/work/FAC/FGSE/IDYST/tbeucler/default/raw_data/ECMWF_AI/sfno/pl_2024-04-01_12:00:00.nc\n"
     ]
    },
    {
     "name": "stderr",
     "output_type": "stream",
     "text": [
      "/work/FAC/FGSE/IDYST/tbeucler/default/mfeldman/miniforge3/envs/wb/lib/python3.11/site-packages/metpy/calc/thermo.py:1396: RuntimeWarning: invalid value encountered in log\n",
      "  val = np.log(vapor_pressure / mpconsts.nounit.sat_pressure_0c)\n"
     ]
    },
    {
     "name": "stdout",
     "output_type": "stream",
     "text": [
      "sfno 2024-04-01T12\n",
      "/work/FAC/FGSE/IDYST/tbeucler/default/raw_data/ECMWF_AI/sfno/pl_2024-04-02_00:00:00.nc\n"
     ]
    },
    {
     "name": "stderr",
     "output_type": "stream",
     "text": [
      "/tmp/ipykernel_2661966/2212193301.py:41: UserWarning: Relative humidity >120%, ensure proper units.\n",
      "  dplevel=metpy.calc.dewpoint_from_relative_humidity(tlevel.values* units('K'), rlevel.values* units.percent)\n",
      "/work/FAC/FGSE/IDYST/tbeucler/default/mfeldman/miniforge3/envs/wb/lib/python3.11/site-packages/metpy/calc/thermo.py:1396: RuntimeWarning: invalid value encountered in log\n",
      "  val = np.log(vapor_pressure / mpconsts.nounit.sat_pressure_0c)\n"
     ]
    },
    {
     "name": "stdout",
     "output_type": "stream",
     "text": [
      "sfno 2024-04-02T00\n",
      "/work/FAC/FGSE/IDYST/tbeucler/default/raw_data/ECMWF_AI/sfno/pl_2024-04-02_12:00:00.nc\n"
     ]
    },
    {
     "name": "stderr",
     "output_type": "stream",
     "text": [
      "/tmp/ipykernel_2661966/2212193301.py:41: UserWarning: Relative humidity >120%, ensure proper units.\n",
      "  dplevel=metpy.calc.dewpoint_from_relative_humidity(tlevel.values* units('K'), rlevel.values* units.percent)\n",
      "/work/FAC/FGSE/IDYST/tbeucler/default/mfeldman/miniforge3/envs/wb/lib/python3.11/site-packages/metpy/calc/thermo.py:1396: RuntimeWarning: invalid value encountered in log\n",
      "  val = np.log(vapor_pressure / mpconsts.nounit.sat_pressure_0c)\n"
     ]
    },
    {
     "name": "stdout",
     "output_type": "stream",
     "text": [
      "sfno 2024-04-02T12\n",
      "/work/FAC/FGSE/IDYST/tbeucler/default/raw_data/ECMWF_AI/sfno/pl_2024-04-03_00:00:00.nc\n"
     ]
    },
    {
     "name": "stderr",
     "output_type": "stream",
     "text": [
      "/work/FAC/FGSE/IDYST/tbeucler/default/mfeldman/miniforge3/envs/wb/lib/python3.11/site-packages/metpy/calc/thermo.py:1396: RuntimeWarning: invalid value encountered in log\n",
      "  val = np.log(vapor_pressure / mpconsts.nounit.sat_pressure_0c)\n"
     ]
    },
    {
     "name": "stdout",
     "output_type": "stream",
     "text": [
      "sfno 2024-04-03T00\n",
      "/work/FAC/FGSE/IDYST/tbeucler/default/raw_data/ECMWF_AI/sfno/pl_2024-04-03_12:00:00.nc\n"
     ]
    },
    {
     "name": "stderr",
     "output_type": "stream",
     "text": [
      "/tmp/ipykernel_2661966/2212193301.py:41: UserWarning: Relative humidity >120%, ensure proper units.\n",
      "  dplevel=metpy.calc.dewpoint_from_relative_humidity(tlevel.values* units('K'), rlevel.values* units.percent)\n",
      "/work/FAC/FGSE/IDYST/tbeucler/default/mfeldman/miniforge3/envs/wb/lib/python3.11/site-packages/metpy/calc/thermo.py:1396: RuntimeWarning: invalid value encountered in log\n",
      "  val = np.log(vapor_pressure / mpconsts.nounit.sat_pressure_0c)\n"
     ]
    },
    {
     "name": "stdout",
     "output_type": "stream",
     "text": [
      "sfno 2024-04-03T12\n",
      "/work/FAC/FGSE/IDYST/tbeucler/default/raw_data/ECMWF_AI/fuxi/pl_2024-03-23_00:00:00.nc\n"
     ]
    },
    {
     "name": "stderr",
     "output_type": "stream",
     "text": [
      "/work/FAC/FGSE/IDYST/tbeucler/default/mfeldman/miniforge3/envs/wb/lib/python3.11/site-packages/metpy/calc/thermo.py:1396: RuntimeWarning: invalid value encountered in log\n",
      "  val = np.log(vapor_pressure / mpconsts.nounit.sat_pressure_0c)\n"
     ]
    },
    {
     "name": "stdout",
     "output_type": "stream",
     "text": [
      "fuxi 2024-03-23T00\n",
      "/work/FAC/FGSE/IDYST/tbeucler/default/raw_data/ECMWF_AI/fuxi/pl_2024-03-23_12:00:00.nc\n"
     ]
    },
    {
     "name": "stderr",
     "output_type": "stream",
     "text": [
      "/work/FAC/FGSE/IDYST/tbeucler/default/mfeldman/miniforge3/envs/wb/lib/python3.11/site-packages/metpy/calc/thermo.py:1396: RuntimeWarning: invalid value encountered in log\n",
      "  val = np.log(vapor_pressure / mpconsts.nounit.sat_pressure_0c)\n"
     ]
    },
    {
     "name": "stdout",
     "output_type": "stream",
     "text": [
      "fuxi 2024-03-23T12\n",
      "/work/FAC/FGSE/IDYST/tbeucler/default/raw_data/ECMWF_AI/fuxi/pl_2024-03-24_00:00:00.nc\n"
     ]
    },
    {
     "name": "stderr",
     "output_type": "stream",
     "text": [
      "/work/FAC/FGSE/IDYST/tbeucler/default/mfeldman/miniforge3/envs/wb/lib/python3.11/site-packages/metpy/calc/thermo.py:1396: RuntimeWarning: invalid value encountered in log\n",
      "  val = np.log(vapor_pressure / mpconsts.nounit.sat_pressure_0c)\n"
     ]
    },
    {
     "name": "stdout",
     "output_type": "stream",
     "text": [
      "fuxi 2024-03-24T00\n",
      "/work/FAC/FGSE/IDYST/tbeucler/default/raw_data/ECMWF_AI/fuxi/pl_2024-03-24_12:00:00.nc\n"
     ]
    },
    {
     "name": "stderr",
     "output_type": "stream",
     "text": [
      "/work/FAC/FGSE/IDYST/tbeucler/default/mfeldman/miniforge3/envs/wb/lib/python3.11/site-packages/metpy/calc/thermo.py:1396: RuntimeWarning: invalid value encountered in log\n",
      "  val = np.log(vapor_pressure / mpconsts.nounit.sat_pressure_0c)\n"
     ]
    },
    {
     "name": "stdout",
     "output_type": "stream",
     "text": [
      "fuxi 2024-03-24T12\n",
      "/work/FAC/FGSE/IDYST/tbeucler/default/raw_data/ECMWF_AI/fuxi/pl_2024-03-25_00:00:00.nc\n"
     ]
    },
    {
     "name": "stderr",
     "output_type": "stream",
     "text": [
      "/work/FAC/FGSE/IDYST/tbeucler/default/mfeldman/miniforge3/envs/wb/lib/python3.11/site-packages/metpy/calc/thermo.py:1396: RuntimeWarning: invalid value encountered in log\n",
      "  val = np.log(vapor_pressure / mpconsts.nounit.sat_pressure_0c)\n"
     ]
    },
    {
     "name": "stdout",
     "output_type": "stream",
     "text": [
      "fuxi 2024-03-25T00\n",
      "/work/FAC/FGSE/IDYST/tbeucler/default/raw_data/ECMWF_AI/fuxi/pl_2024-03-25_12:00:00.nc\n"
     ]
    },
    {
     "name": "stderr",
     "output_type": "stream",
     "text": [
      "/work/FAC/FGSE/IDYST/tbeucler/default/mfeldman/miniforge3/envs/wb/lib/python3.11/site-packages/metpy/calc/thermo.py:1396: RuntimeWarning: invalid value encountered in log\n",
      "  val = np.log(vapor_pressure / mpconsts.nounit.sat_pressure_0c)\n"
     ]
    },
    {
     "name": "stdout",
     "output_type": "stream",
     "text": [
      "fuxi 2024-03-25T12\n",
      "/work/FAC/FGSE/IDYST/tbeucler/default/raw_data/ECMWF_AI/fuxi/pl_2024-03-26_00:00:00.nc\n"
     ]
    },
    {
     "name": "stderr",
     "output_type": "stream",
     "text": [
      "/tmp/ipykernel_2661966/2212193301.py:41: UserWarning: Relative humidity >120%, ensure proper units.\n",
      "  dplevel=metpy.calc.dewpoint_from_relative_humidity(tlevel.values* units('K'), rlevel.values* units.percent)\n",
      "/work/FAC/FGSE/IDYST/tbeucler/default/mfeldman/miniforge3/envs/wb/lib/python3.11/site-packages/metpy/calc/thermo.py:1396: RuntimeWarning: invalid value encountered in log\n",
      "  val = np.log(vapor_pressure / mpconsts.nounit.sat_pressure_0c)\n"
     ]
    },
    {
     "name": "stdout",
     "output_type": "stream",
     "text": [
      "fuxi 2024-03-26T00\n",
      "/work/FAC/FGSE/IDYST/tbeucler/default/raw_data/ECMWF_AI/fuxi/pl_2024-03-26_12:00:00.nc\n"
     ]
    },
    {
     "name": "stderr",
     "output_type": "stream",
     "text": [
      "/tmp/ipykernel_2661966/2212193301.py:41: UserWarning: Relative humidity >120%, ensure proper units.\n",
      "  dplevel=metpy.calc.dewpoint_from_relative_humidity(tlevel.values* units('K'), rlevel.values* units.percent)\n",
      "/work/FAC/FGSE/IDYST/tbeucler/default/mfeldman/miniforge3/envs/wb/lib/python3.11/site-packages/metpy/calc/thermo.py:1396: RuntimeWarning: invalid value encountered in log\n",
      "  val = np.log(vapor_pressure / mpconsts.nounit.sat_pressure_0c)\n"
     ]
    },
    {
     "name": "stdout",
     "output_type": "stream",
     "text": [
      "fuxi 2024-03-26T12\n",
      "/work/FAC/FGSE/IDYST/tbeucler/default/raw_data/ECMWF_AI/fuxi/pl_2024-03-27_00:00:00.nc\n"
     ]
    },
    {
     "name": "stderr",
     "output_type": "stream",
     "text": [
      "/work/FAC/FGSE/IDYST/tbeucler/default/mfeldman/miniforge3/envs/wb/lib/python3.11/site-packages/metpy/calc/thermo.py:1396: RuntimeWarning: invalid value encountered in log\n",
      "  val = np.log(vapor_pressure / mpconsts.nounit.sat_pressure_0c)\n"
     ]
    },
    {
     "name": "stdout",
     "output_type": "stream",
     "text": [
      "fuxi 2024-03-27T00\n",
      "/work/FAC/FGSE/IDYST/tbeucler/default/raw_data/ECMWF_AI/fuxi/pl_2024-03-27_12:00:00.nc\n"
     ]
    },
    {
     "name": "stderr",
     "output_type": "stream",
     "text": [
      "/work/FAC/FGSE/IDYST/tbeucler/default/mfeldman/miniforge3/envs/wb/lib/python3.11/site-packages/metpy/calc/thermo.py:1396: RuntimeWarning: invalid value encountered in log\n",
      "  val = np.log(vapor_pressure / mpconsts.nounit.sat_pressure_0c)\n"
     ]
    },
    {
     "name": "stdout",
     "output_type": "stream",
     "text": [
      "fuxi 2024-03-27T12\n",
      "/work/FAC/FGSE/IDYST/tbeucler/default/raw_data/ECMWF_AI/fuxi/pl_2024-03-28_00:00:00.nc\n"
     ]
    },
    {
     "name": "stderr",
     "output_type": "stream",
     "text": [
      "/tmp/ipykernel_2661966/2212193301.py:41: UserWarning: Relative humidity >120%, ensure proper units.\n",
      "  dplevel=metpy.calc.dewpoint_from_relative_humidity(tlevel.values* units('K'), rlevel.values* units.percent)\n",
      "/work/FAC/FGSE/IDYST/tbeucler/default/mfeldman/miniforge3/envs/wb/lib/python3.11/site-packages/metpy/calc/thermo.py:1396: RuntimeWarning: invalid value encountered in log\n",
      "  val = np.log(vapor_pressure / mpconsts.nounit.sat_pressure_0c)\n"
     ]
    },
    {
     "name": "stdout",
     "output_type": "stream",
     "text": [
      "fuxi 2024-03-28T00\n",
      "/work/FAC/FGSE/IDYST/tbeucler/default/raw_data/ECMWF_AI/fuxi/pl_2024-03-28_12:00:00.nc\n"
     ]
    },
    {
     "name": "stderr",
     "output_type": "stream",
     "text": [
      "/tmp/ipykernel_2661966/2212193301.py:41: UserWarning: Relative humidity >120%, ensure proper units.\n",
      "  dplevel=metpy.calc.dewpoint_from_relative_humidity(tlevel.values* units('K'), rlevel.values* units.percent)\n",
      "/work/FAC/FGSE/IDYST/tbeucler/default/mfeldman/miniforge3/envs/wb/lib/python3.11/site-packages/metpy/calc/thermo.py:1396: RuntimeWarning: invalid value encountered in log\n",
      "  val = np.log(vapor_pressure / mpconsts.nounit.sat_pressure_0c)\n"
     ]
    },
    {
     "name": "stdout",
     "output_type": "stream",
     "text": [
      "fuxi 2024-03-28T12\n",
      "/work/FAC/FGSE/IDYST/tbeucler/default/raw_data/ECMWF_AI/fuxi/pl_2024-03-29_00:00:00.nc\n"
     ]
    },
    {
     "name": "stderr",
     "output_type": "stream",
     "text": [
      "/tmp/ipykernel_2661966/2212193301.py:41: UserWarning: Relative humidity >120%, ensure proper units.\n",
      "  dplevel=metpy.calc.dewpoint_from_relative_humidity(tlevel.values* units('K'), rlevel.values* units.percent)\n",
      "/work/FAC/FGSE/IDYST/tbeucler/default/mfeldman/miniforge3/envs/wb/lib/python3.11/site-packages/metpy/calc/thermo.py:1396: RuntimeWarning: invalid value encountered in log\n",
      "  val = np.log(vapor_pressure / mpconsts.nounit.sat_pressure_0c)\n"
     ]
    },
    {
     "name": "stdout",
     "output_type": "stream",
     "text": [
      "fuxi 2024-03-29T00\n",
      "/work/FAC/FGSE/IDYST/tbeucler/default/raw_data/ECMWF_AI/fuxi/pl_2024-03-29_12:00:00.nc\n"
     ]
    },
    {
     "name": "stderr",
     "output_type": "stream",
     "text": [
      "/tmp/ipykernel_2661966/2212193301.py:41: UserWarning: Relative humidity >120%, ensure proper units.\n",
      "  dplevel=metpy.calc.dewpoint_from_relative_humidity(tlevel.values* units('K'), rlevel.values* units.percent)\n",
      "/work/FAC/FGSE/IDYST/tbeucler/default/mfeldman/miniforge3/envs/wb/lib/python3.11/site-packages/metpy/calc/thermo.py:1396: RuntimeWarning: invalid value encountered in log\n",
      "  val = np.log(vapor_pressure / mpconsts.nounit.sat_pressure_0c)\n"
     ]
    },
    {
     "name": "stdout",
     "output_type": "stream",
     "text": [
      "fuxi 2024-03-29T12\n",
      "/work/FAC/FGSE/IDYST/tbeucler/default/raw_data/ECMWF_AI/fuxi/pl_2024-03-30_00:00:00.nc\n"
     ]
    },
    {
     "name": "stderr",
     "output_type": "stream",
     "text": [
      "/tmp/ipykernel_2661966/2212193301.py:41: UserWarning: Relative humidity >120%, ensure proper units.\n",
      "  dplevel=metpy.calc.dewpoint_from_relative_humidity(tlevel.values* units('K'), rlevel.values* units.percent)\n",
      "/work/FAC/FGSE/IDYST/tbeucler/default/mfeldman/miniforge3/envs/wb/lib/python3.11/site-packages/metpy/calc/thermo.py:1396: RuntimeWarning: invalid value encountered in log\n",
      "  val = np.log(vapor_pressure / mpconsts.nounit.sat_pressure_0c)\n"
     ]
    },
    {
     "name": "stdout",
     "output_type": "stream",
     "text": [
      "fuxi 2024-03-30T00\n",
      "/work/FAC/FGSE/IDYST/tbeucler/default/raw_data/ECMWF_AI/fuxi/pl_2024-03-30_12:00:00.nc\n"
     ]
    },
    {
     "name": "stderr",
     "output_type": "stream",
     "text": [
      "/work/FAC/FGSE/IDYST/tbeucler/default/mfeldman/miniforge3/envs/wb/lib/python3.11/site-packages/metpy/calc/thermo.py:1396: RuntimeWarning: invalid value encountered in log\n",
      "  val = np.log(vapor_pressure / mpconsts.nounit.sat_pressure_0c)\n"
     ]
    },
    {
     "name": "stdout",
     "output_type": "stream",
     "text": [
      "fuxi 2024-03-30T12\n",
      "/work/FAC/FGSE/IDYST/tbeucler/default/raw_data/ECMWF_AI/fuxi/pl_2024-03-31_00:00:00.nc\n"
     ]
    },
    {
     "name": "stderr",
     "output_type": "stream",
     "text": [
      "/work/FAC/FGSE/IDYST/tbeucler/default/mfeldman/miniforge3/envs/wb/lib/python3.11/site-packages/metpy/calc/thermo.py:1396: RuntimeWarning: invalid value encountered in log\n",
      "  val = np.log(vapor_pressure / mpconsts.nounit.sat_pressure_0c)\n"
     ]
    },
    {
     "name": "stdout",
     "output_type": "stream",
     "text": [
      "fuxi 2024-03-31T00\n",
      "/work/FAC/FGSE/IDYST/tbeucler/default/raw_data/ECMWF_AI/fuxi/pl_2024-03-31_12:00:00.nc\n"
     ]
    },
    {
     "name": "stderr",
     "output_type": "stream",
     "text": [
      "/work/FAC/FGSE/IDYST/tbeucler/default/mfeldman/miniforge3/envs/wb/lib/python3.11/site-packages/metpy/calc/thermo.py:1396: RuntimeWarning: invalid value encountered in log\n",
      "  val = np.log(vapor_pressure / mpconsts.nounit.sat_pressure_0c)\n"
     ]
    },
    {
     "name": "stdout",
     "output_type": "stream",
     "text": [
      "fuxi 2024-03-31T12\n",
      "/work/FAC/FGSE/IDYST/tbeucler/default/raw_data/ECMWF_AI/fuxi/pl_2024-04-01_00:00:00.nc\n"
     ]
    },
    {
     "name": "stderr",
     "output_type": "stream",
     "text": [
      "/tmp/ipykernel_2661966/2212193301.py:41: UserWarning: Relative humidity >120%, ensure proper units.\n",
      "  dplevel=metpy.calc.dewpoint_from_relative_humidity(tlevel.values* units('K'), rlevel.values* units.percent)\n",
      "/work/FAC/FGSE/IDYST/tbeucler/default/mfeldman/miniforge3/envs/wb/lib/python3.11/site-packages/metpy/calc/thermo.py:1396: RuntimeWarning: invalid value encountered in log\n",
      "  val = np.log(vapor_pressure / mpconsts.nounit.sat_pressure_0c)\n"
     ]
    },
    {
     "name": "stdout",
     "output_type": "stream",
     "text": [
      "fuxi 2024-04-01T00\n",
      "/work/FAC/FGSE/IDYST/tbeucler/default/raw_data/ECMWF_AI/fuxi/pl_2024-04-01_12:00:00.nc\n"
     ]
    },
    {
     "name": "stderr",
     "output_type": "stream",
     "text": [
      "/work/FAC/FGSE/IDYST/tbeucler/default/mfeldman/miniforge3/envs/wb/lib/python3.11/site-packages/metpy/calc/thermo.py:1396: RuntimeWarning: invalid value encountered in log\n",
      "  val = np.log(vapor_pressure / mpconsts.nounit.sat_pressure_0c)\n"
     ]
    },
    {
     "name": "stdout",
     "output_type": "stream",
     "text": [
      "fuxi 2024-04-01T12\n",
      "/work/FAC/FGSE/IDYST/tbeucler/default/raw_data/ECMWF_AI/fuxi/pl_2024-04-02_00:00:00.nc\n"
     ]
    },
    {
     "name": "stderr",
     "output_type": "stream",
     "text": [
      "/tmp/ipykernel_2661966/2212193301.py:41: UserWarning: Relative humidity >120%, ensure proper units.\n",
      "  dplevel=metpy.calc.dewpoint_from_relative_humidity(tlevel.values* units('K'), rlevel.values* units.percent)\n",
      "/work/FAC/FGSE/IDYST/tbeucler/default/mfeldman/miniforge3/envs/wb/lib/python3.11/site-packages/metpy/calc/thermo.py:1396: RuntimeWarning: invalid value encountered in log\n",
      "  val = np.log(vapor_pressure / mpconsts.nounit.sat_pressure_0c)\n"
     ]
    },
    {
     "name": "stdout",
     "output_type": "stream",
     "text": [
      "fuxi 2024-04-02T00\n",
      "/work/FAC/FGSE/IDYST/tbeucler/default/raw_data/ECMWF_AI/fuxi/pl_2024-04-02_12:00:00.nc\n"
     ]
    },
    {
     "name": "stderr",
     "output_type": "stream",
     "text": [
      "/tmp/ipykernel_2661966/2212193301.py:41: UserWarning: Relative humidity >120%, ensure proper units.\n",
      "  dplevel=metpy.calc.dewpoint_from_relative_humidity(tlevel.values* units('K'), rlevel.values* units.percent)\n",
      "/work/FAC/FGSE/IDYST/tbeucler/default/mfeldman/miniforge3/envs/wb/lib/python3.11/site-packages/metpy/calc/thermo.py:1396: RuntimeWarning: invalid value encountered in log\n",
      "  val = np.log(vapor_pressure / mpconsts.nounit.sat_pressure_0c)\n"
     ]
    },
    {
     "name": "stdout",
     "output_type": "stream",
     "text": [
      "fuxi 2024-04-02T12\n",
      "/work/FAC/FGSE/IDYST/tbeucler/default/raw_data/ECMWF_AI/fuxi/pl_2024-04-03_00:00:00.nc\n"
     ]
    },
    {
     "name": "stderr",
     "output_type": "stream",
     "text": [
      "/tmp/ipykernel_2661966/2212193301.py:41: UserWarning: Relative humidity >120%, ensure proper units.\n",
      "  dplevel=metpy.calc.dewpoint_from_relative_humidity(tlevel.values* units('K'), rlevel.values* units.percent)\n",
      "/work/FAC/FGSE/IDYST/tbeucler/default/mfeldman/miniforge3/envs/wb/lib/python3.11/site-packages/metpy/calc/thermo.py:1396: RuntimeWarning: invalid value encountered in log\n",
      "  val = np.log(vapor_pressure / mpconsts.nounit.sat_pressure_0c)\n"
     ]
    },
    {
     "name": "stdout",
     "output_type": "stream",
     "text": [
      "fuxi 2024-04-03T00\n",
      "/work/FAC/FGSE/IDYST/tbeucler/default/raw_data/ECMWF_AI/fuxi/pl_2024-04-03_12:00:00.nc\n"
     ]
    },
    {
     "name": "stderr",
     "output_type": "stream",
     "text": [
      "/tmp/ipykernel_2661966/2212193301.py:41: UserWarning: Relative humidity >120%, ensure proper units.\n",
      "  dplevel=metpy.calc.dewpoint_from_relative_humidity(tlevel.values* units('K'), rlevel.values* units.percent)\n",
      "/work/FAC/FGSE/IDYST/tbeucler/default/mfeldman/miniforge3/envs/wb/lib/python3.11/site-packages/metpy/calc/thermo.py:1396: RuntimeWarning: invalid value encountered in log\n",
      "  val = np.log(vapor_pressure / mpconsts.nounit.sat_pressure_0c)\n"
     ]
    },
    {
     "name": "stdout",
     "output_type": "stream",
     "text": [
      "fuxi 2024-04-03T12\n"
     ]
    }
   ],
   "source": [
    "models2=['sfno','fuxi']\n",
    "year=2024; month=4; day=np.arange(2,4,1); days=day[0]-np.arange(1,10)\n",
    "print(days)\n",
    "latslice2=slice(20,50)\n",
    "for model in models2[:]:\n",
    "    files_pl=sorted(glob(datapath+model+'/pl*.nc'))\n",
    "    files_sfc=sorted(glob(datapath+model+'/sfc*.nc'))\n",
    "    for nn in range(len(files_pl))[:]:\n",
    "        st=datetime.datetime(2024,4,2,0)\n",
    "        et=datetime.datetime(2024,4,3,23)\n",
    "\n",
    "\n",
    "        print(files_pl[nn])\n",
    "        xr_pl=xr.open_dataset(files_pl[nn]).sortby('latitude')\n",
    "        init=np.datetime_as_string(xr_pl.time[0].values,'h')\n",
    "        \n",
    "        xr_pl=xr_pl.sel(time=xr_pl.time.dt.year.isin([year]))\n",
    "        xr_pl=xr_pl.sel(time=xr_pl.time.dt.month.isin([month]))\n",
    "        xr_pl=xr_pl.sel(time=xr_pl.time.dt.day.isin([day]))\n",
    "        \n",
    "        xr_sfc=xr.open_dataset(files_sfc[nn]).sortby('latitude')\n",
    "        xr_sfc=xr_sfc.sel(time=xr_sfc.time.dt.year.isin([year]))\n",
    "        xr_sfc=xr_sfc.sel(time=xr_sfc.time.dt.month.isin([month]))\n",
    "        xr_sfc=xr_sfc.sel(time=xr_sfc.time.dt.day.isin([day]))\n",
    "\n",
    "\n",
    "        xr_pl = xr_pl.sortby('level', ascending=False)\n",
    "        \n",
    "        plevel=copy.deepcopy(xr_pl.level.values)\n",
    "        \n",
    "        tlevel=xr_pl.t\n",
    "        rlevel=xr_pl.r\n",
    "        plevel_dim=np.ones([1,len(plevel),1,1])\n",
    "        zlevel=xr_pl.z\n",
    "        ulevel=xr_pl.u\n",
    "        vlevel=xr_pl.v\n",
    "        for n1 in range(len(plevel.data)):\n",
    "            plevel_dim[0,n1,0,0]=plevel[n1]\n",
    "        plevel_exp=(tlevel/tlevel)*plevel_dim\n",
    "\n",
    "        dplevel=metpy.calc.dewpoint_from_relative_humidity(tlevel.values* units('K'), rlevel.values* units.percent)\n",
    "        qlevel=metpy.calc.specific_humidity_from_dewpoint(plevel_exp.values* units('hPa'), dplevel).magnitude\n",
    "        \n",
    "        psurf=xr_sfc.msl\n",
    "        tsurf=xr_sfc.t2m\n",
    "        zsurf = zsurf_c.expand_dims(dim={\"time\": psurf.time}, axis=0)\n",
    "        # zsurf = zsurf.expand_dims(dim={\"time\": psurf.time}, axis=1)\n",
    "        \n",
    "        ps=psurf/100\n",
    "        zs=zsurf/9.81\n",
    "        zl=zlevel/9.81\n",
    "\n",
    "        mod_inst=wrf.cape_2d(pres_hpa=plevel_exp, tkel=tlevel, qv=qlevel, height=zl, terrain=zs, psfc_hpa=psurf, ter_follow=False)\n",
    "        mod_inst=mod_inst.assign_coords(longitude=psurf.longitude.values);\n",
    "        mod_inst=mod_inst.assign_coords(latitude=psurf.latitude.values);\n",
    "        mod_inst=mod_inst.assign_coords(time=psurf.time.values)\n",
    "\n",
    "        du_01=ulevel.sel(level=850)-xr_sfc.u10; dv_01=vlevel.sel(level=850)-xr_sfc.v10\n",
    "        du_03=ulevel.sel(level=700)-xr_sfc.u10; dv_03=vlevel.sel(level=700)-xr_sfc.v10\n",
    "        du_06=ulevel.sel(level=500)-xr_sfc.u10; dv_06=vlevel.sel(level=500)-xr_sfc.v10\n",
    "        \n",
    "        bs_01=( du_01**2 + dv_01**2 )**0.5\n",
    "        bs_03=( du_03**2 + dv_03**2 )**0.5\n",
    "        bs_06=( du_06**2 + dv_06**2 )**0.5\n",
    "        \n",
    "        du_01=du_01.to_dataset(name='du_01')\n",
    "        dv_01=dv_01.to_dataset(name='dv_01')\n",
    "        bs_01=bs_01.to_dataset(name='bs_01')\n",
    "        du_03=du_03.to_dataset(name='du_03')\n",
    "        dv_03=dv_03.to_dataset(name='dv_03')\n",
    "        bs_03=bs_03.to_dataset(name='bs_03')\n",
    "        du_06=du_06.to_dataset(name='du_06')\n",
    "        dv_06=dv_06.to_dataset(name='dv_06')\n",
    "        bs_06=bs_06.to_dataset(name='bs_06')\n",
    "        \n",
    "        mod_params=xr.merge([du_01,dv_01,bs_01,du_03,dv_03,bs_03,du_06,dv_06,bs_06],compat='override')\n",
    "        #mod_params=mod_params.squeeze(dim='level')\n",
    "        mod_params['cape']=mod_inst.sel(mcape_mcin_lcl_lfc='mcape')\n",
    "        mod_params['cin']=mod_inst.sel(mcape_mcin_lcl_lfc='mcin')\n",
    "        mod_params['lcl']=mod_inst.sel(mcape_mcin_lcl_lfc='lcl')\n",
    "        mod_params['lfc']=mod_inst.sel(mcape_mcin_lcl_lfc='lfc')#.squeeze(dim='mcape_mcin_lcl_lfc')\n",
    "        print(model,init)\n",
    "        mod_params.to_netcdf(datapath+'postproc/'+model+'_'+init+'.nc')\n",
    "\n",
    "        cm=plt.cm.Reds\n",
    "        cm.set_under(color=\"grey\")\n",
    "        cm.set_bad(color=\"grey\")\n",
    "        p = mod_params.cape.sel(latitude=slice(20,40),longitude=slice(260,290)).plot(x=\"longitude\", y=\"latitude\", col=\"time\", col_wrap=4,transform=ccrs.PlateCarree(), subplot_kws={'projection':ccrs.PlateCarree()}\\\n",
    "                        ,cmap=cm,vmin=200,vmax=1500,levels=np.arange(200,1500,100),extend='both')# col_wrap=4)\n",
    "        for ax in p.axs.flat:\n",
    "                        ax.coastlines()\n",
    "        f=p.fig\n",
    "        f.savefig(figpath+model+'_'+init+'_cape.png',  dpi=300, bbox_inches='tight')\n",
    "        plt.close()\n",
    "        \n",
    "        cm=plt.cm.Reds\n",
    "        cm.set_under(color=\"grey\")\n",
    "        cm.set_bad(color=\"grey\")\n",
    "        p = mod_params.bs_06.sel(latitude=slice(20,40),longitude=slice(260,290)).plot(x=\"longitude\", y=\"latitude\", col=\"time\", col_wrap=4,transform=ccrs.PlateCarree(), subplot_kws={'projection':ccrs.PlateCarree()}\\\n",
    "                        ,cmap=cm,vmin=5,vmax=30,levels=np.arange(5,32,2),extend='both')# col_wrap=4)\n",
    "        for ax in p.axs.flat:\n",
    "                        ax.coastlines()\n",
    "        f=p.fig\n",
    "        f.savefig(figpath+model+'_'+init+'_bs_06.png',  dpi=300, bbox_inches='tight')\n",
    "        plt.close()\n",
    "        \n",
    "\n"
   ]
  },
  {
   "cell_type": "code",
   "execution_count": null,
   "id": "9147193e-e7dc-4635-95c8-ce8d58272854",
   "metadata": {},
   "outputs": [],
   "source": []
  }
 ],
 "metadata": {
  "kernelspec": {
   "display_name": "Python 3 (ipykernel)",
   "language": "python",
   "name": "python3"
  },
  "language_info": {
   "codemirror_mode": {
    "name": "ipython",
    "version": 3
   },
   "file_extension": ".py",
   "mimetype": "text/x-python",
   "name": "python",
   "nbconvert_exporter": "python",
   "pygments_lexer": "ipython3",
   "version": "3.11.7"
  }
 },
 "nbformat": 4,
 "nbformat_minor": 5
}
