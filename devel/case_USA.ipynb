{
 "cells": [
  {
   "cell_type": "code",
   "execution_count": 1,
   "id": "e149c70d-aad4-4634-967c-0e8e51307bc7",
   "metadata": {},
   "outputs": [
    {
     "name": "stdout",
     "output_type": "stream",
     "text": [
      "modules loaded\n"
     ]
    }
   ],
   "source": [
    "import sys, os\n",
    "import pandas as pd\n",
    "import xarray as xr\n",
    "import matplotlib.pyplot as plt\n",
    "import numpy as np\n",
    "import numpy.matlib\n",
    "#import weatherbench2 as wb\n",
    "#import metpy\n",
    "import copy\n",
    "import wrf\n",
    "import time\n",
    "#from metpy.units import units\n",
    "import cartopy.crs as ccrs\n",
    "print('modules loaded')\n",
    "import datetime\n",
    "import glob\n",
    "import datetime as dt\n",
    "import seaborn as sns"
   ]
  },
  {
   "cell_type": "code",
   "execution_count": 68,
   "id": "7d5c609c-a967-47b4-85e7-0a0104b94359",
   "metadata": {},
   "outputs": [
    {
     "name": "stdout",
     "output_type": "stream",
     "text": [
      "2020041200\n"
     ]
    }
   ],
   "source": [
    "year=2020; month=4; day=np.arange(12,14,1); days=day[0]-np.arange(1,10)\n",
    "#year=2020; month=5; day=23; days=day-np.arange(1,10)\n",
    "figpath='/users/mfeldman/figs/'\n",
    "#EVENT SELECTION ERA5\n",
    "era5='gs://weatherbench2/datasets/era5/1959-2022-6h-1440x721.zarr'\n",
    "xr_era5=xr.open_zarr(era5)\n",
    "xr_era5=xr_era5.sel(time=xr_era5.time.dt.year.isin([year]))\n",
    "xr_era5=xr_era5.sel(time=xr_era5.time.dt.month.isin([month]))#np.arange(3,10)))\n",
    "xr_era5=xr_era5.sel(time=xr_era5.time.dt.day.isin([day]),latitude=slice(50,20),longitude=slice(250,300))\n",
    "zsurf_c=xr_era5['geopotential_at_surface']\n",
    "init=xr_era5.time[0].dt.strftime('%Y%m%d%H').values; print(init)\n",
    "plevel=copy.deepcopy(xr_era5.level.values)\n",
    "        \n",
    "xr_era5['pressure'] = (('level'), plevel)\n",
    "plevel=xr_era5.pressure\n",
    "xr_dataset = xr_era5.assign_coords(level=np.arange(len(plevel)))\n",
    "tlevel=xr_era5.temperature\n",
    "qlevel=xr_era5.specific_humidity\n",
    "plevel_dim=np.ones([1,len(plevel),1,1])\n",
    "zlevel=xr_era5.geopotential\n",
    "ulevel=xr_era5.u_component_of_wind\n",
    "vlevel=xr_era5.v_component_of_wind\n",
    "for n1 in range(len(plevel.data)):\n",
    "    plevel_dim[0,n1,0,0]=plevel[n1]\n",
    "plevel_exp=(tlevel/tlevel)*plevel_dim\n",
    "psurf=xr_era5.mean_sea_level_pressure\n",
    "tsurf=xr_era5['2m_temperature']\n",
    "zsurf = zsurf_c.expand_dims(dim={\"time\": psurf.time}, axis=0)\n",
    "\n",
    "ps_era=psurf/100\n",
    "zs=zsurf/9.81\n",
    "zl=zlevel/9.81"
   ]
  },
  {
   "cell_type": "code",
   "execution_count": 69,
   "id": "e55c4e06-dbbd-42f8-93b1-a0762054a8d1",
   "metadata": {},
   "outputs": [],
   "source": [
    "era_cape=wrf.cape_2d(pres_hpa=plevel_exp, tkel=tlevel, qv=qlevel, height=zl, terrain=zs, psfc_hpa=ps_era, ter_follow=False)\n",
    "era_srh=wrf.srhel(u=ulevel, v=vlevel, height=zl, terrain=zs, top=3000.0)"
   ]
  },
  {
   "cell_type": "code",
   "execution_count": 70,
   "id": "1c9a9912-5ca8-43f4-835c-8814b044490a",
   "metadata": {},
   "outputs": [
    {
     "name": "stderr",
     "output_type": "stream",
     "text": [
      "/tmp/ipykernel_3765897/1113614928.py:20: UserWarning: set_ticklabels() should only be used with a fixed number of ticks, i.e. after set_ticks() or using a FixedLocator.\n",
      "  ax.set_xticklabels(xr_era5.time.dt.strftime('%Y%m%d%H').values,rotation=90)\n"
     ]
    }
   ],
   "source": [
    "era_cape=era_cape.assign_coords(longitude=psurf.longitude.values);\n",
    "era_cape=era_cape.assign_coords(latitude=psurf.latitude.values);\n",
    "era_cape=era_cape.assign_coords(time=psurf.time.values)\n",
    "cm=plt.cm.Reds\n",
    "cm.set_bad(color=\"grey\")\n",
    "cm.set_under(color=\"grey\")\n",
    "p = era_cape.sel(mcape_mcin_lcl_lfc='mcape',latitude=slice(40,20),longitude=slice(260,290)).plot(x=\"longitude\", y=\"latitude\", col=\"time\", col_wrap=4,transform=ccrs.PlateCarree(), subplot_kws={'projection':ccrs.PlateCarree()}\\\n",
    "                ,cmap=cm,vmin=200,vmax=3000,levels=np.arange(200,3000,100),extend='both')# col_wrap=4)\n",
    "for ax in p.axs.flat:\n",
    "                ax.coastlines()\n",
    "f=p.fig\n",
    "f.savefig(figpath+init+'_era5_cape.png',  dpi=300, bbox_inches='tight')\n",
    "plt.close()\n",
    "\n",
    "cape_sel= era_cape.sel(mcape_mcin_lcl_lfc='mcape',latitude=slice(40,20),longitude=slice(260,290)).values\n",
    "cape_sel=cape_sel.reshape(cape_sel.shape[1]*cape_sel.shape[2],cape_sel.shape[0])\n",
    "cape_sel[cape_sel<200]=np.nan\n",
    "ax = sns.violinplot(cape_sel,color='grey',density_norm='count',common_norm=True)\n",
    "ax.set(ylim=(0,3500))\n",
    "ax.set_xticklabels(xr_era5.time.dt.strftime('%Y%m%d%H').values,rotation=90)\n",
    "plt.title('ERA5 CAPE')\n",
    "plt.ylabel('[J kg$^{-1}$]')\n",
    "plt.savefig(figpath+init+'_era5_capedist.png',  dpi=300, bbox_inches='tight')\n",
    "plt.close()\n"
   ]
  },
  {
   "cell_type": "code",
   "execution_count": 63,
   "id": "386abcf5-be60-41a5-802d-32ccaadd406e",
   "metadata": {},
   "outputs": [
    {
     "data": {
      "text/plain": [
       "array(['2020041200', '2020041206', '2020041212', '2020041218',\n",
       "       '2020041300', '2020041306', '2020041312', '2020041318'],\n",
       "      dtype=object)"
      ]
     },
     "execution_count": 63,
     "metadata": {},
     "output_type": "execute_result"
    }
   ],
   "source": [
    "xr_era5.time.dt.strftime('%Y%m%d%H').values"
   ]
  },
  {
   "cell_type": "code",
   "execution_count": 71,
   "id": "b3973fc7-4450-4f93-b9c6-303750819285",
   "metadata": {},
   "outputs": [],
   "source": [
    "era_srh=era_srh.assign_coords(longitude=psurf.longitude.values);\n",
    "era_srh=era_srh.assign_coords(latitude=psurf.latitude.values);\n",
    "era_srh=era_srh.assign_coords(time=psurf.time.values)\n",
    "\n",
    "cm=plt.cm.Reds\n",
    "cm.set_under(color=\"grey\")\n",
    "p = era_srh.sel(latitude=slice(50,20),longitude=slice(250,300)).plot(x=\"longitude\", y=\"latitude\", col=\"time\", col_wrap=4,transform=ccrs.PlateCarree(), subplot_kws={'projection':ccrs.PlateCarree()}\\\n",
    "                ,cmap=cm,vmin=0,vmax=1000,levels=np.arange(0,1000,50),extend='both')# col_wrap=4)\n",
    "for ax in p.axs.flat:\n",
    "                ax.coastlines()\n",
    "f=p.fig\n",
    "f.savefig(figpath+init+'_era5_srh.png',  dpi=300, bbox_inches='tight')\n",
    "plt.close()"
   ]
  },
  {
   "cell_type": "code",
   "execution_count": 4,
   "id": "565288d9-c22b-47ca-a530-feada2b2515f",
   "metadata": {},
   "outputs": [],
   "source": [
    "era_cape=era_cape.assign_coords(longitude=psurf.longitude.values);\n",
    "era_cape=era_cape.assign_coords(latitude=psurf.latitude.values); era_cape=era_cape.assign_coords(time=psurf.time.values)\n",
    "era_srh=era_srh.assign_coords(longitude=psurf.longitude.values);\n",
    "era_srh=era_srh.assign_coords(latitude=psurf.latitude.values); era_srh=era_srh.assign_coords(time=psurf.time.values)"
   ]
  },
  {
   "cell_type": "code",
   "execution_count": 73,
   "id": "8def666f-ad64-4522-9c85-2c6c688df5f5",
   "metadata": {},
   "outputs": [
    {
     "name": "stdout",
     "output_type": "stream",
     "text": [
      "2020041200\n",
      "FrozenMappingWarningOnValuesAccess({'time': 8, 'latitude': 121, 'longitude': 201, 'level': 13})\n"
     ]
    }
   ],
   "source": [
    "ifs_init='gs://weatherbench2/datasets/hres_t0/2016-2022-6h-1440x721.zarr'\n",
    "xr_model=xr.open_zarr(ifs_init)\n",
    "xr_init=xr_model.sel(time=xr_model.time.dt.year.isin([year]))\n",
    "xr_init=xr_init.sel(time=xr_init.time.dt.month.isin([month]))#np.arange(3,10)))\n",
    "xr_init=xr_init.sel(time=xr_init.time.dt.day.isin([day]),latitude=slice(20,50),longitude=slice(250,300))\n",
    "init=xr_init.time[0].dt.strftime('%Y%m%d%H').values; print(init)\n",
    "#xr_init=xr_init.sel(prediction_timedelta=xr_init.prediction_timedelta[0])\n",
    "print(xr_init.dims)\n",
    "#xr_init=xr_init.squeeze(dim='prediction_timedelta')\n",
    "\n",
    "xr_init = xr_init.sortby('level', ascending=False)\n",
    "plevel=copy.deepcopy(xr_init.level.values)\n",
    "xr_init['pressure'] = (('level'), plevel)\n",
    "plevel=xr_init.pressure\n",
    "xr_init = xr_init.assign_coords(level=np.arange(len(plevel)))\n",
    "\n",
    "tlevel=xr_init.temperature\n",
    "qlevel=xr_init.specific_humidity\n",
    "plevel_dim=np.ones([1,len(plevel),1,1])\n",
    "zlevel=xr_init.geopotential\n",
    "ulevel=xr_init.u_component_of_wind\n",
    "vlevel=xr_init.v_component_of_wind\n",
    "for n1 in range(len(plevel.data)):\n",
    "    plevel_dim[0,n1,0,0]=plevel[n1]\n",
    "plevel_exp=(tlevel/tlevel)*plevel_dim\n",
    "\n",
    "psurf=xr_init.mean_sea_level_pressure\n",
    "tsurf=xr_init['2m_temperature']\n",
    "zsurf = zsurf_c.expand_dims(dim={\"time\": psurf.time}, axis=0)\n",
    "\n",
    "ps=psurf/100\n",
    "zs=zsurf/9.81\n",
    "zl=zlevel/9.81\n",
    "\n",
    "init_cape=wrf.cape_2d(pres_hpa=plevel_exp, tkel=tlevel, qv=qlevel, height=zl, terrain=zs, psfc_hpa=ps, ter_follow=False)\n",
    "init_srh=wrf.srhel(u=ulevel, v=vlevel, height=zl, terrain=zs, top=3000.0)\n",
    "\n",
    "init_cape=init_cape.assign_coords(longitude=psurf.longitude.values);\n",
    "init_cape=init_cape.assign_coords(latitude=psurf.latitude.values);\n",
    "init_cape=init_cape.assign_coords(time=psurf.time.values)\n",
    "init_srh=init_srh.assign_coords(longitude=psurf.longitude.values);\n",
    "init_srh=init_srh.assign_coords(latitude=psurf.latitude.values);\n",
    "init_srh=init_srh.assign_coords(time=psurf.time.values)"
   ]
  },
  {
   "cell_type": "code",
   "execution_count": 83,
   "id": "e432dcc0-0f3c-4b32-a87a-fe31b6cf7576",
   "metadata": {},
   "outputs": [
    {
     "name": "stderr",
     "output_type": "stream",
     "text": [
      "/tmp/ipykernel_3765897/2886384045.py:17: UserWarning: set_ticklabels() should only be used with a fixed number of ticks, i.e. after set_ticks() or using a FixedLocator.\n",
      "  ax.set_xticklabels(xr_era5.time.dt.strftime('%Y%m%d%H').values,rotation=90)\n"
     ]
    }
   ],
   "source": [
    "cm=plt.cm.Reds\n",
    "cm.set_bad(color=\"grey\")\n",
    "cm.set_under(color=\"grey\")\n",
    "p = init_cape.sel(mcape_mcin_lcl_lfc='mcape',latitude=slice(20,50),longitude=slice(250,300)).plot(x=\"longitude\", y=\"latitude\", col=\"time\", col_wrap=4,transform=ccrs.PlateCarree(), subplot_kws={'projection':ccrs.PlateCarree()}\\\n",
    "                ,cmap=cm,vmin=200,vmax=3000,levels=np.arange(200,3000,100),extend='both')# col_wrap=4)\n",
    "for ax in p.axs.flat:\n",
    "                ax.coastlines()\n",
    "f=p.fig\n",
    "f.savefig(figpath+init+'_ifsinit_cape.png',  dpi=300, bbox_inches='tight')\n",
    "plt.close()\n",
    "\n",
    "cape_sel= init_cape.sel(mcape_mcin_lcl_lfc='mcape',latitude=slice(20,40),longitude=slice(260,290)).values\n",
    "cape_sel=cape_sel.reshape(cape_sel.shape[1]*cape_sel.shape[2],cape_sel.shape[0])\n",
    "cape_sel[cape_sel<200]=np.nan\n",
    "ax = sns.violinplot(cape_sel,color='grey',density_norm='count',common_norm=True)\n",
    "ax.set(ylim=(0,3500))\n",
    "ax.set_xticklabels(xr_era5.time.dt.strftime('%Y%m%d%H').values,rotation=90)\n",
    "plt.title('IFS INIT CAPE')\n",
    "plt.ylabel('[J kg$^{-1}$]')\n",
    "plt.savefig(figpath+init+'_ifsinit_capedist.png',  dpi=300, bbox_inches='tight')\n",
    "plt.close()\n",
    "\n",
    "\n",
    "cm=plt.cm.Reds\n",
    "cm.set_under(color=\"grey\")\n",
    "p = init_srh.sel(latitude=slice(20,50),longitude=slice(250,300)).plot(x=\"longitude\", y=\"latitude\", col=\"time\", col_wrap=4,transform=ccrs.PlateCarree(), subplot_kws={'projection':ccrs.PlateCarree()}\\\n",
    "                ,cmap=cm,vmin=0,vmax=1000,levels=np.arange(0,1000,50),extend='both')# col_wrap=4)\n",
    "for ax in p.axs.flat:\n",
    "                ax.coastlines()\n",
    "f=p.fig\n",
    "f.savefig(figpath+init+'_ifsinit_srh.png',  dpi=300, bbox_inches='tight')\n",
    "plt.close()"
   ]
  },
  {
   "cell_type": "code",
   "execution_count": 16,
   "id": "b7797c72-f5c4-4574-b026-5d1f03d0bc88",
   "metadata": {},
   "outputs": [
    {
     "name": "stdout",
     "output_type": "stream",
     "text": [
      "(4, 4, 721, 1440) ('mcape_mcin_lcl_lfc', 'time', 'latitude', 'longitude')\n",
      "<xarray.DataArray 'time' (time: 4)>\n",
      "array(['2020-04-12T00:00:00.000000000', '2020-04-12T12:00:00.000000000',\n",
      "       '2020-04-13T00:00:00.000000000', '2020-04-13T12:00:00.000000000'],\n",
      "      dtype='datetime64[ns]')\n",
      "Coordinates:\n",
      "  * time     (time) datetime64[ns] 2020-04-12 ... 2020-04-13T12:00:00\n"
     ]
    }
   ],
   "source": [
    "print(init_cape.shape,init_cape.dims)\n",
    "print(init_cape.time)"
   ]
  },
  {
   "cell_type": "code",
   "execution_count": 76,
   "id": "fb3d501a-a900-4b9e-a512-256bd324e686",
   "metadata": {},
   "outputs": [
    {
     "name": "stdout",
     "output_type": "stream",
     "text": [
      "2020041100\n"
     ]
    },
    {
     "name": "stderr",
     "output_type": "stream",
     "text": [
      "/tmp/ipykernel_3765897/1249926483.py:89: UserWarning: set_ticklabels() should only be used with a fixed number of ticks, i.e. after set_ticks() or using a FixedLocator.\n",
      "  ax.set_xticklabels(xr_era5.time.dt.strftime('%Y%m%d%H').values,rotation=90)\n"
     ]
    },
    {
     "name": "stdout",
     "output_type": "stream",
     "text": [
      "2020041112\n"
     ]
    },
    {
     "name": "stderr",
     "output_type": "stream",
     "text": [
      "/tmp/ipykernel_3765897/1249926483.py:89: UserWarning: set_ticklabels() should only be used with a fixed number of ticks, i.e. after set_ticks() or using a FixedLocator.\n",
      "  ax.set_xticklabels(xr_era5.time.dt.strftime('%Y%m%d%H').values,rotation=90)\n"
     ]
    },
    {
     "name": "stdout",
     "output_type": "stream",
     "text": [
      "2020041000\n"
     ]
    },
    {
     "name": "stderr",
     "output_type": "stream",
     "text": [
      "/tmp/ipykernel_3765897/1249926483.py:89: UserWarning: set_ticklabels() should only be used with a fixed number of ticks, i.e. after set_ticks() or using a FixedLocator.\n",
      "  ax.set_xticklabels(xr_era5.time.dt.strftime('%Y%m%d%H').values,rotation=90)\n"
     ]
    },
    {
     "name": "stdout",
     "output_type": "stream",
     "text": [
      "2020041012\n"
     ]
    },
    {
     "name": "stderr",
     "output_type": "stream",
     "text": [
      "/tmp/ipykernel_3765897/1249926483.py:89: UserWarning: set_ticklabels() should only be used with a fixed number of ticks, i.e. after set_ticks() or using a FixedLocator.\n",
      "  ax.set_xticklabels(xr_era5.time.dt.strftime('%Y%m%d%H').values,rotation=90)\n"
     ]
    },
    {
     "name": "stdout",
     "output_type": "stream",
     "text": [
      "2020040900\n"
     ]
    },
    {
     "name": "stderr",
     "output_type": "stream",
     "text": [
      "/tmp/ipykernel_3765897/1249926483.py:89: UserWarning: set_ticklabels() should only be used with a fixed number of ticks, i.e. after set_ticks() or using a FixedLocator.\n",
      "  ax.set_xticklabels(xr_era5.time.dt.strftime('%Y%m%d%H').values,rotation=90)\n"
     ]
    },
    {
     "name": "stdout",
     "output_type": "stream",
     "text": [
      "2020040912\n"
     ]
    },
    {
     "name": "stderr",
     "output_type": "stream",
     "text": [
      "/tmp/ipykernel_3765897/1249926483.py:89: UserWarning: set_ticklabels() should only be used with a fixed number of ticks, i.e. after set_ticks() or using a FixedLocator.\n",
      "  ax.set_xticklabels(xr_era5.time.dt.strftime('%Y%m%d%H').values,rotation=90)\n"
     ]
    },
    {
     "name": "stdout",
     "output_type": "stream",
     "text": [
      "2020040800\n"
     ]
    },
    {
     "name": "stderr",
     "output_type": "stream",
     "text": [
      "/tmp/ipykernel_3765897/1249926483.py:89: UserWarning: set_ticklabels() should only be used with a fixed number of ticks, i.e. after set_ticks() or using a FixedLocator.\n",
      "  ax.set_xticklabels(xr_era5.time.dt.strftime('%Y%m%d%H').values,rotation=90)\n"
     ]
    },
    {
     "name": "stdout",
     "output_type": "stream",
     "text": [
      "2020040812\n"
     ]
    },
    {
     "name": "stderr",
     "output_type": "stream",
     "text": [
      "/tmp/ipykernel_3765897/1249926483.py:89: UserWarning: set_ticklabels() should only be used with a fixed number of ticks, i.e. after set_ticks() or using a FixedLocator.\n",
      "  ax.set_xticklabels(xr_era5.time.dt.strftime('%Y%m%d%H').values,rotation=90)\n"
     ]
    },
    {
     "name": "stdout",
     "output_type": "stream",
     "text": [
      "2020040700\n"
     ]
    },
    {
     "name": "stderr",
     "output_type": "stream",
     "text": [
      "/tmp/ipykernel_3765897/1249926483.py:89: UserWarning: set_ticklabels() should only be used with a fixed number of ticks, i.e. after set_ticks() or using a FixedLocator.\n",
      "  ax.set_xticklabels(xr_era5.time.dt.strftime('%Y%m%d%H').values,rotation=90)\n"
     ]
    },
    {
     "name": "stdout",
     "output_type": "stream",
     "text": [
      "2020040712\n"
     ]
    },
    {
     "name": "stderr",
     "output_type": "stream",
     "text": [
      "/tmp/ipykernel_3765897/1249926483.py:89: UserWarning: set_ticklabels() should only be used with a fixed number of ticks, i.e. after set_ticks() or using a FixedLocator.\n",
      "  ax.set_xticklabels(xr_era5.time.dt.strftime('%Y%m%d%H').values,rotation=90)\n"
     ]
    },
    {
     "name": "stdout",
     "output_type": "stream",
     "text": [
      "2020040600\n"
     ]
    },
    {
     "name": "stderr",
     "output_type": "stream",
     "text": [
      "/tmp/ipykernel_3765897/1249926483.py:89: UserWarning: set_ticklabels() should only be used with a fixed number of ticks, i.e. after set_ticks() or using a FixedLocator.\n",
      "  ax.set_xticklabels(xr_era5.time.dt.strftime('%Y%m%d%H').values,rotation=90)\n"
     ]
    },
    {
     "name": "stdout",
     "output_type": "stream",
     "text": [
      "2020040612\n"
     ]
    },
    {
     "name": "stderr",
     "output_type": "stream",
     "text": [
      "/tmp/ipykernel_3765897/1249926483.py:89: UserWarning: set_ticklabels() should only be used with a fixed number of ticks, i.e. after set_ticks() or using a FixedLocator.\n",
      "  ax.set_xticklabels(xr_era5.time.dt.strftime('%Y%m%d%H').values,rotation=90)\n"
     ]
    },
    {
     "name": "stdout",
     "output_type": "stream",
     "text": [
      "2020040500\n"
     ]
    },
    {
     "name": "stderr",
     "output_type": "stream",
     "text": [
      "/tmp/ipykernel_3765897/1249926483.py:89: UserWarning: set_ticklabels() should only be used with a fixed number of ticks, i.e. after set_ticks() or using a FixedLocator.\n",
      "  ax.set_xticklabels(xr_era5.time.dt.strftime('%Y%m%d%H').values,rotation=90)\n"
     ]
    },
    {
     "name": "stdout",
     "output_type": "stream",
     "text": [
      "2020040512\n"
     ]
    },
    {
     "name": "stderr",
     "output_type": "stream",
     "text": [
      "/tmp/ipykernel_3765897/1249926483.py:89: UserWarning: set_ticklabels() should only be used with a fixed number of ticks, i.e. after set_ticks() or using a FixedLocator.\n",
      "  ax.set_xticklabels(xr_era5.time.dt.strftime('%Y%m%d%H').values,rotation=90)\n"
     ]
    },
    {
     "name": "stdout",
     "output_type": "stream",
     "text": [
      "2020040400\n"
     ]
    },
    {
     "name": "stderr",
     "output_type": "stream",
     "text": [
      "/tmp/ipykernel_3765897/1249926483.py:89: UserWarning: set_ticklabels() should only be used with a fixed number of ticks, i.e. after set_ticks() or using a FixedLocator.\n",
      "  ax.set_xticklabels(xr_era5.time.dt.strftime('%Y%m%d%H').values,rotation=90)\n"
     ]
    },
    {
     "name": "stdout",
     "output_type": "stream",
     "text": [
      "2020040412\n"
     ]
    },
    {
     "name": "stderr",
     "output_type": "stream",
     "text": [
      "/tmp/ipykernel_3765897/1249926483.py:89: UserWarning: set_ticklabels() should only be used with a fixed number of ticks, i.e. after set_ticks() or using a FixedLocator.\n",
      "  ax.set_xticklabels(xr_era5.time.dt.strftime('%Y%m%d%H').values,rotation=90)\n"
     ]
    },
    {
     "name": "stdout",
     "output_type": "stream",
     "text": [
      "2020040300\n"
     ]
    },
    {
     "ename": "ValueError",
     "evalue": "conflicting sizes for dimension 'prediction_timedelta': length 5 on <this-array> and length 8 on {'mcape_mcin_lcl_lfc': 'mcape_mcin_lcl_lfc', 'longitude': 'longitude', 'latitude': 'latitude', 'prediction_timedelta': 'prediction_timedelta', 'time': <this-array>}",
     "output_type": "error",
     "traceback": [
      "\u001b[0;31m---------------------------------------------------------------------------\u001b[0m",
      "\u001b[0;31mValueError\u001b[0m                                Traceback (most recent call last)",
      "Cell \u001b[0;32mIn[76], line 63\u001b[0m\n\u001b[1;32m     61\u001b[0m cape\u001b[38;5;241m=\u001b[39mcape\u001b[38;5;241m.\u001b[39massign_coords(longitude\u001b[38;5;241m=\u001b[39mpsurf\u001b[38;5;241m.\u001b[39mlongitude\u001b[38;5;241m.\u001b[39mvalues);\n\u001b[1;32m     62\u001b[0m cape\u001b[38;5;241m=\u001b[39mcape\u001b[38;5;241m.\u001b[39massign_coords(latitude\u001b[38;5;241m=\u001b[39mpsurf\u001b[38;5;241m.\u001b[39mlatitude\u001b[38;5;241m.\u001b[39mvalues);\n\u001b[0;32m---> 63\u001b[0m cape\u001b[38;5;241m=\u001b[39m\u001b[43mcape\u001b[49m\u001b[38;5;241;43m.\u001b[39;49m\u001b[43massign_coords\u001b[49m\u001b[43m(\u001b[49m\u001b[43mprediction_timedelta\u001b[49m\u001b[38;5;241;43m=\u001b[39;49m\u001b[43mps_era\u001b[49m\u001b[38;5;241;43m.\u001b[39;49m\u001b[43mtime\u001b[49m\u001b[38;5;241;43m.\u001b[39;49m\u001b[43mvalues\u001b[49m\u001b[43m)\u001b[49m\n\u001b[1;32m     65\u001b[0m srh\u001b[38;5;241m=\u001b[39msrh\u001b[38;5;241m.\u001b[39massign_coords(longitude\u001b[38;5;241m=\u001b[39mpsurf\u001b[38;5;241m.\u001b[39mlongitude\u001b[38;5;241m.\u001b[39mvalues);\n\u001b[1;32m     66\u001b[0m srh\u001b[38;5;241m=\u001b[39msrh\u001b[38;5;241m.\u001b[39massign_coords(latitude\u001b[38;5;241m=\u001b[39mpsurf\u001b[38;5;241m.\u001b[39mlatitude\u001b[38;5;241m.\u001b[39mvalues);\n",
      "File \u001b[0;32m/work/FAC/FGSE/IDYST/tbeucler/default/mfeldman/miniforge3/envs/wb/lib/python3.11/site-packages/xarray/core/common.py:621\u001b[0m, in \u001b[0;36mDataWithCoords.assign_coords\u001b[0;34m(self, coords, **coords_kwargs)\u001b[0m\n\u001b[1;32m    618\u001b[0m \u001b[38;5;28;01melse\u001b[39;00m:\n\u001b[1;32m    619\u001b[0m     results \u001b[38;5;241m=\u001b[39m \u001b[38;5;28mself\u001b[39m\u001b[38;5;241m.\u001b[39m_calc_assign_results(coords_combined)\n\u001b[0;32m--> 621\u001b[0m \u001b[43mdata\u001b[49m\u001b[38;5;241;43m.\u001b[39;49m\u001b[43mcoords\u001b[49m\u001b[38;5;241;43m.\u001b[39;49m\u001b[43mupdate\u001b[49m\u001b[43m(\u001b[49m\u001b[43mresults\u001b[49m\u001b[43m)\u001b[49m\n\u001b[1;32m    622\u001b[0m \u001b[38;5;28;01mreturn\u001b[39;00m data\n",
      "File \u001b[0;32m/work/FAC/FGSE/IDYST/tbeucler/default/mfeldman/miniforge3/envs/wb/lib/python3.11/site-packages/xarray/core/coordinates.py:566\u001b[0m, in \u001b[0;36mCoordinates.update\u001b[0;34m(self, other)\u001b[0m\n\u001b[1;32m    560\u001b[0m \u001b[38;5;66;03m# special case for PandasMultiIndex: updating only its dimension coordinate\u001b[39;00m\n\u001b[1;32m    561\u001b[0m \u001b[38;5;66;03m# is still allowed but depreciated.\u001b[39;00m\n\u001b[1;32m    562\u001b[0m \u001b[38;5;66;03m# It is the only case where we need to actually drop coordinates here (multi-index levels)\u001b[39;00m\n\u001b[1;32m    563\u001b[0m \u001b[38;5;66;03m# TODO: remove when removing PandasMultiIndex's dimension coordinate.\u001b[39;00m\n\u001b[1;32m    564\u001b[0m \u001b[38;5;28mself\u001b[39m\u001b[38;5;241m.\u001b[39m_drop_coords(\u001b[38;5;28mself\u001b[39m\u001b[38;5;241m.\u001b[39m_names \u001b[38;5;241m-\u001b[39m coords_to_align\u001b[38;5;241m.\u001b[39m_names)\n\u001b[0;32m--> 566\u001b[0m \u001b[38;5;28;43mself\u001b[39;49m\u001b[38;5;241;43m.\u001b[39;49m\u001b[43m_update_coords\u001b[49m\u001b[43m(\u001b[49m\u001b[43mcoords\u001b[49m\u001b[43m,\u001b[49m\u001b[43m \u001b[49m\u001b[43mindexes\u001b[49m\u001b[43m)\u001b[49m\n",
      "File \u001b[0;32m/work/FAC/FGSE/IDYST/tbeucler/default/mfeldman/miniforge3/envs/wb/lib/python3.11/site-packages/xarray/core/coordinates.py:842\u001b[0m, in \u001b[0;36mDataArrayCoordinates._update_coords\u001b[0;34m(self, coords, indexes)\u001b[0m\n\u001b[1;32m    840\u001b[0m coords_plus_data \u001b[38;5;241m=\u001b[39m coords\u001b[38;5;241m.\u001b[39mcopy()\n\u001b[1;32m    841\u001b[0m coords_plus_data[_THIS_ARRAY] \u001b[38;5;241m=\u001b[39m \u001b[38;5;28mself\u001b[39m\u001b[38;5;241m.\u001b[39m_data\u001b[38;5;241m.\u001b[39mvariable\n\u001b[0;32m--> 842\u001b[0m dims \u001b[38;5;241m=\u001b[39m \u001b[43mcalculate_dimensions\u001b[49m\u001b[43m(\u001b[49m\u001b[43mcoords_plus_data\u001b[49m\u001b[43m)\u001b[49m\n\u001b[1;32m    843\u001b[0m \u001b[38;5;28;01mif\u001b[39;00m \u001b[38;5;129;01mnot\u001b[39;00m \u001b[38;5;28mset\u001b[39m(dims) \u001b[38;5;241m<\u001b[39m\u001b[38;5;241m=\u001b[39m \u001b[38;5;28mset\u001b[39m(\u001b[38;5;28mself\u001b[39m\u001b[38;5;241m.\u001b[39mdims):\n\u001b[1;32m    844\u001b[0m     \u001b[38;5;28;01mraise\u001b[39;00m \u001b[38;5;167;01mValueError\u001b[39;00m(\n\u001b[1;32m    845\u001b[0m         \u001b[38;5;124m\"\u001b[39m\u001b[38;5;124mcannot add coordinates with new dimensions to a DataArray\u001b[39m\u001b[38;5;124m\"\u001b[39m\n\u001b[1;32m    846\u001b[0m     )\n",
      "File \u001b[0;32m/work/FAC/FGSE/IDYST/tbeucler/default/mfeldman/miniforge3/envs/wb/lib/python3.11/site-packages/xarray/core/variable.py:3008\u001b[0m, in \u001b[0;36mcalculate_dimensions\u001b[0;34m(variables)\u001b[0m\n\u001b[1;32m   3006\u001b[0m             last_used[dim] \u001b[38;5;241m=\u001b[39m k\n\u001b[1;32m   3007\u001b[0m         \u001b[38;5;28;01melif\u001b[39;00m dims[dim] \u001b[38;5;241m!=\u001b[39m size:\n\u001b[0;32m-> 3008\u001b[0m             \u001b[38;5;28;01mraise\u001b[39;00m \u001b[38;5;167;01mValueError\u001b[39;00m(\n\u001b[1;32m   3009\u001b[0m                 \u001b[38;5;124mf\u001b[39m\u001b[38;5;124m\"\u001b[39m\u001b[38;5;124mconflicting sizes for dimension \u001b[39m\u001b[38;5;132;01m{\u001b[39;00mdim\u001b[38;5;132;01m!r}\u001b[39;00m\u001b[38;5;124m: \u001b[39m\u001b[38;5;124m\"\u001b[39m\n\u001b[1;32m   3010\u001b[0m                 \u001b[38;5;124mf\u001b[39m\u001b[38;5;124m\"\u001b[39m\u001b[38;5;124mlength \u001b[39m\u001b[38;5;132;01m{\u001b[39;00msize\u001b[38;5;132;01m}\u001b[39;00m\u001b[38;5;124m on \u001b[39m\u001b[38;5;132;01m{\u001b[39;00mk\u001b[38;5;132;01m!r}\u001b[39;00m\u001b[38;5;124m and length \u001b[39m\u001b[38;5;132;01m{\u001b[39;00mdims[dim]\u001b[38;5;132;01m}\u001b[39;00m\u001b[38;5;124m on \u001b[39m\u001b[38;5;132;01m{\u001b[39;00mlast_used\u001b[38;5;132;01m!r}\u001b[39;00m\u001b[38;5;124m\"\u001b[39m\n\u001b[1;32m   3011\u001b[0m             )\n\u001b[1;32m   3012\u001b[0m \u001b[38;5;28;01mreturn\u001b[39;00m dims\n",
      "\u001b[0;31mValueError\u001b[0m: conflicting sizes for dimension 'prediction_timedelta': length 5 on <this-array> and length 8 on {'mcape_mcin_lcl_lfc': 'mcape_mcin_lcl_lfc', 'longitude': 'longitude', 'latitude': 'latitude', 'prediction_timedelta': 'prediction_timedelta', 'time': <this-array>}"
     ]
    }
   ],
   "source": [
    "start=xr_era5.time[0]\n",
    "end=xr_era5.time[-1]\n",
    "ref_cape=era_cape; ref_srh=era_srh\n",
    "ref_cape=init_cape; ref_srh=init_srh\n",
    "\n",
    "#LOADING FORECAST DATASET\n",
    "model='pangu'\n",
    "model='ifs'\n",
    "# model='fuxi'\n",
    "# model='keisler'\n",
    "# model='spherical'\n",
    "latslice=slice(50,20)\n",
    "#latslice=slice(20,50)\n",
    "dataset='gs://weatherbench2/datasets/pangu/2018-2022_0012_0p25.zarr'\n",
    "#dataset='gs://weatherbench2/datasets/hres/2016-2022-0012-1440x721.zarr'\n",
    "# dataset='gs://weatherbench2/datasets/fuxi/2020-1440x721.zarr'\n",
    "# dataset='gs://weatherbench2/datasets/keisler/2020-360x181.zarr'\n",
    "# dataset='gs://weatherbench2/datasets/sphericalcnn/2020-240x121_equiangular_with_poles.zarr'\n",
    "# days=[6,7,8,9,10,11,12]\n",
    "hours=[0,12]\n",
    "for d in days[:]:\n",
    "    for hour in hours[:]:\n",
    "        xr_model=xr.open_zarr(dataset)\n",
    "        xr_dataset=xr_model.sel(time=xr_model.time.dt.year.isin([year]))\n",
    "        xr_dataset=xr_dataset.sel(time=xr_dataset.time.dt.month.isin([month]))\n",
    "        xr_dataset=xr_dataset.sel(time=xr_dataset.time.dt.day.isin([d]))\n",
    "        xr_dataset=xr_dataset.sel(time=xr_dataset.time.dt.hour.isin([hour]),latitude=latslice,longitude=slice(250,300))\n",
    "        fcst_init=xr_dataset.time[0]\n",
    "        init=fcst_init.dt.strftime('%Y%m%d%H').values; print(init)\n",
    "        xr_dataset=xr_dataset.sel(prediction_timedelta=slice(start-fcst_init,end-fcst_init))\n",
    "        xr_dataset = xr_dataset.sortby('level', ascending=False)\n",
    "        \n",
    "        plevel=copy.deepcopy(xr_dataset.level.values)\n",
    "        \n",
    "        xr_dataset['pressure'] = (('level'), plevel)\n",
    "        plevel=xr_dataset.pressure\n",
    "        xr_dataset = xr_dataset.assign_coords(level=np.arange(len(plevel)))\n",
    "        \n",
    "        tlevel=xr_dataset.temperature\n",
    "        qlevel=xr_dataset.specific_humidity\n",
    "        plevel_dim=np.ones([1,len(plevel),1,1])\n",
    "        zlevel=xr_dataset.geopotential\n",
    "        ulevel=xr_dataset.u_component_of_wind\n",
    "        vlevel=xr_dataset.v_component_of_wind\n",
    "        for n1 in range(len(plevel.data)):\n",
    "            plevel_dim[0,n1,0,0]=plevel[n1]\n",
    "        plevel_exp=(tlevel/tlevel)*plevel_dim\n",
    "        \n",
    "        psurf=xr_dataset.mean_sea_level_pressure\n",
    "        tsurf=xr_dataset['2m_temperature']\n",
    "        zsurf = zsurf_c.expand_dims(dim={\"time\": psurf.time}, axis=0)\n",
    "        zsurf = zsurf.expand_dims(dim={\"prediction_timedelta\": psurf.prediction_timedelta}, axis=1)\n",
    "        \n",
    "        ps=psurf/100\n",
    "        zs=zsurf/9.81\n",
    "        zl=zlevel/9.81\n",
    "\n",
    "        cape=wrf.cape_2d(pres_hpa=plevel_exp, tkel=tlevel, qv=qlevel, height=zl, terrain=zs, psfc_hpa=ps, ter_follow=False)\n",
    "        srh=wrf.srhel(u=ulevel, v=vlevel, height=zl, terrain=zs, top=3000.0)\n",
    "\n",
    "        cape=cape.assign_coords(longitude=psurf.longitude.values);\n",
    "        cape=cape.assign_coords(latitude=psurf.latitude.values);\n",
    "        cape=cape.assign_coords(prediction_timedelta=ps_era.time.values)\n",
    "\n",
    "        srh=srh.assign_coords(longitude=psurf.longitude.values);\n",
    "        srh=srh.assign_coords(latitude=psurf.latitude.values);\n",
    "        srh=srh.assign_coords(prediction_timedelta=ps_era.time.values)\n",
    "\n",
    "        cape=cape.squeeze(dim='time'); cape=cape.rename({'prediction_timedelta':'time'})\n",
    "        srh=srh.squeeze(dim='time'); srh=srh.rename({'prediction_timedelta':'time'})\n",
    "        \n",
    "        cm=plt.cm.Reds\n",
    "        cm.set_bad(color=\"grey\")\n",
    "        cm.set_under(color=\"grey\")\n",
    "        p = cape.sel(mcape_mcin_lcl_lfc='mcape',latitude=latslice,longitude=slice(250,300)).plot(x=\"longitude\", y=\"latitude\", col=\"time\",\\\n",
    "                         col_wrap=4,transform=ccrs.PlateCarree(), subplot_kws={'projection':ccrs.PlateCarree()},\\\n",
    "                         cmap=cm,vmin=200,vmax=3000,levels=np.arange(200,3000,100),extend='both')# col_wrap=4)\n",
    "        for ax in p.axs.flat:\n",
    "                        ax.coastlines()\n",
    "        f=p.fig\n",
    "        f.savefig(figpath+model+init+'_cape.png',  dpi=300, bbox_inches='tight')\n",
    "        plt.close()\n",
    "\n",
    "        cape_sel= cape.sel(mcape_mcin_lcl_lfc='mcape',latitude=slice(40,20),longitude=slice(260,290)).values\n",
    "        cape_sel=cape_sel.reshape(cape_sel.shape[1]*cape_sel.shape[2],cape_sel.shape[0])\n",
    "        cape_sel[cape_sel<200]=np.nan\n",
    "        ax = sns.violinplot(cape_sel,color='grey',density_norm='count',common_norm=True)\n",
    "        ax.set(ylim=(0,3500))\n",
    "        ax.set_xticklabels(xr_era5.time.dt.strftime('%Y%m%d%H').values,rotation=90)\n",
    "        plt.title(model+' CAPE '+ init)\n",
    "        plt.ylabel('[J kg$^{-1}$]')\n",
    "        plt.savefig(figpath+model+init+'_capedist.png',  dpi=300, bbox_inches='tight')\n",
    "        plt.close()\n",
    "\n",
    "        \n",
    "        cm=plt.cm.Reds\n",
    "        cm.set_bad(color=\"grey\")\n",
    "        cm.set_under(color=\"grey\")\n",
    "        p = srh.sel(latitude=latslice,longitude=slice(250,300)).plot(x=\"longitude\", y=\"latitude\", col=\"time\",\\\n",
    "                         col_wrap=4,transform=ccrs.PlateCarree(), subplot_kws={'projection':ccrs.PlateCarree()},\\\n",
    "                         cmap=cm,vmin=0,vmax=1000,levels=np.arange(0,1000,50),extend='both')# col_wrap=4)\n",
    "        for ax in p.axs.flat:\n",
    "                        ax.coastlines()\n",
    "        f=p.fig\n",
    "        f.savefig(figpath+model+init+'_srh.png',  dpi=300, bbox_inches='tight')\n",
    "        plt.close()\n",
    "\n",
    "        #cape=cape.sel(time=cape.time.dt.hour.isin([0,12]))\n",
    "        #srh=srh.sel(time=srh.time.dt.hour.isin([0,12]))\n",
    "        cm=plt.cm.RdBu_r\n",
    "        cm.set_bad(color=\"grey\")\n",
    "        dcape=cape.fillna(0)-ref_cape.fillna(0)\n",
    "        dsrh=srh.fillna(0)-ref_srh.fillna(0)\n",
    "        p = dcape.sel(mcape_mcin_lcl_lfc='mcape',latitude=latslice,longitude=slice(250,300)).plot(x=\"longitude\", y=\"latitude\", col=\"time\",\\\n",
    "                         col_wrap=4,transform=ccrs.PlateCarree(), subplot_kws={'projection':ccrs.PlateCarree()},\\\n",
    "                         cmap=cm,vmin=-1000,vmax=1000,levels=np.arange(-1000,1010,100),extend='both')# col_wrap=4)\n",
    "        for ax in p.axs.flat:\n",
    "                        ax.coastlines()\n",
    "        f=p.fig\n",
    "        f.savefig(figpath+model+init+'_cape_d.png',  dpi=300, bbox_inches='tight')\n",
    "        plt.close()\n",
    "\n",
    "\n",
    "        cm=plt.cm.RdBu_r\n",
    "        cm.set_bad(color=\"grey\")\n",
    "        p = dsrh.sel(latitude=latslice,longitude=slice(250,300)).plot(x=\"longitude\", y=\"latitude\", col=\"time\",\\\n",
    "                         col_wrap=4,transform=ccrs.PlateCarree(), subplot_kws={'projection':ccrs.PlateCarree()},\\\n",
    "                         cmap=cm,vmin=-500,vmax=500,levels=np.arange(-500,505,50),extend='both')# col_wrap=4)\n",
    "        for ax in p.axs.flat:\n",
    "                        ax.coastlines()\n",
    "        f=p.fig\n",
    "        f.savefig(figpath+model+init+'_srh_d.png',  dpi=300, bbox_inches='tight')\n",
    "        plt.close()"
   ]
  },
  {
   "cell_type": "code",
   "execution_count": 80,
   "id": "99a77344-c7c4-48b0-b1be-e1a73a59acc0",
   "metadata": {},
   "outputs": [
    {
     "name": "stdout",
     "output_type": "stream",
     "text": [
      "['120' '126' '132' '138' '144' '150' '156' '162']\n",
      "/work/FAC/FGSE/IDYST/tbeucler/default/raw_data/MF_ML_PREDICT/graphcast_d_20200407_t_0000_120h.grib\n"
     ]
    },
    {
     "name": "stderr",
     "output_type": "stream",
     "text": [
      "skipping variable: paramId==165 shortName='u10'\n",
      "Traceback (most recent call last):\n",
      "  File \"/work/FAC/FGSE/IDYST/tbeucler/default/mfeldman/miniforge3/envs/wb/lib/python3.11/site-packages/cfgrib/dataset.py\", line 680, in build_dataset_components\n",
      "    dict_merge(variables, coord_vars)\n",
      "  File \"/work/FAC/FGSE/IDYST/tbeucler/default/mfeldman/miniforge3/envs/wb/lib/python3.11/site-packages/cfgrib/dataset.py\", line 611, in dict_merge\n",
      "    raise DatasetBuildError(\n",
      "cfgrib.dataset.DatasetBuildError: key present and new value is different: key='heightAboveGround' value=Variable(dimensions=(), data=2.0) new_value=Variable(dimensions=(), data=10.0)\n",
      "skipping variable: paramId==166 shortName='v10'\n",
      "Traceback (most recent call last):\n",
      "  File \"/work/FAC/FGSE/IDYST/tbeucler/default/mfeldman/miniforge3/envs/wb/lib/python3.11/site-packages/cfgrib/dataset.py\", line 680, in build_dataset_components\n",
      "    dict_merge(variables, coord_vars)\n",
      "  File \"/work/FAC/FGSE/IDYST/tbeucler/default/mfeldman/miniforge3/envs/wb/lib/python3.11/site-packages/cfgrib/dataset.py\", line 611, in dict_merge\n",
      "    raise DatasetBuildError(\n",
      "cfgrib.dataset.DatasetBuildError: key present and new value is different: key='heightAboveGround' value=Variable(dimensions=(), data=2.0) new_value=Variable(dimensions=(), data=10.0)\n"
     ]
    },
    {
     "name": "stdout",
     "output_type": "stream",
     "text": [
      "/work/FAC/FGSE/IDYST/tbeucler/default/raw_data/MF_ML_PREDICT/graphcast_d_20200407_t_0000_126h.grib\n"
     ]
    },
    {
     "name": "stderr",
     "output_type": "stream",
     "text": [
      "skipping variable: paramId==165 shortName='u10'\n",
      "Traceback (most recent call last):\n",
      "  File \"/work/FAC/FGSE/IDYST/tbeucler/default/mfeldman/miniforge3/envs/wb/lib/python3.11/site-packages/cfgrib/dataset.py\", line 680, in build_dataset_components\n",
      "    dict_merge(variables, coord_vars)\n",
      "  File \"/work/FAC/FGSE/IDYST/tbeucler/default/mfeldman/miniforge3/envs/wb/lib/python3.11/site-packages/cfgrib/dataset.py\", line 611, in dict_merge\n",
      "    raise DatasetBuildError(\n",
      "cfgrib.dataset.DatasetBuildError: key present and new value is different: key='heightAboveGround' value=Variable(dimensions=(), data=2.0) new_value=Variable(dimensions=(), data=10.0)\n",
      "skipping variable: paramId==166 shortName='v10'\n",
      "Traceback (most recent call last):\n",
      "  File \"/work/FAC/FGSE/IDYST/tbeucler/default/mfeldman/miniforge3/envs/wb/lib/python3.11/site-packages/cfgrib/dataset.py\", line 680, in build_dataset_components\n",
      "    dict_merge(variables, coord_vars)\n",
      "  File \"/work/FAC/FGSE/IDYST/tbeucler/default/mfeldman/miniforge3/envs/wb/lib/python3.11/site-packages/cfgrib/dataset.py\", line 611, in dict_merge\n",
      "    raise DatasetBuildError(\n",
      "cfgrib.dataset.DatasetBuildError: key present and new value is different: key='heightAboveGround' value=Variable(dimensions=(), data=2.0) new_value=Variable(dimensions=(), data=10.0)\n"
     ]
    },
    {
     "name": "stdout",
     "output_type": "stream",
     "text": [
      "/work/FAC/FGSE/IDYST/tbeucler/default/raw_data/MF_ML_PREDICT/graphcast_d_20200407_t_0000_132h.grib\n"
     ]
    },
    {
     "name": "stderr",
     "output_type": "stream",
     "text": [
      "skipping variable: paramId==165 shortName='u10'\n",
      "Traceback (most recent call last):\n",
      "  File \"/work/FAC/FGSE/IDYST/tbeucler/default/mfeldman/miniforge3/envs/wb/lib/python3.11/site-packages/cfgrib/dataset.py\", line 680, in build_dataset_components\n",
      "    dict_merge(variables, coord_vars)\n",
      "  File \"/work/FAC/FGSE/IDYST/tbeucler/default/mfeldman/miniforge3/envs/wb/lib/python3.11/site-packages/cfgrib/dataset.py\", line 611, in dict_merge\n",
      "    raise DatasetBuildError(\n",
      "cfgrib.dataset.DatasetBuildError: key present and new value is different: key='heightAboveGround' value=Variable(dimensions=(), data=2.0) new_value=Variable(dimensions=(), data=10.0)\n",
      "skipping variable: paramId==166 shortName='v10'\n",
      "Traceback (most recent call last):\n",
      "  File \"/work/FAC/FGSE/IDYST/tbeucler/default/mfeldman/miniforge3/envs/wb/lib/python3.11/site-packages/cfgrib/dataset.py\", line 680, in build_dataset_components\n",
      "    dict_merge(variables, coord_vars)\n",
      "  File \"/work/FAC/FGSE/IDYST/tbeucler/default/mfeldman/miniforge3/envs/wb/lib/python3.11/site-packages/cfgrib/dataset.py\", line 611, in dict_merge\n",
      "    raise DatasetBuildError(\n",
      "cfgrib.dataset.DatasetBuildError: key present and new value is different: key='heightAboveGround' value=Variable(dimensions=(), data=2.0) new_value=Variable(dimensions=(), data=10.0)\n"
     ]
    },
    {
     "name": "stdout",
     "output_type": "stream",
     "text": [
      "/work/FAC/FGSE/IDYST/tbeucler/default/raw_data/MF_ML_PREDICT/graphcast_d_20200407_t_0000_138h.grib\n"
     ]
    },
    {
     "name": "stderr",
     "output_type": "stream",
     "text": [
      "skipping variable: paramId==165 shortName='u10'\n",
      "Traceback (most recent call last):\n",
      "  File \"/work/FAC/FGSE/IDYST/tbeucler/default/mfeldman/miniforge3/envs/wb/lib/python3.11/site-packages/cfgrib/dataset.py\", line 680, in build_dataset_components\n",
      "    dict_merge(variables, coord_vars)\n",
      "  File \"/work/FAC/FGSE/IDYST/tbeucler/default/mfeldman/miniforge3/envs/wb/lib/python3.11/site-packages/cfgrib/dataset.py\", line 611, in dict_merge\n",
      "    raise DatasetBuildError(\n",
      "cfgrib.dataset.DatasetBuildError: key present and new value is different: key='heightAboveGround' value=Variable(dimensions=(), data=2.0) new_value=Variable(dimensions=(), data=10.0)\n",
      "skipping variable: paramId==166 shortName='v10'\n",
      "Traceback (most recent call last):\n",
      "  File \"/work/FAC/FGSE/IDYST/tbeucler/default/mfeldman/miniforge3/envs/wb/lib/python3.11/site-packages/cfgrib/dataset.py\", line 680, in build_dataset_components\n",
      "    dict_merge(variables, coord_vars)\n",
      "  File \"/work/FAC/FGSE/IDYST/tbeucler/default/mfeldman/miniforge3/envs/wb/lib/python3.11/site-packages/cfgrib/dataset.py\", line 611, in dict_merge\n",
      "    raise DatasetBuildError(\n",
      "cfgrib.dataset.DatasetBuildError: key present and new value is different: key='heightAboveGround' value=Variable(dimensions=(), data=2.0) new_value=Variable(dimensions=(), data=10.0)\n"
     ]
    },
    {
     "name": "stdout",
     "output_type": "stream",
     "text": [
      "/work/FAC/FGSE/IDYST/tbeucler/default/raw_data/MF_ML_PREDICT/graphcast_d_20200407_t_0000_144h.grib\n"
     ]
    },
    {
     "name": "stderr",
     "output_type": "stream",
     "text": [
      "skipping variable: paramId==165 shortName='u10'\n",
      "Traceback (most recent call last):\n",
      "  File \"/work/FAC/FGSE/IDYST/tbeucler/default/mfeldman/miniforge3/envs/wb/lib/python3.11/site-packages/cfgrib/dataset.py\", line 680, in build_dataset_components\n",
      "    dict_merge(variables, coord_vars)\n",
      "  File \"/work/FAC/FGSE/IDYST/tbeucler/default/mfeldman/miniforge3/envs/wb/lib/python3.11/site-packages/cfgrib/dataset.py\", line 611, in dict_merge\n",
      "    raise DatasetBuildError(\n",
      "cfgrib.dataset.DatasetBuildError: key present and new value is different: key='heightAboveGround' value=Variable(dimensions=(), data=2.0) new_value=Variable(dimensions=(), data=10.0)\n",
      "skipping variable: paramId==166 shortName='v10'\n",
      "Traceback (most recent call last):\n",
      "  File \"/work/FAC/FGSE/IDYST/tbeucler/default/mfeldman/miniforge3/envs/wb/lib/python3.11/site-packages/cfgrib/dataset.py\", line 680, in build_dataset_components\n",
      "    dict_merge(variables, coord_vars)\n",
      "  File \"/work/FAC/FGSE/IDYST/tbeucler/default/mfeldman/miniforge3/envs/wb/lib/python3.11/site-packages/cfgrib/dataset.py\", line 611, in dict_merge\n",
      "    raise DatasetBuildError(\n",
      "cfgrib.dataset.DatasetBuildError: key present and new value is different: key='heightAboveGround' value=Variable(dimensions=(), data=2.0) new_value=Variable(dimensions=(), data=10.0)\n"
     ]
    },
    {
     "name": "stdout",
     "output_type": "stream",
     "text": [
      "/work/FAC/FGSE/IDYST/tbeucler/default/raw_data/MF_ML_PREDICT/graphcast_d_20200407_t_0000_150h.grib\n"
     ]
    },
    {
     "name": "stderr",
     "output_type": "stream",
     "text": [
      "skipping variable: paramId==165 shortName='u10'\n",
      "Traceback (most recent call last):\n",
      "  File \"/work/FAC/FGSE/IDYST/tbeucler/default/mfeldman/miniforge3/envs/wb/lib/python3.11/site-packages/cfgrib/dataset.py\", line 680, in build_dataset_components\n",
      "    dict_merge(variables, coord_vars)\n",
      "  File \"/work/FAC/FGSE/IDYST/tbeucler/default/mfeldman/miniforge3/envs/wb/lib/python3.11/site-packages/cfgrib/dataset.py\", line 611, in dict_merge\n",
      "    raise DatasetBuildError(\n",
      "cfgrib.dataset.DatasetBuildError: key present and new value is different: key='heightAboveGround' value=Variable(dimensions=(), data=2.0) new_value=Variable(dimensions=(), data=10.0)\n",
      "skipping variable: paramId==166 shortName='v10'\n",
      "Traceback (most recent call last):\n",
      "  File \"/work/FAC/FGSE/IDYST/tbeucler/default/mfeldman/miniforge3/envs/wb/lib/python3.11/site-packages/cfgrib/dataset.py\", line 680, in build_dataset_components\n",
      "    dict_merge(variables, coord_vars)\n",
      "  File \"/work/FAC/FGSE/IDYST/tbeucler/default/mfeldman/miniforge3/envs/wb/lib/python3.11/site-packages/cfgrib/dataset.py\", line 611, in dict_merge\n",
      "    raise DatasetBuildError(\n",
      "cfgrib.dataset.DatasetBuildError: key present and new value is different: key='heightAboveGround' value=Variable(dimensions=(), data=2.0) new_value=Variable(dimensions=(), data=10.0)\n"
     ]
    },
    {
     "name": "stdout",
     "output_type": "stream",
     "text": [
      "/work/FAC/FGSE/IDYST/tbeucler/default/raw_data/MF_ML_PREDICT/graphcast_d_20200407_t_0000_156h.grib\n"
     ]
    },
    {
     "name": "stderr",
     "output_type": "stream",
     "text": [
      "skipping variable: paramId==165 shortName='u10'\n",
      "Traceback (most recent call last):\n",
      "  File \"/work/FAC/FGSE/IDYST/tbeucler/default/mfeldman/miniforge3/envs/wb/lib/python3.11/site-packages/cfgrib/dataset.py\", line 680, in build_dataset_components\n",
      "    dict_merge(variables, coord_vars)\n",
      "  File \"/work/FAC/FGSE/IDYST/tbeucler/default/mfeldman/miniforge3/envs/wb/lib/python3.11/site-packages/cfgrib/dataset.py\", line 611, in dict_merge\n",
      "    raise DatasetBuildError(\n",
      "cfgrib.dataset.DatasetBuildError: key present and new value is different: key='heightAboveGround' value=Variable(dimensions=(), data=2.0) new_value=Variable(dimensions=(), data=10.0)\n",
      "skipping variable: paramId==166 shortName='v10'\n",
      "Traceback (most recent call last):\n",
      "  File \"/work/FAC/FGSE/IDYST/tbeucler/default/mfeldman/miniforge3/envs/wb/lib/python3.11/site-packages/cfgrib/dataset.py\", line 680, in build_dataset_components\n",
      "    dict_merge(variables, coord_vars)\n",
      "  File \"/work/FAC/FGSE/IDYST/tbeucler/default/mfeldman/miniforge3/envs/wb/lib/python3.11/site-packages/cfgrib/dataset.py\", line 611, in dict_merge\n",
      "    raise DatasetBuildError(\n",
      "cfgrib.dataset.DatasetBuildError: key present and new value is different: key='heightAboveGround' value=Variable(dimensions=(), data=2.0) new_value=Variable(dimensions=(), data=10.0)\n"
     ]
    },
    {
     "name": "stdout",
     "output_type": "stream",
     "text": [
      "/work/FAC/FGSE/IDYST/tbeucler/default/raw_data/MF_ML_PREDICT/graphcast_d_20200407_t_0000_162h.grib\n"
     ]
    },
    {
     "name": "stderr",
     "output_type": "stream",
     "text": [
      "skipping variable: paramId==165 shortName='u10'\n",
      "Traceback (most recent call last):\n",
      "  File \"/work/FAC/FGSE/IDYST/tbeucler/default/mfeldman/miniforge3/envs/wb/lib/python3.11/site-packages/cfgrib/dataset.py\", line 680, in build_dataset_components\n",
      "    dict_merge(variables, coord_vars)\n",
      "  File \"/work/FAC/FGSE/IDYST/tbeucler/default/mfeldman/miniforge3/envs/wb/lib/python3.11/site-packages/cfgrib/dataset.py\", line 611, in dict_merge\n",
      "    raise DatasetBuildError(\n",
      "cfgrib.dataset.DatasetBuildError: key present and new value is different: key='heightAboveGround' value=Variable(dimensions=(), data=2.0) new_value=Variable(dimensions=(), data=10.0)\n",
      "skipping variable: paramId==166 shortName='v10'\n",
      "Traceback (most recent call last):\n",
      "  File \"/work/FAC/FGSE/IDYST/tbeucler/default/mfeldman/miniforge3/envs/wb/lib/python3.11/site-packages/cfgrib/dataset.py\", line 680, in build_dataset_components\n",
      "    dict_merge(variables, coord_vars)\n",
      "  File \"/work/FAC/FGSE/IDYST/tbeucler/default/mfeldman/miniforge3/envs/wb/lib/python3.11/site-packages/cfgrib/dataset.py\", line 611, in dict_merge\n",
      "    raise DatasetBuildError(\n",
      "cfgrib.dataset.DatasetBuildError: key present and new value is different: key='heightAboveGround' value=Variable(dimensions=(), data=2.0) new_value=Variable(dimensions=(), data=10.0)\n",
      "/tmp/ipykernel_3765897/1799258866.py:91: UserWarning: set_ticklabels() should only be used with a fixed number of ticks, i.e. after set_ticks() or using a FixedLocator.\n",
      "  ax.set_xticklabels(xr_era5.time.dt.strftime('%Y%m%d%H').values,rotation=90)\n"
     ]
    },
    {
     "name": "stdout",
     "output_type": "stream",
     "text": [
      "['108' '114' '120' '126' '132' '138' '144' '150']\n",
      "/work/FAC/FGSE/IDYST/tbeucler/default/raw_data/MF_ML_PREDICT/graphcast_d_20200407_t_1200_108h.grib\n"
     ]
    },
    {
     "name": "stderr",
     "output_type": "stream",
     "text": [
      "skipping variable: paramId==165 shortName='u10'\n",
      "Traceback (most recent call last):\n",
      "  File \"/work/FAC/FGSE/IDYST/tbeucler/default/mfeldman/miniforge3/envs/wb/lib/python3.11/site-packages/cfgrib/dataset.py\", line 680, in build_dataset_components\n",
      "    dict_merge(variables, coord_vars)\n",
      "  File \"/work/FAC/FGSE/IDYST/tbeucler/default/mfeldman/miniforge3/envs/wb/lib/python3.11/site-packages/cfgrib/dataset.py\", line 611, in dict_merge\n",
      "    raise DatasetBuildError(\n",
      "cfgrib.dataset.DatasetBuildError: key present and new value is different: key='heightAboveGround' value=Variable(dimensions=(), data=2.0) new_value=Variable(dimensions=(), data=10.0)\n",
      "skipping variable: paramId==166 shortName='v10'\n",
      "Traceback (most recent call last):\n",
      "  File \"/work/FAC/FGSE/IDYST/tbeucler/default/mfeldman/miniforge3/envs/wb/lib/python3.11/site-packages/cfgrib/dataset.py\", line 680, in build_dataset_components\n",
      "    dict_merge(variables, coord_vars)\n",
      "  File \"/work/FAC/FGSE/IDYST/tbeucler/default/mfeldman/miniforge3/envs/wb/lib/python3.11/site-packages/cfgrib/dataset.py\", line 611, in dict_merge\n",
      "    raise DatasetBuildError(\n",
      "cfgrib.dataset.DatasetBuildError: key present and new value is different: key='heightAboveGround' value=Variable(dimensions=(), data=2.0) new_value=Variable(dimensions=(), data=10.0)\n"
     ]
    },
    {
     "name": "stdout",
     "output_type": "stream",
     "text": [
      "/work/FAC/FGSE/IDYST/tbeucler/default/raw_data/MF_ML_PREDICT/graphcast_d_20200407_t_1200_114h.grib\n"
     ]
    },
    {
     "name": "stderr",
     "output_type": "stream",
     "text": [
      "skipping variable: paramId==165 shortName='u10'\n",
      "Traceback (most recent call last):\n",
      "  File \"/work/FAC/FGSE/IDYST/tbeucler/default/mfeldman/miniforge3/envs/wb/lib/python3.11/site-packages/cfgrib/dataset.py\", line 680, in build_dataset_components\n",
      "    dict_merge(variables, coord_vars)\n",
      "  File \"/work/FAC/FGSE/IDYST/tbeucler/default/mfeldman/miniforge3/envs/wb/lib/python3.11/site-packages/cfgrib/dataset.py\", line 611, in dict_merge\n",
      "    raise DatasetBuildError(\n",
      "cfgrib.dataset.DatasetBuildError: key present and new value is different: key='heightAboveGround' value=Variable(dimensions=(), data=2.0) new_value=Variable(dimensions=(), data=10.0)\n",
      "skipping variable: paramId==166 shortName='v10'\n",
      "Traceback (most recent call last):\n",
      "  File \"/work/FAC/FGSE/IDYST/tbeucler/default/mfeldman/miniforge3/envs/wb/lib/python3.11/site-packages/cfgrib/dataset.py\", line 680, in build_dataset_components\n",
      "    dict_merge(variables, coord_vars)\n",
      "  File \"/work/FAC/FGSE/IDYST/tbeucler/default/mfeldman/miniforge3/envs/wb/lib/python3.11/site-packages/cfgrib/dataset.py\", line 611, in dict_merge\n",
      "    raise DatasetBuildError(\n",
      "cfgrib.dataset.DatasetBuildError: key present and new value is different: key='heightAboveGround' value=Variable(dimensions=(), data=2.0) new_value=Variable(dimensions=(), data=10.0)\n"
     ]
    },
    {
     "name": "stdout",
     "output_type": "stream",
     "text": [
      "/work/FAC/FGSE/IDYST/tbeucler/default/raw_data/MF_ML_PREDICT/graphcast_d_20200407_t_1200_120h.grib\n"
     ]
    },
    {
     "name": "stderr",
     "output_type": "stream",
     "text": [
      "skipping variable: paramId==165 shortName='u10'\n",
      "Traceback (most recent call last):\n",
      "  File \"/work/FAC/FGSE/IDYST/tbeucler/default/mfeldman/miniforge3/envs/wb/lib/python3.11/site-packages/cfgrib/dataset.py\", line 680, in build_dataset_components\n",
      "    dict_merge(variables, coord_vars)\n",
      "  File \"/work/FAC/FGSE/IDYST/tbeucler/default/mfeldman/miniforge3/envs/wb/lib/python3.11/site-packages/cfgrib/dataset.py\", line 611, in dict_merge\n",
      "    raise DatasetBuildError(\n",
      "cfgrib.dataset.DatasetBuildError: key present and new value is different: key='heightAboveGround' value=Variable(dimensions=(), data=2.0) new_value=Variable(dimensions=(), data=10.0)\n",
      "skipping variable: paramId==166 shortName='v10'\n",
      "Traceback (most recent call last):\n",
      "  File \"/work/FAC/FGSE/IDYST/tbeucler/default/mfeldman/miniforge3/envs/wb/lib/python3.11/site-packages/cfgrib/dataset.py\", line 680, in build_dataset_components\n",
      "    dict_merge(variables, coord_vars)\n",
      "  File \"/work/FAC/FGSE/IDYST/tbeucler/default/mfeldman/miniforge3/envs/wb/lib/python3.11/site-packages/cfgrib/dataset.py\", line 611, in dict_merge\n",
      "    raise DatasetBuildError(\n",
      "cfgrib.dataset.DatasetBuildError: key present and new value is different: key='heightAboveGround' value=Variable(dimensions=(), data=2.0) new_value=Variable(dimensions=(), data=10.0)\n"
     ]
    },
    {
     "name": "stdout",
     "output_type": "stream",
     "text": [
      "/work/FAC/FGSE/IDYST/tbeucler/default/raw_data/MF_ML_PREDICT/graphcast_d_20200407_t_1200_126h.grib\n"
     ]
    },
    {
     "name": "stderr",
     "output_type": "stream",
     "text": [
      "skipping variable: paramId==165 shortName='u10'\n",
      "Traceback (most recent call last):\n",
      "  File \"/work/FAC/FGSE/IDYST/tbeucler/default/mfeldman/miniforge3/envs/wb/lib/python3.11/site-packages/cfgrib/dataset.py\", line 680, in build_dataset_components\n",
      "    dict_merge(variables, coord_vars)\n",
      "  File \"/work/FAC/FGSE/IDYST/tbeucler/default/mfeldman/miniforge3/envs/wb/lib/python3.11/site-packages/cfgrib/dataset.py\", line 611, in dict_merge\n",
      "    raise DatasetBuildError(\n",
      "cfgrib.dataset.DatasetBuildError: key present and new value is different: key='heightAboveGround' value=Variable(dimensions=(), data=2.0) new_value=Variable(dimensions=(), data=10.0)\n",
      "skipping variable: paramId==166 shortName='v10'\n",
      "Traceback (most recent call last):\n",
      "  File \"/work/FAC/FGSE/IDYST/tbeucler/default/mfeldman/miniforge3/envs/wb/lib/python3.11/site-packages/cfgrib/dataset.py\", line 680, in build_dataset_components\n",
      "    dict_merge(variables, coord_vars)\n",
      "  File \"/work/FAC/FGSE/IDYST/tbeucler/default/mfeldman/miniforge3/envs/wb/lib/python3.11/site-packages/cfgrib/dataset.py\", line 611, in dict_merge\n",
      "    raise DatasetBuildError(\n",
      "cfgrib.dataset.DatasetBuildError: key present and new value is different: key='heightAboveGround' value=Variable(dimensions=(), data=2.0) new_value=Variable(dimensions=(), data=10.0)\n"
     ]
    },
    {
     "name": "stdout",
     "output_type": "stream",
     "text": [
      "/work/FAC/FGSE/IDYST/tbeucler/default/raw_data/MF_ML_PREDICT/graphcast_d_20200407_t_1200_132h.grib\n"
     ]
    },
    {
     "name": "stderr",
     "output_type": "stream",
     "text": [
      "skipping variable: paramId==165 shortName='u10'\n",
      "Traceback (most recent call last):\n",
      "  File \"/work/FAC/FGSE/IDYST/tbeucler/default/mfeldman/miniforge3/envs/wb/lib/python3.11/site-packages/cfgrib/dataset.py\", line 680, in build_dataset_components\n",
      "    dict_merge(variables, coord_vars)\n",
      "  File \"/work/FAC/FGSE/IDYST/tbeucler/default/mfeldman/miniforge3/envs/wb/lib/python3.11/site-packages/cfgrib/dataset.py\", line 611, in dict_merge\n",
      "    raise DatasetBuildError(\n",
      "cfgrib.dataset.DatasetBuildError: key present and new value is different: key='heightAboveGround' value=Variable(dimensions=(), data=2.0) new_value=Variable(dimensions=(), data=10.0)\n",
      "skipping variable: paramId==166 shortName='v10'\n",
      "Traceback (most recent call last):\n",
      "  File \"/work/FAC/FGSE/IDYST/tbeucler/default/mfeldman/miniforge3/envs/wb/lib/python3.11/site-packages/cfgrib/dataset.py\", line 680, in build_dataset_components\n",
      "    dict_merge(variables, coord_vars)\n",
      "  File \"/work/FAC/FGSE/IDYST/tbeucler/default/mfeldman/miniforge3/envs/wb/lib/python3.11/site-packages/cfgrib/dataset.py\", line 611, in dict_merge\n",
      "    raise DatasetBuildError(\n",
      "cfgrib.dataset.DatasetBuildError: key present and new value is different: key='heightAboveGround' value=Variable(dimensions=(), data=2.0) new_value=Variable(dimensions=(), data=10.0)\n"
     ]
    },
    {
     "name": "stdout",
     "output_type": "stream",
     "text": [
      "/work/FAC/FGSE/IDYST/tbeucler/default/raw_data/MF_ML_PREDICT/graphcast_d_20200407_t_1200_138h.grib\n"
     ]
    },
    {
     "name": "stderr",
     "output_type": "stream",
     "text": [
      "skipping variable: paramId==165 shortName='u10'\n",
      "Traceback (most recent call last):\n",
      "  File \"/work/FAC/FGSE/IDYST/tbeucler/default/mfeldman/miniforge3/envs/wb/lib/python3.11/site-packages/cfgrib/dataset.py\", line 680, in build_dataset_components\n",
      "    dict_merge(variables, coord_vars)\n",
      "  File \"/work/FAC/FGSE/IDYST/tbeucler/default/mfeldman/miniforge3/envs/wb/lib/python3.11/site-packages/cfgrib/dataset.py\", line 611, in dict_merge\n",
      "    raise DatasetBuildError(\n",
      "cfgrib.dataset.DatasetBuildError: key present and new value is different: key='heightAboveGround' value=Variable(dimensions=(), data=2.0) new_value=Variable(dimensions=(), data=10.0)\n",
      "skipping variable: paramId==166 shortName='v10'\n",
      "Traceback (most recent call last):\n",
      "  File \"/work/FAC/FGSE/IDYST/tbeucler/default/mfeldman/miniforge3/envs/wb/lib/python3.11/site-packages/cfgrib/dataset.py\", line 680, in build_dataset_components\n",
      "    dict_merge(variables, coord_vars)\n",
      "  File \"/work/FAC/FGSE/IDYST/tbeucler/default/mfeldman/miniforge3/envs/wb/lib/python3.11/site-packages/cfgrib/dataset.py\", line 611, in dict_merge\n",
      "    raise DatasetBuildError(\n",
      "cfgrib.dataset.DatasetBuildError: key present and new value is different: key='heightAboveGround' value=Variable(dimensions=(), data=2.0) new_value=Variable(dimensions=(), data=10.0)\n"
     ]
    },
    {
     "name": "stdout",
     "output_type": "stream",
     "text": [
      "/work/FAC/FGSE/IDYST/tbeucler/default/raw_data/MF_ML_PREDICT/graphcast_d_20200407_t_1200_144h.grib\n"
     ]
    },
    {
     "name": "stderr",
     "output_type": "stream",
     "text": [
      "skipping variable: paramId==165 shortName='u10'\n",
      "Traceback (most recent call last):\n",
      "  File \"/work/FAC/FGSE/IDYST/tbeucler/default/mfeldman/miniforge3/envs/wb/lib/python3.11/site-packages/cfgrib/dataset.py\", line 680, in build_dataset_components\n",
      "    dict_merge(variables, coord_vars)\n",
      "  File \"/work/FAC/FGSE/IDYST/tbeucler/default/mfeldman/miniforge3/envs/wb/lib/python3.11/site-packages/cfgrib/dataset.py\", line 611, in dict_merge\n",
      "    raise DatasetBuildError(\n",
      "cfgrib.dataset.DatasetBuildError: key present and new value is different: key='heightAboveGround' value=Variable(dimensions=(), data=2.0) new_value=Variable(dimensions=(), data=10.0)\n",
      "skipping variable: paramId==166 shortName='v10'\n",
      "Traceback (most recent call last):\n",
      "  File \"/work/FAC/FGSE/IDYST/tbeucler/default/mfeldman/miniforge3/envs/wb/lib/python3.11/site-packages/cfgrib/dataset.py\", line 680, in build_dataset_components\n",
      "    dict_merge(variables, coord_vars)\n",
      "  File \"/work/FAC/FGSE/IDYST/tbeucler/default/mfeldman/miniforge3/envs/wb/lib/python3.11/site-packages/cfgrib/dataset.py\", line 611, in dict_merge\n",
      "    raise DatasetBuildError(\n",
      "cfgrib.dataset.DatasetBuildError: key present and new value is different: key='heightAboveGround' value=Variable(dimensions=(), data=2.0) new_value=Variable(dimensions=(), data=10.0)\n"
     ]
    },
    {
     "name": "stdout",
     "output_type": "stream",
     "text": [
      "/work/FAC/FGSE/IDYST/tbeucler/default/raw_data/MF_ML_PREDICT/graphcast_d_20200407_t_1200_150h.grib\n"
     ]
    },
    {
     "name": "stderr",
     "output_type": "stream",
     "text": [
      "skipping variable: paramId==165 shortName='u10'\n",
      "Traceback (most recent call last):\n",
      "  File \"/work/FAC/FGSE/IDYST/tbeucler/default/mfeldman/miniforge3/envs/wb/lib/python3.11/site-packages/cfgrib/dataset.py\", line 680, in build_dataset_components\n",
      "    dict_merge(variables, coord_vars)\n",
      "  File \"/work/FAC/FGSE/IDYST/tbeucler/default/mfeldman/miniforge3/envs/wb/lib/python3.11/site-packages/cfgrib/dataset.py\", line 611, in dict_merge\n",
      "    raise DatasetBuildError(\n",
      "cfgrib.dataset.DatasetBuildError: key present and new value is different: key='heightAboveGround' value=Variable(dimensions=(), data=2.0) new_value=Variable(dimensions=(), data=10.0)\n",
      "skipping variable: paramId==166 shortName='v10'\n",
      "Traceback (most recent call last):\n",
      "  File \"/work/FAC/FGSE/IDYST/tbeucler/default/mfeldman/miniforge3/envs/wb/lib/python3.11/site-packages/cfgrib/dataset.py\", line 680, in build_dataset_components\n",
      "    dict_merge(variables, coord_vars)\n",
      "  File \"/work/FAC/FGSE/IDYST/tbeucler/default/mfeldman/miniforge3/envs/wb/lib/python3.11/site-packages/cfgrib/dataset.py\", line 611, in dict_merge\n",
      "    raise DatasetBuildError(\n",
      "cfgrib.dataset.DatasetBuildError: key present and new value is different: key='heightAboveGround' value=Variable(dimensions=(), data=2.0) new_value=Variable(dimensions=(), data=10.0)\n",
      "/tmp/ipykernel_3765897/1799258866.py:91: UserWarning: set_ticklabels() should only be used with a fixed number of ticks, i.e. after set_ticks() or using a FixedLocator.\n",
      "  ax.set_xticklabels(xr_era5.time.dt.strftime('%Y%m%d%H').values,rotation=90)\n"
     ]
    },
    {
     "name": "stdout",
     "output_type": "stream",
     "text": [
      "['96' '102' '108' '114' '120' '126' '132' '138']\n",
      "/work/FAC/FGSE/IDYST/tbeucler/default/raw_data/MF_ML_PREDICT/graphcast_d_20200408_t_0000_96h.grib\n"
     ]
    },
    {
     "name": "stderr",
     "output_type": "stream",
     "text": [
      "skipping variable: paramId==165 shortName='u10'\n",
      "Traceback (most recent call last):\n",
      "  File \"/work/FAC/FGSE/IDYST/tbeucler/default/mfeldman/miniforge3/envs/wb/lib/python3.11/site-packages/cfgrib/dataset.py\", line 680, in build_dataset_components\n",
      "    dict_merge(variables, coord_vars)\n",
      "  File \"/work/FAC/FGSE/IDYST/tbeucler/default/mfeldman/miniforge3/envs/wb/lib/python3.11/site-packages/cfgrib/dataset.py\", line 611, in dict_merge\n",
      "    raise DatasetBuildError(\n",
      "cfgrib.dataset.DatasetBuildError: key present and new value is different: key='heightAboveGround' value=Variable(dimensions=(), data=2.0) new_value=Variable(dimensions=(), data=10.0)\n",
      "skipping variable: paramId==166 shortName='v10'\n",
      "Traceback (most recent call last):\n",
      "  File \"/work/FAC/FGSE/IDYST/tbeucler/default/mfeldman/miniforge3/envs/wb/lib/python3.11/site-packages/cfgrib/dataset.py\", line 680, in build_dataset_components\n",
      "    dict_merge(variables, coord_vars)\n",
      "  File \"/work/FAC/FGSE/IDYST/tbeucler/default/mfeldman/miniforge3/envs/wb/lib/python3.11/site-packages/cfgrib/dataset.py\", line 611, in dict_merge\n",
      "    raise DatasetBuildError(\n",
      "cfgrib.dataset.DatasetBuildError: key present and new value is different: key='heightAboveGround' value=Variable(dimensions=(), data=2.0) new_value=Variable(dimensions=(), data=10.0)\n"
     ]
    },
    {
     "name": "stdout",
     "output_type": "stream",
     "text": [
      "/work/FAC/FGSE/IDYST/tbeucler/default/raw_data/MF_ML_PREDICT/graphcast_d_20200408_t_0000_102h.grib\n"
     ]
    },
    {
     "name": "stderr",
     "output_type": "stream",
     "text": [
      "skipping variable: paramId==165 shortName='u10'\n",
      "Traceback (most recent call last):\n",
      "  File \"/work/FAC/FGSE/IDYST/tbeucler/default/mfeldman/miniforge3/envs/wb/lib/python3.11/site-packages/cfgrib/dataset.py\", line 680, in build_dataset_components\n",
      "    dict_merge(variables, coord_vars)\n",
      "  File \"/work/FAC/FGSE/IDYST/tbeucler/default/mfeldman/miniforge3/envs/wb/lib/python3.11/site-packages/cfgrib/dataset.py\", line 611, in dict_merge\n",
      "    raise DatasetBuildError(\n",
      "cfgrib.dataset.DatasetBuildError: key present and new value is different: key='heightAboveGround' value=Variable(dimensions=(), data=2.0) new_value=Variable(dimensions=(), data=10.0)\n",
      "skipping variable: paramId==166 shortName='v10'\n",
      "Traceback (most recent call last):\n",
      "  File \"/work/FAC/FGSE/IDYST/tbeucler/default/mfeldman/miniforge3/envs/wb/lib/python3.11/site-packages/cfgrib/dataset.py\", line 680, in build_dataset_components\n",
      "    dict_merge(variables, coord_vars)\n",
      "  File \"/work/FAC/FGSE/IDYST/tbeucler/default/mfeldman/miniforge3/envs/wb/lib/python3.11/site-packages/cfgrib/dataset.py\", line 611, in dict_merge\n",
      "    raise DatasetBuildError(\n",
      "cfgrib.dataset.DatasetBuildError: key present and new value is different: key='heightAboveGround' value=Variable(dimensions=(), data=2.0) new_value=Variable(dimensions=(), data=10.0)\n"
     ]
    },
    {
     "name": "stdout",
     "output_type": "stream",
     "text": [
      "/work/FAC/FGSE/IDYST/tbeucler/default/raw_data/MF_ML_PREDICT/graphcast_d_20200408_t_0000_108h.grib\n"
     ]
    },
    {
     "name": "stderr",
     "output_type": "stream",
     "text": [
      "skipping variable: paramId==165 shortName='u10'\n",
      "Traceback (most recent call last):\n",
      "  File \"/work/FAC/FGSE/IDYST/tbeucler/default/mfeldman/miniforge3/envs/wb/lib/python3.11/site-packages/cfgrib/dataset.py\", line 680, in build_dataset_components\n",
      "    dict_merge(variables, coord_vars)\n",
      "  File \"/work/FAC/FGSE/IDYST/tbeucler/default/mfeldman/miniforge3/envs/wb/lib/python3.11/site-packages/cfgrib/dataset.py\", line 611, in dict_merge\n",
      "    raise DatasetBuildError(\n",
      "cfgrib.dataset.DatasetBuildError: key present and new value is different: key='heightAboveGround' value=Variable(dimensions=(), data=2.0) new_value=Variable(dimensions=(), data=10.0)\n",
      "skipping variable: paramId==166 shortName='v10'\n",
      "Traceback (most recent call last):\n",
      "  File \"/work/FAC/FGSE/IDYST/tbeucler/default/mfeldman/miniforge3/envs/wb/lib/python3.11/site-packages/cfgrib/dataset.py\", line 680, in build_dataset_components\n",
      "    dict_merge(variables, coord_vars)\n",
      "  File \"/work/FAC/FGSE/IDYST/tbeucler/default/mfeldman/miniforge3/envs/wb/lib/python3.11/site-packages/cfgrib/dataset.py\", line 611, in dict_merge\n",
      "    raise DatasetBuildError(\n",
      "cfgrib.dataset.DatasetBuildError: key present and new value is different: key='heightAboveGround' value=Variable(dimensions=(), data=2.0) new_value=Variable(dimensions=(), data=10.0)\n"
     ]
    },
    {
     "name": "stdout",
     "output_type": "stream",
     "text": [
      "/work/FAC/FGSE/IDYST/tbeucler/default/raw_data/MF_ML_PREDICT/graphcast_d_20200408_t_0000_114h.grib\n"
     ]
    },
    {
     "name": "stderr",
     "output_type": "stream",
     "text": [
      "skipping variable: paramId==165 shortName='u10'\n",
      "Traceback (most recent call last):\n",
      "  File \"/work/FAC/FGSE/IDYST/tbeucler/default/mfeldman/miniforge3/envs/wb/lib/python3.11/site-packages/cfgrib/dataset.py\", line 680, in build_dataset_components\n",
      "    dict_merge(variables, coord_vars)\n",
      "  File \"/work/FAC/FGSE/IDYST/tbeucler/default/mfeldman/miniforge3/envs/wb/lib/python3.11/site-packages/cfgrib/dataset.py\", line 611, in dict_merge\n",
      "    raise DatasetBuildError(\n",
      "cfgrib.dataset.DatasetBuildError: key present and new value is different: key='heightAboveGround' value=Variable(dimensions=(), data=2.0) new_value=Variable(dimensions=(), data=10.0)\n",
      "skipping variable: paramId==166 shortName='v10'\n",
      "Traceback (most recent call last):\n",
      "  File \"/work/FAC/FGSE/IDYST/tbeucler/default/mfeldman/miniforge3/envs/wb/lib/python3.11/site-packages/cfgrib/dataset.py\", line 680, in build_dataset_components\n",
      "    dict_merge(variables, coord_vars)\n",
      "  File \"/work/FAC/FGSE/IDYST/tbeucler/default/mfeldman/miniforge3/envs/wb/lib/python3.11/site-packages/cfgrib/dataset.py\", line 611, in dict_merge\n",
      "    raise DatasetBuildError(\n",
      "cfgrib.dataset.DatasetBuildError: key present and new value is different: key='heightAboveGround' value=Variable(dimensions=(), data=2.0) new_value=Variable(dimensions=(), data=10.0)\n"
     ]
    },
    {
     "name": "stdout",
     "output_type": "stream",
     "text": [
      "/work/FAC/FGSE/IDYST/tbeucler/default/raw_data/MF_ML_PREDICT/graphcast_d_20200408_t_0000_120h.grib\n"
     ]
    },
    {
     "name": "stderr",
     "output_type": "stream",
     "text": [
      "skipping variable: paramId==165 shortName='u10'\n",
      "Traceback (most recent call last):\n",
      "  File \"/work/FAC/FGSE/IDYST/tbeucler/default/mfeldman/miniforge3/envs/wb/lib/python3.11/site-packages/cfgrib/dataset.py\", line 680, in build_dataset_components\n",
      "    dict_merge(variables, coord_vars)\n",
      "  File \"/work/FAC/FGSE/IDYST/tbeucler/default/mfeldman/miniforge3/envs/wb/lib/python3.11/site-packages/cfgrib/dataset.py\", line 611, in dict_merge\n",
      "    raise DatasetBuildError(\n",
      "cfgrib.dataset.DatasetBuildError: key present and new value is different: key='heightAboveGround' value=Variable(dimensions=(), data=2.0) new_value=Variable(dimensions=(), data=10.0)\n",
      "skipping variable: paramId==166 shortName='v10'\n",
      "Traceback (most recent call last):\n",
      "  File \"/work/FAC/FGSE/IDYST/tbeucler/default/mfeldman/miniforge3/envs/wb/lib/python3.11/site-packages/cfgrib/dataset.py\", line 680, in build_dataset_components\n",
      "    dict_merge(variables, coord_vars)\n",
      "  File \"/work/FAC/FGSE/IDYST/tbeucler/default/mfeldman/miniforge3/envs/wb/lib/python3.11/site-packages/cfgrib/dataset.py\", line 611, in dict_merge\n",
      "    raise DatasetBuildError(\n",
      "cfgrib.dataset.DatasetBuildError: key present and new value is different: key='heightAboveGround' value=Variable(dimensions=(), data=2.0) new_value=Variable(dimensions=(), data=10.0)\n"
     ]
    },
    {
     "name": "stdout",
     "output_type": "stream",
     "text": [
      "/work/FAC/FGSE/IDYST/tbeucler/default/raw_data/MF_ML_PREDICT/graphcast_d_20200408_t_0000_126h.grib\n"
     ]
    },
    {
     "name": "stderr",
     "output_type": "stream",
     "text": [
      "skipping variable: paramId==165 shortName='u10'\n",
      "Traceback (most recent call last):\n",
      "  File \"/work/FAC/FGSE/IDYST/tbeucler/default/mfeldman/miniforge3/envs/wb/lib/python3.11/site-packages/cfgrib/dataset.py\", line 680, in build_dataset_components\n",
      "    dict_merge(variables, coord_vars)\n",
      "  File \"/work/FAC/FGSE/IDYST/tbeucler/default/mfeldman/miniforge3/envs/wb/lib/python3.11/site-packages/cfgrib/dataset.py\", line 611, in dict_merge\n",
      "    raise DatasetBuildError(\n",
      "cfgrib.dataset.DatasetBuildError: key present and new value is different: key='heightAboveGround' value=Variable(dimensions=(), data=2.0) new_value=Variable(dimensions=(), data=10.0)\n",
      "skipping variable: paramId==166 shortName='v10'\n",
      "Traceback (most recent call last):\n",
      "  File \"/work/FAC/FGSE/IDYST/tbeucler/default/mfeldman/miniforge3/envs/wb/lib/python3.11/site-packages/cfgrib/dataset.py\", line 680, in build_dataset_components\n",
      "    dict_merge(variables, coord_vars)\n",
      "  File \"/work/FAC/FGSE/IDYST/tbeucler/default/mfeldman/miniforge3/envs/wb/lib/python3.11/site-packages/cfgrib/dataset.py\", line 611, in dict_merge\n",
      "    raise DatasetBuildError(\n",
      "cfgrib.dataset.DatasetBuildError: key present and new value is different: key='heightAboveGround' value=Variable(dimensions=(), data=2.0) new_value=Variable(dimensions=(), data=10.0)\n"
     ]
    },
    {
     "name": "stdout",
     "output_type": "stream",
     "text": [
      "/work/FAC/FGSE/IDYST/tbeucler/default/raw_data/MF_ML_PREDICT/graphcast_d_20200408_t_0000_132h.grib\n"
     ]
    },
    {
     "name": "stderr",
     "output_type": "stream",
     "text": [
      "skipping variable: paramId==165 shortName='u10'\n",
      "Traceback (most recent call last):\n",
      "  File \"/work/FAC/FGSE/IDYST/tbeucler/default/mfeldman/miniforge3/envs/wb/lib/python3.11/site-packages/cfgrib/dataset.py\", line 680, in build_dataset_components\n",
      "    dict_merge(variables, coord_vars)\n",
      "  File \"/work/FAC/FGSE/IDYST/tbeucler/default/mfeldman/miniforge3/envs/wb/lib/python3.11/site-packages/cfgrib/dataset.py\", line 611, in dict_merge\n",
      "    raise DatasetBuildError(\n",
      "cfgrib.dataset.DatasetBuildError: key present and new value is different: key='heightAboveGround' value=Variable(dimensions=(), data=2.0) new_value=Variable(dimensions=(), data=10.0)\n",
      "skipping variable: paramId==166 shortName='v10'\n",
      "Traceback (most recent call last):\n",
      "  File \"/work/FAC/FGSE/IDYST/tbeucler/default/mfeldman/miniforge3/envs/wb/lib/python3.11/site-packages/cfgrib/dataset.py\", line 680, in build_dataset_components\n",
      "    dict_merge(variables, coord_vars)\n",
      "  File \"/work/FAC/FGSE/IDYST/tbeucler/default/mfeldman/miniforge3/envs/wb/lib/python3.11/site-packages/cfgrib/dataset.py\", line 611, in dict_merge\n",
      "    raise DatasetBuildError(\n",
      "cfgrib.dataset.DatasetBuildError: key present and new value is different: key='heightAboveGround' value=Variable(dimensions=(), data=2.0) new_value=Variable(dimensions=(), data=10.0)\n"
     ]
    },
    {
     "name": "stdout",
     "output_type": "stream",
     "text": [
      "/work/FAC/FGSE/IDYST/tbeucler/default/raw_data/MF_ML_PREDICT/graphcast_d_20200408_t_0000_138h.grib\n"
     ]
    },
    {
     "name": "stderr",
     "output_type": "stream",
     "text": [
      "skipping variable: paramId==165 shortName='u10'\n",
      "Traceback (most recent call last):\n",
      "  File \"/work/FAC/FGSE/IDYST/tbeucler/default/mfeldman/miniforge3/envs/wb/lib/python3.11/site-packages/cfgrib/dataset.py\", line 680, in build_dataset_components\n",
      "    dict_merge(variables, coord_vars)\n",
      "  File \"/work/FAC/FGSE/IDYST/tbeucler/default/mfeldman/miniforge3/envs/wb/lib/python3.11/site-packages/cfgrib/dataset.py\", line 611, in dict_merge\n",
      "    raise DatasetBuildError(\n",
      "cfgrib.dataset.DatasetBuildError: key present and new value is different: key='heightAboveGround' value=Variable(dimensions=(), data=2.0) new_value=Variable(dimensions=(), data=10.0)\n",
      "skipping variable: paramId==166 shortName='v10'\n",
      "Traceback (most recent call last):\n",
      "  File \"/work/FAC/FGSE/IDYST/tbeucler/default/mfeldman/miniforge3/envs/wb/lib/python3.11/site-packages/cfgrib/dataset.py\", line 680, in build_dataset_components\n",
      "    dict_merge(variables, coord_vars)\n",
      "  File \"/work/FAC/FGSE/IDYST/tbeucler/default/mfeldman/miniforge3/envs/wb/lib/python3.11/site-packages/cfgrib/dataset.py\", line 611, in dict_merge\n",
      "    raise DatasetBuildError(\n",
      "cfgrib.dataset.DatasetBuildError: key present and new value is different: key='heightAboveGround' value=Variable(dimensions=(), data=2.0) new_value=Variable(dimensions=(), data=10.0)\n",
      "/tmp/ipykernel_3765897/1799258866.py:91: UserWarning: set_ticklabels() should only be used with a fixed number of ticks, i.e. after set_ticks() or using a FixedLocator.\n",
      "  ax.set_xticklabels(xr_era5.time.dt.strftime('%Y%m%d%H').values,rotation=90)\n"
     ]
    },
    {
     "name": "stdout",
     "output_type": "stream",
     "text": [
      "['84' '90' '96' '102' '108' '114' '120' '126']\n",
      "/work/FAC/FGSE/IDYST/tbeucler/default/raw_data/MF_ML_PREDICT/graphcast_d_20200408_t_1200_84h.grib\n"
     ]
    },
    {
     "name": "stderr",
     "output_type": "stream",
     "text": [
      "skipping variable: paramId==165 shortName='u10'\n",
      "Traceback (most recent call last):\n",
      "  File \"/work/FAC/FGSE/IDYST/tbeucler/default/mfeldman/miniforge3/envs/wb/lib/python3.11/site-packages/cfgrib/dataset.py\", line 680, in build_dataset_components\n",
      "    dict_merge(variables, coord_vars)\n",
      "  File \"/work/FAC/FGSE/IDYST/tbeucler/default/mfeldman/miniforge3/envs/wb/lib/python3.11/site-packages/cfgrib/dataset.py\", line 611, in dict_merge\n",
      "    raise DatasetBuildError(\n",
      "cfgrib.dataset.DatasetBuildError: key present and new value is different: key='heightAboveGround' value=Variable(dimensions=(), data=2.0) new_value=Variable(dimensions=(), data=10.0)\n",
      "skipping variable: paramId==166 shortName='v10'\n",
      "Traceback (most recent call last):\n",
      "  File \"/work/FAC/FGSE/IDYST/tbeucler/default/mfeldman/miniforge3/envs/wb/lib/python3.11/site-packages/cfgrib/dataset.py\", line 680, in build_dataset_components\n",
      "    dict_merge(variables, coord_vars)\n",
      "  File \"/work/FAC/FGSE/IDYST/tbeucler/default/mfeldman/miniforge3/envs/wb/lib/python3.11/site-packages/cfgrib/dataset.py\", line 611, in dict_merge\n",
      "    raise DatasetBuildError(\n",
      "cfgrib.dataset.DatasetBuildError: key present and new value is different: key='heightAboveGround' value=Variable(dimensions=(), data=2.0) new_value=Variable(dimensions=(), data=10.0)\n"
     ]
    },
    {
     "name": "stdout",
     "output_type": "stream",
     "text": [
      "/work/FAC/FGSE/IDYST/tbeucler/default/raw_data/MF_ML_PREDICT/graphcast_d_20200408_t_1200_90h.grib\n"
     ]
    },
    {
     "name": "stderr",
     "output_type": "stream",
     "text": [
      "skipping variable: paramId==165 shortName='u10'\n",
      "Traceback (most recent call last):\n",
      "  File \"/work/FAC/FGSE/IDYST/tbeucler/default/mfeldman/miniforge3/envs/wb/lib/python3.11/site-packages/cfgrib/dataset.py\", line 680, in build_dataset_components\n",
      "    dict_merge(variables, coord_vars)\n",
      "  File \"/work/FAC/FGSE/IDYST/tbeucler/default/mfeldman/miniforge3/envs/wb/lib/python3.11/site-packages/cfgrib/dataset.py\", line 611, in dict_merge\n",
      "    raise DatasetBuildError(\n",
      "cfgrib.dataset.DatasetBuildError: key present and new value is different: key='heightAboveGround' value=Variable(dimensions=(), data=2.0) new_value=Variable(dimensions=(), data=10.0)\n",
      "skipping variable: paramId==166 shortName='v10'\n",
      "Traceback (most recent call last):\n",
      "  File \"/work/FAC/FGSE/IDYST/tbeucler/default/mfeldman/miniforge3/envs/wb/lib/python3.11/site-packages/cfgrib/dataset.py\", line 680, in build_dataset_components\n",
      "    dict_merge(variables, coord_vars)\n",
      "  File \"/work/FAC/FGSE/IDYST/tbeucler/default/mfeldman/miniforge3/envs/wb/lib/python3.11/site-packages/cfgrib/dataset.py\", line 611, in dict_merge\n",
      "    raise DatasetBuildError(\n",
      "cfgrib.dataset.DatasetBuildError: key present and new value is different: key='heightAboveGround' value=Variable(dimensions=(), data=2.0) new_value=Variable(dimensions=(), data=10.0)\n"
     ]
    },
    {
     "name": "stdout",
     "output_type": "stream",
     "text": [
      "/work/FAC/FGSE/IDYST/tbeucler/default/raw_data/MF_ML_PREDICT/graphcast_d_20200408_t_1200_96h.grib\n"
     ]
    },
    {
     "name": "stderr",
     "output_type": "stream",
     "text": [
      "skipping variable: paramId==165 shortName='u10'\n",
      "Traceback (most recent call last):\n",
      "  File \"/work/FAC/FGSE/IDYST/tbeucler/default/mfeldman/miniforge3/envs/wb/lib/python3.11/site-packages/cfgrib/dataset.py\", line 680, in build_dataset_components\n",
      "    dict_merge(variables, coord_vars)\n",
      "  File \"/work/FAC/FGSE/IDYST/tbeucler/default/mfeldman/miniforge3/envs/wb/lib/python3.11/site-packages/cfgrib/dataset.py\", line 611, in dict_merge\n",
      "    raise DatasetBuildError(\n",
      "cfgrib.dataset.DatasetBuildError: key present and new value is different: key='heightAboveGround' value=Variable(dimensions=(), data=2.0) new_value=Variable(dimensions=(), data=10.0)\n",
      "skipping variable: paramId==166 shortName='v10'\n",
      "Traceback (most recent call last):\n",
      "  File \"/work/FAC/FGSE/IDYST/tbeucler/default/mfeldman/miniforge3/envs/wb/lib/python3.11/site-packages/cfgrib/dataset.py\", line 680, in build_dataset_components\n",
      "    dict_merge(variables, coord_vars)\n",
      "  File \"/work/FAC/FGSE/IDYST/tbeucler/default/mfeldman/miniforge3/envs/wb/lib/python3.11/site-packages/cfgrib/dataset.py\", line 611, in dict_merge\n",
      "    raise DatasetBuildError(\n",
      "cfgrib.dataset.DatasetBuildError: key present and new value is different: key='heightAboveGround' value=Variable(dimensions=(), data=2.0) new_value=Variable(dimensions=(), data=10.0)\n"
     ]
    },
    {
     "name": "stdout",
     "output_type": "stream",
     "text": [
      "/work/FAC/FGSE/IDYST/tbeucler/default/raw_data/MF_ML_PREDICT/graphcast_d_20200408_t_1200_102h.grib\n"
     ]
    },
    {
     "name": "stderr",
     "output_type": "stream",
     "text": [
      "skipping variable: paramId==165 shortName='u10'\n",
      "Traceback (most recent call last):\n",
      "  File \"/work/FAC/FGSE/IDYST/tbeucler/default/mfeldman/miniforge3/envs/wb/lib/python3.11/site-packages/cfgrib/dataset.py\", line 680, in build_dataset_components\n",
      "    dict_merge(variables, coord_vars)\n",
      "  File \"/work/FAC/FGSE/IDYST/tbeucler/default/mfeldman/miniforge3/envs/wb/lib/python3.11/site-packages/cfgrib/dataset.py\", line 611, in dict_merge\n",
      "    raise DatasetBuildError(\n",
      "cfgrib.dataset.DatasetBuildError: key present and new value is different: key='heightAboveGround' value=Variable(dimensions=(), data=2.0) new_value=Variable(dimensions=(), data=10.0)\n",
      "skipping variable: paramId==166 shortName='v10'\n",
      "Traceback (most recent call last):\n",
      "  File \"/work/FAC/FGSE/IDYST/tbeucler/default/mfeldman/miniforge3/envs/wb/lib/python3.11/site-packages/cfgrib/dataset.py\", line 680, in build_dataset_components\n",
      "    dict_merge(variables, coord_vars)\n",
      "  File \"/work/FAC/FGSE/IDYST/tbeucler/default/mfeldman/miniforge3/envs/wb/lib/python3.11/site-packages/cfgrib/dataset.py\", line 611, in dict_merge\n",
      "    raise DatasetBuildError(\n",
      "cfgrib.dataset.DatasetBuildError: key present and new value is different: key='heightAboveGround' value=Variable(dimensions=(), data=2.0) new_value=Variable(dimensions=(), data=10.0)\n"
     ]
    },
    {
     "name": "stdout",
     "output_type": "stream",
     "text": [
      "/work/FAC/FGSE/IDYST/tbeucler/default/raw_data/MF_ML_PREDICT/graphcast_d_20200408_t_1200_108h.grib\n"
     ]
    },
    {
     "name": "stderr",
     "output_type": "stream",
     "text": [
      "skipping variable: paramId==165 shortName='u10'\n",
      "Traceback (most recent call last):\n",
      "  File \"/work/FAC/FGSE/IDYST/tbeucler/default/mfeldman/miniforge3/envs/wb/lib/python3.11/site-packages/cfgrib/dataset.py\", line 680, in build_dataset_components\n",
      "    dict_merge(variables, coord_vars)\n",
      "  File \"/work/FAC/FGSE/IDYST/tbeucler/default/mfeldman/miniforge3/envs/wb/lib/python3.11/site-packages/cfgrib/dataset.py\", line 611, in dict_merge\n",
      "    raise DatasetBuildError(\n",
      "cfgrib.dataset.DatasetBuildError: key present and new value is different: key='heightAboveGround' value=Variable(dimensions=(), data=2.0) new_value=Variable(dimensions=(), data=10.0)\n",
      "skipping variable: paramId==166 shortName='v10'\n",
      "Traceback (most recent call last):\n",
      "  File \"/work/FAC/FGSE/IDYST/tbeucler/default/mfeldman/miniforge3/envs/wb/lib/python3.11/site-packages/cfgrib/dataset.py\", line 680, in build_dataset_components\n",
      "    dict_merge(variables, coord_vars)\n",
      "  File \"/work/FAC/FGSE/IDYST/tbeucler/default/mfeldman/miniforge3/envs/wb/lib/python3.11/site-packages/cfgrib/dataset.py\", line 611, in dict_merge\n",
      "    raise DatasetBuildError(\n",
      "cfgrib.dataset.DatasetBuildError: key present and new value is different: key='heightAboveGround' value=Variable(dimensions=(), data=2.0) new_value=Variable(dimensions=(), data=10.0)\n"
     ]
    },
    {
     "name": "stdout",
     "output_type": "stream",
     "text": [
      "/work/FAC/FGSE/IDYST/tbeucler/default/raw_data/MF_ML_PREDICT/graphcast_d_20200408_t_1200_114h.grib\n"
     ]
    },
    {
     "name": "stderr",
     "output_type": "stream",
     "text": [
      "skipping variable: paramId==165 shortName='u10'\n",
      "Traceback (most recent call last):\n",
      "  File \"/work/FAC/FGSE/IDYST/tbeucler/default/mfeldman/miniforge3/envs/wb/lib/python3.11/site-packages/cfgrib/dataset.py\", line 680, in build_dataset_components\n",
      "    dict_merge(variables, coord_vars)\n",
      "  File \"/work/FAC/FGSE/IDYST/tbeucler/default/mfeldman/miniforge3/envs/wb/lib/python3.11/site-packages/cfgrib/dataset.py\", line 611, in dict_merge\n",
      "    raise DatasetBuildError(\n",
      "cfgrib.dataset.DatasetBuildError: key present and new value is different: key='heightAboveGround' value=Variable(dimensions=(), data=2.0) new_value=Variable(dimensions=(), data=10.0)\n",
      "skipping variable: paramId==166 shortName='v10'\n",
      "Traceback (most recent call last):\n",
      "  File \"/work/FAC/FGSE/IDYST/tbeucler/default/mfeldman/miniforge3/envs/wb/lib/python3.11/site-packages/cfgrib/dataset.py\", line 680, in build_dataset_components\n",
      "    dict_merge(variables, coord_vars)\n",
      "  File \"/work/FAC/FGSE/IDYST/tbeucler/default/mfeldman/miniforge3/envs/wb/lib/python3.11/site-packages/cfgrib/dataset.py\", line 611, in dict_merge\n",
      "    raise DatasetBuildError(\n",
      "cfgrib.dataset.DatasetBuildError: key present and new value is different: key='heightAboveGround' value=Variable(dimensions=(), data=2.0) new_value=Variable(dimensions=(), data=10.0)\n"
     ]
    },
    {
     "name": "stdout",
     "output_type": "stream",
     "text": [
      "/work/FAC/FGSE/IDYST/tbeucler/default/raw_data/MF_ML_PREDICT/graphcast_d_20200408_t_1200_120h.grib\n"
     ]
    },
    {
     "name": "stderr",
     "output_type": "stream",
     "text": [
      "skipping variable: paramId==165 shortName='u10'\n",
      "Traceback (most recent call last):\n",
      "  File \"/work/FAC/FGSE/IDYST/tbeucler/default/mfeldman/miniforge3/envs/wb/lib/python3.11/site-packages/cfgrib/dataset.py\", line 680, in build_dataset_components\n",
      "    dict_merge(variables, coord_vars)\n",
      "  File \"/work/FAC/FGSE/IDYST/tbeucler/default/mfeldman/miniforge3/envs/wb/lib/python3.11/site-packages/cfgrib/dataset.py\", line 611, in dict_merge\n",
      "    raise DatasetBuildError(\n",
      "cfgrib.dataset.DatasetBuildError: key present and new value is different: key='heightAboveGround' value=Variable(dimensions=(), data=2.0) new_value=Variable(dimensions=(), data=10.0)\n",
      "skipping variable: paramId==166 shortName='v10'\n",
      "Traceback (most recent call last):\n",
      "  File \"/work/FAC/FGSE/IDYST/tbeucler/default/mfeldman/miniforge3/envs/wb/lib/python3.11/site-packages/cfgrib/dataset.py\", line 680, in build_dataset_components\n",
      "    dict_merge(variables, coord_vars)\n",
      "  File \"/work/FAC/FGSE/IDYST/tbeucler/default/mfeldman/miniforge3/envs/wb/lib/python3.11/site-packages/cfgrib/dataset.py\", line 611, in dict_merge\n",
      "    raise DatasetBuildError(\n",
      "cfgrib.dataset.DatasetBuildError: key present and new value is different: key='heightAboveGround' value=Variable(dimensions=(), data=2.0) new_value=Variable(dimensions=(), data=10.0)\n"
     ]
    },
    {
     "name": "stdout",
     "output_type": "stream",
     "text": [
      "/work/FAC/FGSE/IDYST/tbeucler/default/raw_data/MF_ML_PREDICT/graphcast_d_20200408_t_1200_126h.grib\n"
     ]
    },
    {
     "name": "stderr",
     "output_type": "stream",
     "text": [
      "skipping variable: paramId==165 shortName='u10'\n",
      "Traceback (most recent call last):\n",
      "  File \"/work/FAC/FGSE/IDYST/tbeucler/default/mfeldman/miniforge3/envs/wb/lib/python3.11/site-packages/cfgrib/dataset.py\", line 680, in build_dataset_components\n",
      "    dict_merge(variables, coord_vars)\n",
      "  File \"/work/FAC/FGSE/IDYST/tbeucler/default/mfeldman/miniforge3/envs/wb/lib/python3.11/site-packages/cfgrib/dataset.py\", line 611, in dict_merge\n",
      "    raise DatasetBuildError(\n",
      "cfgrib.dataset.DatasetBuildError: key present and new value is different: key='heightAboveGround' value=Variable(dimensions=(), data=2.0) new_value=Variable(dimensions=(), data=10.0)\n",
      "skipping variable: paramId==166 shortName='v10'\n",
      "Traceback (most recent call last):\n",
      "  File \"/work/FAC/FGSE/IDYST/tbeucler/default/mfeldman/miniforge3/envs/wb/lib/python3.11/site-packages/cfgrib/dataset.py\", line 680, in build_dataset_components\n",
      "    dict_merge(variables, coord_vars)\n",
      "  File \"/work/FAC/FGSE/IDYST/tbeucler/default/mfeldman/miniforge3/envs/wb/lib/python3.11/site-packages/cfgrib/dataset.py\", line 611, in dict_merge\n",
      "    raise DatasetBuildError(\n",
      "cfgrib.dataset.DatasetBuildError: key present and new value is different: key='heightAboveGround' value=Variable(dimensions=(), data=2.0) new_value=Variable(dimensions=(), data=10.0)\n",
      "/tmp/ipykernel_3765897/1799258866.py:91: UserWarning: set_ticklabels() should only be used with a fixed number of ticks, i.e. after set_ticks() or using a FixedLocator.\n",
      "  ax.set_xticklabels(xr_era5.time.dt.strftime('%Y%m%d%H').values,rotation=90)\n"
     ]
    },
    {
     "name": "stdout",
     "output_type": "stream",
     "text": [
      "['72' '78' '84' '90' '96' '102' '108' '114']\n",
      "/work/FAC/FGSE/IDYST/tbeucler/default/raw_data/MF_ML_PREDICT/graphcast_d_20200409_t_0000_72h.grib\n"
     ]
    },
    {
     "name": "stderr",
     "output_type": "stream",
     "text": [
      "skipping variable: paramId==165 shortName='u10'\n",
      "Traceback (most recent call last):\n",
      "  File \"/work/FAC/FGSE/IDYST/tbeucler/default/mfeldman/miniforge3/envs/wb/lib/python3.11/site-packages/cfgrib/dataset.py\", line 680, in build_dataset_components\n",
      "    dict_merge(variables, coord_vars)\n",
      "  File \"/work/FAC/FGSE/IDYST/tbeucler/default/mfeldman/miniforge3/envs/wb/lib/python3.11/site-packages/cfgrib/dataset.py\", line 611, in dict_merge\n",
      "    raise DatasetBuildError(\n",
      "cfgrib.dataset.DatasetBuildError: key present and new value is different: key='heightAboveGround' value=Variable(dimensions=(), data=2.0) new_value=Variable(dimensions=(), data=10.0)\n",
      "skipping variable: paramId==166 shortName='v10'\n",
      "Traceback (most recent call last):\n",
      "  File \"/work/FAC/FGSE/IDYST/tbeucler/default/mfeldman/miniforge3/envs/wb/lib/python3.11/site-packages/cfgrib/dataset.py\", line 680, in build_dataset_components\n",
      "    dict_merge(variables, coord_vars)\n",
      "  File \"/work/FAC/FGSE/IDYST/tbeucler/default/mfeldman/miniforge3/envs/wb/lib/python3.11/site-packages/cfgrib/dataset.py\", line 611, in dict_merge\n",
      "    raise DatasetBuildError(\n",
      "cfgrib.dataset.DatasetBuildError: key present and new value is different: key='heightAboveGround' value=Variable(dimensions=(), data=2.0) new_value=Variable(dimensions=(), data=10.0)\n"
     ]
    },
    {
     "name": "stdout",
     "output_type": "stream",
     "text": [
      "/work/FAC/FGSE/IDYST/tbeucler/default/raw_data/MF_ML_PREDICT/graphcast_d_20200409_t_0000_78h.grib\n"
     ]
    },
    {
     "name": "stderr",
     "output_type": "stream",
     "text": [
      "skipping variable: paramId==165 shortName='u10'\n",
      "Traceback (most recent call last):\n",
      "  File \"/work/FAC/FGSE/IDYST/tbeucler/default/mfeldman/miniforge3/envs/wb/lib/python3.11/site-packages/cfgrib/dataset.py\", line 680, in build_dataset_components\n",
      "    dict_merge(variables, coord_vars)\n",
      "  File \"/work/FAC/FGSE/IDYST/tbeucler/default/mfeldman/miniforge3/envs/wb/lib/python3.11/site-packages/cfgrib/dataset.py\", line 611, in dict_merge\n",
      "    raise DatasetBuildError(\n",
      "cfgrib.dataset.DatasetBuildError: key present and new value is different: key='heightAboveGround' value=Variable(dimensions=(), data=2.0) new_value=Variable(dimensions=(), data=10.0)\n",
      "skipping variable: paramId==166 shortName='v10'\n",
      "Traceback (most recent call last):\n",
      "  File \"/work/FAC/FGSE/IDYST/tbeucler/default/mfeldman/miniforge3/envs/wb/lib/python3.11/site-packages/cfgrib/dataset.py\", line 680, in build_dataset_components\n",
      "    dict_merge(variables, coord_vars)\n",
      "  File \"/work/FAC/FGSE/IDYST/tbeucler/default/mfeldman/miniforge3/envs/wb/lib/python3.11/site-packages/cfgrib/dataset.py\", line 611, in dict_merge\n",
      "    raise DatasetBuildError(\n",
      "cfgrib.dataset.DatasetBuildError: key present and new value is different: key='heightAboveGround' value=Variable(dimensions=(), data=2.0) new_value=Variable(dimensions=(), data=10.0)\n"
     ]
    },
    {
     "name": "stdout",
     "output_type": "stream",
     "text": [
      "/work/FAC/FGSE/IDYST/tbeucler/default/raw_data/MF_ML_PREDICT/graphcast_d_20200409_t_0000_84h.grib\n"
     ]
    },
    {
     "name": "stderr",
     "output_type": "stream",
     "text": [
      "skipping variable: paramId==165 shortName='u10'\n",
      "Traceback (most recent call last):\n",
      "  File \"/work/FAC/FGSE/IDYST/tbeucler/default/mfeldman/miniforge3/envs/wb/lib/python3.11/site-packages/cfgrib/dataset.py\", line 680, in build_dataset_components\n",
      "    dict_merge(variables, coord_vars)\n",
      "  File \"/work/FAC/FGSE/IDYST/tbeucler/default/mfeldman/miniforge3/envs/wb/lib/python3.11/site-packages/cfgrib/dataset.py\", line 611, in dict_merge\n",
      "    raise DatasetBuildError(\n",
      "cfgrib.dataset.DatasetBuildError: key present and new value is different: key='heightAboveGround' value=Variable(dimensions=(), data=2.0) new_value=Variable(dimensions=(), data=10.0)\n",
      "skipping variable: paramId==166 shortName='v10'\n",
      "Traceback (most recent call last):\n",
      "  File \"/work/FAC/FGSE/IDYST/tbeucler/default/mfeldman/miniforge3/envs/wb/lib/python3.11/site-packages/cfgrib/dataset.py\", line 680, in build_dataset_components\n",
      "    dict_merge(variables, coord_vars)\n",
      "  File \"/work/FAC/FGSE/IDYST/tbeucler/default/mfeldman/miniforge3/envs/wb/lib/python3.11/site-packages/cfgrib/dataset.py\", line 611, in dict_merge\n",
      "    raise DatasetBuildError(\n",
      "cfgrib.dataset.DatasetBuildError: key present and new value is different: key='heightAboveGround' value=Variable(dimensions=(), data=2.0) new_value=Variable(dimensions=(), data=10.0)\n"
     ]
    },
    {
     "name": "stdout",
     "output_type": "stream",
     "text": [
      "/work/FAC/FGSE/IDYST/tbeucler/default/raw_data/MF_ML_PREDICT/graphcast_d_20200409_t_0000_90h.grib\n"
     ]
    },
    {
     "name": "stderr",
     "output_type": "stream",
     "text": [
      "skipping variable: paramId==165 shortName='u10'\n",
      "Traceback (most recent call last):\n",
      "  File \"/work/FAC/FGSE/IDYST/tbeucler/default/mfeldman/miniforge3/envs/wb/lib/python3.11/site-packages/cfgrib/dataset.py\", line 680, in build_dataset_components\n",
      "    dict_merge(variables, coord_vars)\n",
      "  File \"/work/FAC/FGSE/IDYST/tbeucler/default/mfeldman/miniforge3/envs/wb/lib/python3.11/site-packages/cfgrib/dataset.py\", line 611, in dict_merge\n",
      "    raise DatasetBuildError(\n",
      "cfgrib.dataset.DatasetBuildError: key present and new value is different: key='heightAboveGround' value=Variable(dimensions=(), data=2.0) new_value=Variable(dimensions=(), data=10.0)\n",
      "skipping variable: paramId==166 shortName='v10'\n",
      "Traceback (most recent call last):\n",
      "  File \"/work/FAC/FGSE/IDYST/tbeucler/default/mfeldman/miniforge3/envs/wb/lib/python3.11/site-packages/cfgrib/dataset.py\", line 680, in build_dataset_components\n",
      "    dict_merge(variables, coord_vars)\n",
      "  File \"/work/FAC/FGSE/IDYST/tbeucler/default/mfeldman/miniforge3/envs/wb/lib/python3.11/site-packages/cfgrib/dataset.py\", line 611, in dict_merge\n",
      "    raise DatasetBuildError(\n",
      "cfgrib.dataset.DatasetBuildError: key present and new value is different: key='heightAboveGround' value=Variable(dimensions=(), data=2.0) new_value=Variable(dimensions=(), data=10.0)\n"
     ]
    },
    {
     "name": "stdout",
     "output_type": "stream",
     "text": [
      "/work/FAC/FGSE/IDYST/tbeucler/default/raw_data/MF_ML_PREDICT/graphcast_d_20200409_t_0000_96h.grib\n"
     ]
    },
    {
     "name": "stderr",
     "output_type": "stream",
     "text": [
      "skipping variable: paramId==165 shortName='u10'\n",
      "Traceback (most recent call last):\n",
      "  File \"/work/FAC/FGSE/IDYST/tbeucler/default/mfeldman/miniforge3/envs/wb/lib/python3.11/site-packages/cfgrib/dataset.py\", line 680, in build_dataset_components\n",
      "    dict_merge(variables, coord_vars)\n",
      "  File \"/work/FAC/FGSE/IDYST/tbeucler/default/mfeldman/miniforge3/envs/wb/lib/python3.11/site-packages/cfgrib/dataset.py\", line 611, in dict_merge\n",
      "    raise DatasetBuildError(\n",
      "cfgrib.dataset.DatasetBuildError: key present and new value is different: key='heightAboveGround' value=Variable(dimensions=(), data=2.0) new_value=Variable(dimensions=(), data=10.0)\n",
      "skipping variable: paramId==166 shortName='v10'\n",
      "Traceback (most recent call last):\n",
      "  File \"/work/FAC/FGSE/IDYST/tbeucler/default/mfeldman/miniforge3/envs/wb/lib/python3.11/site-packages/cfgrib/dataset.py\", line 680, in build_dataset_components\n",
      "    dict_merge(variables, coord_vars)\n",
      "  File \"/work/FAC/FGSE/IDYST/tbeucler/default/mfeldman/miniforge3/envs/wb/lib/python3.11/site-packages/cfgrib/dataset.py\", line 611, in dict_merge\n",
      "    raise DatasetBuildError(\n",
      "cfgrib.dataset.DatasetBuildError: key present and new value is different: key='heightAboveGround' value=Variable(dimensions=(), data=2.0) new_value=Variable(dimensions=(), data=10.0)\n"
     ]
    },
    {
     "name": "stdout",
     "output_type": "stream",
     "text": [
      "/work/FAC/FGSE/IDYST/tbeucler/default/raw_data/MF_ML_PREDICT/graphcast_d_20200409_t_0000_102h.grib\n"
     ]
    },
    {
     "name": "stderr",
     "output_type": "stream",
     "text": [
      "skipping variable: paramId==165 shortName='u10'\n",
      "Traceback (most recent call last):\n",
      "  File \"/work/FAC/FGSE/IDYST/tbeucler/default/mfeldman/miniforge3/envs/wb/lib/python3.11/site-packages/cfgrib/dataset.py\", line 680, in build_dataset_components\n",
      "    dict_merge(variables, coord_vars)\n",
      "  File \"/work/FAC/FGSE/IDYST/tbeucler/default/mfeldman/miniforge3/envs/wb/lib/python3.11/site-packages/cfgrib/dataset.py\", line 611, in dict_merge\n",
      "    raise DatasetBuildError(\n",
      "cfgrib.dataset.DatasetBuildError: key present and new value is different: key='heightAboveGround' value=Variable(dimensions=(), data=2.0) new_value=Variable(dimensions=(), data=10.0)\n",
      "skipping variable: paramId==166 shortName='v10'\n",
      "Traceback (most recent call last):\n",
      "  File \"/work/FAC/FGSE/IDYST/tbeucler/default/mfeldman/miniforge3/envs/wb/lib/python3.11/site-packages/cfgrib/dataset.py\", line 680, in build_dataset_components\n",
      "    dict_merge(variables, coord_vars)\n",
      "  File \"/work/FAC/FGSE/IDYST/tbeucler/default/mfeldman/miniforge3/envs/wb/lib/python3.11/site-packages/cfgrib/dataset.py\", line 611, in dict_merge\n",
      "    raise DatasetBuildError(\n",
      "cfgrib.dataset.DatasetBuildError: key present and new value is different: key='heightAboveGround' value=Variable(dimensions=(), data=2.0) new_value=Variable(dimensions=(), data=10.0)\n"
     ]
    },
    {
     "name": "stdout",
     "output_type": "stream",
     "text": [
      "/work/FAC/FGSE/IDYST/tbeucler/default/raw_data/MF_ML_PREDICT/graphcast_d_20200409_t_0000_108h.grib\n"
     ]
    },
    {
     "name": "stderr",
     "output_type": "stream",
     "text": [
      "skipping variable: paramId==165 shortName='u10'\n",
      "Traceback (most recent call last):\n",
      "  File \"/work/FAC/FGSE/IDYST/tbeucler/default/mfeldman/miniforge3/envs/wb/lib/python3.11/site-packages/cfgrib/dataset.py\", line 680, in build_dataset_components\n",
      "    dict_merge(variables, coord_vars)\n",
      "  File \"/work/FAC/FGSE/IDYST/tbeucler/default/mfeldman/miniforge3/envs/wb/lib/python3.11/site-packages/cfgrib/dataset.py\", line 611, in dict_merge\n",
      "    raise DatasetBuildError(\n",
      "cfgrib.dataset.DatasetBuildError: key present and new value is different: key='heightAboveGround' value=Variable(dimensions=(), data=2.0) new_value=Variable(dimensions=(), data=10.0)\n",
      "skipping variable: paramId==166 shortName='v10'\n",
      "Traceback (most recent call last):\n",
      "  File \"/work/FAC/FGSE/IDYST/tbeucler/default/mfeldman/miniforge3/envs/wb/lib/python3.11/site-packages/cfgrib/dataset.py\", line 680, in build_dataset_components\n",
      "    dict_merge(variables, coord_vars)\n",
      "  File \"/work/FAC/FGSE/IDYST/tbeucler/default/mfeldman/miniforge3/envs/wb/lib/python3.11/site-packages/cfgrib/dataset.py\", line 611, in dict_merge\n",
      "    raise DatasetBuildError(\n",
      "cfgrib.dataset.DatasetBuildError: key present and new value is different: key='heightAboveGround' value=Variable(dimensions=(), data=2.0) new_value=Variable(dimensions=(), data=10.0)\n"
     ]
    },
    {
     "name": "stdout",
     "output_type": "stream",
     "text": [
      "/work/FAC/FGSE/IDYST/tbeucler/default/raw_data/MF_ML_PREDICT/graphcast_d_20200409_t_0000_114h.grib\n"
     ]
    },
    {
     "name": "stderr",
     "output_type": "stream",
     "text": [
      "skipping variable: paramId==165 shortName='u10'\n",
      "Traceback (most recent call last):\n",
      "  File \"/work/FAC/FGSE/IDYST/tbeucler/default/mfeldman/miniforge3/envs/wb/lib/python3.11/site-packages/cfgrib/dataset.py\", line 680, in build_dataset_components\n",
      "    dict_merge(variables, coord_vars)\n",
      "  File \"/work/FAC/FGSE/IDYST/tbeucler/default/mfeldman/miniforge3/envs/wb/lib/python3.11/site-packages/cfgrib/dataset.py\", line 611, in dict_merge\n",
      "    raise DatasetBuildError(\n",
      "cfgrib.dataset.DatasetBuildError: key present and new value is different: key='heightAboveGround' value=Variable(dimensions=(), data=2.0) new_value=Variable(dimensions=(), data=10.0)\n",
      "skipping variable: paramId==166 shortName='v10'\n",
      "Traceback (most recent call last):\n",
      "  File \"/work/FAC/FGSE/IDYST/tbeucler/default/mfeldman/miniforge3/envs/wb/lib/python3.11/site-packages/cfgrib/dataset.py\", line 680, in build_dataset_components\n",
      "    dict_merge(variables, coord_vars)\n",
      "  File \"/work/FAC/FGSE/IDYST/tbeucler/default/mfeldman/miniforge3/envs/wb/lib/python3.11/site-packages/cfgrib/dataset.py\", line 611, in dict_merge\n",
      "    raise DatasetBuildError(\n",
      "cfgrib.dataset.DatasetBuildError: key present and new value is different: key='heightAboveGround' value=Variable(dimensions=(), data=2.0) new_value=Variable(dimensions=(), data=10.0)\n",
      "/tmp/ipykernel_3765897/1799258866.py:91: UserWarning: set_ticklabels() should only be used with a fixed number of ticks, i.e. after set_ticks() or using a FixedLocator.\n",
      "  ax.set_xticklabels(xr_era5.time.dt.strftime('%Y%m%d%H').values,rotation=90)\n"
     ]
    },
    {
     "name": "stdout",
     "output_type": "stream",
     "text": [
      "['60' '66' '72' '78' '84' '90' '96' '102']\n",
      "/work/FAC/FGSE/IDYST/tbeucler/default/raw_data/MF_ML_PREDICT/graphcast_d_20200409_t_1200_60h.grib\n"
     ]
    },
    {
     "name": "stderr",
     "output_type": "stream",
     "text": [
      "skipping variable: paramId==165 shortName='u10'\n",
      "Traceback (most recent call last):\n",
      "  File \"/work/FAC/FGSE/IDYST/tbeucler/default/mfeldman/miniforge3/envs/wb/lib/python3.11/site-packages/cfgrib/dataset.py\", line 680, in build_dataset_components\n",
      "    dict_merge(variables, coord_vars)\n",
      "  File \"/work/FAC/FGSE/IDYST/tbeucler/default/mfeldman/miniforge3/envs/wb/lib/python3.11/site-packages/cfgrib/dataset.py\", line 611, in dict_merge\n",
      "    raise DatasetBuildError(\n",
      "cfgrib.dataset.DatasetBuildError: key present and new value is different: key='heightAboveGround' value=Variable(dimensions=(), data=2.0) new_value=Variable(dimensions=(), data=10.0)\n",
      "skipping variable: paramId==166 shortName='v10'\n",
      "Traceback (most recent call last):\n",
      "  File \"/work/FAC/FGSE/IDYST/tbeucler/default/mfeldman/miniforge3/envs/wb/lib/python3.11/site-packages/cfgrib/dataset.py\", line 680, in build_dataset_components\n",
      "    dict_merge(variables, coord_vars)\n",
      "  File \"/work/FAC/FGSE/IDYST/tbeucler/default/mfeldman/miniforge3/envs/wb/lib/python3.11/site-packages/cfgrib/dataset.py\", line 611, in dict_merge\n",
      "    raise DatasetBuildError(\n",
      "cfgrib.dataset.DatasetBuildError: key present and new value is different: key='heightAboveGround' value=Variable(dimensions=(), data=2.0) new_value=Variable(dimensions=(), data=10.0)\n"
     ]
    },
    {
     "name": "stdout",
     "output_type": "stream",
     "text": [
      "/work/FAC/FGSE/IDYST/tbeucler/default/raw_data/MF_ML_PREDICT/graphcast_d_20200409_t_1200_66h.grib\n"
     ]
    },
    {
     "name": "stderr",
     "output_type": "stream",
     "text": [
      "skipping variable: paramId==165 shortName='u10'\n",
      "Traceback (most recent call last):\n",
      "  File \"/work/FAC/FGSE/IDYST/tbeucler/default/mfeldman/miniforge3/envs/wb/lib/python3.11/site-packages/cfgrib/dataset.py\", line 680, in build_dataset_components\n",
      "    dict_merge(variables, coord_vars)\n",
      "  File \"/work/FAC/FGSE/IDYST/tbeucler/default/mfeldman/miniforge3/envs/wb/lib/python3.11/site-packages/cfgrib/dataset.py\", line 611, in dict_merge\n",
      "    raise DatasetBuildError(\n",
      "cfgrib.dataset.DatasetBuildError: key present and new value is different: key='heightAboveGround' value=Variable(dimensions=(), data=2.0) new_value=Variable(dimensions=(), data=10.0)\n",
      "skipping variable: paramId==166 shortName='v10'\n",
      "Traceback (most recent call last):\n",
      "  File \"/work/FAC/FGSE/IDYST/tbeucler/default/mfeldman/miniforge3/envs/wb/lib/python3.11/site-packages/cfgrib/dataset.py\", line 680, in build_dataset_components\n",
      "    dict_merge(variables, coord_vars)\n",
      "  File \"/work/FAC/FGSE/IDYST/tbeucler/default/mfeldman/miniforge3/envs/wb/lib/python3.11/site-packages/cfgrib/dataset.py\", line 611, in dict_merge\n",
      "    raise DatasetBuildError(\n",
      "cfgrib.dataset.DatasetBuildError: key present and new value is different: key='heightAboveGround' value=Variable(dimensions=(), data=2.0) new_value=Variable(dimensions=(), data=10.0)\n"
     ]
    },
    {
     "name": "stdout",
     "output_type": "stream",
     "text": [
      "/work/FAC/FGSE/IDYST/tbeucler/default/raw_data/MF_ML_PREDICT/graphcast_d_20200409_t_1200_72h.grib\n"
     ]
    },
    {
     "name": "stderr",
     "output_type": "stream",
     "text": [
      "skipping variable: paramId==165 shortName='u10'\n",
      "Traceback (most recent call last):\n",
      "  File \"/work/FAC/FGSE/IDYST/tbeucler/default/mfeldman/miniforge3/envs/wb/lib/python3.11/site-packages/cfgrib/dataset.py\", line 680, in build_dataset_components\n",
      "    dict_merge(variables, coord_vars)\n",
      "  File \"/work/FAC/FGSE/IDYST/tbeucler/default/mfeldman/miniforge3/envs/wb/lib/python3.11/site-packages/cfgrib/dataset.py\", line 611, in dict_merge\n",
      "    raise DatasetBuildError(\n",
      "cfgrib.dataset.DatasetBuildError: key present and new value is different: key='heightAboveGround' value=Variable(dimensions=(), data=2.0) new_value=Variable(dimensions=(), data=10.0)\n",
      "skipping variable: paramId==166 shortName='v10'\n",
      "Traceback (most recent call last):\n",
      "  File \"/work/FAC/FGSE/IDYST/tbeucler/default/mfeldman/miniforge3/envs/wb/lib/python3.11/site-packages/cfgrib/dataset.py\", line 680, in build_dataset_components\n",
      "    dict_merge(variables, coord_vars)\n",
      "  File \"/work/FAC/FGSE/IDYST/tbeucler/default/mfeldman/miniforge3/envs/wb/lib/python3.11/site-packages/cfgrib/dataset.py\", line 611, in dict_merge\n",
      "    raise DatasetBuildError(\n",
      "cfgrib.dataset.DatasetBuildError: key present and new value is different: key='heightAboveGround' value=Variable(dimensions=(), data=2.0) new_value=Variable(dimensions=(), data=10.0)\n"
     ]
    },
    {
     "name": "stdout",
     "output_type": "stream",
     "text": [
      "/work/FAC/FGSE/IDYST/tbeucler/default/raw_data/MF_ML_PREDICT/graphcast_d_20200409_t_1200_78h.grib\n"
     ]
    },
    {
     "name": "stderr",
     "output_type": "stream",
     "text": [
      "skipping variable: paramId==165 shortName='u10'\n",
      "Traceback (most recent call last):\n",
      "  File \"/work/FAC/FGSE/IDYST/tbeucler/default/mfeldman/miniforge3/envs/wb/lib/python3.11/site-packages/cfgrib/dataset.py\", line 680, in build_dataset_components\n",
      "    dict_merge(variables, coord_vars)\n",
      "  File \"/work/FAC/FGSE/IDYST/tbeucler/default/mfeldman/miniforge3/envs/wb/lib/python3.11/site-packages/cfgrib/dataset.py\", line 611, in dict_merge\n",
      "    raise DatasetBuildError(\n",
      "cfgrib.dataset.DatasetBuildError: key present and new value is different: key='heightAboveGround' value=Variable(dimensions=(), data=2.0) new_value=Variable(dimensions=(), data=10.0)\n",
      "skipping variable: paramId==166 shortName='v10'\n",
      "Traceback (most recent call last):\n",
      "  File \"/work/FAC/FGSE/IDYST/tbeucler/default/mfeldman/miniforge3/envs/wb/lib/python3.11/site-packages/cfgrib/dataset.py\", line 680, in build_dataset_components\n",
      "    dict_merge(variables, coord_vars)\n",
      "  File \"/work/FAC/FGSE/IDYST/tbeucler/default/mfeldman/miniforge3/envs/wb/lib/python3.11/site-packages/cfgrib/dataset.py\", line 611, in dict_merge\n",
      "    raise DatasetBuildError(\n",
      "cfgrib.dataset.DatasetBuildError: key present and new value is different: key='heightAboveGround' value=Variable(dimensions=(), data=2.0) new_value=Variable(dimensions=(), data=10.0)\n"
     ]
    },
    {
     "name": "stdout",
     "output_type": "stream",
     "text": [
      "/work/FAC/FGSE/IDYST/tbeucler/default/raw_data/MF_ML_PREDICT/graphcast_d_20200409_t_1200_84h.grib\n"
     ]
    },
    {
     "name": "stderr",
     "output_type": "stream",
     "text": [
      "skipping variable: paramId==165 shortName='u10'\n",
      "Traceback (most recent call last):\n",
      "  File \"/work/FAC/FGSE/IDYST/tbeucler/default/mfeldman/miniforge3/envs/wb/lib/python3.11/site-packages/cfgrib/dataset.py\", line 680, in build_dataset_components\n",
      "    dict_merge(variables, coord_vars)\n",
      "  File \"/work/FAC/FGSE/IDYST/tbeucler/default/mfeldman/miniforge3/envs/wb/lib/python3.11/site-packages/cfgrib/dataset.py\", line 611, in dict_merge\n",
      "    raise DatasetBuildError(\n",
      "cfgrib.dataset.DatasetBuildError: key present and new value is different: key='heightAboveGround' value=Variable(dimensions=(), data=2.0) new_value=Variable(dimensions=(), data=10.0)\n",
      "skipping variable: paramId==166 shortName='v10'\n",
      "Traceback (most recent call last):\n",
      "  File \"/work/FAC/FGSE/IDYST/tbeucler/default/mfeldman/miniforge3/envs/wb/lib/python3.11/site-packages/cfgrib/dataset.py\", line 680, in build_dataset_components\n",
      "    dict_merge(variables, coord_vars)\n",
      "  File \"/work/FAC/FGSE/IDYST/tbeucler/default/mfeldman/miniforge3/envs/wb/lib/python3.11/site-packages/cfgrib/dataset.py\", line 611, in dict_merge\n",
      "    raise DatasetBuildError(\n",
      "cfgrib.dataset.DatasetBuildError: key present and new value is different: key='heightAboveGround' value=Variable(dimensions=(), data=2.0) new_value=Variable(dimensions=(), data=10.0)\n"
     ]
    },
    {
     "name": "stdout",
     "output_type": "stream",
     "text": [
      "/work/FAC/FGSE/IDYST/tbeucler/default/raw_data/MF_ML_PREDICT/graphcast_d_20200409_t_1200_90h.grib\n"
     ]
    },
    {
     "name": "stderr",
     "output_type": "stream",
     "text": [
      "skipping variable: paramId==165 shortName='u10'\n",
      "Traceback (most recent call last):\n",
      "  File \"/work/FAC/FGSE/IDYST/tbeucler/default/mfeldman/miniforge3/envs/wb/lib/python3.11/site-packages/cfgrib/dataset.py\", line 680, in build_dataset_components\n",
      "    dict_merge(variables, coord_vars)\n",
      "  File \"/work/FAC/FGSE/IDYST/tbeucler/default/mfeldman/miniforge3/envs/wb/lib/python3.11/site-packages/cfgrib/dataset.py\", line 611, in dict_merge\n",
      "    raise DatasetBuildError(\n",
      "cfgrib.dataset.DatasetBuildError: key present and new value is different: key='heightAboveGround' value=Variable(dimensions=(), data=2.0) new_value=Variable(dimensions=(), data=10.0)\n",
      "skipping variable: paramId==166 shortName='v10'\n",
      "Traceback (most recent call last):\n",
      "  File \"/work/FAC/FGSE/IDYST/tbeucler/default/mfeldman/miniforge3/envs/wb/lib/python3.11/site-packages/cfgrib/dataset.py\", line 680, in build_dataset_components\n",
      "    dict_merge(variables, coord_vars)\n",
      "  File \"/work/FAC/FGSE/IDYST/tbeucler/default/mfeldman/miniforge3/envs/wb/lib/python3.11/site-packages/cfgrib/dataset.py\", line 611, in dict_merge\n",
      "    raise DatasetBuildError(\n",
      "cfgrib.dataset.DatasetBuildError: key present and new value is different: key='heightAboveGround' value=Variable(dimensions=(), data=2.0) new_value=Variable(dimensions=(), data=10.0)\n"
     ]
    },
    {
     "name": "stdout",
     "output_type": "stream",
     "text": [
      "/work/FAC/FGSE/IDYST/tbeucler/default/raw_data/MF_ML_PREDICT/graphcast_d_20200409_t_1200_96h.grib\n"
     ]
    },
    {
     "name": "stderr",
     "output_type": "stream",
     "text": [
      "skipping variable: paramId==165 shortName='u10'\n",
      "Traceback (most recent call last):\n",
      "  File \"/work/FAC/FGSE/IDYST/tbeucler/default/mfeldman/miniforge3/envs/wb/lib/python3.11/site-packages/cfgrib/dataset.py\", line 680, in build_dataset_components\n",
      "    dict_merge(variables, coord_vars)\n",
      "  File \"/work/FAC/FGSE/IDYST/tbeucler/default/mfeldman/miniforge3/envs/wb/lib/python3.11/site-packages/cfgrib/dataset.py\", line 611, in dict_merge\n",
      "    raise DatasetBuildError(\n",
      "cfgrib.dataset.DatasetBuildError: key present and new value is different: key='heightAboveGround' value=Variable(dimensions=(), data=2.0) new_value=Variable(dimensions=(), data=10.0)\n",
      "skipping variable: paramId==166 shortName='v10'\n",
      "Traceback (most recent call last):\n",
      "  File \"/work/FAC/FGSE/IDYST/tbeucler/default/mfeldman/miniforge3/envs/wb/lib/python3.11/site-packages/cfgrib/dataset.py\", line 680, in build_dataset_components\n",
      "    dict_merge(variables, coord_vars)\n",
      "  File \"/work/FAC/FGSE/IDYST/tbeucler/default/mfeldman/miniforge3/envs/wb/lib/python3.11/site-packages/cfgrib/dataset.py\", line 611, in dict_merge\n",
      "    raise DatasetBuildError(\n",
      "cfgrib.dataset.DatasetBuildError: key present and new value is different: key='heightAboveGround' value=Variable(dimensions=(), data=2.0) new_value=Variable(dimensions=(), data=10.0)\n"
     ]
    },
    {
     "name": "stdout",
     "output_type": "stream",
     "text": [
      "/work/FAC/FGSE/IDYST/tbeucler/default/raw_data/MF_ML_PREDICT/graphcast_d_20200409_t_1200_102h.grib\n"
     ]
    },
    {
     "name": "stderr",
     "output_type": "stream",
     "text": [
      "skipping variable: paramId==165 shortName='u10'\n",
      "Traceback (most recent call last):\n",
      "  File \"/work/FAC/FGSE/IDYST/tbeucler/default/mfeldman/miniforge3/envs/wb/lib/python3.11/site-packages/cfgrib/dataset.py\", line 680, in build_dataset_components\n",
      "    dict_merge(variables, coord_vars)\n",
      "  File \"/work/FAC/FGSE/IDYST/tbeucler/default/mfeldman/miniforge3/envs/wb/lib/python3.11/site-packages/cfgrib/dataset.py\", line 611, in dict_merge\n",
      "    raise DatasetBuildError(\n",
      "cfgrib.dataset.DatasetBuildError: key present and new value is different: key='heightAboveGround' value=Variable(dimensions=(), data=2.0) new_value=Variable(dimensions=(), data=10.0)\n",
      "skipping variable: paramId==166 shortName='v10'\n",
      "Traceback (most recent call last):\n",
      "  File \"/work/FAC/FGSE/IDYST/tbeucler/default/mfeldman/miniforge3/envs/wb/lib/python3.11/site-packages/cfgrib/dataset.py\", line 680, in build_dataset_components\n",
      "    dict_merge(variables, coord_vars)\n",
      "  File \"/work/FAC/FGSE/IDYST/tbeucler/default/mfeldman/miniforge3/envs/wb/lib/python3.11/site-packages/cfgrib/dataset.py\", line 611, in dict_merge\n",
      "    raise DatasetBuildError(\n",
      "cfgrib.dataset.DatasetBuildError: key present and new value is different: key='heightAboveGround' value=Variable(dimensions=(), data=2.0) new_value=Variable(dimensions=(), data=10.0)\n",
      "/tmp/ipykernel_3765897/1799258866.py:91: UserWarning: set_ticklabels() should only be used with a fixed number of ticks, i.e. after set_ticks() or using a FixedLocator.\n",
      "  ax.set_xticklabels(xr_era5.time.dt.strftime('%Y%m%d%H').values,rotation=90)\n"
     ]
    },
    {
     "name": "stdout",
     "output_type": "stream",
     "text": [
      "['48' '54' '60' '66' '72' '78' '84' '90']\n",
      "/work/FAC/FGSE/IDYST/tbeucler/default/raw_data/MF_ML_PREDICT/graphcast_d_20200410_t_0000_48h.grib\n"
     ]
    },
    {
     "name": "stderr",
     "output_type": "stream",
     "text": [
      "skipping variable: paramId==165 shortName='u10'\n",
      "Traceback (most recent call last):\n",
      "  File \"/work/FAC/FGSE/IDYST/tbeucler/default/mfeldman/miniforge3/envs/wb/lib/python3.11/site-packages/cfgrib/dataset.py\", line 680, in build_dataset_components\n",
      "    dict_merge(variables, coord_vars)\n",
      "  File \"/work/FAC/FGSE/IDYST/tbeucler/default/mfeldman/miniforge3/envs/wb/lib/python3.11/site-packages/cfgrib/dataset.py\", line 611, in dict_merge\n",
      "    raise DatasetBuildError(\n",
      "cfgrib.dataset.DatasetBuildError: key present and new value is different: key='heightAboveGround' value=Variable(dimensions=(), data=2.0) new_value=Variable(dimensions=(), data=10.0)\n",
      "skipping variable: paramId==166 shortName='v10'\n",
      "Traceback (most recent call last):\n",
      "  File \"/work/FAC/FGSE/IDYST/tbeucler/default/mfeldman/miniforge3/envs/wb/lib/python3.11/site-packages/cfgrib/dataset.py\", line 680, in build_dataset_components\n",
      "    dict_merge(variables, coord_vars)\n",
      "  File \"/work/FAC/FGSE/IDYST/tbeucler/default/mfeldman/miniforge3/envs/wb/lib/python3.11/site-packages/cfgrib/dataset.py\", line 611, in dict_merge\n",
      "    raise DatasetBuildError(\n",
      "cfgrib.dataset.DatasetBuildError: key present and new value is different: key='heightAboveGround' value=Variable(dimensions=(), data=2.0) new_value=Variable(dimensions=(), data=10.0)\n"
     ]
    },
    {
     "name": "stdout",
     "output_type": "stream",
     "text": [
      "/work/FAC/FGSE/IDYST/tbeucler/default/raw_data/MF_ML_PREDICT/graphcast_d_20200410_t_0000_54h.grib\n"
     ]
    },
    {
     "name": "stderr",
     "output_type": "stream",
     "text": [
      "skipping variable: paramId==165 shortName='u10'\n",
      "Traceback (most recent call last):\n",
      "  File \"/work/FAC/FGSE/IDYST/tbeucler/default/mfeldman/miniforge3/envs/wb/lib/python3.11/site-packages/cfgrib/dataset.py\", line 680, in build_dataset_components\n",
      "    dict_merge(variables, coord_vars)\n",
      "  File \"/work/FAC/FGSE/IDYST/tbeucler/default/mfeldman/miniforge3/envs/wb/lib/python3.11/site-packages/cfgrib/dataset.py\", line 611, in dict_merge\n",
      "    raise DatasetBuildError(\n",
      "cfgrib.dataset.DatasetBuildError: key present and new value is different: key='heightAboveGround' value=Variable(dimensions=(), data=2.0) new_value=Variable(dimensions=(), data=10.0)\n",
      "skipping variable: paramId==166 shortName='v10'\n",
      "Traceback (most recent call last):\n",
      "  File \"/work/FAC/FGSE/IDYST/tbeucler/default/mfeldman/miniforge3/envs/wb/lib/python3.11/site-packages/cfgrib/dataset.py\", line 680, in build_dataset_components\n",
      "    dict_merge(variables, coord_vars)\n",
      "  File \"/work/FAC/FGSE/IDYST/tbeucler/default/mfeldman/miniforge3/envs/wb/lib/python3.11/site-packages/cfgrib/dataset.py\", line 611, in dict_merge\n",
      "    raise DatasetBuildError(\n",
      "cfgrib.dataset.DatasetBuildError: key present and new value is different: key='heightAboveGround' value=Variable(dimensions=(), data=2.0) new_value=Variable(dimensions=(), data=10.0)\n"
     ]
    },
    {
     "name": "stdout",
     "output_type": "stream",
     "text": [
      "/work/FAC/FGSE/IDYST/tbeucler/default/raw_data/MF_ML_PREDICT/graphcast_d_20200410_t_0000_60h.grib\n"
     ]
    },
    {
     "name": "stderr",
     "output_type": "stream",
     "text": [
      "skipping variable: paramId==165 shortName='u10'\n",
      "Traceback (most recent call last):\n",
      "  File \"/work/FAC/FGSE/IDYST/tbeucler/default/mfeldman/miniforge3/envs/wb/lib/python3.11/site-packages/cfgrib/dataset.py\", line 680, in build_dataset_components\n",
      "    dict_merge(variables, coord_vars)\n",
      "  File \"/work/FAC/FGSE/IDYST/tbeucler/default/mfeldman/miniforge3/envs/wb/lib/python3.11/site-packages/cfgrib/dataset.py\", line 611, in dict_merge\n",
      "    raise DatasetBuildError(\n",
      "cfgrib.dataset.DatasetBuildError: key present and new value is different: key='heightAboveGround' value=Variable(dimensions=(), data=2.0) new_value=Variable(dimensions=(), data=10.0)\n",
      "skipping variable: paramId==166 shortName='v10'\n",
      "Traceback (most recent call last):\n",
      "  File \"/work/FAC/FGSE/IDYST/tbeucler/default/mfeldman/miniforge3/envs/wb/lib/python3.11/site-packages/cfgrib/dataset.py\", line 680, in build_dataset_components\n",
      "    dict_merge(variables, coord_vars)\n",
      "  File \"/work/FAC/FGSE/IDYST/tbeucler/default/mfeldman/miniforge3/envs/wb/lib/python3.11/site-packages/cfgrib/dataset.py\", line 611, in dict_merge\n",
      "    raise DatasetBuildError(\n",
      "cfgrib.dataset.DatasetBuildError: key present and new value is different: key='heightAboveGround' value=Variable(dimensions=(), data=2.0) new_value=Variable(dimensions=(), data=10.0)\n"
     ]
    },
    {
     "name": "stdout",
     "output_type": "stream",
     "text": [
      "/work/FAC/FGSE/IDYST/tbeucler/default/raw_data/MF_ML_PREDICT/graphcast_d_20200410_t_0000_66h.grib\n"
     ]
    },
    {
     "name": "stderr",
     "output_type": "stream",
     "text": [
      "skipping variable: paramId==165 shortName='u10'\n",
      "Traceback (most recent call last):\n",
      "  File \"/work/FAC/FGSE/IDYST/tbeucler/default/mfeldman/miniforge3/envs/wb/lib/python3.11/site-packages/cfgrib/dataset.py\", line 680, in build_dataset_components\n",
      "    dict_merge(variables, coord_vars)\n",
      "  File \"/work/FAC/FGSE/IDYST/tbeucler/default/mfeldman/miniforge3/envs/wb/lib/python3.11/site-packages/cfgrib/dataset.py\", line 611, in dict_merge\n",
      "    raise DatasetBuildError(\n",
      "cfgrib.dataset.DatasetBuildError: key present and new value is different: key='heightAboveGround' value=Variable(dimensions=(), data=2.0) new_value=Variable(dimensions=(), data=10.0)\n",
      "skipping variable: paramId==166 shortName='v10'\n",
      "Traceback (most recent call last):\n",
      "  File \"/work/FAC/FGSE/IDYST/tbeucler/default/mfeldman/miniforge3/envs/wb/lib/python3.11/site-packages/cfgrib/dataset.py\", line 680, in build_dataset_components\n",
      "    dict_merge(variables, coord_vars)\n",
      "  File \"/work/FAC/FGSE/IDYST/tbeucler/default/mfeldman/miniforge3/envs/wb/lib/python3.11/site-packages/cfgrib/dataset.py\", line 611, in dict_merge\n",
      "    raise DatasetBuildError(\n",
      "cfgrib.dataset.DatasetBuildError: key present and new value is different: key='heightAboveGround' value=Variable(dimensions=(), data=2.0) new_value=Variable(dimensions=(), data=10.0)\n"
     ]
    },
    {
     "name": "stdout",
     "output_type": "stream",
     "text": [
      "/work/FAC/FGSE/IDYST/tbeucler/default/raw_data/MF_ML_PREDICT/graphcast_d_20200410_t_0000_72h.grib\n"
     ]
    },
    {
     "name": "stderr",
     "output_type": "stream",
     "text": [
      "skipping variable: paramId==165 shortName='u10'\n",
      "Traceback (most recent call last):\n",
      "  File \"/work/FAC/FGSE/IDYST/tbeucler/default/mfeldman/miniforge3/envs/wb/lib/python3.11/site-packages/cfgrib/dataset.py\", line 680, in build_dataset_components\n",
      "    dict_merge(variables, coord_vars)\n",
      "  File \"/work/FAC/FGSE/IDYST/tbeucler/default/mfeldman/miniforge3/envs/wb/lib/python3.11/site-packages/cfgrib/dataset.py\", line 611, in dict_merge\n",
      "    raise DatasetBuildError(\n",
      "cfgrib.dataset.DatasetBuildError: key present and new value is different: key='heightAboveGround' value=Variable(dimensions=(), data=2.0) new_value=Variable(dimensions=(), data=10.0)\n",
      "skipping variable: paramId==166 shortName='v10'\n",
      "Traceback (most recent call last):\n",
      "  File \"/work/FAC/FGSE/IDYST/tbeucler/default/mfeldman/miniforge3/envs/wb/lib/python3.11/site-packages/cfgrib/dataset.py\", line 680, in build_dataset_components\n",
      "    dict_merge(variables, coord_vars)\n",
      "  File \"/work/FAC/FGSE/IDYST/tbeucler/default/mfeldman/miniforge3/envs/wb/lib/python3.11/site-packages/cfgrib/dataset.py\", line 611, in dict_merge\n",
      "    raise DatasetBuildError(\n",
      "cfgrib.dataset.DatasetBuildError: key present and new value is different: key='heightAboveGround' value=Variable(dimensions=(), data=2.0) new_value=Variable(dimensions=(), data=10.0)\n"
     ]
    },
    {
     "name": "stdout",
     "output_type": "stream",
     "text": [
      "/work/FAC/FGSE/IDYST/tbeucler/default/raw_data/MF_ML_PREDICT/graphcast_d_20200410_t_0000_78h.grib\n"
     ]
    },
    {
     "name": "stderr",
     "output_type": "stream",
     "text": [
      "skipping variable: paramId==165 shortName='u10'\n",
      "Traceback (most recent call last):\n",
      "  File \"/work/FAC/FGSE/IDYST/tbeucler/default/mfeldman/miniforge3/envs/wb/lib/python3.11/site-packages/cfgrib/dataset.py\", line 680, in build_dataset_components\n",
      "    dict_merge(variables, coord_vars)\n",
      "  File \"/work/FAC/FGSE/IDYST/tbeucler/default/mfeldman/miniforge3/envs/wb/lib/python3.11/site-packages/cfgrib/dataset.py\", line 611, in dict_merge\n",
      "    raise DatasetBuildError(\n",
      "cfgrib.dataset.DatasetBuildError: key present and new value is different: key='heightAboveGround' value=Variable(dimensions=(), data=2.0) new_value=Variable(dimensions=(), data=10.0)\n",
      "skipping variable: paramId==166 shortName='v10'\n",
      "Traceback (most recent call last):\n",
      "  File \"/work/FAC/FGSE/IDYST/tbeucler/default/mfeldman/miniforge3/envs/wb/lib/python3.11/site-packages/cfgrib/dataset.py\", line 680, in build_dataset_components\n",
      "    dict_merge(variables, coord_vars)\n",
      "  File \"/work/FAC/FGSE/IDYST/tbeucler/default/mfeldman/miniforge3/envs/wb/lib/python3.11/site-packages/cfgrib/dataset.py\", line 611, in dict_merge\n",
      "    raise DatasetBuildError(\n",
      "cfgrib.dataset.DatasetBuildError: key present and new value is different: key='heightAboveGround' value=Variable(dimensions=(), data=2.0) new_value=Variable(dimensions=(), data=10.0)\n"
     ]
    },
    {
     "name": "stdout",
     "output_type": "stream",
     "text": [
      "/work/FAC/FGSE/IDYST/tbeucler/default/raw_data/MF_ML_PREDICT/graphcast_d_20200410_t_0000_84h.grib\n"
     ]
    },
    {
     "name": "stderr",
     "output_type": "stream",
     "text": [
      "skipping variable: paramId==165 shortName='u10'\n",
      "Traceback (most recent call last):\n",
      "  File \"/work/FAC/FGSE/IDYST/tbeucler/default/mfeldman/miniforge3/envs/wb/lib/python3.11/site-packages/cfgrib/dataset.py\", line 680, in build_dataset_components\n",
      "    dict_merge(variables, coord_vars)\n",
      "  File \"/work/FAC/FGSE/IDYST/tbeucler/default/mfeldman/miniforge3/envs/wb/lib/python3.11/site-packages/cfgrib/dataset.py\", line 611, in dict_merge\n",
      "    raise DatasetBuildError(\n",
      "cfgrib.dataset.DatasetBuildError: key present and new value is different: key='heightAboveGround' value=Variable(dimensions=(), data=2.0) new_value=Variable(dimensions=(), data=10.0)\n",
      "skipping variable: paramId==166 shortName='v10'\n",
      "Traceback (most recent call last):\n",
      "  File \"/work/FAC/FGSE/IDYST/tbeucler/default/mfeldman/miniforge3/envs/wb/lib/python3.11/site-packages/cfgrib/dataset.py\", line 680, in build_dataset_components\n",
      "    dict_merge(variables, coord_vars)\n",
      "  File \"/work/FAC/FGSE/IDYST/tbeucler/default/mfeldman/miniforge3/envs/wb/lib/python3.11/site-packages/cfgrib/dataset.py\", line 611, in dict_merge\n",
      "    raise DatasetBuildError(\n",
      "cfgrib.dataset.DatasetBuildError: key present and new value is different: key='heightAboveGround' value=Variable(dimensions=(), data=2.0) new_value=Variable(dimensions=(), data=10.0)\n"
     ]
    },
    {
     "name": "stdout",
     "output_type": "stream",
     "text": [
      "/work/FAC/FGSE/IDYST/tbeucler/default/raw_data/MF_ML_PREDICT/graphcast_d_20200410_t_0000_90h.grib\n"
     ]
    },
    {
     "name": "stderr",
     "output_type": "stream",
     "text": [
      "skipping variable: paramId==165 shortName='u10'\n",
      "Traceback (most recent call last):\n",
      "  File \"/work/FAC/FGSE/IDYST/tbeucler/default/mfeldman/miniforge3/envs/wb/lib/python3.11/site-packages/cfgrib/dataset.py\", line 680, in build_dataset_components\n",
      "    dict_merge(variables, coord_vars)\n",
      "  File \"/work/FAC/FGSE/IDYST/tbeucler/default/mfeldman/miniforge3/envs/wb/lib/python3.11/site-packages/cfgrib/dataset.py\", line 611, in dict_merge\n",
      "    raise DatasetBuildError(\n",
      "cfgrib.dataset.DatasetBuildError: key present and new value is different: key='heightAboveGround' value=Variable(dimensions=(), data=2.0) new_value=Variable(dimensions=(), data=10.0)\n",
      "skipping variable: paramId==166 shortName='v10'\n",
      "Traceback (most recent call last):\n",
      "  File \"/work/FAC/FGSE/IDYST/tbeucler/default/mfeldman/miniforge3/envs/wb/lib/python3.11/site-packages/cfgrib/dataset.py\", line 680, in build_dataset_components\n",
      "    dict_merge(variables, coord_vars)\n",
      "  File \"/work/FAC/FGSE/IDYST/tbeucler/default/mfeldman/miniforge3/envs/wb/lib/python3.11/site-packages/cfgrib/dataset.py\", line 611, in dict_merge\n",
      "    raise DatasetBuildError(\n",
      "cfgrib.dataset.DatasetBuildError: key present and new value is different: key='heightAboveGround' value=Variable(dimensions=(), data=2.0) new_value=Variable(dimensions=(), data=10.0)\n",
      "/tmp/ipykernel_3765897/1799258866.py:91: UserWarning: set_ticklabels() should only be used with a fixed number of ticks, i.e. after set_ticks() or using a FixedLocator.\n",
      "  ax.set_xticklabels(xr_era5.time.dt.strftime('%Y%m%d%H').values,rotation=90)\n"
     ]
    },
    {
     "name": "stdout",
     "output_type": "stream",
     "text": [
      "['36' '42' '48' '54' '60' '66' '72' '78']\n",
      "/work/FAC/FGSE/IDYST/tbeucler/default/raw_data/MF_ML_PREDICT/graphcast_d_20200410_t_1200_36h.grib\n"
     ]
    },
    {
     "name": "stderr",
     "output_type": "stream",
     "text": [
      "skipping variable: paramId==165 shortName='u10'\n",
      "Traceback (most recent call last):\n",
      "  File \"/work/FAC/FGSE/IDYST/tbeucler/default/mfeldman/miniforge3/envs/wb/lib/python3.11/site-packages/cfgrib/dataset.py\", line 680, in build_dataset_components\n",
      "    dict_merge(variables, coord_vars)\n",
      "  File \"/work/FAC/FGSE/IDYST/tbeucler/default/mfeldman/miniforge3/envs/wb/lib/python3.11/site-packages/cfgrib/dataset.py\", line 611, in dict_merge\n",
      "    raise DatasetBuildError(\n",
      "cfgrib.dataset.DatasetBuildError: key present and new value is different: key='heightAboveGround' value=Variable(dimensions=(), data=2.0) new_value=Variable(dimensions=(), data=10.0)\n",
      "skipping variable: paramId==166 shortName='v10'\n",
      "Traceback (most recent call last):\n",
      "  File \"/work/FAC/FGSE/IDYST/tbeucler/default/mfeldman/miniforge3/envs/wb/lib/python3.11/site-packages/cfgrib/dataset.py\", line 680, in build_dataset_components\n",
      "    dict_merge(variables, coord_vars)\n",
      "  File \"/work/FAC/FGSE/IDYST/tbeucler/default/mfeldman/miniforge3/envs/wb/lib/python3.11/site-packages/cfgrib/dataset.py\", line 611, in dict_merge\n",
      "    raise DatasetBuildError(\n",
      "cfgrib.dataset.DatasetBuildError: key present and new value is different: key='heightAboveGround' value=Variable(dimensions=(), data=2.0) new_value=Variable(dimensions=(), data=10.0)\n"
     ]
    },
    {
     "name": "stdout",
     "output_type": "stream",
     "text": [
      "/work/FAC/FGSE/IDYST/tbeucler/default/raw_data/MF_ML_PREDICT/graphcast_d_20200410_t_1200_42h.grib\n"
     ]
    },
    {
     "name": "stderr",
     "output_type": "stream",
     "text": [
      "skipping variable: paramId==165 shortName='u10'\n",
      "Traceback (most recent call last):\n",
      "  File \"/work/FAC/FGSE/IDYST/tbeucler/default/mfeldman/miniforge3/envs/wb/lib/python3.11/site-packages/cfgrib/dataset.py\", line 680, in build_dataset_components\n",
      "    dict_merge(variables, coord_vars)\n",
      "  File \"/work/FAC/FGSE/IDYST/tbeucler/default/mfeldman/miniforge3/envs/wb/lib/python3.11/site-packages/cfgrib/dataset.py\", line 611, in dict_merge\n",
      "    raise DatasetBuildError(\n",
      "cfgrib.dataset.DatasetBuildError: key present and new value is different: key='heightAboveGround' value=Variable(dimensions=(), data=2.0) new_value=Variable(dimensions=(), data=10.0)\n",
      "skipping variable: paramId==166 shortName='v10'\n",
      "Traceback (most recent call last):\n",
      "  File \"/work/FAC/FGSE/IDYST/tbeucler/default/mfeldman/miniforge3/envs/wb/lib/python3.11/site-packages/cfgrib/dataset.py\", line 680, in build_dataset_components\n",
      "    dict_merge(variables, coord_vars)\n",
      "  File \"/work/FAC/FGSE/IDYST/tbeucler/default/mfeldman/miniforge3/envs/wb/lib/python3.11/site-packages/cfgrib/dataset.py\", line 611, in dict_merge\n",
      "    raise DatasetBuildError(\n",
      "cfgrib.dataset.DatasetBuildError: key present and new value is different: key='heightAboveGround' value=Variable(dimensions=(), data=2.0) new_value=Variable(dimensions=(), data=10.0)\n"
     ]
    },
    {
     "name": "stdout",
     "output_type": "stream",
     "text": [
      "/work/FAC/FGSE/IDYST/tbeucler/default/raw_data/MF_ML_PREDICT/graphcast_d_20200410_t_1200_48h.grib\n"
     ]
    },
    {
     "name": "stderr",
     "output_type": "stream",
     "text": [
      "skipping variable: paramId==165 shortName='u10'\n",
      "Traceback (most recent call last):\n",
      "  File \"/work/FAC/FGSE/IDYST/tbeucler/default/mfeldman/miniforge3/envs/wb/lib/python3.11/site-packages/cfgrib/dataset.py\", line 680, in build_dataset_components\n",
      "    dict_merge(variables, coord_vars)\n",
      "  File \"/work/FAC/FGSE/IDYST/tbeucler/default/mfeldman/miniforge3/envs/wb/lib/python3.11/site-packages/cfgrib/dataset.py\", line 611, in dict_merge\n",
      "    raise DatasetBuildError(\n",
      "cfgrib.dataset.DatasetBuildError: key present and new value is different: key='heightAboveGround' value=Variable(dimensions=(), data=2.0) new_value=Variable(dimensions=(), data=10.0)\n",
      "skipping variable: paramId==166 shortName='v10'\n",
      "Traceback (most recent call last):\n",
      "  File \"/work/FAC/FGSE/IDYST/tbeucler/default/mfeldman/miniforge3/envs/wb/lib/python3.11/site-packages/cfgrib/dataset.py\", line 680, in build_dataset_components\n",
      "    dict_merge(variables, coord_vars)\n",
      "  File \"/work/FAC/FGSE/IDYST/tbeucler/default/mfeldman/miniforge3/envs/wb/lib/python3.11/site-packages/cfgrib/dataset.py\", line 611, in dict_merge\n",
      "    raise DatasetBuildError(\n",
      "cfgrib.dataset.DatasetBuildError: key present and new value is different: key='heightAboveGround' value=Variable(dimensions=(), data=2.0) new_value=Variable(dimensions=(), data=10.0)\n"
     ]
    },
    {
     "name": "stdout",
     "output_type": "stream",
     "text": [
      "/work/FAC/FGSE/IDYST/tbeucler/default/raw_data/MF_ML_PREDICT/graphcast_d_20200410_t_1200_54h.grib\n"
     ]
    },
    {
     "name": "stderr",
     "output_type": "stream",
     "text": [
      "skipping variable: paramId==165 shortName='u10'\n",
      "Traceback (most recent call last):\n",
      "  File \"/work/FAC/FGSE/IDYST/tbeucler/default/mfeldman/miniforge3/envs/wb/lib/python3.11/site-packages/cfgrib/dataset.py\", line 680, in build_dataset_components\n",
      "    dict_merge(variables, coord_vars)\n",
      "  File \"/work/FAC/FGSE/IDYST/tbeucler/default/mfeldman/miniforge3/envs/wb/lib/python3.11/site-packages/cfgrib/dataset.py\", line 611, in dict_merge\n",
      "    raise DatasetBuildError(\n",
      "cfgrib.dataset.DatasetBuildError: key present and new value is different: key='heightAboveGround' value=Variable(dimensions=(), data=2.0) new_value=Variable(dimensions=(), data=10.0)\n",
      "skipping variable: paramId==166 shortName='v10'\n",
      "Traceback (most recent call last):\n",
      "  File \"/work/FAC/FGSE/IDYST/tbeucler/default/mfeldman/miniforge3/envs/wb/lib/python3.11/site-packages/cfgrib/dataset.py\", line 680, in build_dataset_components\n",
      "    dict_merge(variables, coord_vars)\n",
      "  File \"/work/FAC/FGSE/IDYST/tbeucler/default/mfeldman/miniforge3/envs/wb/lib/python3.11/site-packages/cfgrib/dataset.py\", line 611, in dict_merge\n",
      "    raise DatasetBuildError(\n",
      "cfgrib.dataset.DatasetBuildError: key present and new value is different: key='heightAboveGround' value=Variable(dimensions=(), data=2.0) new_value=Variable(dimensions=(), data=10.0)\n"
     ]
    },
    {
     "name": "stdout",
     "output_type": "stream",
     "text": [
      "/work/FAC/FGSE/IDYST/tbeucler/default/raw_data/MF_ML_PREDICT/graphcast_d_20200410_t_1200_60h.grib\n"
     ]
    },
    {
     "name": "stderr",
     "output_type": "stream",
     "text": [
      "skipping variable: paramId==165 shortName='u10'\n",
      "Traceback (most recent call last):\n",
      "  File \"/work/FAC/FGSE/IDYST/tbeucler/default/mfeldman/miniforge3/envs/wb/lib/python3.11/site-packages/cfgrib/dataset.py\", line 680, in build_dataset_components\n",
      "    dict_merge(variables, coord_vars)\n",
      "  File \"/work/FAC/FGSE/IDYST/tbeucler/default/mfeldman/miniforge3/envs/wb/lib/python3.11/site-packages/cfgrib/dataset.py\", line 611, in dict_merge\n",
      "    raise DatasetBuildError(\n",
      "cfgrib.dataset.DatasetBuildError: key present and new value is different: key='heightAboveGround' value=Variable(dimensions=(), data=2.0) new_value=Variable(dimensions=(), data=10.0)\n",
      "skipping variable: paramId==166 shortName='v10'\n",
      "Traceback (most recent call last):\n",
      "  File \"/work/FAC/FGSE/IDYST/tbeucler/default/mfeldman/miniforge3/envs/wb/lib/python3.11/site-packages/cfgrib/dataset.py\", line 680, in build_dataset_components\n",
      "    dict_merge(variables, coord_vars)\n",
      "  File \"/work/FAC/FGSE/IDYST/tbeucler/default/mfeldman/miniforge3/envs/wb/lib/python3.11/site-packages/cfgrib/dataset.py\", line 611, in dict_merge\n",
      "    raise DatasetBuildError(\n",
      "cfgrib.dataset.DatasetBuildError: key present and new value is different: key='heightAboveGround' value=Variable(dimensions=(), data=2.0) new_value=Variable(dimensions=(), data=10.0)\n"
     ]
    },
    {
     "name": "stdout",
     "output_type": "stream",
     "text": [
      "/work/FAC/FGSE/IDYST/tbeucler/default/raw_data/MF_ML_PREDICT/graphcast_d_20200410_t_1200_66h.grib\n"
     ]
    },
    {
     "name": "stderr",
     "output_type": "stream",
     "text": [
      "skipping variable: paramId==165 shortName='u10'\n",
      "Traceback (most recent call last):\n",
      "  File \"/work/FAC/FGSE/IDYST/tbeucler/default/mfeldman/miniforge3/envs/wb/lib/python3.11/site-packages/cfgrib/dataset.py\", line 680, in build_dataset_components\n",
      "    dict_merge(variables, coord_vars)\n",
      "  File \"/work/FAC/FGSE/IDYST/tbeucler/default/mfeldman/miniforge3/envs/wb/lib/python3.11/site-packages/cfgrib/dataset.py\", line 611, in dict_merge\n",
      "    raise DatasetBuildError(\n",
      "cfgrib.dataset.DatasetBuildError: key present and new value is different: key='heightAboveGround' value=Variable(dimensions=(), data=2.0) new_value=Variable(dimensions=(), data=10.0)\n",
      "skipping variable: paramId==166 shortName='v10'\n",
      "Traceback (most recent call last):\n",
      "  File \"/work/FAC/FGSE/IDYST/tbeucler/default/mfeldman/miniforge3/envs/wb/lib/python3.11/site-packages/cfgrib/dataset.py\", line 680, in build_dataset_components\n",
      "    dict_merge(variables, coord_vars)\n",
      "  File \"/work/FAC/FGSE/IDYST/tbeucler/default/mfeldman/miniforge3/envs/wb/lib/python3.11/site-packages/cfgrib/dataset.py\", line 611, in dict_merge\n",
      "    raise DatasetBuildError(\n",
      "cfgrib.dataset.DatasetBuildError: key present and new value is different: key='heightAboveGround' value=Variable(dimensions=(), data=2.0) new_value=Variable(dimensions=(), data=10.0)\n"
     ]
    },
    {
     "name": "stdout",
     "output_type": "stream",
     "text": [
      "/work/FAC/FGSE/IDYST/tbeucler/default/raw_data/MF_ML_PREDICT/graphcast_d_20200410_t_1200_72h.grib\n"
     ]
    },
    {
     "name": "stderr",
     "output_type": "stream",
     "text": [
      "skipping variable: paramId==165 shortName='u10'\n",
      "Traceback (most recent call last):\n",
      "  File \"/work/FAC/FGSE/IDYST/tbeucler/default/mfeldman/miniforge3/envs/wb/lib/python3.11/site-packages/cfgrib/dataset.py\", line 680, in build_dataset_components\n",
      "    dict_merge(variables, coord_vars)\n",
      "  File \"/work/FAC/FGSE/IDYST/tbeucler/default/mfeldman/miniforge3/envs/wb/lib/python3.11/site-packages/cfgrib/dataset.py\", line 611, in dict_merge\n",
      "    raise DatasetBuildError(\n",
      "cfgrib.dataset.DatasetBuildError: key present and new value is different: key='heightAboveGround' value=Variable(dimensions=(), data=2.0) new_value=Variable(dimensions=(), data=10.0)\n",
      "skipping variable: paramId==166 shortName='v10'\n",
      "Traceback (most recent call last):\n",
      "  File \"/work/FAC/FGSE/IDYST/tbeucler/default/mfeldman/miniforge3/envs/wb/lib/python3.11/site-packages/cfgrib/dataset.py\", line 680, in build_dataset_components\n",
      "    dict_merge(variables, coord_vars)\n",
      "  File \"/work/FAC/FGSE/IDYST/tbeucler/default/mfeldman/miniforge3/envs/wb/lib/python3.11/site-packages/cfgrib/dataset.py\", line 611, in dict_merge\n",
      "    raise DatasetBuildError(\n",
      "cfgrib.dataset.DatasetBuildError: key present and new value is different: key='heightAboveGround' value=Variable(dimensions=(), data=2.0) new_value=Variable(dimensions=(), data=10.0)\n"
     ]
    },
    {
     "name": "stdout",
     "output_type": "stream",
     "text": [
      "/work/FAC/FGSE/IDYST/tbeucler/default/raw_data/MF_ML_PREDICT/graphcast_d_20200410_t_1200_78h.grib\n"
     ]
    },
    {
     "name": "stderr",
     "output_type": "stream",
     "text": [
      "skipping variable: paramId==165 shortName='u10'\n",
      "Traceback (most recent call last):\n",
      "  File \"/work/FAC/FGSE/IDYST/tbeucler/default/mfeldman/miniforge3/envs/wb/lib/python3.11/site-packages/cfgrib/dataset.py\", line 680, in build_dataset_components\n",
      "    dict_merge(variables, coord_vars)\n",
      "  File \"/work/FAC/FGSE/IDYST/tbeucler/default/mfeldman/miniforge3/envs/wb/lib/python3.11/site-packages/cfgrib/dataset.py\", line 611, in dict_merge\n",
      "    raise DatasetBuildError(\n",
      "cfgrib.dataset.DatasetBuildError: key present and new value is different: key='heightAboveGround' value=Variable(dimensions=(), data=2.0) new_value=Variable(dimensions=(), data=10.0)\n",
      "skipping variable: paramId==166 shortName='v10'\n",
      "Traceback (most recent call last):\n",
      "  File \"/work/FAC/FGSE/IDYST/tbeucler/default/mfeldman/miniforge3/envs/wb/lib/python3.11/site-packages/cfgrib/dataset.py\", line 680, in build_dataset_components\n",
      "    dict_merge(variables, coord_vars)\n",
      "  File \"/work/FAC/FGSE/IDYST/tbeucler/default/mfeldman/miniforge3/envs/wb/lib/python3.11/site-packages/cfgrib/dataset.py\", line 611, in dict_merge\n",
      "    raise DatasetBuildError(\n",
      "cfgrib.dataset.DatasetBuildError: key present and new value is different: key='heightAboveGround' value=Variable(dimensions=(), data=2.0) new_value=Variable(dimensions=(), data=10.0)\n",
      "/tmp/ipykernel_3765897/1799258866.py:91: UserWarning: set_ticklabels() should only be used with a fixed number of ticks, i.e. after set_ticks() or using a FixedLocator.\n",
      "  ax.set_xticklabels(xr_era5.time.dt.strftime('%Y%m%d%H').values,rotation=90)\n"
     ]
    },
    {
     "name": "stdout",
     "output_type": "stream",
     "text": [
      "['24' '30' '36' '42' '48' '54' '60' '66']\n",
      "/work/FAC/FGSE/IDYST/tbeucler/default/raw_data/MF_ML_PREDICT/graphcast_d_20200411_t_0000_24h.grib\n"
     ]
    },
    {
     "name": "stderr",
     "output_type": "stream",
     "text": [
      "skipping variable: paramId==165 shortName='u10'\n",
      "Traceback (most recent call last):\n",
      "  File \"/work/FAC/FGSE/IDYST/tbeucler/default/mfeldman/miniforge3/envs/wb/lib/python3.11/site-packages/cfgrib/dataset.py\", line 680, in build_dataset_components\n",
      "    dict_merge(variables, coord_vars)\n",
      "  File \"/work/FAC/FGSE/IDYST/tbeucler/default/mfeldman/miniforge3/envs/wb/lib/python3.11/site-packages/cfgrib/dataset.py\", line 611, in dict_merge\n",
      "    raise DatasetBuildError(\n",
      "cfgrib.dataset.DatasetBuildError: key present and new value is different: key='heightAboveGround' value=Variable(dimensions=(), data=2.0) new_value=Variable(dimensions=(), data=10.0)\n",
      "skipping variable: paramId==166 shortName='v10'\n",
      "Traceback (most recent call last):\n",
      "  File \"/work/FAC/FGSE/IDYST/tbeucler/default/mfeldman/miniforge3/envs/wb/lib/python3.11/site-packages/cfgrib/dataset.py\", line 680, in build_dataset_components\n",
      "    dict_merge(variables, coord_vars)\n",
      "  File \"/work/FAC/FGSE/IDYST/tbeucler/default/mfeldman/miniforge3/envs/wb/lib/python3.11/site-packages/cfgrib/dataset.py\", line 611, in dict_merge\n",
      "    raise DatasetBuildError(\n",
      "cfgrib.dataset.DatasetBuildError: key present and new value is different: key='heightAboveGround' value=Variable(dimensions=(), data=2.0) new_value=Variable(dimensions=(), data=10.0)\n"
     ]
    },
    {
     "name": "stdout",
     "output_type": "stream",
     "text": [
      "/work/FAC/FGSE/IDYST/tbeucler/default/raw_data/MF_ML_PREDICT/graphcast_d_20200411_t_0000_30h.grib\n"
     ]
    },
    {
     "name": "stderr",
     "output_type": "stream",
     "text": [
      "skipping variable: paramId==165 shortName='u10'\n",
      "Traceback (most recent call last):\n",
      "  File \"/work/FAC/FGSE/IDYST/tbeucler/default/mfeldman/miniforge3/envs/wb/lib/python3.11/site-packages/cfgrib/dataset.py\", line 680, in build_dataset_components\n",
      "    dict_merge(variables, coord_vars)\n",
      "  File \"/work/FAC/FGSE/IDYST/tbeucler/default/mfeldman/miniforge3/envs/wb/lib/python3.11/site-packages/cfgrib/dataset.py\", line 611, in dict_merge\n",
      "    raise DatasetBuildError(\n",
      "cfgrib.dataset.DatasetBuildError: key present and new value is different: key='heightAboveGround' value=Variable(dimensions=(), data=2.0) new_value=Variable(dimensions=(), data=10.0)\n",
      "skipping variable: paramId==166 shortName='v10'\n",
      "Traceback (most recent call last):\n",
      "  File \"/work/FAC/FGSE/IDYST/tbeucler/default/mfeldman/miniforge3/envs/wb/lib/python3.11/site-packages/cfgrib/dataset.py\", line 680, in build_dataset_components\n",
      "    dict_merge(variables, coord_vars)\n",
      "  File \"/work/FAC/FGSE/IDYST/tbeucler/default/mfeldman/miniforge3/envs/wb/lib/python3.11/site-packages/cfgrib/dataset.py\", line 611, in dict_merge\n",
      "    raise DatasetBuildError(\n",
      "cfgrib.dataset.DatasetBuildError: key present and new value is different: key='heightAboveGround' value=Variable(dimensions=(), data=2.0) new_value=Variable(dimensions=(), data=10.0)\n"
     ]
    },
    {
     "name": "stdout",
     "output_type": "stream",
     "text": [
      "/work/FAC/FGSE/IDYST/tbeucler/default/raw_data/MF_ML_PREDICT/graphcast_d_20200411_t_0000_36h.grib\n"
     ]
    },
    {
     "name": "stderr",
     "output_type": "stream",
     "text": [
      "skipping variable: paramId==165 shortName='u10'\n",
      "Traceback (most recent call last):\n",
      "  File \"/work/FAC/FGSE/IDYST/tbeucler/default/mfeldman/miniforge3/envs/wb/lib/python3.11/site-packages/cfgrib/dataset.py\", line 680, in build_dataset_components\n",
      "    dict_merge(variables, coord_vars)\n",
      "  File \"/work/FAC/FGSE/IDYST/tbeucler/default/mfeldman/miniforge3/envs/wb/lib/python3.11/site-packages/cfgrib/dataset.py\", line 611, in dict_merge\n",
      "    raise DatasetBuildError(\n",
      "cfgrib.dataset.DatasetBuildError: key present and new value is different: key='heightAboveGround' value=Variable(dimensions=(), data=2.0) new_value=Variable(dimensions=(), data=10.0)\n",
      "skipping variable: paramId==166 shortName='v10'\n",
      "Traceback (most recent call last):\n",
      "  File \"/work/FAC/FGSE/IDYST/tbeucler/default/mfeldman/miniforge3/envs/wb/lib/python3.11/site-packages/cfgrib/dataset.py\", line 680, in build_dataset_components\n",
      "    dict_merge(variables, coord_vars)\n",
      "  File \"/work/FAC/FGSE/IDYST/tbeucler/default/mfeldman/miniforge3/envs/wb/lib/python3.11/site-packages/cfgrib/dataset.py\", line 611, in dict_merge\n",
      "    raise DatasetBuildError(\n",
      "cfgrib.dataset.DatasetBuildError: key present and new value is different: key='heightAboveGround' value=Variable(dimensions=(), data=2.0) new_value=Variable(dimensions=(), data=10.0)\n"
     ]
    },
    {
     "name": "stdout",
     "output_type": "stream",
     "text": [
      "/work/FAC/FGSE/IDYST/tbeucler/default/raw_data/MF_ML_PREDICT/graphcast_d_20200411_t_0000_42h.grib\n"
     ]
    },
    {
     "name": "stderr",
     "output_type": "stream",
     "text": [
      "skipping variable: paramId==165 shortName='u10'\n",
      "Traceback (most recent call last):\n",
      "  File \"/work/FAC/FGSE/IDYST/tbeucler/default/mfeldman/miniforge3/envs/wb/lib/python3.11/site-packages/cfgrib/dataset.py\", line 680, in build_dataset_components\n",
      "    dict_merge(variables, coord_vars)\n",
      "  File \"/work/FAC/FGSE/IDYST/tbeucler/default/mfeldman/miniforge3/envs/wb/lib/python3.11/site-packages/cfgrib/dataset.py\", line 611, in dict_merge\n",
      "    raise DatasetBuildError(\n",
      "cfgrib.dataset.DatasetBuildError: key present and new value is different: key='heightAboveGround' value=Variable(dimensions=(), data=2.0) new_value=Variable(dimensions=(), data=10.0)\n",
      "skipping variable: paramId==166 shortName='v10'\n",
      "Traceback (most recent call last):\n",
      "  File \"/work/FAC/FGSE/IDYST/tbeucler/default/mfeldman/miniforge3/envs/wb/lib/python3.11/site-packages/cfgrib/dataset.py\", line 680, in build_dataset_components\n",
      "    dict_merge(variables, coord_vars)\n",
      "  File \"/work/FAC/FGSE/IDYST/tbeucler/default/mfeldman/miniforge3/envs/wb/lib/python3.11/site-packages/cfgrib/dataset.py\", line 611, in dict_merge\n",
      "    raise DatasetBuildError(\n",
      "cfgrib.dataset.DatasetBuildError: key present and new value is different: key='heightAboveGround' value=Variable(dimensions=(), data=2.0) new_value=Variable(dimensions=(), data=10.0)\n"
     ]
    },
    {
     "name": "stdout",
     "output_type": "stream",
     "text": [
      "/work/FAC/FGSE/IDYST/tbeucler/default/raw_data/MF_ML_PREDICT/graphcast_d_20200411_t_0000_48h.grib\n"
     ]
    },
    {
     "name": "stderr",
     "output_type": "stream",
     "text": [
      "skipping variable: paramId==165 shortName='u10'\n",
      "Traceback (most recent call last):\n",
      "  File \"/work/FAC/FGSE/IDYST/tbeucler/default/mfeldman/miniforge3/envs/wb/lib/python3.11/site-packages/cfgrib/dataset.py\", line 680, in build_dataset_components\n",
      "    dict_merge(variables, coord_vars)\n",
      "  File \"/work/FAC/FGSE/IDYST/tbeucler/default/mfeldman/miniforge3/envs/wb/lib/python3.11/site-packages/cfgrib/dataset.py\", line 611, in dict_merge\n",
      "    raise DatasetBuildError(\n",
      "cfgrib.dataset.DatasetBuildError: key present and new value is different: key='heightAboveGround' value=Variable(dimensions=(), data=2.0) new_value=Variable(dimensions=(), data=10.0)\n",
      "skipping variable: paramId==166 shortName='v10'\n",
      "Traceback (most recent call last):\n",
      "  File \"/work/FAC/FGSE/IDYST/tbeucler/default/mfeldman/miniforge3/envs/wb/lib/python3.11/site-packages/cfgrib/dataset.py\", line 680, in build_dataset_components\n",
      "    dict_merge(variables, coord_vars)\n",
      "  File \"/work/FAC/FGSE/IDYST/tbeucler/default/mfeldman/miniforge3/envs/wb/lib/python3.11/site-packages/cfgrib/dataset.py\", line 611, in dict_merge\n",
      "    raise DatasetBuildError(\n",
      "cfgrib.dataset.DatasetBuildError: key present and new value is different: key='heightAboveGround' value=Variable(dimensions=(), data=2.0) new_value=Variable(dimensions=(), data=10.0)\n"
     ]
    },
    {
     "name": "stdout",
     "output_type": "stream",
     "text": [
      "/work/FAC/FGSE/IDYST/tbeucler/default/raw_data/MF_ML_PREDICT/graphcast_d_20200411_t_0000_54h.grib\n"
     ]
    },
    {
     "name": "stderr",
     "output_type": "stream",
     "text": [
      "skipping variable: paramId==165 shortName='u10'\n",
      "Traceback (most recent call last):\n",
      "  File \"/work/FAC/FGSE/IDYST/tbeucler/default/mfeldman/miniforge3/envs/wb/lib/python3.11/site-packages/cfgrib/dataset.py\", line 680, in build_dataset_components\n",
      "    dict_merge(variables, coord_vars)\n",
      "  File \"/work/FAC/FGSE/IDYST/tbeucler/default/mfeldman/miniforge3/envs/wb/lib/python3.11/site-packages/cfgrib/dataset.py\", line 611, in dict_merge\n",
      "    raise DatasetBuildError(\n",
      "cfgrib.dataset.DatasetBuildError: key present and new value is different: key='heightAboveGround' value=Variable(dimensions=(), data=2.0) new_value=Variable(dimensions=(), data=10.0)\n",
      "skipping variable: paramId==166 shortName='v10'\n",
      "Traceback (most recent call last):\n",
      "  File \"/work/FAC/FGSE/IDYST/tbeucler/default/mfeldman/miniforge3/envs/wb/lib/python3.11/site-packages/cfgrib/dataset.py\", line 680, in build_dataset_components\n",
      "    dict_merge(variables, coord_vars)\n",
      "  File \"/work/FAC/FGSE/IDYST/tbeucler/default/mfeldman/miniforge3/envs/wb/lib/python3.11/site-packages/cfgrib/dataset.py\", line 611, in dict_merge\n",
      "    raise DatasetBuildError(\n",
      "cfgrib.dataset.DatasetBuildError: key present and new value is different: key='heightAboveGround' value=Variable(dimensions=(), data=2.0) new_value=Variable(dimensions=(), data=10.0)\n"
     ]
    },
    {
     "name": "stdout",
     "output_type": "stream",
     "text": [
      "/work/FAC/FGSE/IDYST/tbeucler/default/raw_data/MF_ML_PREDICT/graphcast_d_20200411_t_0000_60h.grib\n"
     ]
    },
    {
     "name": "stderr",
     "output_type": "stream",
     "text": [
      "skipping variable: paramId==165 shortName='u10'\n",
      "Traceback (most recent call last):\n",
      "  File \"/work/FAC/FGSE/IDYST/tbeucler/default/mfeldman/miniforge3/envs/wb/lib/python3.11/site-packages/cfgrib/dataset.py\", line 680, in build_dataset_components\n",
      "    dict_merge(variables, coord_vars)\n",
      "  File \"/work/FAC/FGSE/IDYST/tbeucler/default/mfeldman/miniforge3/envs/wb/lib/python3.11/site-packages/cfgrib/dataset.py\", line 611, in dict_merge\n",
      "    raise DatasetBuildError(\n",
      "cfgrib.dataset.DatasetBuildError: key present and new value is different: key='heightAboveGround' value=Variable(dimensions=(), data=2.0) new_value=Variable(dimensions=(), data=10.0)\n",
      "skipping variable: paramId==166 shortName='v10'\n",
      "Traceback (most recent call last):\n",
      "  File \"/work/FAC/FGSE/IDYST/tbeucler/default/mfeldman/miniforge3/envs/wb/lib/python3.11/site-packages/cfgrib/dataset.py\", line 680, in build_dataset_components\n",
      "    dict_merge(variables, coord_vars)\n",
      "  File \"/work/FAC/FGSE/IDYST/tbeucler/default/mfeldman/miniforge3/envs/wb/lib/python3.11/site-packages/cfgrib/dataset.py\", line 611, in dict_merge\n",
      "    raise DatasetBuildError(\n",
      "cfgrib.dataset.DatasetBuildError: key present and new value is different: key='heightAboveGround' value=Variable(dimensions=(), data=2.0) new_value=Variable(dimensions=(), data=10.0)\n"
     ]
    },
    {
     "name": "stdout",
     "output_type": "stream",
     "text": [
      "/work/FAC/FGSE/IDYST/tbeucler/default/raw_data/MF_ML_PREDICT/graphcast_d_20200411_t_0000_66h.grib\n"
     ]
    },
    {
     "name": "stderr",
     "output_type": "stream",
     "text": [
      "skipping variable: paramId==165 shortName='u10'\n",
      "Traceback (most recent call last):\n",
      "  File \"/work/FAC/FGSE/IDYST/tbeucler/default/mfeldman/miniforge3/envs/wb/lib/python3.11/site-packages/cfgrib/dataset.py\", line 680, in build_dataset_components\n",
      "    dict_merge(variables, coord_vars)\n",
      "  File \"/work/FAC/FGSE/IDYST/tbeucler/default/mfeldman/miniforge3/envs/wb/lib/python3.11/site-packages/cfgrib/dataset.py\", line 611, in dict_merge\n",
      "    raise DatasetBuildError(\n",
      "cfgrib.dataset.DatasetBuildError: key present and new value is different: key='heightAboveGround' value=Variable(dimensions=(), data=2.0) new_value=Variable(dimensions=(), data=10.0)\n",
      "skipping variable: paramId==166 shortName='v10'\n",
      "Traceback (most recent call last):\n",
      "  File \"/work/FAC/FGSE/IDYST/tbeucler/default/mfeldman/miniforge3/envs/wb/lib/python3.11/site-packages/cfgrib/dataset.py\", line 680, in build_dataset_components\n",
      "    dict_merge(variables, coord_vars)\n",
      "  File \"/work/FAC/FGSE/IDYST/tbeucler/default/mfeldman/miniforge3/envs/wb/lib/python3.11/site-packages/cfgrib/dataset.py\", line 611, in dict_merge\n",
      "    raise DatasetBuildError(\n",
      "cfgrib.dataset.DatasetBuildError: key present and new value is different: key='heightAboveGround' value=Variable(dimensions=(), data=2.0) new_value=Variable(dimensions=(), data=10.0)\n",
      "/tmp/ipykernel_3765897/1799258866.py:91: UserWarning: set_ticklabels() should only be used with a fixed number of ticks, i.e. after set_ticks() or using a FixedLocator.\n",
      "  ax.set_xticklabels(xr_era5.time.dt.strftime('%Y%m%d%H').values,rotation=90)\n"
     ]
    },
    {
     "name": "stdout",
     "output_type": "stream",
     "text": [
      "['12' '18' '24' '30' '36' '42' '48' '54']\n",
      "/work/FAC/FGSE/IDYST/tbeucler/default/raw_data/MF_ML_PREDICT/graphcast_d_20200411_t_1200_12h.grib\n"
     ]
    },
    {
     "name": "stderr",
     "output_type": "stream",
     "text": [
      "skipping variable: paramId==165 shortName='u10'\n",
      "Traceback (most recent call last):\n",
      "  File \"/work/FAC/FGSE/IDYST/tbeucler/default/mfeldman/miniforge3/envs/wb/lib/python3.11/site-packages/cfgrib/dataset.py\", line 680, in build_dataset_components\n",
      "    dict_merge(variables, coord_vars)\n",
      "  File \"/work/FAC/FGSE/IDYST/tbeucler/default/mfeldman/miniforge3/envs/wb/lib/python3.11/site-packages/cfgrib/dataset.py\", line 611, in dict_merge\n",
      "    raise DatasetBuildError(\n",
      "cfgrib.dataset.DatasetBuildError: key present and new value is different: key='heightAboveGround' value=Variable(dimensions=(), data=2.0) new_value=Variable(dimensions=(), data=10.0)\n",
      "skipping variable: paramId==166 shortName='v10'\n",
      "Traceback (most recent call last):\n",
      "  File \"/work/FAC/FGSE/IDYST/tbeucler/default/mfeldman/miniforge3/envs/wb/lib/python3.11/site-packages/cfgrib/dataset.py\", line 680, in build_dataset_components\n",
      "    dict_merge(variables, coord_vars)\n",
      "  File \"/work/FAC/FGSE/IDYST/tbeucler/default/mfeldman/miniforge3/envs/wb/lib/python3.11/site-packages/cfgrib/dataset.py\", line 611, in dict_merge\n",
      "    raise DatasetBuildError(\n",
      "cfgrib.dataset.DatasetBuildError: key present and new value is different: key='heightAboveGround' value=Variable(dimensions=(), data=2.0) new_value=Variable(dimensions=(), data=10.0)\n"
     ]
    },
    {
     "name": "stdout",
     "output_type": "stream",
     "text": [
      "/work/FAC/FGSE/IDYST/tbeucler/default/raw_data/MF_ML_PREDICT/graphcast_d_20200411_t_1200_18h.grib\n"
     ]
    },
    {
     "name": "stderr",
     "output_type": "stream",
     "text": [
      "skipping variable: paramId==165 shortName='u10'\n",
      "Traceback (most recent call last):\n",
      "  File \"/work/FAC/FGSE/IDYST/tbeucler/default/mfeldman/miniforge3/envs/wb/lib/python3.11/site-packages/cfgrib/dataset.py\", line 680, in build_dataset_components\n",
      "    dict_merge(variables, coord_vars)\n",
      "  File \"/work/FAC/FGSE/IDYST/tbeucler/default/mfeldman/miniforge3/envs/wb/lib/python3.11/site-packages/cfgrib/dataset.py\", line 611, in dict_merge\n",
      "    raise DatasetBuildError(\n",
      "cfgrib.dataset.DatasetBuildError: key present and new value is different: key='heightAboveGround' value=Variable(dimensions=(), data=2.0) new_value=Variable(dimensions=(), data=10.0)\n",
      "skipping variable: paramId==166 shortName='v10'\n",
      "Traceback (most recent call last):\n",
      "  File \"/work/FAC/FGSE/IDYST/tbeucler/default/mfeldman/miniforge3/envs/wb/lib/python3.11/site-packages/cfgrib/dataset.py\", line 680, in build_dataset_components\n",
      "    dict_merge(variables, coord_vars)\n",
      "  File \"/work/FAC/FGSE/IDYST/tbeucler/default/mfeldman/miniforge3/envs/wb/lib/python3.11/site-packages/cfgrib/dataset.py\", line 611, in dict_merge\n",
      "    raise DatasetBuildError(\n",
      "cfgrib.dataset.DatasetBuildError: key present and new value is different: key='heightAboveGround' value=Variable(dimensions=(), data=2.0) new_value=Variable(dimensions=(), data=10.0)\n"
     ]
    },
    {
     "name": "stdout",
     "output_type": "stream",
     "text": [
      "/work/FAC/FGSE/IDYST/tbeucler/default/raw_data/MF_ML_PREDICT/graphcast_d_20200411_t_1200_24h.grib\n"
     ]
    },
    {
     "name": "stderr",
     "output_type": "stream",
     "text": [
      "skipping variable: paramId==165 shortName='u10'\n",
      "Traceback (most recent call last):\n",
      "  File \"/work/FAC/FGSE/IDYST/tbeucler/default/mfeldman/miniforge3/envs/wb/lib/python3.11/site-packages/cfgrib/dataset.py\", line 680, in build_dataset_components\n",
      "    dict_merge(variables, coord_vars)\n",
      "  File \"/work/FAC/FGSE/IDYST/tbeucler/default/mfeldman/miniforge3/envs/wb/lib/python3.11/site-packages/cfgrib/dataset.py\", line 611, in dict_merge\n",
      "    raise DatasetBuildError(\n",
      "cfgrib.dataset.DatasetBuildError: key present and new value is different: key='heightAboveGround' value=Variable(dimensions=(), data=2.0) new_value=Variable(dimensions=(), data=10.0)\n",
      "skipping variable: paramId==166 shortName='v10'\n",
      "Traceback (most recent call last):\n",
      "  File \"/work/FAC/FGSE/IDYST/tbeucler/default/mfeldman/miniforge3/envs/wb/lib/python3.11/site-packages/cfgrib/dataset.py\", line 680, in build_dataset_components\n",
      "    dict_merge(variables, coord_vars)\n",
      "  File \"/work/FAC/FGSE/IDYST/tbeucler/default/mfeldman/miniforge3/envs/wb/lib/python3.11/site-packages/cfgrib/dataset.py\", line 611, in dict_merge\n",
      "    raise DatasetBuildError(\n",
      "cfgrib.dataset.DatasetBuildError: key present and new value is different: key='heightAboveGround' value=Variable(dimensions=(), data=2.0) new_value=Variable(dimensions=(), data=10.0)\n"
     ]
    },
    {
     "name": "stdout",
     "output_type": "stream",
     "text": [
      "/work/FAC/FGSE/IDYST/tbeucler/default/raw_data/MF_ML_PREDICT/graphcast_d_20200411_t_1200_30h.grib\n"
     ]
    },
    {
     "name": "stderr",
     "output_type": "stream",
     "text": [
      "skipping variable: paramId==165 shortName='u10'\n",
      "Traceback (most recent call last):\n",
      "  File \"/work/FAC/FGSE/IDYST/tbeucler/default/mfeldman/miniforge3/envs/wb/lib/python3.11/site-packages/cfgrib/dataset.py\", line 680, in build_dataset_components\n",
      "    dict_merge(variables, coord_vars)\n",
      "  File \"/work/FAC/FGSE/IDYST/tbeucler/default/mfeldman/miniforge3/envs/wb/lib/python3.11/site-packages/cfgrib/dataset.py\", line 611, in dict_merge\n",
      "    raise DatasetBuildError(\n",
      "cfgrib.dataset.DatasetBuildError: key present and new value is different: key='heightAboveGround' value=Variable(dimensions=(), data=2.0) new_value=Variable(dimensions=(), data=10.0)\n",
      "skipping variable: paramId==166 shortName='v10'\n",
      "Traceback (most recent call last):\n",
      "  File \"/work/FAC/FGSE/IDYST/tbeucler/default/mfeldman/miniforge3/envs/wb/lib/python3.11/site-packages/cfgrib/dataset.py\", line 680, in build_dataset_components\n",
      "    dict_merge(variables, coord_vars)\n",
      "  File \"/work/FAC/FGSE/IDYST/tbeucler/default/mfeldman/miniforge3/envs/wb/lib/python3.11/site-packages/cfgrib/dataset.py\", line 611, in dict_merge\n",
      "    raise DatasetBuildError(\n",
      "cfgrib.dataset.DatasetBuildError: key present and new value is different: key='heightAboveGround' value=Variable(dimensions=(), data=2.0) new_value=Variable(dimensions=(), data=10.0)\n"
     ]
    },
    {
     "name": "stdout",
     "output_type": "stream",
     "text": [
      "/work/FAC/FGSE/IDYST/tbeucler/default/raw_data/MF_ML_PREDICT/graphcast_d_20200411_t_1200_36h.grib\n"
     ]
    },
    {
     "name": "stderr",
     "output_type": "stream",
     "text": [
      "skipping variable: paramId==165 shortName='u10'\n",
      "Traceback (most recent call last):\n",
      "  File \"/work/FAC/FGSE/IDYST/tbeucler/default/mfeldman/miniforge3/envs/wb/lib/python3.11/site-packages/cfgrib/dataset.py\", line 680, in build_dataset_components\n",
      "    dict_merge(variables, coord_vars)\n",
      "  File \"/work/FAC/FGSE/IDYST/tbeucler/default/mfeldman/miniforge3/envs/wb/lib/python3.11/site-packages/cfgrib/dataset.py\", line 611, in dict_merge\n",
      "    raise DatasetBuildError(\n",
      "cfgrib.dataset.DatasetBuildError: key present and new value is different: key='heightAboveGround' value=Variable(dimensions=(), data=2.0) new_value=Variable(dimensions=(), data=10.0)\n",
      "skipping variable: paramId==166 shortName='v10'\n",
      "Traceback (most recent call last):\n",
      "  File \"/work/FAC/FGSE/IDYST/tbeucler/default/mfeldman/miniforge3/envs/wb/lib/python3.11/site-packages/cfgrib/dataset.py\", line 680, in build_dataset_components\n",
      "    dict_merge(variables, coord_vars)\n",
      "  File \"/work/FAC/FGSE/IDYST/tbeucler/default/mfeldman/miniforge3/envs/wb/lib/python3.11/site-packages/cfgrib/dataset.py\", line 611, in dict_merge\n",
      "    raise DatasetBuildError(\n",
      "cfgrib.dataset.DatasetBuildError: key present and new value is different: key='heightAboveGround' value=Variable(dimensions=(), data=2.0) new_value=Variable(dimensions=(), data=10.0)\n"
     ]
    },
    {
     "name": "stdout",
     "output_type": "stream",
     "text": [
      "/work/FAC/FGSE/IDYST/tbeucler/default/raw_data/MF_ML_PREDICT/graphcast_d_20200411_t_1200_42h.grib\n"
     ]
    },
    {
     "name": "stderr",
     "output_type": "stream",
     "text": [
      "skipping variable: paramId==165 shortName='u10'\n",
      "Traceback (most recent call last):\n",
      "  File \"/work/FAC/FGSE/IDYST/tbeucler/default/mfeldman/miniforge3/envs/wb/lib/python3.11/site-packages/cfgrib/dataset.py\", line 680, in build_dataset_components\n",
      "    dict_merge(variables, coord_vars)\n",
      "  File \"/work/FAC/FGSE/IDYST/tbeucler/default/mfeldman/miniforge3/envs/wb/lib/python3.11/site-packages/cfgrib/dataset.py\", line 611, in dict_merge\n",
      "    raise DatasetBuildError(\n",
      "cfgrib.dataset.DatasetBuildError: key present and new value is different: key='heightAboveGround' value=Variable(dimensions=(), data=2.0) new_value=Variable(dimensions=(), data=10.0)\n",
      "skipping variable: paramId==166 shortName='v10'\n",
      "Traceback (most recent call last):\n",
      "  File \"/work/FAC/FGSE/IDYST/tbeucler/default/mfeldman/miniforge3/envs/wb/lib/python3.11/site-packages/cfgrib/dataset.py\", line 680, in build_dataset_components\n",
      "    dict_merge(variables, coord_vars)\n",
      "  File \"/work/FAC/FGSE/IDYST/tbeucler/default/mfeldman/miniforge3/envs/wb/lib/python3.11/site-packages/cfgrib/dataset.py\", line 611, in dict_merge\n",
      "    raise DatasetBuildError(\n",
      "cfgrib.dataset.DatasetBuildError: key present and new value is different: key='heightAboveGround' value=Variable(dimensions=(), data=2.0) new_value=Variable(dimensions=(), data=10.0)\n"
     ]
    },
    {
     "name": "stdout",
     "output_type": "stream",
     "text": [
      "/work/FAC/FGSE/IDYST/tbeucler/default/raw_data/MF_ML_PREDICT/graphcast_d_20200411_t_1200_48h.grib\n"
     ]
    },
    {
     "name": "stderr",
     "output_type": "stream",
     "text": [
      "skipping variable: paramId==165 shortName='u10'\n",
      "Traceback (most recent call last):\n",
      "  File \"/work/FAC/FGSE/IDYST/tbeucler/default/mfeldman/miniforge3/envs/wb/lib/python3.11/site-packages/cfgrib/dataset.py\", line 680, in build_dataset_components\n",
      "    dict_merge(variables, coord_vars)\n",
      "  File \"/work/FAC/FGSE/IDYST/tbeucler/default/mfeldman/miniforge3/envs/wb/lib/python3.11/site-packages/cfgrib/dataset.py\", line 611, in dict_merge\n",
      "    raise DatasetBuildError(\n",
      "cfgrib.dataset.DatasetBuildError: key present and new value is different: key='heightAboveGround' value=Variable(dimensions=(), data=2.0) new_value=Variable(dimensions=(), data=10.0)\n",
      "skipping variable: paramId==166 shortName='v10'\n",
      "Traceback (most recent call last):\n",
      "  File \"/work/FAC/FGSE/IDYST/tbeucler/default/mfeldman/miniforge3/envs/wb/lib/python3.11/site-packages/cfgrib/dataset.py\", line 680, in build_dataset_components\n",
      "    dict_merge(variables, coord_vars)\n",
      "  File \"/work/FAC/FGSE/IDYST/tbeucler/default/mfeldman/miniforge3/envs/wb/lib/python3.11/site-packages/cfgrib/dataset.py\", line 611, in dict_merge\n",
      "    raise DatasetBuildError(\n",
      "cfgrib.dataset.DatasetBuildError: key present and new value is different: key='heightAboveGround' value=Variable(dimensions=(), data=2.0) new_value=Variable(dimensions=(), data=10.0)\n"
     ]
    },
    {
     "name": "stdout",
     "output_type": "stream",
     "text": [
      "/work/FAC/FGSE/IDYST/tbeucler/default/raw_data/MF_ML_PREDICT/graphcast_d_20200411_t_1200_54h.grib\n"
     ]
    },
    {
     "name": "stderr",
     "output_type": "stream",
     "text": [
      "skipping variable: paramId==165 shortName='u10'\n",
      "Traceback (most recent call last):\n",
      "  File \"/work/FAC/FGSE/IDYST/tbeucler/default/mfeldman/miniforge3/envs/wb/lib/python3.11/site-packages/cfgrib/dataset.py\", line 680, in build_dataset_components\n",
      "    dict_merge(variables, coord_vars)\n",
      "  File \"/work/FAC/FGSE/IDYST/tbeucler/default/mfeldman/miniforge3/envs/wb/lib/python3.11/site-packages/cfgrib/dataset.py\", line 611, in dict_merge\n",
      "    raise DatasetBuildError(\n",
      "cfgrib.dataset.DatasetBuildError: key present and new value is different: key='heightAboveGround' value=Variable(dimensions=(), data=2.0) new_value=Variable(dimensions=(), data=10.0)\n",
      "skipping variable: paramId==166 shortName='v10'\n",
      "Traceback (most recent call last):\n",
      "  File \"/work/FAC/FGSE/IDYST/tbeucler/default/mfeldman/miniforge3/envs/wb/lib/python3.11/site-packages/cfgrib/dataset.py\", line 680, in build_dataset_components\n",
      "    dict_merge(variables, coord_vars)\n",
      "  File \"/work/FAC/FGSE/IDYST/tbeucler/default/mfeldman/miniforge3/envs/wb/lib/python3.11/site-packages/cfgrib/dataset.py\", line 611, in dict_merge\n",
      "    raise DatasetBuildError(\n",
      "cfgrib.dataset.DatasetBuildError: key present and new value is different: key='heightAboveGround' value=Variable(dimensions=(), data=2.0) new_value=Variable(dimensions=(), data=10.0)\n",
      "/tmp/ipykernel_3765897/1799258866.py:91: UserWarning: set_ticklabels() should only be used with a fixed number of ticks, i.e. after set_ticks() or using a FixedLocator.\n",
      "  ax.set_xticklabels(xr_era5.time.dt.strftime('%Y%m%d%H').values,rotation=90)\n"
     ]
    },
    {
     "name": "stdout",
     "output_type": "stream",
     "text": [
      "['0' '6' '12' '18' '24' '30' '36' '42']\n",
      "/work/FAC/FGSE/IDYST/tbeucler/default/raw_data/MF_ML_PREDICT/graphcast_d_20200412_t_0000_30h.grib\n"
     ]
    },
    {
     "name": "stderr",
     "output_type": "stream",
     "text": [
      "skipping variable: paramId==165 shortName='u10'\n",
      "Traceback (most recent call last):\n",
      "  File \"/work/FAC/FGSE/IDYST/tbeucler/default/mfeldman/miniforge3/envs/wb/lib/python3.11/site-packages/cfgrib/dataset.py\", line 680, in build_dataset_components\n",
      "    dict_merge(variables, coord_vars)\n",
      "  File \"/work/FAC/FGSE/IDYST/tbeucler/default/mfeldman/miniforge3/envs/wb/lib/python3.11/site-packages/cfgrib/dataset.py\", line 611, in dict_merge\n",
      "    raise DatasetBuildError(\n",
      "cfgrib.dataset.DatasetBuildError: key present and new value is different: key='heightAboveGround' value=Variable(dimensions=(), data=2.0) new_value=Variable(dimensions=(), data=10.0)\n",
      "skipping variable: paramId==166 shortName='v10'\n",
      "Traceback (most recent call last):\n",
      "  File \"/work/FAC/FGSE/IDYST/tbeucler/default/mfeldman/miniforge3/envs/wb/lib/python3.11/site-packages/cfgrib/dataset.py\", line 680, in build_dataset_components\n",
      "    dict_merge(variables, coord_vars)\n",
      "  File \"/work/FAC/FGSE/IDYST/tbeucler/default/mfeldman/miniforge3/envs/wb/lib/python3.11/site-packages/cfgrib/dataset.py\", line 611, in dict_merge\n",
      "    raise DatasetBuildError(\n",
      "cfgrib.dataset.DatasetBuildError: key present and new value is different: key='heightAboveGround' value=Variable(dimensions=(), data=2.0) new_value=Variable(dimensions=(), data=10.0)\n"
     ]
    },
    {
     "name": "stdout",
     "output_type": "stream",
     "text": [
      "/work/FAC/FGSE/IDYST/tbeucler/default/raw_data/MF_ML_PREDICT/graphcast_d_20200412_t_0000_36h.grib\n"
     ]
    },
    {
     "name": "stderr",
     "output_type": "stream",
     "text": [
      "skipping variable: paramId==165 shortName='u10'\n",
      "Traceback (most recent call last):\n",
      "  File \"/work/FAC/FGSE/IDYST/tbeucler/default/mfeldman/miniforge3/envs/wb/lib/python3.11/site-packages/cfgrib/dataset.py\", line 680, in build_dataset_components\n",
      "    dict_merge(variables, coord_vars)\n",
      "  File \"/work/FAC/FGSE/IDYST/tbeucler/default/mfeldman/miniforge3/envs/wb/lib/python3.11/site-packages/cfgrib/dataset.py\", line 611, in dict_merge\n",
      "    raise DatasetBuildError(\n",
      "cfgrib.dataset.DatasetBuildError: key present and new value is different: key='heightAboveGround' value=Variable(dimensions=(), data=2.0) new_value=Variable(dimensions=(), data=10.0)\n",
      "skipping variable: paramId==166 shortName='v10'\n",
      "Traceback (most recent call last):\n",
      "  File \"/work/FAC/FGSE/IDYST/tbeucler/default/mfeldman/miniforge3/envs/wb/lib/python3.11/site-packages/cfgrib/dataset.py\", line 680, in build_dataset_components\n",
      "    dict_merge(variables, coord_vars)\n",
      "  File \"/work/FAC/FGSE/IDYST/tbeucler/default/mfeldman/miniforge3/envs/wb/lib/python3.11/site-packages/cfgrib/dataset.py\", line 611, in dict_merge\n",
      "    raise DatasetBuildError(\n",
      "cfgrib.dataset.DatasetBuildError: key present and new value is different: key='heightAboveGround' value=Variable(dimensions=(), data=2.0) new_value=Variable(dimensions=(), data=10.0)\n"
     ]
    },
    {
     "name": "stdout",
     "output_type": "stream",
     "text": [
      "/work/FAC/FGSE/IDYST/tbeucler/default/raw_data/MF_ML_PREDICT/graphcast_d_20200412_t_0000_12h.grib\n"
     ]
    },
    {
     "name": "stderr",
     "output_type": "stream",
     "text": [
      "skipping variable: paramId==165 shortName='u10'\n",
      "Traceback (most recent call last):\n",
      "  File \"/work/FAC/FGSE/IDYST/tbeucler/default/mfeldman/miniforge3/envs/wb/lib/python3.11/site-packages/cfgrib/dataset.py\", line 680, in build_dataset_components\n",
      "    dict_merge(variables, coord_vars)\n",
      "  File \"/work/FAC/FGSE/IDYST/tbeucler/default/mfeldman/miniforge3/envs/wb/lib/python3.11/site-packages/cfgrib/dataset.py\", line 611, in dict_merge\n",
      "    raise DatasetBuildError(\n",
      "cfgrib.dataset.DatasetBuildError: key present and new value is different: key='heightAboveGround' value=Variable(dimensions=(), data=2.0) new_value=Variable(dimensions=(), data=10.0)\n",
      "skipping variable: paramId==166 shortName='v10'\n",
      "Traceback (most recent call last):\n",
      "  File \"/work/FAC/FGSE/IDYST/tbeucler/default/mfeldman/miniforge3/envs/wb/lib/python3.11/site-packages/cfgrib/dataset.py\", line 680, in build_dataset_components\n",
      "    dict_merge(variables, coord_vars)\n",
      "  File \"/work/FAC/FGSE/IDYST/tbeucler/default/mfeldman/miniforge3/envs/wb/lib/python3.11/site-packages/cfgrib/dataset.py\", line 611, in dict_merge\n",
      "    raise DatasetBuildError(\n",
      "cfgrib.dataset.DatasetBuildError: key present and new value is different: key='heightAboveGround' value=Variable(dimensions=(), data=2.0) new_value=Variable(dimensions=(), data=10.0)\n"
     ]
    },
    {
     "name": "stdout",
     "output_type": "stream",
     "text": [
      "/work/FAC/FGSE/IDYST/tbeucler/default/raw_data/MF_ML_PREDICT/graphcast_d_20200412_t_0000_18h.grib\n"
     ]
    },
    {
     "name": "stderr",
     "output_type": "stream",
     "text": [
      "skipping variable: paramId==165 shortName='u10'\n",
      "Traceback (most recent call last):\n",
      "  File \"/work/FAC/FGSE/IDYST/tbeucler/default/mfeldman/miniforge3/envs/wb/lib/python3.11/site-packages/cfgrib/dataset.py\", line 680, in build_dataset_components\n",
      "    dict_merge(variables, coord_vars)\n",
      "  File \"/work/FAC/FGSE/IDYST/tbeucler/default/mfeldman/miniforge3/envs/wb/lib/python3.11/site-packages/cfgrib/dataset.py\", line 611, in dict_merge\n",
      "    raise DatasetBuildError(\n",
      "cfgrib.dataset.DatasetBuildError: key present and new value is different: key='heightAboveGround' value=Variable(dimensions=(), data=2.0) new_value=Variable(dimensions=(), data=10.0)\n",
      "skipping variable: paramId==166 shortName='v10'\n",
      "Traceback (most recent call last):\n",
      "  File \"/work/FAC/FGSE/IDYST/tbeucler/default/mfeldman/miniforge3/envs/wb/lib/python3.11/site-packages/cfgrib/dataset.py\", line 680, in build_dataset_components\n",
      "    dict_merge(variables, coord_vars)\n",
      "  File \"/work/FAC/FGSE/IDYST/tbeucler/default/mfeldman/miniforge3/envs/wb/lib/python3.11/site-packages/cfgrib/dataset.py\", line 611, in dict_merge\n",
      "    raise DatasetBuildError(\n",
      "cfgrib.dataset.DatasetBuildError: key present and new value is different: key='heightAboveGround' value=Variable(dimensions=(), data=2.0) new_value=Variable(dimensions=(), data=10.0)\n"
     ]
    },
    {
     "name": "stdout",
     "output_type": "stream",
     "text": [
      "/work/FAC/FGSE/IDYST/tbeucler/default/raw_data/MF_ML_PREDICT/graphcast_d_20200412_t_0000_24h.grib\n"
     ]
    },
    {
     "name": "stderr",
     "output_type": "stream",
     "text": [
      "skipping variable: paramId==165 shortName='u10'\n",
      "Traceback (most recent call last):\n",
      "  File \"/work/FAC/FGSE/IDYST/tbeucler/default/mfeldman/miniforge3/envs/wb/lib/python3.11/site-packages/cfgrib/dataset.py\", line 680, in build_dataset_components\n",
      "    dict_merge(variables, coord_vars)\n",
      "  File \"/work/FAC/FGSE/IDYST/tbeucler/default/mfeldman/miniforge3/envs/wb/lib/python3.11/site-packages/cfgrib/dataset.py\", line 611, in dict_merge\n",
      "    raise DatasetBuildError(\n",
      "cfgrib.dataset.DatasetBuildError: key present and new value is different: key='heightAboveGround' value=Variable(dimensions=(), data=2.0) new_value=Variable(dimensions=(), data=10.0)\n",
      "skipping variable: paramId==166 shortName='v10'\n",
      "Traceback (most recent call last):\n",
      "  File \"/work/FAC/FGSE/IDYST/tbeucler/default/mfeldman/miniforge3/envs/wb/lib/python3.11/site-packages/cfgrib/dataset.py\", line 680, in build_dataset_components\n",
      "    dict_merge(variables, coord_vars)\n",
      "  File \"/work/FAC/FGSE/IDYST/tbeucler/default/mfeldman/miniforge3/envs/wb/lib/python3.11/site-packages/cfgrib/dataset.py\", line 611, in dict_merge\n",
      "    raise DatasetBuildError(\n",
      "cfgrib.dataset.DatasetBuildError: key present and new value is different: key='heightAboveGround' value=Variable(dimensions=(), data=2.0) new_value=Variable(dimensions=(), data=10.0)\n"
     ]
    },
    {
     "name": "stdout",
     "output_type": "stream",
     "text": [
      "/work/FAC/FGSE/IDYST/tbeucler/default/raw_data/MF_ML_PREDICT/graphcast_d_20200412_t_0000_30h.grib\n"
     ]
    },
    {
     "name": "stderr",
     "output_type": "stream",
     "text": [
      "skipping variable: paramId==165 shortName='u10'\n",
      "Traceback (most recent call last):\n",
      "  File \"/work/FAC/FGSE/IDYST/tbeucler/default/mfeldman/miniforge3/envs/wb/lib/python3.11/site-packages/cfgrib/dataset.py\", line 680, in build_dataset_components\n",
      "    dict_merge(variables, coord_vars)\n",
      "  File \"/work/FAC/FGSE/IDYST/tbeucler/default/mfeldman/miniforge3/envs/wb/lib/python3.11/site-packages/cfgrib/dataset.py\", line 611, in dict_merge\n",
      "    raise DatasetBuildError(\n",
      "cfgrib.dataset.DatasetBuildError: key present and new value is different: key='heightAboveGround' value=Variable(dimensions=(), data=2.0) new_value=Variable(dimensions=(), data=10.0)\n",
      "skipping variable: paramId==166 shortName='v10'\n",
      "Traceback (most recent call last):\n",
      "  File \"/work/FAC/FGSE/IDYST/tbeucler/default/mfeldman/miniforge3/envs/wb/lib/python3.11/site-packages/cfgrib/dataset.py\", line 680, in build_dataset_components\n",
      "    dict_merge(variables, coord_vars)\n",
      "  File \"/work/FAC/FGSE/IDYST/tbeucler/default/mfeldman/miniforge3/envs/wb/lib/python3.11/site-packages/cfgrib/dataset.py\", line 611, in dict_merge\n",
      "    raise DatasetBuildError(\n",
      "cfgrib.dataset.DatasetBuildError: key present and new value is different: key='heightAboveGround' value=Variable(dimensions=(), data=2.0) new_value=Variable(dimensions=(), data=10.0)\n"
     ]
    },
    {
     "name": "stdout",
     "output_type": "stream",
     "text": [
      "/work/FAC/FGSE/IDYST/tbeucler/default/raw_data/MF_ML_PREDICT/graphcast_d_20200412_t_0000_36h.grib\n"
     ]
    },
    {
     "name": "stderr",
     "output_type": "stream",
     "text": [
      "skipping variable: paramId==165 shortName='u10'\n",
      "Traceback (most recent call last):\n",
      "  File \"/work/FAC/FGSE/IDYST/tbeucler/default/mfeldman/miniforge3/envs/wb/lib/python3.11/site-packages/cfgrib/dataset.py\", line 680, in build_dataset_components\n",
      "    dict_merge(variables, coord_vars)\n",
      "  File \"/work/FAC/FGSE/IDYST/tbeucler/default/mfeldman/miniforge3/envs/wb/lib/python3.11/site-packages/cfgrib/dataset.py\", line 611, in dict_merge\n",
      "    raise DatasetBuildError(\n",
      "cfgrib.dataset.DatasetBuildError: key present and new value is different: key='heightAboveGround' value=Variable(dimensions=(), data=2.0) new_value=Variable(dimensions=(), data=10.0)\n",
      "skipping variable: paramId==166 shortName='v10'\n",
      "Traceback (most recent call last):\n",
      "  File \"/work/FAC/FGSE/IDYST/tbeucler/default/mfeldman/miniforge3/envs/wb/lib/python3.11/site-packages/cfgrib/dataset.py\", line 680, in build_dataset_components\n",
      "    dict_merge(variables, coord_vars)\n",
      "  File \"/work/FAC/FGSE/IDYST/tbeucler/default/mfeldman/miniforge3/envs/wb/lib/python3.11/site-packages/cfgrib/dataset.py\", line 611, in dict_merge\n",
      "    raise DatasetBuildError(\n",
      "cfgrib.dataset.DatasetBuildError: key present and new value is different: key='heightAboveGround' value=Variable(dimensions=(), data=2.0) new_value=Variable(dimensions=(), data=10.0)\n"
     ]
    },
    {
     "name": "stdout",
     "output_type": "stream",
     "text": [
      "/work/FAC/FGSE/IDYST/tbeucler/default/raw_data/MF_ML_PREDICT/graphcast_d_20200412_t_0000_42h.grib\n"
     ]
    },
    {
     "name": "stderr",
     "output_type": "stream",
     "text": [
      "skipping variable: paramId==165 shortName='u10'\n",
      "Traceback (most recent call last):\n",
      "  File \"/work/FAC/FGSE/IDYST/tbeucler/default/mfeldman/miniforge3/envs/wb/lib/python3.11/site-packages/cfgrib/dataset.py\", line 680, in build_dataset_components\n",
      "    dict_merge(variables, coord_vars)\n",
      "  File \"/work/FAC/FGSE/IDYST/tbeucler/default/mfeldman/miniforge3/envs/wb/lib/python3.11/site-packages/cfgrib/dataset.py\", line 611, in dict_merge\n",
      "    raise DatasetBuildError(\n",
      "cfgrib.dataset.DatasetBuildError: key present and new value is different: key='heightAboveGround' value=Variable(dimensions=(), data=2.0) new_value=Variable(dimensions=(), data=10.0)\n",
      "skipping variable: paramId==166 shortName='v10'\n",
      "Traceback (most recent call last):\n",
      "  File \"/work/FAC/FGSE/IDYST/tbeucler/default/mfeldman/miniforge3/envs/wb/lib/python3.11/site-packages/cfgrib/dataset.py\", line 680, in build_dataset_components\n",
      "    dict_merge(variables, coord_vars)\n",
      "  File \"/work/FAC/FGSE/IDYST/tbeucler/default/mfeldman/miniforge3/envs/wb/lib/python3.11/site-packages/cfgrib/dataset.py\", line 611, in dict_merge\n",
      "    raise DatasetBuildError(\n",
      "cfgrib.dataset.DatasetBuildError: key present and new value is different: key='heightAboveGround' value=Variable(dimensions=(), data=2.0) new_value=Variable(dimensions=(), data=10.0)\n",
      "/tmp/ipykernel_3765897/1799258866.py:91: UserWarning: set_ticklabels() should only be used with a fixed number of ticks, i.e. after set_ticks() or using a FixedLocator.\n",
      "  ax.set_xticklabels(xr_era5.time.dt.strftime('%Y%m%d%H').values,rotation=90)\n"
     ]
    },
    {
     "name": "stdout",
     "output_type": "stream",
     "text": [
      "['-12' '-6' '0' '6' '12' '18' '24' '30']\n"
     ]
    },
    {
     "ename": "IndexError",
     "evalue": "list index out of range",
     "output_type": "error",
     "traceback": [
      "\u001b[0;31m---------------------------------------------------------------------------\u001b[0m",
      "\u001b[0;31mIndexError\u001b[0m                                Traceback (most recent call last)",
      "Cell \u001b[0;32mIn[80], line 28\u001b[0m\n\u001b[1;32m     26\u001b[0m lt\u001b[38;5;241m=\u001b[39mnp\u001b[38;5;241m.\u001b[39marange(lt1,lt2\u001b[38;5;241m+\u001b[39m\u001b[38;5;241m1\u001b[39m,\u001b[38;5;241m6\u001b[39m)\u001b[38;5;241m.\u001b[39mastype(\u001b[38;5;28mstr\u001b[39m)\n\u001b[1;32m     27\u001b[0m \u001b[38;5;28mprint\u001b[39m(lt)\n\u001b[0;32m---> 28\u001b[0m myfile\u001b[38;5;241m=\u001b[39m\u001b[43m[\u001b[49m\u001b[43mfile\u001b[49m\u001b[43m \u001b[49m\u001b[38;5;28;43;01mfor\u001b[39;49;00m\u001b[43m \u001b[49m\u001b[43mfile\u001b[49m\u001b[43m \u001b[49m\u001b[38;5;129;43;01min\u001b[39;49;00m\u001b[43m \u001b[49m\u001b[43mfilelist\u001b[49m\u001b[43m \u001b[49m\u001b[38;5;28;43;01mif\u001b[39;49;00m\u001b[43m \u001b[49m\u001b[43mlt\u001b[49m\u001b[43m[\u001b[49m\u001b[38;5;241;43m0\u001b[39;49m\u001b[43m]\u001b[49m\u001b[38;5;241;43m+\u001b[39;49m\u001b[38;5;124;43m'\u001b[39;49m\u001b[38;5;124;43mh.grib\u001b[39;49m\u001b[38;5;124;43m'\u001b[39;49m\u001b[43m \u001b[49m\u001b[38;5;129;43;01min\u001b[39;49;00m\u001b[43m \u001b[49m\u001b[43mfile\u001b[49m\u001b[43m \u001b[49m\u001b[38;5;129;43;01mand\u001b[39;49;00m\u001b[43m \u001b[49m\u001b[38;5;124;43m'\u001b[39;49m\u001b[38;5;124;43m.idx\u001b[39;49m\u001b[38;5;124;43m'\u001b[39;49m\u001b[43m \u001b[49m\u001b[38;5;129;43;01mnot\u001b[39;49;00m\u001b[43m \u001b[49m\u001b[38;5;129;43;01min\u001b[39;49;00m\u001b[43m \u001b[49m\u001b[43mfile\u001b[49m\u001b[43m]\u001b[49m\u001b[43m[\u001b[49m\u001b[38;5;241;43m0\u001b[39;49m\u001b[43m]\u001b[49m\u001b[38;5;66;03m#any(part in file for part in lt)]\u001b[39;00m\n\u001b[1;32m     29\u001b[0m \u001b[38;5;28mprint\u001b[39m(myfile)\n\u001b[1;32m     30\u001b[0m xr_model\u001b[38;5;241m=\u001b[39mxr\u001b[38;5;241m.\u001b[39mopen_dataset(myfile)\n",
      "\u001b[0;31mIndexError\u001b[0m: list index out of range"
     ]
    }
   ],
   "source": [
    "start=xr_era5.time[0]\n",
    "end=xr_era5.time[-1]\n",
    "mlpath='/work/FAC/FGSE/IDYST/tbeucler/default/raw_data/MF_ML_PREDICT/'\n",
    "#mlpath='/work/FAC/FGSE/IDYST/tbeucler/default/raw_data/ML_PREDICT/panguweather/Data_Monika/'\n",
    "mname='graphcast'\n",
    "#ref_cape=init_cape; ref_srh=init_srh\n",
    "#LOADING FORECAST DATASET\n",
    "model='graphcast_dawn'\n",
    "latslice=slice(50,20)\n",
    "latslice=slice(20,50)\n",
    "year=2020; month=4\n",
    "days=[7,8,9,10,11,12]\n",
    "hours=[0,12]\n",
    "#ref_cape=init_cape; ref_srh=init_srh\n",
    "ref_cape=era_cape; ref_srh=era_srh\n",
    "for day in days[:]:\n",
    "    for hour in hours[:]:\n",
    "        filelist=sorted(glob.glob(mlpath+'*'+mname+'*'+str(year)+str(month).zfill(2)+str(day).zfill(2)+'_t_'+str(hour)+'*'))\n",
    "        #print(filelist)\n",
    "        st=datetime.datetime(start.dt.year.values,start.dt.month.values,start.dt.day.values,start.dt.hour.values)\n",
    "        et=datetime.datetime(end.dt.year.values,end.dt.month.values,end.dt.day.values,end.dt.hour.values)\n",
    "        dat=datetime.datetime(year, month, day, hour)\n",
    "        init=dat.strftime('%Y%m%d%H')\n",
    "        lt1=int((st-dat).total_seconds() / 3600)#,tzinfo=datetime.timezone.utc)\n",
    "        lt2=int((et-dat).total_seconds() / 3600)\n",
    "        lt=np.arange(lt1,lt2+1,6).astype(str)\n",
    "        print(lt)\n",
    "        myfile=[file for file in filelist if lt[0]+'h.grib' in file and '.idx' not in file][0]#any(part in file for part in lt)]\n",
    "        print(myfile)\n",
    "        xr_model=xr.open_dataset(myfile)\n",
    "        xr_model2=xr.open_dataset(myfile, backend_kwargs={'filter_by_keys': {'shortName': '2t'}})\n",
    "        times=pd.date_range(st,et,freq='6h')\n",
    "        for n1 in range(1,len(lt)):\n",
    "            myfile=[file for file in filelist if lt[n1]+'h.grib' in file and '.idx' not in file][0]#any(part in file for part in lt)]\n",
    "            print(myfile)\n",
    "            xr_model=xr.concat([xr_model, xr.open_dataset(myfile)], \"time\")\n",
    "            xr_model2=xr.concat([xr_model2, xr.open_dataset(myfile, backend_kwargs={'filter_by_keys': {'shortName': '2t'}})], \"time\")\n",
    "        xr_model['time']=times\n",
    "        xr_model2['time']=times\n",
    "        xr_model=xr_model.assign(t2m=xr_model2.t2m)\n",
    "        xr_model=xr_model.sel(latitude=latslice,longitude=slice(250,300))\n",
    "\n",
    "        plevel=xr_model.isobaricInhPa.values\n",
    "        tlevel=xr_model.t\n",
    "        qlevel=xr_model.q\n",
    "        plevel_dim=np.ones([1,len(plevel),1,1])\n",
    "        zlevel=xr_model.z\n",
    "        ulevel=xr_model.u\n",
    "        vlevel=xr_model.v\n",
    "        for n1 in range(len(plevel.data)):\n",
    "            plevel_dim[0,n1,0,0]=plevel[n1]\n",
    "        plevel_exp=(tlevel/tlevel)*plevel_dim\n",
    "        \n",
    "        psurf=xr_model.msl\n",
    "        tsurf=xr_model.t2m\n",
    "        zsurf = zsurf_c.expand_dims(dim={\"time\": psurf.time}, axis=0)\n",
    "        #zsurf = zsurf.expand_dims(dim={\"prediction_timedelta\": psurf.prediction_timedelta}, axis=1)\n",
    "        \n",
    "        ps=psurf/100\n",
    "        zs=zsurf/9.81\n",
    "        zl=zlevel/9.81\n",
    "\n",
    "        cape=wrf.cape_2d(pres_hpa=plevel_exp, tkel=tlevel, qv=qlevel, height=zl, terrain=zs, psfc_hpa=ps, ter_follow=False)\n",
    "        srh=wrf.srhel(u=ulevel, v=vlevel, height=zl, terrain=zs, top=3000.0)\n",
    "\n",
    "        cape=cape.assign_coords(longitude=psurf.longitude.values);\n",
    "        cape=cape.assign_coords(latitude=psurf.latitude.values);\n",
    "        cape=cape.assign_coords(time=psurf.time.values)\n",
    "\n",
    "        srh=srh.assign_coords(longitude=psurf.longitude.values);\n",
    "        srh=srh.assign_coords(latitude=psurf.latitude.values);\n",
    "        srh=srh.assign_coords(time=psurf.time.values)\n",
    "        \n",
    "        cm=plt.cm.Reds\n",
    "        cm.set_bad(color=\"grey\")\n",
    "        cm.set_under(color=\"grey\")\n",
    "        p = cape.sel(mcape_mcin_lcl_lfc='mcape',latitude=latslice,longitude=slice(250,300)).plot(x=\"longitude\", y=\"latitude\", col=\"time\",\\\n",
    "                         col_wrap=4,transform=ccrs.PlateCarree(), subplot_kws={'projection':ccrs.PlateCarree()},\\\n",
    "                         cmap=cm,vmin=200,vmax=3000,levels=np.arange(200,3000,100),extend='both')# col_wrap=4)\n",
    "        for ax in p.axs.flat:\n",
    "                        ax.coastlines()\n",
    "        f=p.fig\n",
    "        f.savefig(figpath+model+init+'_cape.png',  dpi=300, bbox_inches='tight')\n",
    "        plt.close()\n",
    "\n",
    "        cape_sel= cape.sel(mcape_mcin_lcl_lfc='mcape',latitude=slice(20,40),longitude=slice(260,290)).values\n",
    "        cape_sel=cape_sel.reshape(cape_sel.shape[1]*cape_sel.shape[2],cape_sel.shape[0])\n",
    "        cape_sel[cape_sel<200]=np.nan\n",
    "        ax = sns.violinplot(cape_sel,color='grey',density_norm='count',common_norm=True)\n",
    "        ax.set(ylim=(0,3500))\n",
    "        ax.set_xticklabels(xr_era5.time.dt.strftime('%Y%m%d%H').values,rotation=90)\n",
    "        plt.title(model+' CAPE '+ init)\n",
    "        plt.ylabel('[J kg$^{-1}$]')\n",
    "        plt.savefig(figpath+model+init+'_capedist.png',  dpi=300, bbox_inches='tight')\n",
    "        plt.close()\n",
    "\n",
    "        \n",
    "        cm=plt.cm.Reds\n",
    "        cm.set_bad(color=\"grey\")\n",
    "        cm.set_under(color=\"grey\")\n",
    "        p = srh.sel(latitude=latslice,longitude=slice(250,300)).plot(x=\"longitude\", y=\"latitude\", col=\"time\",\\\n",
    "                         col_wrap=4,transform=ccrs.PlateCarree(), subplot_kws={'projection':ccrs.PlateCarree()},\\\n",
    "                         cmap=cm,vmin=0,vmax=1000,levels=np.arange(0,1000,50),extend='both')# col_wrap=4)\n",
    "        for ax in p.axs.flat:\n",
    "                        ax.coastlines()\n",
    "        f=p.fig\n",
    "        f.savefig(figpath+model+init+'_srh.png',  dpi=300, bbox_inches='tight')\n",
    "        plt.close()\n",
    "\n",
    "        #cape=cape.sel(time=cape.time.dt.hour.isin([0,12]))\n",
    "        #srh=srh.sel(time=srh.time.dt.hour.isin([0,12]))\n",
    "        cm=plt.cm.RdBu_r\n",
    "        cm.set_bad(color=\"grey\")\n",
    "        dcape=cape.fillna(0)-ref_cape.fillna(0)\n",
    "        dsrh=srh.fillna(0)-ref_srh.fillna(0)\n",
    "        p = dcape.sel(mcape_mcin_lcl_lfc='mcape',latitude=latslice,longitude=slice(250,300)).plot(x=\"longitude\", y=\"latitude\", col=\"time\",\\\n",
    "                         col_wrap=4,transform=ccrs.PlateCarree(), subplot_kws={'projection':ccrs.PlateCarree()},\\\n",
    "                         cmap=cm,vmin=-1000,vmax=1000,levels=np.arange(-1000,1010,100),extend='both')# col_wrap=4)\n",
    "        for ax in p.axs.flat:\n",
    "                        ax.coastlines()\n",
    "        f=p.fig\n",
    "        f.savefig(figpath+model+init+'_cape_d.png',  dpi=300, bbox_inches='tight')\n",
    "        plt.close()\n",
    "\n",
    "\n",
    "        cm=plt.cm.RdBu_r\n",
    "        cm.set_bad(color=\"grey\")\n",
    "        p = dsrh.sel(latitude=latslice,longitude=slice(250,300)).plot(x=\"longitude\", y=\"latitude\", col=\"time\",\\\n",
    "                         col_wrap=4,transform=ccrs.PlateCarree(), subplot_kws={'projection':ccrs.PlateCarree()},\\\n",
    "                         cmap=cm,vmin=-500,vmax=500,levels=np.arange(-500,505,50),extend='both')# col_wrap=4)\n",
    "        for ax in p.axs.flat:\n",
    "                        ax.coastlines()\n",
    "        f=p.fig\n",
    "        f.savefig(figpath+model+init+'_srh_d.png',  dpi=300, bbox_inches='tight')\n",
    "        plt.close()"
   ]
  },
  {
   "cell_type": "code",
   "execution_count": 81,
   "id": "031fac68-2841-4219-b72c-89e705fe775b",
   "metadata": {},
   "outputs": [
    {
     "name": "stdout",
     "output_type": "stream",
     "text": [
      "['120' '126' '132' '138' '144' '150' '156' '162']\n",
      "/work/FAC/FGSE/IDYST/tbeucler/default/raw_data/MF_ML_PREDICT/fourcastnetv2_2020-04-07T00_to_2020-04-14T00_ldt_168_6.nc\n"
     ]
    },
    {
     "name": "stderr",
     "output_type": "stream",
     "text": [
      "/work/FAC/FGSE/IDYST/tbeucler/default/mfeldman/miniforge3/envs/wb/lib/python3.11/site-packages/metpy/calc/thermo.py:1396: RuntimeWarning: invalid value encountered in log\n",
      "  val = np.log(vapor_pressure / mpconsts.nounit.sat_pressure_0c)\n",
      "/tmp/ipykernel_3765897/3321963432.py:90: UserWarning: set_ticklabels() should only be used with a fixed number of ticks, i.e. after set_ticks() or using a FixedLocator.\n",
      "  ax.set_xticklabels(xr_era5.time.dt.strftime('%Y%m%d%H').values,rotation=90)\n"
     ]
    },
    {
     "name": "stdout",
     "output_type": "stream",
     "text": [
      "['108' '114' '120' '126' '132' '138' '144' '150']\n",
      "/work/FAC/FGSE/IDYST/tbeucler/default/raw_data/MF_ML_PREDICT/fourcastnetv2_2020-04-07T12_to_2020-04-14T12_ldt_168_6.nc\n"
     ]
    },
    {
     "name": "stderr",
     "output_type": "stream",
     "text": [
      "/work/FAC/FGSE/IDYST/tbeucler/default/mfeldman/miniforge3/envs/wb/lib/python3.11/site-packages/metpy/calc/thermo.py:1396: RuntimeWarning: invalid value encountered in log\n",
      "  val = np.log(vapor_pressure / mpconsts.nounit.sat_pressure_0c)\n",
      "/tmp/ipykernel_3765897/3321963432.py:90: UserWarning: set_ticklabels() should only be used with a fixed number of ticks, i.e. after set_ticks() or using a FixedLocator.\n",
      "  ax.set_xticklabels(xr_era5.time.dt.strftime('%Y%m%d%H').values,rotation=90)\n"
     ]
    },
    {
     "name": "stdout",
     "output_type": "stream",
     "text": [
      "['96' '102' '108' '114' '120' '126' '132' '138']\n",
      "/work/FAC/FGSE/IDYST/tbeucler/default/raw_data/MF_ML_PREDICT/fourcastnetv2_2020-04-08T00_to_2020-04-14T12_ldt_156_6.nc\n"
     ]
    },
    {
     "name": "stderr",
     "output_type": "stream",
     "text": [
      "/work/FAC/FGSE/IDYST/tbeucler/default/mfeldman/miniforge3/envs/wb/lib/python3.11/site-packages/metpy/calc/thermo.py:1396: RuntimeWarning: invalid value encountered in log\n",
      "  val = np.log(vapor_pressure / mpconsts.nounit.sat_pressure_0c)\n",
      "/tmp/ipykernel_3765897/3321963432.py:90: UserWarning: set_ticklabels() should only be used with a fixed number of ticks, i.e. after set_ticks() or using a FixedLocator.\n",
      "  ax.set_xticklabels(xr_era5.time.dt.strftime('%Y%m%d%H').values,rotation=90)\n"
     ]
    },
    {
     "name": "stdout",
     "output_type": "stream",
     "text": [
      "['84' '90' '96' '102' '108' '114' '120' '126']\n",
      "/work/FAC/FGSE/IDYST/tbeucler/default/raw_data/MF_ML_PREDICT/fourcastnetv2_2020-04-08T12_to_2020-04-14T12_ldt_144_6.nc\n"
     ]
    },
    {
     "name": "stderr",
     "output_type": "stream",
     "text": [
      "/work/FAC/FGSE/IDYST/tbeucler/default/mfeldman/miniforge3/envs/wb/lib/python3.11/site-packages/metpy/calc/thermo.py:1396: RuntimeWarning: invalid value encountered in log\n",
      "  val = np.log(vapor_pressure / mpconsts.nounit.sat_pressure_0c)\n",
      "/tmp/ipykernel_3765897/3321963432.py:90: UserWarning: set_ticklabels() should only be used with a fixed number of ticks, i.e. after set_ticks() or using a FixedLocator.\n",
      "  ax.set_xticklabels(xr_era5.time.dt.strftime('%Y%m%d%H').values,rotation=90)\n"
     ]
    },
    {
     "name": "stdout",
     "output_type": "stream",
     "text": [
      "['72' '78' '84' '90' '96' '102' '108' '114']\n",
      "/work/FAC/FGSE/IDYST/tbeucler/default/raw_data/MF_ML_PREDICT/fourcastnetv2_2020-04-09T00_to_2020-04-14T12_ldt_132_6.nc\n"
     ]
    },
    {
     "name": "stderr",
     "output_type": "stream",
     "text": [
      "/work/FAC/FGSE/IDYST/tbeucler/default/mfeldman/miniforge3/envs/wb/lib/python3.11/site-packages/metpy/calc/thermo.py:1396: RuntimeWarning: invalid value encountered in log\n",
      "  val = np.log(vapor_pressure / mpconsts.nounit.sat_pressure_0c)\n",
      "/tmp/ipykernel_3765897/3321963432.py:90: UserWarning: set_ticklabels() should only be used with a fixed number of ticks, i.e. after set_ticks() or using a FixedLocator.\n",
      "  ax.set_xticklabels(xr_era5.time.dt.strftime('%Y%m%d%H').values,rotation=90)\n"
     ]
    },
    {
     "name": "stdout",
     "output_type": "stream",
     "text": [
      "['60' '66' '72' '78' '84' '90' '96' '102']\n",
      "/work/FAC/FGSE/IDYST/tbeucler/default/raw_data/MF_ML_PREDICT/fourcastnetv2_2020-04-09T12_to_2020-04-14T12_ldt_120_6.nc\n"
     ]
    },
    {
     "name": "stderr",
     "output_type": "stream",
     "text": [
      "/work/FAC/FGSE/IDYST/tbeucler/default/mfeldman/miniforge3/envs/wb/lib/python3.11/site-packages/metpy/calc/thermo.py:1396: RuntimeWarning: invalid value encountered in log\n",
      "  val = np.log(vapor_pressure / mpconsts.nounit.sat_pressure_0c)\n",
      "/tmp/ipykernel_3765897/3321963432.py:90: UserWarning: set_ticklabels() should only be used with a fixed number of ticks, i.e. after set_ticks() or using a FixedLocator.\n",
      "  ax.set_xticklabels(xr_era5.time.dt.strftime('%Y%m%d%H').values,rotation=90)\n"
     ]
    },
    {
     "name": "stdout",
     "output_type": "stream",
     "text": [
      "['48' '54' '60' '66' '72' '78' '84' '90']\n",
      "/work/FAC/FGSE/IDYST/tbeucler/default/raw_data/MF_ML_PREDICT/fourcastnetv2_2020-04-10T00_to_2020-04-14T12_ldt_108_6.nc\n"
     ]
    },
    {
     "name": "stderr",
     "output_type": "stream",
     "text": [
      "/work/FAC/FGSE/IDYST/tbeucler/default/mfeldman/miniforge3/envs/wb/lib/python3.11/site-packages/metpy/calc/thermo.py:1396: RuntimeWarning: divide by zero encountered in log\n",
      "  val = np.log(vapor_pressure / mpconsts.nounit.sat_pressure_0c)\n",
      "/work/FAC/FGSE/IDYST/tbeucler/default/mfeldman/miniforge3/envs/wb/lib/python3.11/site-packages/metpy/calc/thermo.py:1396: RuntimeWarning: invalid value encountered in log\n",
      "  val = np.log(vapor_pressure / mpconsts.nounit.sat_pressure_0c)\n",
      "/work/FAC/FGSE/IDYST/tbeucler/default/mfeldman/miniforge3/envs/wb/lib/python3.11/site-packages/metpy/calc/thermo.py:1397: RuntimeWarning: invalid value encountered in divide\n",
      "  return mpconsts.nounit.zero_degc + 243.5 * val / (17.67 - val)\n",
      "/tmp/ipykernel_3765897/3321963432.py:90: UserWarning: set_ticklabels() should only be used with a fixed number of ticks, i.e. after set_ticks() or using a FixedLocator.\n",
      "  ax.set_xticklabels(xr_era5.time.dt.strftime('%Y%m%d%H').values,rotation=90)\n"
     ]
    },
    {
     "name": "stdout",
     "output_type": "stream",
     "text": [
      "['36' '42' '48' '54' '60' '66' '72' '78']\n",
      "/work/FAC/FGSE/IDYST/tbeucler/default/raw_data/MF_ML_PREDICT/fourcastnetv2_2020-04-10T12_to_2020-04-14T12_ldt_96_6.nc\n"
     ]
    },
    {
     "name": "stderr",
     "output_type": "stream",
     "text": [
      "/work/FAC/FGSE/IDYST/tbeucler/default/mfeldman/miniforge3/envs/wb/lib/python3.11/site-packages/metpy/calc/thermo.py:1396: RuntimeWarning: invalid value encountered in log\n",
      "  val = np.log(vapor_pressure / mpconsts.nounit.sat_pressure_0c)\n",
      "/tmp/ipykernel_3765897/3321963432.py:90: UserWarning: set_ticklabels() should only be used with a fixed number of ticks, i.e. after set_ticks() or using a FixedLocator.\n",
      "  ax.set_xticklabels(xr_era5.time.dt.strftime('%Y%m%d%H').values,rotation=90)\n"
     ]
    },
    {
     "name": "stdout",
     "output_type": "stream",
     "text": [
      "['24' '30' '36' '42' '48' '54' '60' '66']\n",
      "/work/FAC/FGSE/IDYST/tbeucler/default/raw_data/MF_ML_PREDICT/fourcastnetv2_2020-04-11T00_to_2020-04-14T12_ldt_84_6.nc\n"
     ]
    },
    {
     "name": "stderr",
     "output_type": "stream",
     "text": [
      "/work/FAC/FGSE/IDYST/tbeucler/default/mfeldman/miniforge3/envs/wb/lib/python3.11/site-packages/metpy/calc/thermo.py:1396: RuntimeWarning: invalid value encountered in log\n",
      "  val = np.log(vapor_pressure / mpconsts.nounit.sat_pressure_0c)\n",
      "/tmp/ipykernel_3765897/3321963432.py:90: UserWarning: set_ticklabels() should only be used with a fixed number of ticks, i.e. after set_ticks() or using a FixedLocator.\n",
      "  ax.set_xticklabels(xr_era5.time.dt.strftime('%Y%m%d%H').values,rotation=90)\n"
     ]
    },
    {
     "name": "stdout",
     "output_type": "stream",
     "text": [
      "['12' '18' '24' '30' '36' '42' '48' '54']\n",
      "/work/FAC/FGSE/IDYST/tbeucler/default/raw_data/MF_ML_PREDICT/fourcastnetv2_2020-04-11T12_to_2020-04-14T12_ldt_72_6.nc\n"
     ]
    },
    {
     "name": "stderr",
     "output_type": "stream",
     "text": [
      "/work/FAC/FGSE/IDYST/tbeucler/default/mfeldman/miniforge3/envs/wb/lib/python3.11/site-packages/metpy/calc/thermo.py:1396: RuntimeWarning: invalid value encountered in log\n",
      "  val = np.log(vapor_pressure / mpconsts.nounit.sat_pressure_0c)\n",
      "/tmp/ipykernel_3765897/3321963432.py:90: UserWarning: set_ticklabels() should only be used with a fixed number of ticks, i.e. after set_ticks() or using a FixedLocator.\n",
      "  ax.set_xticklabels(xr_era5.time.dt.strftime('%Y%m%d%H').values,rotation=90)\n"
     ]
    },
    {
     "name": "stdout",
     "output_type": "stream",
     "text": [
      "['0' '6' '12' '18' '24' '30' '36' '42']\n",
      "/work/FAC/FGSE/IDYST/tbeucler/default/raw_data/MF_ML_PREDICT/fourcastnetv2_2020-04-12T00_to_2020-04-14T12_ldt_60_6.nc\n"
     ]
    },
    {
     "name": "stderr",
     "output_type": "stream",
     "text": [
      "/tmp/ipykernel_3765897/3321963432.py:53: UserWarning: Relative humidity >120%, ensure proper units.\n",
      "  dplevel=metpy.calc.dewpoint_from_relative_humidity(tlevel.values* units('K'), rlevel.values* units.percent)\n",
      "/work/FAC/FGSE/IDYST/tbeucler/default/mfeldman/miniforge3/envs/wb/lib/python3.11/site-packages/metpy/calc/thermo.py:1396: RuntimeWarning: invalid value encountered in log\n",
      "  val = np.log(vapor_pressure / mpconsts.nounit.sat_pressure_0c)\n",
      "/tmp/ipykernel_3765897/3321963432.py:90: UserWarning: set_ticklabels() should only be used with a fixed number of ticks, i.e. after set_ticks() or using a FixedLocator.\n",
      "  ax.set_xticklabels(xr_era5.time.dt.strftime('%Y%m%d%H').values,rotation=90)\n"
     ]
    },
    {
     "name": "stdout",
     "output_type": "stream",
     "text": [
      "['-12' '-6' '0' '6' '12' '18' '24' '30']\n",
      "/work/FAC/FGSE/IDYST/tbeucler/default/raw_data/MF_ML_PREDICT/fourcastnetv2_2020-04-12T12_to_2020-04-14T12_ldt_48_6.nc\n"
     ]
    },
    {
     "name": "stderr",
     "output_type": "stream",
     "text": [
      "/tmp/ipykernel_3765897/3321963432.py:53: UserWarning: Relative humidity >120%, ensure proper units.\n",
      "  dplevel=metpy.calc.dewpoint_from_relative_humidity(tlevel.values* units('K'), rlevel.values* units.percent)\n",
      "/work/FAC/FGSE/IDYST/tbeucler/default/mfeldman/miniforge3/envs/wb/lib/python3.11/site-packages/metpy/calc/thermo.py:1396: RuntimeWarning: invalid value encountered in log\n",
      "  val = np.log(vapor_pressure / mpconsts.nounit.sat_pressure_0c)\n",
      "/tmp/ipykernel_3765897/3321963432.py:90: UserWarning: set_ticklabels() should only be used with a fixed number of ticks, i.e. after set_ticks() or using a FixedLocator.\n",
      "  ax.set_xticklabels(xr_era5.time.dt.strftime('%Y%m%d%H').values,rotation=90)\n"
     ]
    }
   ],
   "source": [
    "import netCDF4 as nc\n",
    "import metpy\n",
    "from metpy.units import units\n",
    "start=xr_era5.time[0]\n",
    "end=xr_era5.time[-1]\n",
    "mlpath='/work/FAC/FGSE/IDYST/tbeucler/default/raw_data/MF_ML_PREDICT/'\n",
    "#mlpath='/work/FAC/FGSE/IDYST/tbeucler/default/raw_data/ML_PREDICT/panguweather/Data_Monika/'\n",
    "mname='fourcastnetv2'\n",
    "#ref_cape=init_cape; ref_srh=init_srh\n",
    "#LOADING FORECAST DATASET\n",
    "model='fcnv2_dawn'\n",
    "latslice=slice(50,20)\n",
    "latslice2=slice(20,50)\n",
    "year=2020; month=4\n",
    "days=[7,8,9,10,11,12]\n",
    "hours=[0,12]\n",
    "#ref_cape=init_cape; ref_srh=init_srh\n",
    "ref_cape=era_cape.sel(latitude=latslice,longitude=slice(250,300)); ref_srh=era_srh.sel(latitude=latslice,longitude=slice(250,300))\n",
    "for day in days[:]:\n",
    "    for hour in hours[:]:\n",
    "        myfile=sorted(glob.glob(mlpath+'*'+mname+'*'+str(year)+'-'+str(month).zfill(2)+'-'+str(day).zfill(2)+'T'+str(hour).zfill(2)+'*'))[-1]\n",
    "        #print(filelist)\n",
    "        st=datetime.datetime(start.dt.year.values,start.dt.month.values,start.dt.day.values,start.dt.hour.values)\n",
    "        et=datetime.datetime(end.dt.year.values,end.dt.month.values,end.dt.day.values,end.dt.hour.values)\n",
    "        dat=datetime.datetime(year, month, day, hour)\n",
    "        init=dat.strftime('%Y%m%d%H')\n",
    "        lt1=int((st-dat).total_seconds() / 3600)#,tzinfo=datetime.timezone.utc)\n",
    "        lt2=int((et-dat).total_seconds() / 3600)\n",
    "        lt=np.arange(lt1,lt2+1,6).astype(str)\n",
    "        print(lt)\n",
    "        # myfile=[file for file in filelist if lt[0]+'_6.nc' in file][0]#any(part in file for part in lt)]\n",
    "        print(myfile)\n",
    "        xr_model=xr.open_dataset(myfile)\n",
    "        xr_model=xr_model.rename({'lat':'latitude'})\n",
    "        xr_model=xr_model.rename({'lon':'longitude'})\n",
    "        xr_model=xr_model.squeeze(dim='history')\n",
    "        xr_model=xr_model.sel(time=slice(start,end))\n",
    "        xr_model=xr_model.sel(latitude=latslice,longitude=slice(250,300))\n",
    "        plevel=[50,100,150,200,250,300,400,500,600,700,850,925,1000]\n",
    "        ulevel = xr_model['__xarray_dataarray_variable__'][:,8:21,:]\n",
    "        vlevel = xr_model['__xarray_dataarray_variable__'][:,21:34,:]\n",
    "        zlevel = xr_model['__xarray_dataarray_variable__'][:,34:47,:]\n",
    "        tlevel = xr_model['__xarray_dataarray_variable__'][:,47:60,:]\n",
    "        rlevel = xr_model['__xarray_dataarray_variable__'][:,60:73,:]\n",
    "        psurf = xr_model['__xarray_dataarray_variable__'][:,5,:]\n",
    "        tsurf = xr_model['__xarray_dataarray_variable__'][:,4,:]\n",
    "\n",
    "        plevel_dim=np.ones([1,len(plevel),1,1])\n",
    "        for n1 in range(len(plevel)):\n",
    "            plevel_dim[0,n1,0,0]=plevel[n1]\n",
    "        plevel_exp=(tlevel/tlevel)*plevel_dim\n",
    "        \n",
    "        dplevel=metpy.calc.dewpoint_from_relative_humidity(tlevel.values* units('K'), rlevel.values* units.percent)\n",
    "        qlevel=metpy.calc.specific_humidity_from_dewpoint(plevel_exp.values* units('hPa'), dplevel).magnitude\n",
    "        #.to(units('kg/kg')#.magnitude\n",
    "\n",
    "        zsurf = zsurf_c.expand_dims(dim={\"time\": psurf.time}, axis=0)\n",
    "        zsurf=zsurf.sel(latitude=latslice,longitude=slice(250,300))\n",
    "        #zsurf = zsurf_c.expand_dims(dim={\"history\": psurf.history}, axis=1)\n",
    "        #zsurf = zsurf.expand_dims(dim={\"prediction_timedelta\": psurf.prediction_timedelta}, axis=1)\n",
    "        \n",
    "        ps=psurf/100\n",
    "        zs=zsurf/9.81\n",
    "        zl=zlevel/9.81\n",
    "\n",
    "        cape=wrf.cape_2d(pres_hpa=plevel_exp, tkel=tlevel, qv=qlevel, height=zl, terrain=zs, psfc_hpa=ps, ter_follow=False)\n",
    "        #srh=wrf.srhel(u=ulevel, v=vlevel, height=zl, terrain=zs, top=3000.0)\n",
    "\n",
    "        cape=cape.assign_coords(longitude=psurf.longitude.values);\n",
    "        cape=cape.assign_coords(latitude=psurf.latitude.values);\n",
    "        cape=cape.assign_coords(time=psurf.time.values)\n",
    "        \n",
    "        cm=plt.cm.Reds\n",
    "        cm.set_bad(color=\"grey\")\n",
    "        cm.set_under(color=\"grey\")\n",
    "        p = cape.sel(mcape_mcin_lcl_lfc='mcape').plot(x=\"longitude\", y=\"latitude\", col=\"time\",\\\n",
    "                         col_wrap=4,transform=ccrs.PlateCarree(), subplot_kws={'projection':ccrs.PlateCarree()},\\\n",
    "                         cmap=cm,vmin=200,vmax=3000,levels=np.arange(200,3000,100),extend='both')# col_wrap=4)\n",
    "        for ax in p.axs.flat:\n",
    "                        ax.coastlines()\n",
    "        f=p.fig\n",
    "        f.savefig(figpath+model+init+'_cape.png',  dpi=300, bbox_inches='tight')\n",
    "        plt.close()\n",
    "\n",
    "        cape_sel= cape.sel(mcape_mcin_lcl_lfc='mcape',latitude=slice(40,20),longitude=slice(260,290)).values\n",
    "        cape_sel=cape_sel.reshape(cape_sel.shape[1]*cape_sel.shape[2],cape_sel.shape[0])\n",
    "        cape_sel[cape_sel<200]=np.nan\n",
    "        ax = sns.violinplot(cape_sel,color='grey',density_norm='count',common_norm=True)\n",
    "        ax.set(ylim=(0,3500))\n",
    "        ax.set_xticklabels(xr_era5.time.dt.strftime('%Y%m%d%H').values,rotation=90)\n",
    "        plt.title(model+' CAPE '+ init)\n",
    "        plt.ylabel('[J kg$^{-1}$]')\n",
    "        plt.savefig(figpath+model+init+'_capedist.png',  dpi=300, bbox_inches='tight')\n",
    "        plt.close()\n",
    "\n",
    "        #cape=cape.sel(time=cape.time.dt.hour.isin([0,12]))\n",
    "        #srh=srh.sel(time=srh.time.dt.hour.isin([0,12]))\n",
    "        cm=plt.cm.RdBu_r\n",
    "        cm.set_bad(color=\"grey\")\n",
    "        dcape=cape.fillna(0)-ref_cape.fillna(0)\n",
    "        p = dcape.sel(mcape_mcin_lcl_lfc='mcape').plot(x=\"longitude\", y=\"latitude\", col=\"time\",\\\n",
    "                         col_wrap=4,transform=ccrs.PlateCarree(), subplot_kws={'projection':ccrs.PlateCarree()},\\\n",
    "                         cmap=cm,vmin=-1000,vmax=1000,levels=np.arange(-1000,1010,100),extend='both')# col_wrap=4)\n",
    "        for ax in p.axs.flat:\n",
    "                        ax.coastlines()\n",
    "        f=p.fig\n",
    "        f.savefig(figpath+model+init+'_cape_d.png',  dpi=300, bbox_inches='tight')\n",
    "        plt.close()\n",
    "\n"
   ]
  },
  {
   "cell_type": "code",
   "execution_count": null,
   "id": "9f5e45e0-9dfb-4878-9616-372364485df4",
   "metadata": {},
   "outputs": [],
   "source": []
  }
 ],
 "metadata": {
  "kernelspec": {
   "display_name": "Python 3 (ipykernel)",
   "language": "python",
   "name": "python3"
  },
  "language_info": {
   "codemirror_mode": {
    "name": "ipython",
    "version": 3
   },
   "file_extension": ".py",
   "mimetype": "text/x-python",
   "name": "python",
   "nbconvert_exporter": "python",
   "pygments_lexer": "ipython3",
   "version": "3.11.7"
  }
 },
 "nbformat": 4,
 "nbformat_minor": 5
}
