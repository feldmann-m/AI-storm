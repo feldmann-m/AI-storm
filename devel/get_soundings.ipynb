{
 "cells": [
  {
   "cell_type": "code",
   "execution_count": 34,
   "id": "e53ccb55-18f7-41ca-bcf8-f163128eb6cc",
   "metadata": {},
   "outputs": [],
   "source": [
    "from datetime import datetime\n",
    "\n",
    "from metpy.units import units\n",
    "\n",
    "from siphon.simplewebservice.wyoming import WyomingUpperAir\n",
    "\n",
    "from urllib.error import HTTPError\n",
    "\n",
    "savepath = '/work/FAC/FGSE/IDYST/tbeucler/default/raw_data/SOUNDINGS/'"
   ]
  },
  {
   "cell_type": "code",
   "execution_count": 35,
   "id": "8799c5a6-5611-4ec3-a381-507cbfa74649",
   "metadata": {},
   "outputs": [],
   "source": [
    "date = datetime(2017, 9, 10, 6)\n",
    "station = 'MFL'\n",
    "stations=[72240,72235,72248,72233,72230,72249]\n",
    "stnames=['LAKE_CHARLES','JACKSON','SHREVEPORT','SLIDELL','BIRMINGHAM','FORT_WORTH']\n",
    "dates = [datetime(2020, 4, 12, 0), datetime(2020, 4, 12, 12),\n",
    "         datetime(2020, 4, 13, 0), datetime(2020, 4, 13, 12)]"
   ]
  },
  {
   "cell_type": "code",
   "execution_count": 36,
   "id": "7199e65b-e35a-42be-bd4a-733d843e4de3",
   "metadata": {},
   "outputs": [
    {
     "name": "stdout",
     "output_type": "stream",
     "text": [
      "2020-04-12 00:00:00\n",
      "2020-04-12 12:00:00\n",
      "2020-04-13 00:00:00\n",
      "2020-04-13 12:00:00\n"
     ]
    }
   ],
   "source": [
    "for d in dates: print(d)"
   ]
  },
  {
   "cell_type": "code",
   "execution_count": 51,
   "id": "84631a5d-8a0e-43c4-ba7f-f02d0e079e02",
   "metadata": {},
   "outputs": [
    {
     "name": "stdout",
     "output_type": "stream",
     "text": [
      "     pressure  height  temperature  dewpoint  direction  speed     u_wind  \\\n",
      "0       991.0     178         13.2       9.9        0.0    0.0  -0.000000   \n",
      "1       980.0     271         13.6       9.1      348.0    7.0   1.455382   \n",
      "2       940.7     610         12.3       7.8      305.0   31.0  25.393713   \n",
      "3       927.0     731         11.8       7.3      314.0   36.0  25.896233   \n",
      "4       925.0     749         11.8       7.0      315.0   37.0  26.162951   \n",
      "..        ...     ...          ...       ...        ...    ...        ...   \n",
      "123       9.7   31224        -43.5     -79.5      290.0   29.0  27.251086   \n",
      "124       9.3   31507        -44.3     -80.3      290.0   31.0  29.130471   \n",
      "125       9.1   31653        -42.9     -78.9      290.0   32.0  30.070164   \n",
      "126       7.5   32918        -41.6     -77.6      290.0   40.0  37.587705   \n",
      "127       7.4   33051        -41.5     -77.5        NaN    NaN        NaN   \n",
      "\n",
      "        v_wind station  station_number                time  latitude  \\\n",
      "0    -0.000000     BMX           72230 2020-04-13 12:00:00     33.16   \n",
      "1    -6.847033     BMX           72230 2020-04-13 12:00:00     33.16   \n",
      "2   -17.780870     BMX           72230 2020-04-13 12:00:00     33.16   \n",
      "3   -25.007701     BMX           72230 2020-04-13 12:00:00     33.16   \n",
      "4   -26.162951     BMX           72230 2020-04-13 12:00:00     33.16   \n",
      "..         ...     ...             ...                 ...       ...   \n",
      "123  -9.918584     BMX           72230 2020-04-13 12:00:00     33.16   \n",
      "124 -10.602624     BMX           72230 2020-04-13 12:00:00     33.16   \n",
      "125 -10.944645     BMX           72230 2020-04-13 12:00:00     33.16   \n",
      "126 -13.680806     BMX           72230 2020-04-13 12:00:00     33.16   \n",
      "127        NaN     BMX           72230 2020-04-13 12:00:00     33.16   \n",
      "\n",
      "     longitude  elevation     pw  \n",
      "0       -86.76      178.0  12.69  \n",
      "1       -86.76      178.0  12.69  \n",
      "2       -86.76      178.0  12.69  \n",
      "3       -86.76      178.0  12.69  \n",
      "4       -86.76      178.0  12.69  \n",
      "..         ...        ...    ...  \n",
      "123     -86.76      178.0  12.69  \n",
      "124     -86.76      178.0  12.69  \n",
      "125     -86.76      178.0  12.69  \n",
      "126     -86.76      178.0  12.69  \n",
      "127     -86.76      178.0  12.69  \n",
      "\n",
      "[128 rows x 15 columns]\n"
     ]
    }
   ],
   "source": [
    "for s in range(len(stations)):\n",
    "    for date in dates:\n",
    "        while True:\n",
    "            try:\n",
    "                station=str(stations[s])\n",
    "                stname=stnames[s]\n",
    "                df = WyomingUpperAir.request_data(date, station)\n",
    "                print(df)\n",
    "                filename= savepath + stname + '_' + date.strftime(\"%Y%m%d%H\")\n",
    "                df.to_csv(filename+'.txt', sep=';', index=False)\n",
    "                break\n",
    "    \n",
    "            except HTTPError:\n",
    "                print(\"Server busy, trying again\")\n",
    "        \n"
   ]
  },
  {
   "cell_type": "code",
   "execution_count": null,
   "id": "e6b41439-6c41-4366-8dd7-0fcaff2c3c90",
   "metadata": {},
   "outputs": [],
   "source": []
  }
 ],
 "metadata": {
  "kernelspec": {
   "display_name": "Python 3 (ipykernel)",
   "language": "python",
   "name": "python3"
  },
  "language_info": {
   "codemirror_mode": {
    "name": "ipython",
    "version": 3
   },
   "file_extension": ".py",
   "mimetype": "text/x-python",
   "name": "python",
   "nbconvert_exporter": "python",
   "pygments_lexer": "ipython3",
   "version": "3.11.7"
  }
 },
 "nbformat": 4,
 "nbformat_minor": 5
}
