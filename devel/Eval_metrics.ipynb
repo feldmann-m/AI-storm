{
 "cells": [
  {
   "cell_type": "code",
   "execution_count": 8,
   "id": "305d0783-e585-4628-9c02-16c8f4b3c6ff",
   "metadata": {},
   "outputs": [],
   "source": [
    "import xarray as xr\n",
    "import numpy as np\n",
    "import scipy as sc\n",
    "import sklearn as skl\n",
    "import skimage as ski\n",
    "from scipy.linalg import norm\n",
    "from scipy.spatial.distance import euclidean, jensenshannon, correlation\n",
    "from scipy.stats import wasserstein_distance, ecdf\n"
   ]
  },
  {
   "cell_type": "code",
   "execution_count": 5,
   "id": "8972d04e-14d8-4056-a576-da8c2bcbd4f6",
   "metadata": {},
   "outputs": [],
   "source": [
    "## https://gist.github.com/larsmans/3116927\n",
    "_SQRT2 = np.sqrt(2)     # sqrt(2) with default precision np.float64\n",
    "\n",
    "\n",
    "def hellinger1(p, q):\n",
    "    return norm(np.sqrt(p) - np.sqrt(q)) / _SQRT2\n",
    "\n",
    "\n",
    "def hellinger2(p, q):\n",
    "    return euclidean(np.sqrt(p), np.sqrt(q)) / _SQRT2\n",
    "\n",
    "\n",
    "def hellinger3(p, q):\n",
    "    return np.sqrt(np.sum((np.sqrt(p) - np.sqrt(q)) ** 2)) / _SQRT2"
   ]
  },
  {
   "cell_type": "code",
   "execution_count": 7,
   "id": "34d28546-2949-47e5-8f53-897dfe2fedf8",
   "metadata": {},
   "outputs": [
    {
     "ename": "SyntaxError",
     "evalue": "iterable argument unpacking follows keyword argument unpacking (1837290051.py, line 5)",
     "output_type": "error",
     "traceback": [
      "\u001b[0;36m  Cell \u001b[0;32mIn[7], line 5\u001b[0;36m\u001b[0m\n\u001b[0;31m    jensenshannon(p, q, base=None, *, axis=0, keepdims=False)\u001b[0m\n\u001b[0m                                   ^\u001b[0m\n\u001b[0;31mSyntaxError\u001b[0m\u001b[0;31m:\u001b[0m iterable argument unpacking follows keyword argument unpacking\n"
     ]
    }
   ],
   "source": [
    "ecdf(sample)\n",
    "\n",
    "pdf = derivative(ecdf)\n",
    "\n",
    "jensenshannon(p, q, base=None, *, axis=0, keepdims=False)\n",
    "# probability distribution -> requires ecdf and pdf\n",
    "\n",
    "wasserstein_distance(u_values, v_values, u_weights=None, v_weights=None)\n",
    "# probability distribution -> requires ecdf and pdf\n",
    "\n",
    "correlation(u, v, w=None, centered=True)\n",
    "#correlation distance\n"
   ]
  },
  {
   "cell_type": "code",
   "execution_count": null,
   "id": "431f2326-bd73-47f2-92ed-c7e74ca4d7f6",
   "metadata": {},
   "outputs": [],
   "source": []
  }
 ],
 "metadata": {
  "kernelspec": {
   "display_name": "Python 3 (ipykernel)",
   "language": "python",
   "name": "python3"
  },
  "language_info": {
   "codemirror_mode": {
    "name": "ipython",
    "version": 3
   },
   "file_extension": ".py",
   "mimetype": "text/x-python",
   "name": "python",
   "nbconvert_exporter": "python",
   "pygments_lexer": "ipython3",
   "version": "3.11.7"
  }
 },
 "nbformat": 4,
 "nbformat_minor": 5
}
